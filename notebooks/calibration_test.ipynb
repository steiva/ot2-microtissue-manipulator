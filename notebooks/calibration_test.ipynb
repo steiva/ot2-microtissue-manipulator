{
 "cells": [
  {
   "cell_type": "code",
   "execution_count": 1,
   "metadata": {},
   "outputs": [],
   "source": [
    "# Imports\n",
    "import sys\n",
    "import os\n",
    "\n",
    "# Add the upstream directory to sys.path\n",
    "upstream_dir = os.path.abspath(os.path.join(os.getcwd(), '..'))\n",
    "if upstream_dir not in sys.path:\n",
    "    sys.path.insert(0, upstream_dir)\n",
    "\n",
    "# Now you can import the module\n",
    "from opentrons_api import ot2_api\n",
    "from microtissue_manipulator import core, utils, picking_procedure, camera\n",
    "import numpy as np \n",
    "import cv2\n",
    "import time\n",
    "import json\n",
    "import keyboard\n",
    "# from pynput import keyboard\n",
    "import paths\n",
    "import matplotlib.pyplot as plt\n",
    "import requests\n",
    "import datetime\n",
    "import threading\n",
    "import queue\n",
    "import string\n",
    "import pandas as pd\n",
    "import multiprocessing as mp\n",
    "from dataclasses import dataclass, fields, asdict, MISSING\n",
    "from typing import get_type_hints, get_origin, get_args, Tuple, List, Dict, Any, Union\n",
    "from ultralytics import YOLO\n",
    "# from typeguard import typechecked\n",
    "# from typeguard import install_import_hook\n",
    "# install_import_hook('__main__')"
   ]
  },
  {
   "cell_type": "code",
   "execution_count": 2,
   "metadata": {},
   "outputs": [
    {
     "name": "stdout",
     "output_type": "stream",
     "text": [
      "Connected cameras:\n",
      "{'underview_cam': 'Arducam B0478 (USB3 48MP)', 'overview_cam': 'HD USB Camera'}\n"
     ]
    }
   ],
   "source": [
    "cam_manager = camera.CameraManagerWindows()\n",
    "print(\"Connected cameras:\")\n",
    "print(cam_manager.list_labels())\n",
    "\n",
    "# under_cam = camera.open_capture('underview_cam', cam_manager=cam_manager)\n",
    "over_cam = camera.open_capture('overview_cam', cam_manager=cam_manager)\n",
    "frame_ops = camera.frameOperations(*over_cam.shape[0:-1])\n",
    "\n",
    "calibration_profile = 'checkerboard'\n",
    "frame_ops.load_camera_intrinsics(config_profile=calibration_profile, use_new_cam_mtx=True)"
   ]
  },
  {
   "cell_type": "code",
   "execution_count": 17,
   "metadata": {},
   "outputs": [
    {
     "name": "stdout",
     "output_type": "stream",
     "text": [
      "Using camera without buffer ...\n",
      "Camera initialized ...\n"
     ]
    }
   ],
   "source": [
    "# Turn on camera\n",
    "calibration_profile = 'checkerboard'\n",
    "cap = core.Camera(1, config_profile=calibration_profile, use_new_cam_mtx=True)"
   ]
  },
  {
   "cell_type": "markdown",
   "metadata": {},
   "source": [
    "# Video test"
   ]
  },
  {
   "cell_type": "code",
   "execution_count": 22,
   "metadata": {},
   "outputs": [],
   "source": [
    "under_cam = camera.open_capture('underview_cam', cam_manager=cam_manager)\n"
   ]
  },
  {
   "cell_type": "code",
   "execution_count": 3,
   "metadata": {},
   "outputs": [
    {
     "name": "stdout",
     "output_type": "stream",
     "text": [
      "Streaming video. Press 'q' to quit.\n"
     ]
    }
   ],
   "source": [
    "cv2.namedWindow(\"video\", cv2.WINDOW_NORMAL)\n",
    "cv2.resizeWindow(\"video\", 1348, 1011)\n",
    "\n",
    "# manual_movement = utils.ManualRobotMovement(openapi)\n",
    "capture = over_cam\n",
    "if not capture.is_opened():\n",
    "    print(\"Error: Could not open video stream.\")\n",
    "else:\n",
    "    print(\"Streaming video. Press 'q' to quit.\")\n",
    "    while True:\n",
    "        ret, frame = capture.read()\n",
    "        # frame = frame_ops.undistort_frame(frame)\n",
    "\n",
    "        cv2.imshow(\"video\", frame)\n",
    "        if cv2.waitKey(1) & 0xFF == ord('q'):\n",
    "            break\n",
    "\n",
    "# capture.release()\n",
    "# keyboard.unhook_all()  # Unhook all keyboard listeners\n",
    "cv2.destroyAllWindows()"
   ]
  },
  {
   "cell_type": "code",
   "execution_count": null,
   "metadata": {},
   "outputs": [],
   "source": [
    "model_path = os.path.join(paths.ML_MODELS_DIR,'tip_detector_v1.pt')\n",
    "model = YOLO(model_path)\n",
    "# Run inference\n",
    "frame = frame[..., ::-1]  # Convert BGR to RGB as YOLO expects RGB input\n",
    "results = model.predict(source=frame, save=False, imgsz=640,conf=0.1)"
   ]
  },
  {
   "cell_type": "code",
   "execution_count": 30,
   "metadata": {},
   "outputs": [
    {
     "name": "stdout",
     "output_type": "stream",
     "text": [
      "Video capture opened successfully.\n",
      "frame saved\n"
     ]
    }
   ],
   "source": [
    "cap = cv2.VideoCapture(0)  # 0 is the default camera\n",
    "if not cap.isOpened():\n",
    "    print(\"Error: Could not open video capture.\")\n",
    "else:\n",
    "    print(\"Video capture opened successfully.\")\n",
    "    cap.set(cv2.CAP_PROP_FRAME_WIDTH, 8000)\n",
    "    cap.set(cv2.CAP_PROP_FRAME_HEIGHT, 6000)\n",
    "    cap.set(cv2.CAP_PROP_FOURCC, cv2.VideoWriter_fourcc(*'YUY2'))\n",
    "\n",
    "cv2.namedWindow(\"video\", cv2.WINDOW_NORMAL)\n",
    "cv2.resizeWindow(\"video\", 1348, 1011)\n",
    "\n",
    "def set_focus(val):\n",
    "    cap.set(cv2.CAP_PROP_FOCUS, val)\n",
    "set_focus(900)\n",
    "\n",
    "\n",
    "circle_center = (0, 0)\n",
    "\n",
    "def draw_circle(event, x, y, flags, param):\n",
    "    global circle_center\n",
    "    if event == cv2.EVENT_LBUTTONDOWN:\n",
    "        circle_center = (x, y)\n",
    "        print(f\"Circle center set to: {circle_center}\")\n",
    "\n",
    "cv2.setMouseCallback('video', draw_circle)\n",
    "manual_movement = utils.ManualRobotMovement(openapi)\n",
    "while(True):\n",
    "    # Capture frame-by-frame\n",
    "    ret, frame = cap.read()\n",
    "    frame_gray = cv2.cvtColor(frame, cv2.COLOR_BGR2GRAY)\n",
    "\n",
    "    if circle_center != (0, 0):\n",
    "        cv2.circle(frame, circle_center, 475, (0, 255, 0), 2)\n",
    "    cv2.imshow('video', frame)\n",
    "    k = cv2.waitKey(1) & 0xFF\n",
    "\n",
    "    if k == ord('s'):\n",
    "        print(\"frame saved\")\n",
    "        timestamp = datetime.datetime.now().strftime(\"%Y%m%d_%H%M%S\")\n",
    "        # filename = f'../outputs/images/underneath_dataset/saved_frame_{timestamp}.png'\n",
    "        filename = f'../outputs/images/underneath_cuboids/saved_frame_{timestamp}.png'\n",
    "        cv2.imwrite(filename, frame)\n",
    "\n",
    "    if k == ord('q'):\n",
    "        break\n",
    "\n",
    "# When everything done, release the capture\n",
    "cap.release()\n",
    "keyboard.unhook_all()\n",
    "cv2.destroyAllWindows()"
   ]
  },
  {
   "cell_type": "code",
   "execution_count": 4,
   "metadata": {},
   "outputs": [],
   "source": [
    "window = cap.get_window()\n",
    "\n",
    "robot_coords = []\n",
    "camera_coords = []\n",
    "\n",
    "while True:\n",
    "    frame = cap.get_frame(undist=True)\n",
    "    cv2.imshow(cap.window_name, frame)\n",
    "\n",
    "    key_pressed = cv2.waitKey(1)\n",
    "\n",
    "    if key_pressed == ord('q'):\n",
    "        break\n",
    "\n",
    "    elif key_pressed == ord('s'):\n",
    "        timestamp = datetime.datetime.now().strftime('%Y_%m_%d_%H-%M-%S')\n",
    "        filename = f\"frame_{timestamp}.png\"\n",
    "        cv2.imwrite(os.path.join(paths.BASE_DIR, 'outputs', 'images', 'segmentation_test', filename), frame)\n",
    "        print(f\"Frame saved as {filename}\")\n",
    "   \n",
    "cv2.destroyAllWindows()"
   ]
  },
  {
   "cell_type": "markdown",
   "metadata": {},
   "source": [
    "# Init"
   ]
  },
  {
   "cell_type": "code",
   "execution_count": 4,
   "metadata": {},
   "outputs": [],
   "source": [
    "# Connect the robot to the computer and this notebook\n",
    "openapi = ot2_api.OpentronsAPI()"
   ]
  },
  {
   "cell_type": "code",
   "execution_count": 5,
   "metadata": {},
   "outputs": [
    {
     "data": {
      "text/plain": [
       "<Response [200]>"
      ]
     },
     "execution_count": 5,
     "metadata": {},
     "output_type": "execute_result"
    }
   ],
   "source": [
    "# Use the light control to see if the robot is connected as a sanity check\n",
    "openapi.toggle_lights()"
   ]
  },
  {
   "cell_type": "code",
   "execution_count": 6,
   "metadata": {},
   "outputs": [
    {
     "name": "stdout",
     "output_type": "stream",
     "text": [
      "Request status:\n",
      "<Response [200]>\n",
      "{\n",
      "  \"message\": \"Homing robot.\"\n",
      "}\n"
     ]
    },
    {
     "data": {
      "text/plain": [
       "<Response [200]>"
      ]
     },
     "execution_count": 6,
     "metadata": {},
     "output_type": "execute_result"
    }
   ],
   "source": [
    "# Always do once after robot was just turned on\n",
    "openapi.home_robot()"
   ]
  },
  {
   "cell_type": "code",
   "execution_count": 20,
   "metadata": {},
   "outputs": [
    {
     "name": "stdout",
     "output_type": "stream",
     "text": [
      "Total number of runs: 20\n",
      "Current run ID: 22c35da2-7502-460f-bb6e-bf3d032943fc\n",
      "Current run status: idle\n"
     ]
    }
   ],
   "source": [
    "# Use to restore labware and general run information after the notebook crashes\n",
    "r = openapi.get_run_info()"
   ]
  },
  {
   "cell_type": "code",
   "execution_count": 7,
   "metadata": {},
   "outputs": [
    {
     "name": "stdout",
     "output_type": "stream",
     "text": [
      "Request status:\n",
      "<Response [201]>\n",
      "{\n",
      "  \"data\": {\n",
      "    \"id\": \"11c7fa24-e73c-4a38-a6f6-77dfa40c096c\",\n",
      "    \"ok\": true,\n",
      "    \"createdAt\": \"2025-03-24T08:21:09.476978+00:00\",\n",
      "    \"status\": \"idle\",\n",
      "    \"current\": true,\n",
      "    \"actions\": [],\n",
      "    \"errors\": [],\n",
      "    \"hasEverEnteredErrorRecovery\": false,\n",
      "    \"pipettes\": [],\n",
      "    \"modules\": [],\n",
      "    \"labware\": [],\n",
      "    \"liquids\": [],\n",
      "    \"labwareOffsets\": [],\n",
      "    \"runTimeParameters\": [],\n",
      "    \"outputFileIds\": []\n",
      "  }\n",
      "}\n"
     ]
    },
    {
     "data": {
      "text/plain": [
       "<Response [201]>"
      ]
     },
     "execution_count": 7,
     "metadata": {},
     "output_type": "execute_result"
    }
   ],
   "source": [
    "# Do after first launch\n",
    "openapi.create_run()"
   ]
  },
  {
   "cell_type": "code",
   "execution_count": 8,
   "metadata": {},
   "outputs": [
    {
     "name": "stdout",
     "output_type": "stream",
     "text": [
      "Request status:\n",
      "<Response [201]>\n",
      "{\n",
      "  \"data\": {\n",
      "    \"id\": \"9f002971-b8c5-4294-9086-c2ebe48a14e6\",\n",
      "    \"createdAt\": \"2025-03-24T08:21:11.825412+00:00\",\n",
      "    \"commandType\": \"loadPipette\",\n",
      "    \"key\": \"9f002971-b8c5-4294-9086-c2ebe48a14e6\",\n",
      "    \"status\": \"succeeded\",\n",
      "    \"params\": {\n",
      "      \"pipetteName\": \"p300_single_gen2\",\n",
      "      \"mount\": \"left\"\n",
      "    },\n",
      "    \"result\": {\n",
      "      \"pipetteId\": \"78f740d1-64dc-46c5-b56b-bf7733eb5a97\"\n",
      "    },\n",
      "    \"startedAt\": \"2025-03-24T08:21:11.827747+00:00\",\n",
      "    \"completedAt\": \"2025-03-24T08:21:13.915214+00:00\",\n",
      "    \"intent\": \"setup\",\n",
      "    \"notes\": []\n",
      "  }\n",
      "}\n"
     ]
    },
    {
     "data": {
      "text/plain": [
       "<Response [201]>"
      ]
     },
     "execution_count": 8,
     "metadata": {},
     "output_type": "execute_result"
    }
   ],
   "source": [
    "# Let the robot know that it has the P300 pipette\n",
    "openapi.load_pipette()"
   ]
  },
  {
   "cell_type": "code",
   "execution_count": 11,
   "metadata": {},
   "outputs": [
    {
     "name": "stdout",
     "output_type": "stream",
     "text": [
      "{'x': 32.00430257877529, 'y': 336.5051087092263, 'z': 118.9}\n"
     ]
    },
    {
     "data": {
      "text/plain": [
       "({'x': 32.00430257877529, 'y': 336.5051087092263, 'z': 118.9},\n",
       " <Response [201]>)"
      ]
     },
     "execution_count": 11,
     "metadata": {},
     "output_type": "execute_result"
    }
   ],
   "source": [
    "openapi.get_position()"
   ]
  },
  {
   "cell_type": "code",
   "execution_count": 13,
   "metadata": {},
   "outputs": [
    {
     "data": {
      "text/plain": [
       "<Response [201]>"
      ]
     },
     "execution_count": 13,
     "metadata": {},
     "output_type": "execute_result"
    }
   ],
   "source": [
    "openapi.move_to_coordinates((300,50,150), min_z_height=1, verbose=False)"
   ]
  },
  {
   "cell_type": "markdown",
   "metadata": {},
   "source": [
    "# Under cam auto calibration"
   ]
  },
  {
   "cell_type": "code",
   "execution_count": 13,
   "metadata": {},
   "outputs": [],
   "source": [
    "under_cam = camera.open_capture('underview_cam', cam_manager=cam_manager, resolution = (2000,1500), focus = 920)"
   ]
  },
  {
   "cell_type": "markdown",
   "metadata": {},
   "source": [
    "### Robot coordinate system gauge"
   ]
  },
  {
   "cell_type": "code",
   "execution_count": 76,
   "metadata": {},
   "outputs": [
    {
     "name": "stdout",
     "output_type": "stream",
     "text": [
      "WARNING  imgsz=[2000] must be multiple of max stride 32, updating to [2016]\n",
      "Tip coordinates: (1050, 780)\n",
      "WARNING  imgsz=[2000] must be multiple of max stride 32, updating to [2016]\n",
      "Tip coordinates: (1049, 842)\n",
      "WARNING  imgsz=[2000] must be multiple of max stride 32, updating to [2016]\n",
      "Tip coordinates: (1112, 781)\n"
     ]
    }
   ],
   "source": [
    "def get_tip_coordinates(results):\n",
    "    for r in results:\n",
    "        for box in r.boxes:\n",
    "            cls = int(box.cls[0])\n",
    "            if model.names[cls] == 'tip':\n",
    "                tip_coords = ((int(box.xyxy[0][0]) + int(box.xyxy[0][2])) // 2, \n",
    "                                (int(box.xyxy[0][1]) + int(box.xyxy[0][3])) // 2)\n",
    "                return tip_coords\n",
    "\n",
    "movements = [None,('x', 3), ('y', 3)]\n",
    "\n",
    "capture = under_cam\n",
    "if not capture.is_opened():\n",
    "    print(\"Error: Could not open video stream.\")\n",
    "else:\n",
    "    for movement in movements:\n",
    "        if movement is not None:\n",
    "            axis, distance = movement\n",
    "            openapi.move_relative(axis, distance)\n",
    "            time.sleep(1)\n",
    "        time.sleep(0.5)\n",
    "        ret, frame = capture.read()\n",
    "        if not ret:\n",
    "            print(\"Error: Could not read frame from video stream.\")\n",
    "        else:   \n",
    "            frame = frame[..., ::-1]  # Convert BGR to RGB as YOLO expects RGB input\n",
    "            results = model.predict(\n",
    "                    source=frame,  # Now pointing to a directory instead of a single file\n",
    "                    conf=0.25,         # Confidence threshold\n",
    "                    save=False,         # Save the annotated images\n",
    "                    save_txt=False,    # Save YOLO-format prediction labels (optional)\n",
    "                    show=False,         # Show images in pop-up windows (if GUI available)\n",
    "                    imgsz=2000,\n",
    "                    verbose = False        # Ensure inference matches your training resolution\n",
    "                )\n",
    "            tip_coords = get_tip_coordinates(results)\n",
    "            print(f\"Tip coordinates: {tip_coords}\")\n",
    "        if movement is not None:\n",
    "            openapi.move_relative(axis, -distance)\n",
    "            time.sleep(1)\n",
    "\n",
    "\n",
    "  "
   ]
  },
  {
   "cell_type": "markdown",
   "metadata": {},
   "source": [
    "### Find distance to tip"
   ]
  },
  {
   "cell_type": "code",
   "execution_count": 94,
   "metadata": {},
   "outputs": [],
   "source": [
    "manual_movement = utils.ManualRobotMovement(openapi)"
   ]
  },
  {
   "cell_type": "code",
   "execution_count": 95,
   "metadata": {},
   "outputs": [],
   "source": [
    "keyboard.unhook_all()  # Unhook all keyboard listeners"
   ]
  },
  {
   "cell_type": "code",
   "execution_count": 131,
   "metadata": {},
   "outputs": [
    {
     "name": "stdout",
     "output_type": "stream",
     "text": [
      "Streaming video. Press 'q' to quit.\n"
     ]
    },
    {
     "ename": "IndexError",
     "evalue": "index 0 is out of bounds for axis 0 with size 0",
     "output_type": "error",
     "traceback": [
      "\u001b[1;31m---------------------------------------------------------------------------\u001b[0m",
      "\u001b[1;31mIndexError\u001b[0m                                Traceback (most recent call last)",
      "Cell \u001b[1;32mIn[131], line 60\u001b[0m\n\u001b[0;32m     58\u001b[0m  \u001b[38;5;66;03m# Calculate the distance from the center-most \"point\" class to the \"tip\" class\u001b[39;00m\n\u001b[0;32m     59\u001b[0m center_point_coords \u001b[38;5;241m=\u001b[39m df\u001b[38;5;241m.\u001b[39mloc[df[\u001b[38;5;124m'\u001b[39m\u001b[38;5;124mis_closest_to_center\u001b[39m\u001b[38;5;124m'\u001b[39m], [\u001b[38;5;124m'\u001b[39m\u001b[38;5;124mcenter_x\u001b[39m\u001b[38;5;124m'\u001b[39m, \u001b[38;5;124m'\u001b[39m\u001b[38;5;124mcenter_y\u001b[39m\u001b[38;5;124m'\u001b[39m]]\u001b[38;5;241m.\u001b[39mvalues[\u001b[38;5;241m0\u001b[39m]\n\u001b[1;32m---> 60\u001b[0m tip_coords \u001b[38;5;241m=\u001b[39m \u001b[43mdf\u001b[49m\u001b[38;5;241;43m.\u001b[39;49m\u001b[43mloc\u001b[49m\u001b[43m[\u001b[49m\u001b[43mdf\u001b[49m\u001b[43m[\u001b[49m\u001b[38;5;124;43m'\u001b[39;49m\u001b[38;5;124;43mclass\u001b[39;49m\u001b[38;5;124;43m'\u001b[39;49m\u001b[43m]\u001b[49m\u001b[43m \u001b[49m\u001b[38;5;241;43m==\u001b[39;49m\u001b[43m \u001b[49m\u001b[38;5;124;43m'\u001b[39;49m\u001b[38;5;124;43mtip\u001b[39;49m\u001b[38;5;124;43m'\u001b[39;49m\u001b[43m,\u001b[49m\u001b[43m \u001b[49m\u001b[43m[\u001b[49m\u001b[38;5;124;43m'\u001b[39;49m\u001b[38;5;124;43mcenter_x\u001b[39;49m\u001b[38;5;124;43m'\u001b[39;49m\u001b[43m,\u001b[49m\u001b[43m \u001b[49m\u001b[38;5;124;43m'\u001b[39;49m\u001b[38;5;124;43mcenter_y\u001b[39;49m\u001b[38;5;124;43m'\u001b[39;49m\u001b[43m]\u001b[49m\u001b[43m]\u001b[49m\u001b[38;5;241;43m.\u001b[39;49m\u001b[43mvalues\u001b[49m\u001b[43m[\u001b[49m\u001b[38;5;241;43m0\u001b[39;49m\u001b[43m]\u001b[49m\n\u001b[0;32m     62\u001b[0m x_dist_to_tip \u001b[38;5;241m=\u001b[39m center_point_coords[\u001b[38;5;241m0\u001b[39m] \u001b[38;5;241m-\u001b[39m tip_coords[\u001b[38;5;241m0\u001b[39m]\n\u001b[0;32m     63\u001b[0m y_dist_to_tip \u001b[38;5;241m=\u001b[39m center_point_coords[\u001b[38;5;241m1\u001b[39m] \u001b[38;5;241m-\u001b[39m tip_coords[\u001b[38;5;241m1\u001b[39m]\n",
      "\u001b[1;31mIndexError\u001b[0m: index 0 is out of bounds for axis 0 with size 0"
     ]
    }
   ],
   "source": [
    "# under_cam = camera.open_capture('underview_cam', cam_manager=cam_manager, resolution = (2000,1500), focus = 920)\n",
    "\n",
    "cv2.namedWindow(\"video\", cv2.WINDOW_NORMAL)\n",
    "cv2.resizeWindow(\"video\", 1348, 1011)\n",
    "model_path = os.path.join(paths.ML_MODELS_DIR,'tip_detector_v1.pt')\n",
    "model = YOLO(model_path)\n",
    "\n",
    "# manual_movement = utils.ManualRobotMovement(openapi)\n",
    "capture = under_cam\n",
    "if not capture.is_opened():\n",
    "    print(\"Error: Could not open video stream.\")\n",
    "else:\n",
    "    print(\"Streaming video. Press 'q' to quit.\")\n",
    "    while True:\n",
    "        # if not capture.is_opened() or not capture.frame_ready.value:\n",
    "        #     print(\"frame not ready or capture not opened, skipping frame.\")\n",
    "        #     continue\n",
    "        ret, frame = capture.read()\n",
    "        frame = frame[..., ::-1]  # Convert BGR to RGB as YOLO expects RGB input\n",
    "        results = model.predict(\n",
    "                source=frame,  # Now pointing to a directory instead of a single file\n",
    "                conf=0.25,         # Confidence threshold\n",
    "                save=False,         # Save the annotated images\n",
    "                save_txt=False,    # Save YOLO-format prediction labels (optional)\n",
    "                show=False,         # Show images in pop-up windows (if GUI available)\n",
    "                imgsz=2016,\n",
    "                verbose = False               # Ensure inference matches your training resolution\n",
    "            )\n",
    "\n",
    "        image = frame.copy()\n",
    "        image_center = (image.shape[1] // 2, image.shape[0] // 2)\n",
    "        data = []\n",
    "        for r in results:\n",
    "            for box in r.boxes:\n",
    "                cls = int(box.cls[0])\n",
    "                conf = float(box.conf[0])\n",
    "                x1, y1, x2, y2 = map(int, box.xyxy[0])\n",
    "                center_x = (x1 + x2) // 2\n",
    "                center_y = (y1 + y2) // 2\n",
    "                data.append({'class': model.names[cls], 'confidence': conf, 'center_x': center_x, 'center_y': center_y})\n",
    "\n",
    "        # Create a dataframe\n",
    "        df = pd.DataFrame(data)\n",
    "\n",
    "        # Calculate the distance of each \"point\" to the center of the frame\n",
    "        df['distance_to_center'] = ((df['center_x'] - image_center[0]) ** 2 + (df['center_y'] - image_center[1]) ** 2) ** 0.5\n",
    "\n",
    "        # Identify the closest \"point\" to the center of the frame\n",
    "        df['is_closest_to_center'] = (df['class'] == 'point') & (df['distance_to_center'] == df.loc[df['class'] == 'point', 'distance_to_center'].min()) & (df['distance_to_center'] < 100)\n",
    "\n",
    "        if df['is_closest_to_center'].any():\n",
    "            distances_from_closest = np.sqrt(\n",
    "                (df.loc[df['is_closest_to_center'] & (df['class'] == 'point'), 'center_x'].values[0] - df.loc[df['class'] == 'point', 'center_x'])**2 +\n",
    "                (df.loc[df['is_closest_to_center'] & (df['class'] == 'point'), 'center_y'].values[0] - df.loc[df['class'] == 'point', 'center_y'])**2\n",
    "            )\n",
    "            distances_from_closest = distances_from_closest[distances_from_closest > 0]\n",
    "            linear_distance_ratio = 20.25 / np.mean(distances_from_closest)\n",
    "             # Calculate the distance from the center-most \"point\" class to the \"tip\" class\n",
    "            center_point_coords = df.loc[df['is_closest_to_center'], ['center_x', 'center_y']].values[0]\n",
    "            tip_coords = df.loc[df['class'] == 'tip', ['center_x', 'center_y']].values[0]\n",
    "\n",
    "            x_dist_to_tip = center_point_coords[0] - tip_coords[0]\n",
    "            y_dist_to_tip = center_point_coords[1] - tip_coords[1]\n",
    "            print(x_dist_to_tip, y_dist_to_tip)\n",
    "\n",
    "            y_dist_to_tip_mm = x_dist_to_tip * linear_distance_ratio\n",
    "            x_dist_to_tip_mm = y_dist_to_tip * linear_distance_ratio\n",
    "            print(f\"x_dist_to_tip_mm: {x_dist_to_tip_mm}, y_dist_to_tip_mm: {y_dist_to_tip_mm}\")\n",
    "\n",
    "            # Draw center point coordinates\n",
    "            cv2.circle(image, tuple(center_point_coords), 3, (0, 255, 0), -1)  # Green circle\n",
    "            cv2.putText(image, f\"Center {tuple(center_point_coords)}\", tuple(center_point_coords), cv2.FONT_HERSHEY_SIMPLEX, 1, (0, 255, 0), 2)\n",
    "\n",
    "        # Draw tip coordinates\n",
    "        cv2.circle(image, tuple(tip_coords), 3, (0, 0, 255), -1)  # Red circle\n",
    "        cv2.putText(image, f\"Tip {tuple(tip_coords)}\", tuple(tip_coords), cv2.FONT_HERSHEY_SIMPLEX, 1, (0, 0, 255), 2)\n",
    "\n",
    "        cv2.imshow(\"video\", image)\n",
    "        if cv2.waitKey(1) & 0xFF == ord('q'):\n",
    "            break\n",
    " \n",
    "# capture.release()\n",
    "# keyboard.unhook_all()  # Unhook all keyboard listeners\n",
    "cv2.destroyAllWindows()"
   ]
  },
  {
   "cell_type": "code",
   "execution_count": 104,
   "metadata": {},
   "outputs": [
    {
     "name": "stdout",
     "output_type": "stream",
     "text": [
      "{'x': 298.5662145306208, 'y': 221.23731368864452, 'z': 66.10000000000005}\n"
     ]
    },
    {
     "data": {
      "text/plain": [
       "({'x': 298.5662145306208, 'y': 221.23731368864452, 'z': 66.10000000000005},\n",
       " <Response [201]>)"
      ]
     },
     "execution_count": 104,
     "metadata": {},
     "output_type": "execute_result"
    }
   ],
   "source": [
    "openapi.get_position()"
   ]
  },
  {
   "cell_type": "code",
   "execution_count": 115,
   "metadata": {},
   "outputs": [
    {
     "data": {
      "text/plain": [
       "<Response [201]>"
      ]
     },
     "execution_count": 115,
     "metadata": {},
     "output_type": "execute_result"
    }
   ],
   "source": [
    "openapi.move_relative('x', x_dist_to_tip_mm)\n",
    "openapi.move_relative('y', y_dist_to_tip_mm)"
   ]
  },
  {
   "cell_type": "markdown",
   "metadata": {},
   "source": [
    "# Labware declaration"
   ]
  },
  {
   "cell_type": "markdown",
   "metadata": {},
   "source": [
    "### Opentrons 300 ul"
   ]
  },
  {
   "cell_type": "code",
   "execution_count": 9,
   "metadata": {},
   "outputs": [
    {
     "name": "stdout",
     "output_type": "stream",
     "text": [
      "Labware ID:\n",
      "f6be7bdb-c79c-4a7d-b712-58ef24d025e7\n",
      "\n"
     ]
    },
    {
     "data": {
      "text/plain": [
       "<Response [201]>"
      ]
     },
     "execution_count": 9,
     "metadata": {},
     "output_type": "execute_result"
    }
   ],
   "source": [
    "#Define a tip rack. This is the default tip rack for the robot.\n",
    "TIP_RACK = \"opentrons_96_tiprack_300ul\"\n",
    "#Load the tip rack. Slot = 1 by default.\n",
    "openapi.load_labware(TIP_RACK, 11)"
   ]
  },
  {
   "cell_type": "markdown",
   "metadata": {},
   "source": [
    "### VWR 200 ul XL"
   ]
  },
  {
   "cell_type": "code",
   "execution_count": 10,
   "metadata": {},
   "outputs": [],
   "source": [
    "custom_labware_path = os.path.join(paths.BASE_DIR,'protocols','vwr_96_tiprack_200ul_xl.json')\n",
    "with open(custom_labware_path, 'r') as json_file:\n",
    "    custom_labware = json.load(json_file)\n",
    "\n",
    "command_dict = {\n",
    "            \"data\": custom_labware\n",
    "        }\n",
    "\n",
    "command_payload = json.dumps(command_dict)\n",
    "\n",
    "url = openapi.get_url('runs')+ f'/{openapi.run_id}/'+ 'labware_definitions'\n",
    "r = requests.post(url = url, headers = openapi.HEADERS, params = {\"waitUntilComplete\": True}, data = command_payload)"
   ]
  },
  {
   "cell_type": "code",
   "execution_count": 11,
   "metadata": {},
   "outputs": [
    {
     "name": "stdout",
     "output_type": "stream",
     "text": [
      "Labware ID:\n",
      "a6ff5087-0504-40d4-9e4f-0fa680031fa2\n",
      "\n"
     ]
    },
    {
     "data": {
      "text/plain": [
       "<Response [201]>"
      ]
     },
     "execution_count": 11,
     "metadata": {},
     "output_type": "execute_result"
    }
   ],
   "source": [
    "#Define a tip rack. This is the default tip rack for the robot.\n",
    "TIP_RACK = \"vwr_96_tiprack_200ul_xl\"\n",
    "#Load the tip rack. Slot = 1 by default.\n",
    "openapi.load_labware(TIP_RACK, 10, namespace='custom_beta',verbose=True)"
   ]
  },
  {
   "cell_type": "code",
   "execution_count": 11,
   "metadata": {},
   "outputs": [
    {
     "name": "stdout",
     "output_type": "stream",
     "text": [
      "Labware ID:\n",
      "b58cd011-7e1f-4a94-8df3-48211e3619ad\n",
      "\n"
     ]
    },
    {
     "data": {
      "text/plain": [
       "<Response [201]>"
      ]
     },
     "execution_count": 11,
     "metadata": {},
     "output_type": "execute_result"
    }
   ],
   "source": [
    "RESERVOIR = \"corning_6_wellplate_16.8ml_flat\"\n",
    "openapi.load_labware(RESERVOIR, 3, namespace='opentrons',verbose=True)"
   ]
  },
  {
   "cell_type": "code",
   "execution_count": 64,
   "metadata": {},
   "outputs": [
    {
     "name": "stdout",
     "output_type": "stream",
     "text": [
      "Labware ID:\n",
      "f5da52d8-4683-4884-b7a4-de21b1354f47\n",
      "\n"
     ]
    },
    {
     "data": {
      "text/plain": [
       "<Response [201]>"
      ]
     },
     "execution_count": 64,
     "metadata": {},
     "output_type": "execute_result"
    }
   ],
   "source": [
    "# WELL_PLATE = \"corning_96_wellplate_360ul_flat\"\n",
    "# WELL_PLATE = \"corning_24_wellplate_3.4ml_flat\"\n",
    "WELL_PLATE = \"corning_384_wellplate_112ul_flat\"\n",
    "openapi.load_labware(WELL_PLATE, 6, namespace='opentrons',verbose=True)"
   ]
  },
  {
   "cell_type": "code",
   "execution_count": 31,
   "metadata": {},
   "outputs": [],
   "source": [
    "command_dict = {\n",
    "            \"data\": {\n",
    "                \"commandType\": \"verifyTipPresence\",\n",
    "                \"params\": {\n",
    "                    \"pipetteId\": openapi.pipette_id,\n",
    "                    \"expectedState\": \"present\",\n",
    "                },\n",
    "                \"intent\": \"setup\"\n",
    "            }\n",
    "        }\n",
    "\n",
    "command_payload = json.dumps(command_dict)\n",
    "r = openapi.post(\"commands\", headers = openapi.HEADERS,\n",
    "                params={\"waitUntilComplete\": True}, data = command_payload)"
   ]
  },
  {
   "cell_type": "code",
   "execution_count": 10,
   "metadata": {},
   "outputs": [],
   "source": [
    "r = openapi.pick_up_tip(openapi.labware_dct['10'], \"B3\")"
   ]
  },
  {
   "cell_type": "code",
   "execution_count": 12,
   "metadata": {},
   "outputs": [],
   "source": [
    "r = openapi.pick_up_tip(openapi.labware_dct['11'], \"B8\")"
   ]
  },
  {
   "cell_type": "code",
   "execution_count": 52,
   "metadata": {},
   "outputs": [
    {
     "data": {
      "text/plain": [
       "<Response [201]>"
      ]
     },
     "execution_count": 52,
     "metadata": {},
     "output_type": "execute_result"
    }
   ],
   "source": [
    "openapi.drop_tip_in_place()"
   ]
  },
  {
   "cell_type": "code",
   "execution_count": 18,
   "metadata": {},
   "outputs": [
    {
     "data": {
      "text/plain": [
       "<Response [201]>"
      ]
     },
     "execution_count": 18,
     "metadata": {},
     "output_type": "execute_result"
    }
   ],
   "source": [
    "openapi.drop_tip(openapi.labware_dct['10'], \"A1\")"
   ]
  },
  {
   "cell_type": "code",
   "execution_count": 36,
   "metadata": {},
   "outputs": [
    {
     "data": {
      "text/plain": [
       "<Response [201]>"
      ]
     },
     "execution_count": 36,
     "metadata": {},
     "output_type": "execute_result"
    }
   ],
   "source": [
    "openapi.aspirate(openapi.labware_dct['3'], \"A1\", well_location='center', volume = 70, flow_rate = 200)"
   ]
  },
  {
   "cell_type": "code",
   "execution_count": 34,
   "metadata": {},
   "outputs": [
    {
     "data": {
      "text/plain": [
       "<Response [201]>"
      ]
     },
     "execution_count": 34,
     "metadata": {},
     "output_type": "execute_result"
    }
   ],
   "source": [
    "openapi.move_to_well(openapi.labware_dct['6'], \"A1\", well_location='top', offset=(0,0,1))"
   ]
  },
  {
   "cell_type": "code",
   "execution_count": 63,
   "metadata": {},
   "outputs": [
    {
     "data": {
      "text/plain": [
       "<Response [201]>"
      ]
     },
     "execution_count": 63,
     "metadata": {},
     "output_type": "execute_result"
    }
   ],
   "source": [
    "openapi.move_labware(openapi.labware_dct['6'], new_location='offDeck')"
   ]
  },
  {
   "cell_type": "markdown",
   "metadata": {},
   "source": [
    "# Filling a well plate"
   ]
  },
  {
   "cell_type": "markdown",
   "metadata": {},
   "source": [
    "### Rinse pipette"
   ]
  },
  {
   "cell_type": "code",
   "execution_count": null,
   "metadata": {},
   "outputs": [],
   "source": [
    "rinse_location = 3\n",
    "well_to_wash = \"A1\"\n",
    "well_to_rinse = \"B1\"\n",
    "for i in range(3):\n",
    "    openapi.aspirate(openapi.labware_dct[str(rinse_location)], well_to_wash, well_location='bottom', offset=(0,0,1), volume = 100, flow_rate = 200)\n",
    "    openapi.dispense(openapi.labware_dct[str(rinse_location)], well_to_wash, well_location='bottom', offset=(0,0,1), volume = 100, flow_rate = 200)\n",
    "\n",
    "for i in range(3):\n",
    "    openapi.aspirate(openapi.labware_dct[str(rinse_location)], well_to_rinse, well_location='bottom', offset=(0,0,1), volume = 100, flow_rate = 200)\n",
    "    openapi.dispense(openapi.labware_dct[str(rinse_location)], well_to_rinse, well_location='bottom', offset=(0,0,1), volume = 100, flow_rate = 200)\n",
    "\n",
    "openapi.move_to_well(openapi.labware_dct[str(rinse_location)], well_to_rinse, well_location='top', offset=(0,0,10))"
   ]
  },
  {
   "cell_type": "markdown",
   "metadata": {},
   "source": [
    "### Other stuff"
   ]
  },
  {
   "cell_type": "code",
   "execution_count": 16,
   "metadata": {},
   "outputs": [
    {
     "data": {
      "text/plain": [
       "<Response [201]>"
      ]
     },
     "execution_count": 16,
     "metadata": {},
     "output_type": "execute_result"
    }
   ],
   "source": [
    "openapi.drop_tip_in_place()"
   ]
  },
  {
   "cell_type": "code",
   "execution_count": 69,
   "metadata": {},
   "outputs": [
    {
     "data": {
      "text/plain": [
       "<Response [201]>"
      ]
     },
     "execution_count": 69,
     "metadata": {},
     "output_type": "execute_result"
    }
   ],
   "source": [
    "openapi.move_to_well(openapi.labware_dct['6'], \"A1\", well_location='top', offset=(-2,0,0))"
   ]
  },
  {
   "cell_type": "code",
   "execution_count": 13,
   "metadata": {},
   "outputs": [
    {
     "name": "stdout",
     "output_type": "stream",
     "text": [
      "Dumping fluid\n",
      "Dumping fluid\n"
     ]
    },
    {
     "ename": "KeyboardInterrupt",
     "evalue": "",
     "output_type": "error",
     "traceback": [
      "\u001b[1;31m---------------------------------------------------------------------------\u001b[0m",
      "\u001b[1;31mKeyboardInterrupt\u001b[0m                         Traceback (most recent call last)",
      "Cell \u001b[1;32mIn[13], line 23\u001b[0m\n\u001b[0;32m     21\u001b[0m     \u001b[38;5;28;01mif\u001b[39;00m responce_dict[\u001b[38;5;124m'\u001b[39m\u001b[38;5;124merror\u001b[39m\u001b[38;5;124m'\u001b[39m][\u001b[38;5;124m'\u001b[39m\u001b[38;5;124merrorType\u001b[39m\u001b[38;5;124m'\u001b[39m] \u001b[38;5;241m==\u001b[39m \u001b[38;5;124m'\u001b[39m\u001b[38;5;124mInvalidAspirateVolumeError\u001b[39m\u001b[38;5;124m'\u001b[39m:\n\u001b[0;32m     22\u001b[0m         \u001b[38;5;28mprint\u001b[39m(\u001b[38;5;124m'\u001b[39m\u001b[38;5;124mDumping fluid\u001b[39m\u001b[38;5;124m'\u001b[39m)\n\u001b[1;32m---> 23\u001b[0m         \u001b[43mopenapi\u001b[49m\u001b[38;5;241;43m.\u001b[39;49m\u001b[43mblow_out\u001b[49m\u001b[43m(\u001b[49m\u001b[43mopenapi\u001b[49m\u001b[38;5;241;43m.\u001b[39;49m\u001b[43mlabware_dct\u001b[49m\u001b[43m[\u001b[49m\u001b[38;5;124;43m'\u001b[39;49m\u001b[38;5;124;43m3\u001b[39;49m\u001b[38;5;124;43m'\u001b[39;49m\u001b[43m]\u001b[49m\u001b[43m,\u001b[49m\u001b[43m \u001b[49m\u001b[38;5;124;43m\"\u001b[39;49m\u001b[38;5;124;43mA2\u001b[39;49m\u001b[38;5;124;43m\"\u001b[39;49m\u001b[43m,\u001b[49m\u001b[43m \u001b[49m\u001b[43mwell_location\u001b[49m\u001b[38;5;241;43m=\u001b[39;49m\u001b[38;5;124;43m'\u001b[39;49m\u001b[38;5;124;43mcenter\u001b[39;49m\u001b[38;5;124;43m'\u001b[39;49m\u001b[43m,\u001b[49m\u001b[43m \u001b[49m\u001b[43mflow_rate\u001b[49m\u001b[43m \u001b[49m\u001b[38;5;241;43m=\u001b[39;49m\u001b[43m \u001b[49m\u001b[38;5;241;43m200\u001b[39;49m\u001b[43m)\u001b[49m\n\u001b[0;32m     24\u001b[0m \u001b[38;5;28;01melse\u001b[39;00m:\n\u001b[0;32m     25\u001b[0m     column_idx \u001b[38;5;241m+\u001b[39m\u001b[38;5;241m=\u001b[39m \u001b[38;5;241m1\u001b[39m\n",
      "File \u001b[1;32mc:\\Users\\ivand\\Desktop\\ot2-microtissue-manipulator\\opentrons_api\\ot2_api.py:25\u001b[0m, in \u001b[0;36mDecorators.require_ids.<locals>.decorator.<locals>.wrapper\u001b[1;34m(self, *args, **kwargs)\u001b[0m\n\u001b[0;32m     23\u001b[0m     \u001b[38;5;28;01mif\u001b[39;00m \u001b[38;5;129;01mnot\u001b[39;00m \u001b[38;5;28mgetattr\u001b[39m(\u001b[38;5;28mself\u001b[39m, id_name, \u001b[38;5;28;01mNone\u001b[39;00m):\n\u001b[0;32m     24\u001b[0m         \u001b[38;5;28;01mraise\u001b[39;00m \u001b[38;5;167;01mValueError\u001b[39;00m(\u001b[38;5;124mf\u001b[39m\u001b[38;5;124m\"\u001b[39m\u001b[38;5;132;01m{\u001b[39;00mid_name\u001b[38;5;132;01m}\u001b[39;00m\u001b[38;5;124m is not set. Set it before executing commands.\u001b[39m\u001b[38;5;124m\"\u001b[39m)\n\u001b[1;32m---> 25\u001b[0m \u001b[38;5;28;01mreturn\u001b[39;00m \u001b[43mfunc\u001b[49m\u001b[43m(\u001b[49m\u001b[38;5;28;43mself\u001b[39;49m\u001b[43m,\u001b[49m\u001b[43m \u001b[49m\u001b[38;5;241;43m*\u001b[39;49m\u001b[43margs\u001b[49m\u001b[43m,\u001b[49m\u001b[43m \u001b[49m\u001b[38;5;241;43m*\u001b[39;49m\u001b[38;5;241;43m*\u001b[39;49m\u001b[43mkwargs\u001b[49m\u001b[43m)\u001b[49m\n",
      "File \u001b[1;32mc:\\Users\\ivand\\Desktop\\ot2-microtissue-manipulator\\opentrons_api\\ot2_api.py:829\u001b[0m, in \u001b[0;36mOpentronsAPI.blow_out\u001b[1;34m(self, labware_id, well_name, well_location, flow_rate)\u001b[0m\n\u001b[0;32m    814\u001b[0m command_dict \u001b[38;5;241m=\u001b[39m {\n\u001b[0;32m    815\u001b[0m             \u001b[38;5;124m\"\u001b[39m\u001b[38;5;124mdata\u001b[39m\u001b[38;5;124m\"\u001b[39m: {\n\u001b[0;32m    816\u001b[0m                 \u001b[38;5;124m\"\u001b[39m\u001b[38;5;124mcommandType\u001b[39m\u001b[38;5;124m\"\u001b[39m: \u001b[38;5;124m\"\u001b[39m\u001b[38;5;124mblowout\u001b[39m\u001b[38;5;124m\"\u001b[39m,\n\u001b[1;32m   (...)\u001b[0m\n\u001b[0;32m    825\u001b[0m             }\n\u001b[0;32m    826\u001b[0m         }\n\u001b[0;32m    828\u001b[0m command_payload \u001b[38;5;241m=\u001b[39m json\u001b[38;5;241m.\u001b[39mdumps(command_dict)\n\u001b[1;32m--> 829\u001b[0m r \u001b[38;5;241m=\u001b[39m \u001b[38;5;28;43mself\u001b[39;49m\u001b[38;5;241;43m.\u001b[39;49m\u001b[43mpost\u001b[49m\u001b[43m(\u001b[49m\u001b[38;5;124;43m\"\u001b[39;49m\u001b[38;5;124;43mcommands\u001b[39;49m\u001b[38;5;124;43m\"\u001b[39;49m\u001b[43m,\u001b[49m\u001b[43m \u001b[49m\u001b[43mheaders\u001b[49m\u001b[43m \u001b[49m\u001b[38;5;241;43m=\u001b[39;49m\u001b[43m \u001b[49m\u001b[38;5;28;43mself\u001b[39;49m\u001b[38;5;241;43m.\u001b[39;49m\u001b[43mHEADERS\u001b[49m\u001b[43m,\u001b[49m\n\u001b[0;32m    830\u001b[0m \u001b[43m            \u001b[49m\u001b[43mparams\u001b[49m\u001b[38;5;241;43m=\u001b[39;49m\u001b[43m{\u001b[49m\u001b[38;5;124;43m\"\u001b[39;49m\u001b[38;5;124;43mwaitUntilComplete\u001b[39;49m\u001b[38;5;124;43m\"\u001b[39;49m\u001b[43m:\u001b[49m\u001b[43m \u001b[49m\u001b[38;5;28;43;01mTrue\u001b[39;49;00m\u001b[43m}\u001b[49m\u001b[43m,\u001b[49m\u001b[43m \u001b[49m\u001b[43mdata\u001b[49m\u001b[43m \u001b[49m\u001b[38;5;241;43m=\u001b[39;49m\u001b[43m \u001b[49m\u001b[43mcommand_payload\u001b[49m\u001b[43m)\u001b[49m\n\u001b[0;32m    832\u001b[0m \u001b[38;5;28;01mreturn\u001b[39;00m r\n",
      "File \u001b[1;32mc:\\Users\\ivand\\Desktop\\ot2-microtissue-manipulator\\opentrons_api\\ot2_api.py:11\u001b[0m, in \u001b[0;36mDecorators.check_error.<locals>.wrapper\u001b[1;34m(self, *args, **kwargs)\u001b[0m\n\u001b[0;32m      9\u001b[0m \u001b[38;5;129m@functools\u001b[39m\u001b[38;5;241m.\u001b[39mwraps(func)\n\u001b[0;32m     10\u001b[0m \u001b[38;5;28;01mdef\u001b[39;00m \u001b[38;5;21mwrapper\u001b[39m(\u001b[38;5;28mself\u001b[39m, \u001b[38;5;241m*\u001b[39margs, \u001b[38;5;241m*\u001b[39m\u001b[38;5;241m*\u001b[39mkwargs):\n\u001b[1;32m---> 11\u001b[0m     r \u001b[38;5;241m=\u001b[39m \u001b[43mfunc\u001b[49m\u001b[43m(\u001b[49m\u001b[38;5;28;43mself\u001b[39;49m\u001b[43m,\u001b[49m\u001b[43m \u001b[49m\u001b[38;5;241;43m*\u001b[39;49m\u001b[43margs\u001b[49m\u001b[43m,\u001b[49m\u001b[43m \u001b[49m\u001b[38;5;241;43m*\u001b[39;49m\u001b[38;5;241;43m*\u001b[39;49m\u001b[43mkwargs\u001b[49m\u001b[43m)\u001b[49m\n\u001b[0;32m     12\u001b[0m     \u001b[38;5;28;01mif\u001b[39;00m r\u001b[38;5;241m.\u001b[39mstatus_code \u001b[38;5;129;01mnot\u001b[39;00m \u001b[38;5;129;01min\u001b[39;00m \u001b[38;5;28mrange\u001b[39m(\u001b[38;5;241m200\u001b[39m, \u001b[38;5;241m300\u001b[39m):\n\u001b[0;32m     13\u001b[0m         \u001b[38;5;28;01mraise\u001b[39;00m \u001b[38;5;167;01mException\u001b[39;00m(r\u001b[38;5;241m.\u001b[39mtext)\n",
      "File \u001b[1;32mc:\\Users\\ivand\\Desktop\\ot2-microtissue-manipulator\\opentrons_api\\ot2_api.py:75\u001b[0m, in \u001b[0;36mOpentronsAPI.post\u001b[1;34m(self, endpoint_key, headers, params, data, files)\u001b[0m\n\u001b[0;32m     61\u001b[0m \u001b[38;5;250m\u001b[39m\u001b[38;5;124;03m\"\"\"Post method to post to HTTP API.\u001b[39;00m\n\u001b[0;32m     62\u001b[0m \n\u001b[0;32m     63\u001b[0m \u001b[38;5;124;03mArgs:\u001b[39;00m\n\u001b[1;32m   (...)\u001b[0m\n\u001b[0;32m     71\u001b[0m \u001b[38;5;124;03m    requests.models.Response: a responce from the robot's server.\u001b[39;00m\n\u001b[0;32m     72\u001b[0m \u001b[38;5;124;03m\"\"\"\u001b[39;00m        \n\u001b[0;32m     73\u001b[0m url \u001b[38;5;241m=\u001b[39m \u001b[38;5;28mself\u001b[39m\u001b[38;5;241m.\u001b[39mget_url(endpoint_key)\n\u001b[1;32m---> 75\u001b[0m r \u001b[38;5;241m=\u001b[39m \u001b[43mrequests\u001b[49m\u001b[38;5;241;43m.\u001b[39;49m\u001b[43mpost\u001b[49m\u001b[43m(\u001b[49m\n\u001b[0;32m     76\u001b[0m \u001b[43m    \u001b[49m\u001b[43murl\u001b[49m\u001b[38;5;241;43m=\u001b[39;49m\u001b[43murl\u001b[49m\u001b[43m,\u001b[49m\n\u001b[0;32m     77\u001b[0m \u001b[43m    \u001b[49m\u001b[43mheaders\u001b[49m\u001b[38;5;241;43m=\u001b[39;49m\u001b[43mheaders\u001b[49m\u001b[43m,\u001b[49m\n\u001b[0;32m     78\u001b[0m \u001b[43m    \u001b[49m\u001b[43mparams\u001b[49m\u001b[38;5;241;43m=\u001b[39;49m\u001b[43mparams\u001b[49m\u001b[43m,\u001b[49m\n\u001b[0;32m     79\u001b[0m \u001b[43m    \u001b[49m\u001b[43mdata\u001b[49m\u001b[38;5;241;43m=\u001b[39;49m\u001b[43mdata\u001b[49m\u001b[43m,\u001b[49m\n\u001b[0;32m     80\u001b[0m \u001b[43m    \u001b[49m\u001b[43mfiles\u001b[49m\u001b[38;5;241;43m=\u001b[39;49m\u001b[43mfiles\u001b[49m\u001b[43m)\u001b[49m\n\u001b[0;32m     81\u001b[0m \u001b[38;5;28;01mreturn\u001b[39;00m r\n",
      "File \u001b[1;32mc:\\Users\\ivand\\miniconda3\\envs\\lab\\Lib\\site-packages\\requests\\api.py:115\u001b[0m, in \u001b[0;36mpost\u001b[1;34m(url, data, json, **kwargs)\u001b[0m\n\u001b[0;32m    103\u001b[0m \u001b[38;5;28;01mdef\u001b[39;00m \u001b[38;5;21mpost\u001b[39m(url, data\u001b[38;5;241m=\u001b[39m\u001b[38;5;28;01mNone\u001b[39;00m, json\u001b[38;5;241m=\u001b[39m\u001b[38;5;28;01mNone\u001b[39;00m, \u001b[38;5;241m*\u001b[39m\u001b[38;5;241m*\u001b[39mkwargs):\n\u001b[0;32m    104\u001b[0m \u001b[38;5;250m    \u001b[39m\u001b[38;5;124mr\u001b[39m\u001b[38;5;124;03m\"\"\"Sends a POST request.\u001b[39;00m\n\u001b[0;32m    105\u001b[0m \n\u001b[0;32m    106\u001b[0m \u001b[38;5;124;03m    :param url: URL for the new :class:`Request` object.\u001b[39;00m\n\u001b[1;32m   (...)\u001b[0m\n\u001b[0;32m    112\u001b[0m \u001b[38;5;124;03m    :rtype: requests.Response\u001b[39;00m\n\u001b[0;32m    113\u001b[0m \u001b[38;5;124;03m    \"\"\"\u001b[39;00m\n\u001b[1;32m--> 115\u001b[0m     \u001b[38;5;28;01mreturn\u001b[39;00m \u001b[43mrequest\u001b[49m\u001b[43m(\u001b[49m\u001b[38;5;124;43m\"\u001b[39;49m\u001b[38;5;124;43mpost\u001b[39;49m\u001b[38;5;124;43m\"\u001b[39;49m\u001b[43m,\u001b[49m\u001b[43m \u001b[49m\u001b[43murl\u001b[49m\u001b[43m,\u001b[49m\u001b[43m \u001b[49m\u001b[43mdata\u001b[49m\u001b[38;5;241;43m=\u001b[39;49m\u001b[43mdata\u001b[49m\u001b[43m,\u001b[49m\u001b[43m \u001b[49m\u001b[43mjson\u001b[49m\u001b[38;5;241;43m=\u001b[39;49m\u001b[43mjson\u001b[49m\u001b[43m,\u001b[49m\u001b[43m \u001b[49m\u001b[38;5;241;43m*\u001b[39;49m\u001b[38;5;241;43m*\u001b[39;49m\u001b[43mkwargs\u001b[49m\u001b[43m)\u001b[49m\n",
      "File \u001b[1;32mc:\\Users\\ivand\\miniconda3\\envs\\lab\\Lib\\site-packages\\requests\\api.py:59\u001b[0m, in \u001b[0;36mrequest\u001b[1;34m(method, url, **kwargs)\u001b[0m\n\u001b[0;32m     55\u001b[0m \u001b[38;5;66;03m# By using the 'with' statement we are sure the session is closed, thus we\u001b[39;00m\n\u001b[0;32m     56\u001b[0m \u001b[38;5;66;03m# avoid leaving sockets open which can trigger a ResourceWarning in some\u001b[39;00m\n\u001b[0;32m     57\u001b[0m \u001b[38;5;66;03m# cases, and look like a memory leak in others.\u001b[39;00m\n\u001b[0;32m     58\u001b[0m \u001b[38;5;28;01mwith\u001b[39;00m sessions\u001b[38;5;241m.\u001b[39mSession() \u001b[38;5;28;01mas\u001b[39;00m session:\n\u001b[1;32m---> 59\u001b[0m     \u001b[38;5;28;01mreturn\u001b[39;00m \u001b[43msession\u001b[49m\u001b[38;5;241;43m.\u001b[39;49m\u001b[43mrequest\u001b[49m\u001b[43m(\u001b[49m\u001b[43mmethod\u001b[49m\u001b[38;5;241;43m=\u001b[39;49m\u001b[43mmethod\u001b[49m\u001b[43m,\u001b[49m\u001b[43m \u001b[49m\u001b[43murl\u001b[49m\u001b[38;5;241;43m=\u001b[39;49m\u001b[43murl\u001b[49m\u001b[43m,\u001b[49m\u001b[43m \u001b[49m\u001b[38;5;241;43m*\u001b[39;49m\u001b[38;5;241;43m*\u001b[39;49m\u001b[43mkwargs\u001b[49m\u001b[43m)\u001b[49m\n",
      "File \u001b[1;32mc:\\Users\\ivand\\miniconda3\\envs\\lab\\Lib\\site-packages\\requests\\sessions.py:589\u001b[0m, in \u001b[0;36mSession.request\u001b[1;34m(self, method, url, params, data, headers, cookies, files, auth, timeout, allow_redirects, proxies, hooks, stream, verify, cert, json)\u001b[0m\n\u001b[0;32m    584\u001b[0m send_kwargs \u001b[38;5;241m=\u001b[39m {\n\u001b[0;32m    585\u001b[0m     \u001b[38;5;124m\"\u001b[39m\u001b[38;5;124mtimeout\u001b[39m\u001b[38;5;124m\"\u001b[39m: timeout,\n\u001b[0;32m    586\u001b[0m     \u001b[38;5;124m\"\u001b[39m\u001b[38;5;124mallow_redirects\u001b[39m\u001b[38;5;124m\"\u001b[39m: allow_redirects,\n\u001b[0;32m    587\u001b[0m }\n\u001b[0;32m    588\u001b[0m send_kwargs\u001b[38;5;241m.\u001b[39mupdate(settings)\n\u001b[1;32m--> 589\u001b[0m resp \u001b[38;5;241m=\u001b[39m \u001b[38;5;28;43mself\u001b[39;49m\u001b[38;5;241;43m.\u001b[39;49m\u001b[43msend\u001b[49m\u001b[43m(\u001b[49m\u001b[43mprep\u001b[49m\u001b[43m,\u001b[49m\u001b[43m \u001b[49m\u001b[38;5;241;43m*\u001b[39;49m\u001b[38;5;241;43m*\u001b[39;49m\u001b[43msend_kwargs\u001b[49m\u001b[43m)\u001b[49m\n\u001b[0;32m    591\u001b[0m \u001b[38;5;28;01mreturn\u001b[39;00m resp\n",
      "File \u001b[1;32mc:\\Users\\ivand\\miniconda3\\envs\\lab\\Lib\\site-packages\\requests\\sessions.py:703\u001b[0m, in \u001b[0;36mSession.send\u001b[1;34m(self, request, **kwargs)\u001b[0m\n\u001b[0;32m    700\u001b[0m start \u001b[38;5;241m=\u001b[39m preferred_clock()\n\u001b[0;32m    702\u001b[0m \u001b[38;5;66;03m# Send the request\u001b[39;00m\n\u001b[1;32m--> 703\u001b[0m r \u001b[38;5;241m=\u001b[39m \u001b[43madapter\u001b[49m\u001b[38;5;241;43m.\u001b[39;49m\u001b[43msend\u001b[49m\u001b[43m(\u001b[49m\u001b[43mrequest\u001b[49m\u001b[43m,\u001b[49m\u001b[43m \u001b[49m\u001b[38;5;241;43m*\u001b[39;49m\u001b[38;5;241;43m*\u001b[39;49m\u001b[43mkwargs\u001b[49m\u001b[43m)\u001b[49m\n\u001b[0;32m    705\u001b[0m \u001b[38;5;66;03m# Total elapsed time of the request (approximately)\u001b[39;00m\n\u001b[0;32m    706\u001b[0m elapsed \u001b[38;5;241m=\u001b[39m preferred_clock() \u001b[38;5;241m-\u001b[39m start\n",
      "File \u001b[1;32mc:\\Users\\ivand\\miniconda3\\envs\\lab\\Lib\\site-packages\\requests\\adapters.py:667\u001b[0m, in \u001b[0;36mHTTPAdapter.send\u001b[1;34m(self, request, stream, timeout, verify, cert, proxies)\u001b[0m\n\u001b[0;32m    664\u001b[0m     timeout \u001b[38;5;241m=\u001b[39m TimeoutSauce(connect\u001b[38;5;241m=\u001b[39mtimeout, read\u001b[38;5;241m=\u001b[39mtimeout)\n\u001b[0;32m    666\u001b[0m \u001b[38;5;28;01mtry\u001b[39;00m:\n\u001b[1;32m--> 667\u001b[0m     resp \u001b[38;5;241m=\u001b[39m \u001b[43mconn\u001b[49m\u001b[38;5;241;43m.\u001b[39;49m\u001b[43murlopen\u001b[49m\u001b[43m(\u001b[49m\n\u001b[0;32m    668\u001b[0m \u001b[43m        \u001b[49m\u001b[43mmethod\u001b[49m\u001b[38;5;241;43m=\u001b[39;49m\u001b[43mrequest\u001b[49m\u001b[38;5;241;43m.\u001b[39;49m\u001b[43mmethod\u001b[49m\u001b[43m,\u001b[49m\n\u001b[0;32m    669\u001b[0m \u001b[43m        \u001b[49m\u001b[43murl\u001b[49m\u001b[38;5;241;43m=\u001b[39;49m\u001b[43murl\u001b[49m\u001b[43m,\u001b[49m\n\u001b[0;32m    670\u001b[0m \u001b[43m        \u001b[49m\u001b[43mbody\u001b[49m\u001b[38;5;241;43m=\u001b[39;49m\u001b[43mrequest\u001b[49m\u001b[38;5;241;43m.\u001b[39;49m\u001b[43mbody\u001b[49m\u001b[43m,\u001b[49m\n\u001b[0;32m    671\u001b[0m \u001b[43m        \u001b[49m\u001b[43mheaders\u001b[49m\u001b[38;5;241;43m=\u001b[39;49m\u001b[43mrequest\u001b[49m\u001b[38;5;241;43m.\u001b[39;49m\u001b[43mheaders\u001b[49m\u001b[43m,\u001b[49m\n\u001b[0;32m    672\u001b[0m \u001b[43m        \u001b[49m\u001b[43mredirect\u001b[49m\u001b[38;5;241;43m=\u001b[39;49m\u001b[38;5;28;43;01mFalse\u001b[39;49;00m\u001b[43m,\u001b[49m\n\u001b[0;32m    673\u001b[0m \u001b[43m        \u001b[49m\u001b[43massert_same_host\u001b[49m\u001b[38;5;241;43m=\u001b[39;49m\u001b[38;5;28;43;01mFalse\u001b[39;49;00m\u001b[43m,\u001b[49m\n\u001b[0;32m    674\u001b[0m \u001b[43m        \u001b[49m\u001b[43mpreload_content\u001b[49m\u001b[38;5;241;43m=\u001b[39;49m\u001b[38;5;28;43;01mFalse\u001b[39;49;00m\u001b[43m,\u001b[49m\n\u001b[0;32m    675\u001b[0m \u001b[43m        \u001b[49m\u001b[43mdecode_content\u001b[49m\u001b[38;5;241;43m=\u001b[39;49m\u001b[38;5;28;43;01mFalse\u001b[39;49;00m\u001b[43m,\u001b[49m\n\u001b[0;32m    676\u001b[0m \u001b[43m        \u001b[49m\u001b[43mretries\u001b[49m\u001b[38;5;241;43m=\u001b[39;49m\u001b[38;5;28;43mself\u001b[39;49m\u001b[38;5;241;43m.\u001b[39;49m\u001b[43mmax_retries\u001b[49m\u001b[43m,\u001b[49m\n\u001b[0;32m    677\u001b[0m \u001b[43m        \u001b[49m\u001b[43mtimeout\u001b[49m\u001b[38;5;241;43m=\u001b[39;49m\u001b[43mtimeout\u001b[49m\u001b[43m,\u001b[49m\n\u001b[0;32m    678\u001b[0m \u001b[43m        \u001b[49m\u001b[43mchunked\u001b[49m\u001b[38;5;241;43m=\u001b[39;49m\u001b[43mchunked\u001b[49m\u001b[43m,\u001b[49m\n\u001b[0;32m    679\u001b[0m \u001b[43m    \u001b[49m\u001b[43m)\u001b[49m\n\u001b[0;32m    681\u001b[0m \u001b[38;5;28;01mexcept\u001b[39;00m (ProtocolError, \u001b[38;5;167;01mOSError\u001b[39;00m) \u001b[38;5;28;01mas\u001b[39;00m err:\n\u001b[0;32m    682\u001b[0m     \u001b[38;5;28;01mraise\u001b[39;00m \u001b[38;5;167;01mConnectionError\u001b[39;00m(err, request\u001b[38;5;241m=\u001b[39mrequest)\n",
      "File \u001b[1;32mc:\\Users\\ivand\\miniconda3\\envs\\lab\\Lib\\site-packages\\urllib3\\connectionpool.py:789\u001b[0m, in \u001b[0;36mHTTPConnectionPool.urlopen\u001b[1;34m(self, method, url, body, headers, retries, redirect, assert_same_host, timeout, pool_timeout, release_conn, chunked, body_pos, preload_content, decode_content, **response_kw)\u001b[0m\n\u001b[0;32m    786\u001b[0m response_conn \u001b[38;5;241m=\u001b[39m conn \u001b[38;5;28;01mif\u001b[39;00m \u001b[38;5;129;01mnot\u001b[39;00m release_conn \u001b[38;5;28;01melse\u001b[39;00m \u001b[38;5;28;01mNone\u001b[39;00m\n\u001b[0;32m    788\u001b[0m \u001b[38;5;66;03m# Make the request on the HTTPConnection object\u001b[39;00m\n\u001b[1;32m--> 789\u001b[0m response \u001b[38;5;241m=\u001b[39m \u001b[38;5;28;43mself\u001b[39;49m\u001b[38;5;241;43m.\u001b[39;49m\u001b[43m_make_request\u001b[49m\u001b[43m(\u001b[49m\n\u001b[0;32m    790\u001b[0m \u001b[43m    \u001b[49m\u001b[43mconn\u001b[49m\u001b[43m,\u001b[49m\n\u001b[0;32m    791\u001b[0m \u001b[43m    \u001b[49m\u001b[43mmethod\u001b[49m\u001b[43m,\u001b[49m\n\u001b[0;32m    792\u001b[0m \u001b[43m    \u001b[49m\u001b[43murl\u001b[49m\u001b[43m,\u001b[49m\n\u001b[0;32m    793\u001b[0m \u001b[43m    \u001b[49m\u001b[43mtimeout\u001b[49m\u001b[38;5;241;43m=\u001b[39;49m\u001b[43mtimeout_obj\u001b[49m\u001b[43m,\u001b[49m\n\u001b[0;32m    794\u001b[0m \u001b[43m    \u001b[49m\u001b[43mbody\u001b[49m\u001b[38;5;241;43m=\u001b[39;49m\u001b[43mbody\u001b[49m\u001b[43m,\u001b[49m\n\u001b[0;32m    795\u001b[0m \u001b[43m    \u001b[49m\u001b[43mheaders\u001b[49m\u001b[38;5;241;43m=\u001b[39;49m\u001b[43mheaders\u001b[49m\u001b[43m,\u001b[49m\n\u001b[0;32m    796\u001b[0m \u001b[43m    \u001b[49m\u001b[43mchunked\u001b[49m\u001b[38;5;241;43m=\u001b[39;49m\u001b[43mchunked\u001b[49m\u001b[43m,\u001b[49m\n\u001b[0;32m    797\u001b[0m \u001b[43m    \u001b[49m\u001b[43mretries\u001b[49m\u001b[38;5;241;43m=\u001b[39;49m\u001b[43mretries\u001b[49m\u001b[43m,\u001b[49m\n\u001b[0;32m    798\u001b[0m \u001b[43m    \u001b[49m\u001b[43mresponse_conn\u001b[49m\u001b[38;5;241;43m=\u001b[39;49m\u001b[43mresponse_conn\u001b[49m\u001b[43m,\u001b[49m\n\u001b[0;32m    799\u001b[0m \u001b[43m    \u001b[49m\u001b[43mpreload_content\u001b[49m\u001b[38;5;241;43m=\u001b[39;49m\u001b[43mpreload_content\u001b[49m\u001b[43m,\u001b[49m\n\u001b[0;32m    800\u001b[0m \u001b[43m    \u001b[49m\u001b[43mdecode_content\u001b[49m\u001b[38;5;241;43m=\u001b[39;49m\u001b[43mdecode_content\u001b[49m\u001b[43m,\u001b[49m\n\u001b[0;32m    801\u001b[0m \u001b[43m    \u001b[49m\u001b[38;5;241;43m*\u001b[39;49m\u001b[38;5;241;43m*\u001b[39;49m\u001b[43mresponse_kw\u001b[49m\u001b[43m,\u001b[49m\n\u001b[0;32m    802\u001b[0m \u001b[43m\u001b[49m\u001b[43m)\u001b[49m\n\u001b[0;32m    804\u001b[0m \u001b[38;5;66;03m# Everything went great!\u001b[39;00m\n\u001b[0;32m    805\u001b[0m clean_exit \u001b[38;5;241m=\u001b[39m \u001b[38;5;28;01mTrue\u001b[39;00m\n",
      "File \u001b[1;32mc:\\Users\\ivand\\miniconda3\\envs\\lab\\Lib\\site-packages\\urllib3\\connectionpool.py:536\u001b[0m, in \u001b[0;36mHTTPConnectionPool._make_request\u001b[1;34m(self, conn, method, url, body, headers, retries, timeout, chunked, response_conn, preload_content, decode_content, enforce_content_length)\u001b[0m\n\u001b[0;32m    534\u001b[0m \u001b[38;5;66;03m# Receive the response from the server\u001b[39;00m\n\u001b[0;32m    535\u001b[0m \u001b[38;5;28;01mtry\u001b[39;00m:\n\u001b[1;32m--> 536\u001b[0m     response \u001b[38;5;241m=\u001b[39m \u001b[43mconn\u001b[49m\u001b[38;5;241;43m.\u001b[39;49m\u001b[43mgetresponse\u001b[49m\u001b[43m(\u001b[49m\u001b[43m)\u001b[49m\n\u001b[0;32m    537\u001b[0m \u001b[38;5;28;01mexcept\u001b[39;00m (BaseSSLError, \u001b[38;5;167;01mOSError\u001b[39;00m) \u001b[38;5;28;01mas\u001b[39;00m e:\n\u001b[0;32m    538\u001b[0m     \u001b[38;5;28mself\u001b[39m\u001b[38;5;241m.\u001b[39m_raise_timeout(err\u001b[38;5;241m=\u001b[39me, url\u001b[38;5;241m=\u001b[39murl, timeout_value\u001b[38;5;241m=\u001b[39mread_timeout)\n",
      "File \u001b[1;32mc:\\Users\\ivand\\miniconda3\\envs\\lab\\Lib\\site-packages\\urllib3\\connection.py:507\u001b[0m, in \u001b[0;36mHTTPConnection.getresponse\u001b[1;34m(self)\u001b[0m\n\u001b[0;32m    504\u001b[0m \u001b[38;5;28;01mfrom\u001b[39;00m \u001b[38;5;21;01m.\u001b[39;00m\u001b[38;5;21;01mresponse\u001b[39;00m \u001b[38;5;28;01mimport\u001b[39;00m HTTPResponse\n\u001b[0;32m    506\u001b[0m \u001b[38;5;66;03m# Get the response from http.client.HTTPConnection\u001b[39;00m\n\u001b[1;32m--> 507\u001b[0m httplib_response \u001b[38;5;241m=\u001b[39m \u001b[38;5;28;43msuper\u001b[39;49m\u001b[43m(\u001b[49m\u001b[43m)\u001b[49m\u001b[38;5;241;43m.\u001b[39;49m\u001b[43mgetresponse\u001b[49m\u001b[43m(\u001b[49m\u001b[43m)\u001b[49m\n\u001b[0;32m    509\u001b[0m \u001b[38;5;28;01mtry\u001b[39;00m:\n\u001b[0;32m    510\u001b[0m     assert_header_parsing(httplib_response\u001b[38;5;241m.\u001b[39mmsg)\n",
      "File \u001b[1;32mc:\\Users\\ivand\\miniconda3\\envs\\lab\\Lib\\http\\client.py:1428\u001b[0m, in \u001b[0;36mHTTPConnection.getresponse\u001b[1;34m(self)\u001b[0m\n\u001b[0;32m   1426\u001b[0m \u001b[38;5;28;01mtry\u001b[39;00m:\n\u001b[0;32m   1427\u001b[0m     \u001b[38;5;28;01mtry\u001b[39;00m:\n\u001b[1;32m-> 1428\u001b[0m         \u001b[43mresponse\u001b[49m\u001b[38;5;241;43m.\u001b[39;49m\u001b[43mbegin\u001b[49m\u001b[43m(\u001b[49m\u001b[43m)\u001b[49m\n\u001b[0;32m   1429\u001b[0m     \u001b[38;5;28;01mexcept\u001b[39;00m \u001b[38;5;167;01mConnectionError\u001b[39;00m:\n\u001b[0;32m   1430\u001b[0m         \u001b[38;5;28mself\u001b[39m\u001b[38;5;241m.\u001b[39mclose()\n",
      "File \u001b[1;32mc:\\Users\\ivand\\miniconda3\\envs\\lab\\Lib\\http\\client.py:331\u001b[0m, in \u001b[0;36mHTTPResponse.begin\u001b[1;34m(self)\u001b[0m\n\u001b[0;32m    329\u001b[0m \u001b[38;5;66;03m# read until we get a non-100 response\u001b[39;00m\n\u001b[0;32m    330\u001b[0m \u001b[38;5;28;01mwhile\u001b[39;00m \u001b[38;5;28;01mTrue\u001b[39;00m:\n\u001b[1;32m--> 331\u001b[0m     version, status, reason \u001b[38;5;241m=\u001b[39m \u001b[38;5;28;43mself\u001b[39;49m\u001b[38;5;241;43m.\u001b[39;49m\u001b[43m_read_status\u001b[49m\u001b[43m(\u001b[49m\u001b[43m)\u001b[49m\n\u001b[0;32m    332\u001b[0m     \u001b[38;5;28;01mif\u001b[39;00m status \u001b[38;5;241m!=\u001b[39m CONTINUE:\n\u001b[0;32m    333\u001b[0m         \u001b[38;5;28;01mbreak\u001b[39;00m\n",
      "File \u001b[1;32mc:\\Users\\ivand\\miniconda3\\envs\\lab\\Lib\\http\\client.py:292\u001b[0m, in \u001b[0;36mHTTPResponse._read_status\u001b[1;34m(self)\u001b[0m\n\u001b[0;32m    291\u001b[0m \u001b[38;5;28;01mdef\u001b[39;00m \u001b[38;5;21m_read_status\u001b[39m(\u001b[38;5;28mself\u001b[39m):\n\u001b[1;32m--> 292\u001b[0m     line \u001b[38;5;241m=\u001b[39m \u001b[38;5;28mstr\u001b[39m(\u001b[38;5;28;43mself\u001b[39;49m\u001b[38;5;241;43m.\u001b[39;49m\u001b[43mfp\u001b[49m\u001b[38;5;241;43m.\u001b[39;49m\u001b[43mreadline\u001b[49m\u001b[43m(\u001b[49m\u001b[43m_MAXLINE\u001b[49m\u001b[43m \u001b[49m\u001b[38;5;241;43m+\u001b[39;49m\u001b[43m \u001b[49m\u001b[38;5;241;43m1\u001b[39;49m\u001b[43m)\u001b[49m, \u001b[38;5;124m\"\u001b[39m\u001b[38;5;124miso-8859-1\u001b[39m\u001b[38;5;124m\"\u001b[39m)\n\u001b[0;32m    293\u001b[0m     \u001b[38;5;28;01mif\u001b[39;00m \u001b[38;5;28mlen\u001b[39m(line) \u001b[38;5;241m>\u001b[39m _MAXLINE:\n\u001b[0;32m    294\u001b[0m         \u001b[38;5;28;01mraise\u001b[39;00m LineTooLong(\u001b[38;5;124m\"\u001b[39m\u001b[38;5;124mstatus line\u001b[39m\u001b[38;5;124m\"\u001b[39m)\n",
      "File \u001b[1;32mc:\\Users\\ivand\\miniconda3\\envs\\lab\\Lib\\socket.py:720\u001b[0m, in \u001b[0;36mSocketIO.readinto\u001b[1;34m(self, b)\u001b[0m\n\u001b[0;32m    718\u001b[0m \u001b[38;5;28;01mwhile\u001b[39;00m \u001b[38;5;28;01mTrue\u001b[39;00m:\n\u001b[0;32m    719\u001b[0m     \u001b[38;5;28;01mtry\u001b[39;00m:\n\u001b[1;32m--> 720\u001b[0m         \u001b[38;5;28;01mreturn\u001b[39;00m \u001b[38;5;28;43mself\u001b[39;49m\u001b[38;5;241;43m.\u001b[39;49m\u001b[43m_sock\u001b[49m\u001b[38;5;241;43m.\u001b[39;49m\u001b[43mrecv_into\u001b[49m\u001b[43m(\u001b[49m\u001b[43mb\u001b[49m\u001b[43m)\u001b[49m\n\u001b[0;32m    721\u001b[0m     \u001b[38;5;28;01mexcept\u001b[39;00m timeout:\n\u001b[0;32m    722\u001b[0m         \u001b[38;5;28mself\u001b[39m\u001b[38;5;241m.\u001b[39m_timeout_occurred \u001b[38;5;241m=\u001b[39m \u001b[38;5;28;01mTrue\u001b[39;00m\n",
      "\u001b[1;31mKeyboardInterrupt\u001b[0m: "
     ]
    }
   ],
   "source": [
    "# Take solution off the well palte with cuboids\n",
    "\n",
    "columns = list(range(1,13))\n",
    "# rows = ['A', 'B', 'C', 'D', 'E', 'F', 'G', 'H', 'I', 'J', 'K', 'L', 'M', 'N', 'O', 'P']\n",
    "rows = ['B']\n",
    "x_offset = -2\n",
    "y_offset = 0\n",
    "z_offset = 1\n",
    "takeoff_volume = 100\n",
    "\n",
    "row_idx = 0\n",
    "column_idx = 0\n",
    "\n",
    "while row_idx < len(rows):\n",
    "    row = rows[row_idx]\n",
    "    while column_idx < len(columns):\n",
    "        column = columns[column_idx]\n",
    "        r = openapi.aspirate(openapi.labware_dct['6'], f\"{row}{column}\", well_location = 'bottom', offset = (x_offset,y_offset,z_offset), volume = takeoff_volume, flow_rate = 10)\n",
    "        responce_dict = json.loads(r.text)['data']\n",
    "        if responce_dict['status'] == 'failed':\n",
    "            if responce_dict['error']['errorType'] == 'InvalidAspirateVolumeError':\n",
    "                print('Dumping fluid')\n",
    "                openapi.blow_out(openapi.labware_dct['3'], \"A2\", well_location='center', flow_rate = 200)\n",
    "        else:\n",
    "            column_idx += 1\n",
    "    column_idx = 0\n",
    "    row_idx += 1\n",
    "\n",
    "openapi.blow_out(openapi.labware_dct['3'], \"A2\", well_location='center', flow_rate = 200)\n",
    "openapi.move_relative('z', 20)\n"
   ]
  },
  {
   "cell_type": "code",
   "execution_count": 15,
   "metadata": {},
   "outputs": [
    {
     "data": {
      "text/plain": [
       "<Response [201]>"
      ]
     },
     "execution_count": 15,
     "metadata": {},
     "output_type": "execute_result"
    }
   ],
   "source": [
    "openapi.move_relative('z', 20)"
   ]
  },
  {
   "cell_type": "code",
   "execution_count": 44,
   "metadata": {},
   "outputs": [
    {
     "data": {
      "text/plain": [
       "<Response [201]>"
      ]
     },
     "execution_count": 44,
     "metadata": {},
     "output_type": "execute_result"
    }
   ],
   "source": [
    "openapi.drop_tip_in_place()"
   ]
  },
  {
   "cell_type": "code",
   "execution_count": 74,
   "metadata": {},
   "outputs": [
    {
     "data": {
      "text/plain": [
       "<Response [201]>"
      ]
     },
     "execution_count": 74,
     "metadata": {},
     "output_type": "execute_result"
    }
   ],
   "source": [
    "openapi.blow_out(openapi.labware_dct['3'], \"A2\", well_location='center', flow_rate = 200)"
   ]
  },
  {
   "cell_type": "code",
   "execution_count": 41,
   "metadata": {},
   "outputs": [],
   "source": [
    "r = openapi.dispense(openapi.labware_dct['3'], f\"A1\", well_location = 'center', volume = 70, flow_rate = 200)"
   ]
  },
  {
   "cell_type": "code",
   "execution_count": 47,
   "metadata": {},
   "outputs": [
    {
     "data": {
      "text/plain": [
       "<Response [201]>"
      ]
     },
     "execution_count": 47,
     "metadata": {},
     "output_type": "execute_result"
    }
   ],
   "source": [
    "openapi.move_relative('z', 20)"
   ]
  },
  {
   "cell_type": "code",
   "execution_count": null,
   "metadata": {},
   "outputs": [
    {
     "data": {
      "text/plain": [
       "<Response [201]>"
      ]
     },
     "execution_count": 16,
     "metadata": {},
     "output_type": "execute_result"
    }
   ],
   "source": [
    "openapi.move_to_well(openapi.labware_dct['6'], \"A1\", well_location='top', offset=(-0.1,-0.9,1))"
   ]
  },
  {
   "cell_type": "code",
   "execution_count": 49,
   "metadata": {},
   "outputs": [
    {
     "name": "stdout",
     "output_type": "stream",
     "text": [
      "Refilling pipette\n",
      "Refilling pipette\n",
      "Refilling pipette\n",
      "Refilling pipette\n",
      "Refilling pipette\n",
      "Refilling pipette\n",
      "Refilling pipette\n",
      "Refilling pipette\n",
      "Refilling pipette\n",
      "Refilling pipette\n",
      "Refilling pipette\n",
      "Refilling pipette\n",
      "Refilling pipette\n",
      "Refilling pipette\n",
      "Refilling pipette\n",
      "Refilling pipette\n",
      "Refilling pipette\n",
      "Refilling pipette\n",
      "Refilling pipette\n",
      "Refilling pipette\n",
      "Refilling pipette\n",
      "Refilling pipette\n",
      "Refilling pipette\n",
      "Refilling pipette\n"
     ]
    },
    {
     "data": {
      "text/plain": [
       "<Response [201]>"
      ]
     },
     "execution_count": 49,
     "metadata": {},
     "output_type": "execute_result"
    }
   ],
   "source": [
    "columns = list(range(1,13))\n",
    "# rows = ['A', 'B', 'C', 'D', 'E', 'F', 'G', 'H', 'I', 'J', 'K', 'L', 'M', 'N', 'O', 'P']\n",
    "rows = ['A', 'B', 'C', 'D']\n",
    "x_offset = 0\n",
    "y_offset = -2\n",
    "\n",
    "row_idx = 0\n",
    "column_idx = 0\n",
    "\n",
    "while row_idx < len(rows):\n",
    "    row = rows[row_idx]\n",
    "    while column_idx < len(columns):\n",
    "        column = columns[column_idx]\n",
    "        r = openapi.dispense(openapi.labware_dct['6'], f\"{row}{column}\", well_location = 'bottom', offset = (x_offset, y_offset, 0), volume = 70, flow_rate = 200)\n",
    "        responce_dict = json.loads(r.text)['data']\n",
    "        if responce_dict['status'] == 'failed':\n",
    "            if responce_dict['error']['errorType'] == 'InvalidDispenseVolumeError':\n",
    "                print('Refilling pipette')\n",
    "                openapi.aspirate(openapi.labware_dct['3'], \"A1\", well_location ='bottom', volume = 140, flow_rate = 200)\n",
    "        else:\n",
    "            column_idx += 1\n",
    "    column_idx = 0\n",
    "    row_idx += 1\n",
    "\n",
    "openapi.blow_out(openapi.labware_dct['3'], \"A1\", well_location='center', flow_rate = 200)\n",
    "openapi.aspirate(openapi.labware_dct['3'], \"A2\", volume = 50, flow_rate = 200)\n",
    "openapi.dispense(openapi.labware_dct['3'], \"A2\", volume = 50, flow_rate = 200)"
   ]
  },
  {
   "cell_type": "code",
   "execution_count": 27,
   "metadata": {},
   "outputs": [
    {
     "data": {
      "text/plain": [
       "<Response [201]>"
      ]
     },
     "execution_count": 27,
     "metadata": {},
     "output_type": "execute_result"
    }
   ],
   "source": [
    "openapi.blow_out(openapi.labware_dct['3'], \"A1\", well_location='center', flow_rate = 200)\n",
    "openapi.aspirate(openapi.labware_dct['3'], \"A2\", volume = 50, flow_rate = 200)\n",
    "openapi.dispense(openapi.labware_dct['3'], \"A2\", volume = 50, flow_rate = 200)"
   ]
  },
  {
   "cell_type": "code",
   "execution_count": null,
   "metadata": {},
   "outputs": [
    {
     "data": {
      "text/plain": [
       "{'id': 'dec84017-3246-49d5-8548-ccfe85aa2350',\n",
       " 'createdAt': '2024-11-02T03:44:26.715454+00:00',\n",
       " 'isDefined': False,\n",
       " 'errorType': 'InvalidDispenseVolumeError',\n",
       " 'errorCode': '4000',\n",
       " 'detail': 'Cannot dispense 50.0 µL when only 0.0 µL has been aspirated.',\n",
       " 'errorInfo': {},\n",
       " 'wrappedErrors': []}"
      ]
     },
     "execution_count": 76,
     "metadata": {},
     "output_type": "execute_result"
    }
   ],
   "source": [
    "json.loads(r.text)['data']['error']['errorType']"
   ]
  },
  {
   "cell_type": "markdown",
   "metadata": {},
   "source": [
    "# Robot <-> camera calibration"
   ]
  },
  {
   "cell_type": "code",
   "execution_count": 16,
   "metadata": {},
   "outputs": [],
   "source": [
    "squaresX=7\n",
    "squaresY=5 \n",
    "squareLength=0.022\n",
    "markerLength=0.011\n",
    "aruco_dict = cv2.aruco.getPredefinedDictionary(cv2.aruco.DICT_6X6_250)\n",
    "params = cv2.aruco.DetectorParameters()\n",
    "detector = cv2.aruco.ArucoDetector(aruco_dict, params)\n",
    "board = cv2.aruco.CharucoBoard((squaresX, squaresY), squareLength, markerLength, aruco_dict)\n",
    "\n",
    "manual_movement = utils.ManualRobotMovement(openapi)\n",
    "\n",
    "openapi.move_to_coordinates((155,47,100), min_z_height=1, verbose=False)\n",
    "\n",
    "# window = cap.get_window()\n",
    "cv2.namedWindow(\"video\", cv2.WINDOW_NORMAL)\n",
    "cv2.resizeWindow(\"video\", 1348, 1011)\n",
    "\n",
    "robot_coords = []\n",
    "camera_coords = []\n",
    "\n",
    "while True:\n",
    " # Capture frame-by-frame\n",
    "    ret, frame = over_cam.read()\n",
    "    frame = frame_ops.undistort_frame(frame)\n",
    "\n",
    "    x, y, z = openapi.get_position(verbose=False)[0].values()\n",
    "    (text_width, text_height), _ = cv2.getTextSize(f\"Robot coords: ({x:.2f}, {y:.2f}, {z:.2f})\", cv2.FONT_HERSHEY_SIMPLEX, 1, 2)\n",
    "    cv2.rectangle(frame, (10, 0), (10 + text_width, text_height + 100), (0, 0, 0), -1)\n",
    "    cv2.putText(frame, f\"Robot coords: ({x:.2f}, {y:.2f}, {z:.2f})\", (10, 30), cv2.FONT_HERSHEY_SIMPLEX, 1, (0, 255, 0), 2)\n",
    "    cv2.putText(frame, f\"Step size: {manual_movement.step} mm\", (10, 70), cv2.FONT_HERSHEY_SIMPLEX, 1, (0, 255, 0), 2)\n",
    "\n",
    "    center_screen_x = frame.shape[1] // 2\n",
    "    center_screen_y = frame.shape[0] // 2\n",
    "    cv2.circle(frame, (center_screen_x, center_screen_y), 5, (0, 0, 255), -1)\n",
    "    cv2.putText(frame, f\"Center: ({center_screen_x}, {center_screen_y})\", (center_screen_x + 10, center_screen_y - 10), cv2.FONT_HERSHEY_SIMPLEX, 0.5, (0, 0, 255), 2)\n",
    "\n",
    "    # Calculate the center of each quarter of the screen\n",
    "    quarter_centers = [\n",
    "        (center_screen_x // 2, center_screen_y // 2),\n",
    "        (3 * center_screen_x // 2, center_screen_y // 2),\n",
    "        (center_screen_x // 2, 3 * center_screen_y // 2),\n",
    "        (3 * center_screen_x // 2, 3 * center_screen_y // 2)\n",
    "    ]\n",
    "\n",
    "    # Draw circles at the center of each quarter\n",
    "    for qx, qy in quarter_centers:\n",
    "        cv2.circle(frame, (qx, qy), 5, (0, 255, 255), -1)\n",
    "        cv2.putText(frame, f\"({qx}, {qy})\", (qx + 10, qy - 10), cv2.FONT_HERSHEY_SIMPLEX, 0.5, (0, 255, 255), 2)\n",
    "\n",
    "    marker_corners, marker_ids, _ = detector.detectMarkers(frame)\n",
    "    if marker_corners:\n",
    "        for corner in marker_corners:\n",
    "            corner = corner.reshape((4, 2))\n",
    "            for point in corner:\n",
    "                cv2.circle(frame, tuple(point.astype(int)), 5, (0, 255, 0), -1)\n",
    "\n",
    "            center_x = int(np.mean(corner[:, 0]))\n",
    "            center_y = int(np.mean(corner[:, 1]))\n",
    "            cv2.circle(frame, (center_x, center_y), 5, (255, 0, 0), -1)\n",
    "            cv2.putText(frame, f\"({center_x}, {center_y})\", (center_x + 10, center_y - 10), cv2.FONT_HERSHEY_SIMPLEX, 0.5, (255, 0, 0), 2)\n",
    "\n",
    "    # Calculate side lengths\n",
    "    side_lengths = []\n",
    "    if marker_corners:\n",
    "        for corner in marker_corners[0]:\n",
    "            for i in range(4):\n",
    "                side_length = np.linalg.norm(corner[i] - corner[(i + 1) % 4])\n",
    "                side_lengths.append(side_length)\n",
    "\n",
    "    # Calculate the average side length\n",
    "        average_side_length = np.mean(side_lengths)\n",
    "        area = cv2.contourArea(marker_corners[0])\n",
    "        one_d_ratio = 13.83 / average_side_length\n",
    "        size_conversion_ratio = 13.83 ** 2 / area\n",
    "        cv2.putText(frame, f\"Area of marker: {area:.2f}\", (10, 110), cv2.FONT_HERSHEY_SIMPLEX, 1, (0, 255, 0), 2)\n",
    "    cv2.imshow(\"video\", frame)\n",
    "\n",
    "    key_pressed = cv2.waitKey(1)\n",
    "\n",
    "    if key_pressed == ord('q'):\n",
    "        keyboard.unhook_all()\n",
    "        break\n",
    "    elif key_pressed == ord('s'):\n",
    "        x, y, z = openapi.get_position(verbose=False)[0].values()\n",
    "        robot_coords.append((x, y))\n",
    "        camera_coords.append((center_x, center_y))\n",
    "\n",
    "# When everything done, release the capture\n",
    "# cap.release_camera()\n",
    "cv2.destroyAllWindows()\n",
    "\n",
    "calibration_data = utils.load_calibration_config(calibration_profile)\n",
    "calibration_data['size_conversion_ratio'] = size_conversion_ratio\n",
    "calibration_data['one_d_ratio'] = one_d_ratio\n",
    "utils.save_calibration_config(calibration_profile, calibration_data)"
   ]
  },
  {
   "cell_type": "code",
   "execution_count": null,
   "metadata": {},
   "outputs": [],
   "source": [
    "calibration_points = [(160.0, 42.0),\n",
    " (150.0, 42.0),\n",
    " (150.0, 52.00000000000001),\n",
    " (160.0, 52.00000000000001)]\n",
    "\n",
    "robot_coords = []\n",
    "camera_coords = []\n",
    "\n",
    "\n",
    "# window = cap.get_window()\n",
    "cv2.namedWindow(\"video\", cv2.WINDOW_NORMAL)\n",
    "cv2.resizeWindow(\"video\", 1348, 1011)\n",
    "\n",
    "for calib_pt in calibration_points:\n",
    "    openapi.move_to_coordinates((*calib_pt, 100), min_z_height=1, verbose=False)\n",
    "    cv2.waitKey(1000)\n",
    "    # frame = cap.get_frame(undist=True)\n",
    "    ret, frame = over_cam.read()\n",
    "    frame = frame_ops.undistort_frame(frame)\n",
    "    \n",
    "    x, y, z = openapi.get_position(verbose=False)[0].values()\n",
    "    (text_width, text_height), _ = cv2.getTextSize(f\"Robot coords: ({x:.2f}, {y:.2f}, {z:.2f})\", cv2.FONT_HERSHEY_SIMPLEX, 1, 2)\n",
    "    cv2.rectangle(frame, (10, 0), (10 + text_width, text_height + 70), (0, 0, 0), -1)\n",
    "    cv2.putText(frame, f\"Robot coords: ({x:.2f}, {y:.2f}, {z:.2f})\", (10, 30), cv2.FONT_HERSHEY_SIMPLEX, 1, (0, 255, 0), 2)\n",
    "    cv2.putText(frame, f\"Step size: {manual_movement.step} mm\", (10, 70), cv2.FONT_HERSHEY_SIMPLEX, 1, (0, 255, 0), 2)\n",
    "\n",
    "    center_screen_x = frame.shape[1] // 2\n",
    "    center_screen_y = frame.shape[0] // 2\n",
    "    cv2.circle(frame, (center_screen_x, center_screen_y), 5, (0, 0, 255), -1)\n",
    "    cv2.putText(frame, f\"Center: ({center_screen_x}, {center_screen_y})\", (center_screen_x + 10, center_screen_y - 10), cv2.FONT_HERSHEY_SIMPLEX, 0.5, (0, 0, 255), 2)\n",
    "\n",
    "    # Calculate the center of each quarter of the screen\n",
    "    quarter_centers = [\n",
    "        (center_screen_x // 2, center_screen_y // 2),\n",
    "        (3 * center_screen_x // 2, center_screen_y // 2),\n",
    "        (center_screen_x // 2, 3 * center_screen_y // 2),\n",
    "        (3 * center_screen_x // 2, 3 * center_screen_y // 2)\n",
    "    ]\n",
    "\n",
    "    # Draw circles at the center of each quarter\n",
    "    for qx, qy in quarter_centers:\n",
    "        cv2.circle(frame, (qx, qy), 5, (0, 255, 255), -1)\n",
    "        cv2.putText(frame, f\"({qx}, {qy})\", (qx + 10, qy - 10), cv2.FONT_HERSHEY_SIMPLEX, 0.5, (0, 255, 255), 2)\n",
    "\n",
    "    marker_corners, marker_ids, _ = detector.detectMarkers(frame)\n",
    "    if marker_corners:\n",
    "        for corner in marker_corners:\n",
    "            corner = corner.reshape((4, 2))\n",
    "            for point in corner:\n",
    "                cv2.circle(frame, tuple(point.astype(int)), 5, (0, 255, 0), -1)\n",
    "\n",
    "            center_x = int(np.mean(corner[:, 0]))\n",
    "            center_y = int(np.mean(corner[:, 1]))\n",
    "            cv2.circle(frame, (center_x, center_y), 5, (255, 0, 0), -1)\n",
    "            cv2.putText(frame, f\"({center_x}, {center_y})\", (center_x + 10, center_y - 10), cv2.FONT_HERSHEY_SIMPLEX, 0.5, (255, 0, 0), 2)\n",
    "\n",
    "    cv2.waitKey(1)\n",
    "    cv2.imshow(\"video\", frame)\n",
    "    x, y, z = openapi.get_position(verbose=False)[0].values()\n",
    "    robot_coords.append((x, y))\n",
    "    camera_coords.append((center_x, center_y))\n",
    "\n",
    "cv2.destroyAllWindows()"
   ]
  },
  {
   "cell_type": "markdown",
   "metadata": {},
   "source": [
    "# Write transformation matrix"
   ]
  },
  {
   "cell_type": "code",
   "execution_count": 52,
   "metadata": {},
   "outputs": [],
   "source": [
    "calibration_data = utils.load_calibration_config(calibration_profile)\n",
    "\n",
    "camera_coords = utils.sort_coordinates(camera_coords)\n",
    "robot_coords = utils.sort_coordinates(robot_coords, reverse_y=True)\n",
    "\n",
    "robot_to_camera_coords = {tuple(robot_coord): tuple(camera_coord) for robot_coord, camera_coord in zip(robot_coords, camera_coords)}\n",
    "tf_mtx = utils.compute_tf_mtx(robot_to_camera_coords)\n",
    "\n",
    "calibration_data['tf_mtx'] = tf_mtx.tolist()\n",
    "\n",
    "utils.save_calibration_config(calibration_profile, calibration_data)"
   ]
  },
  {
   "cell_type": "markdown",
   "metadata": {},
   "source": [
    "# Pipette offset calibration"
   ]
  },
  {
   "cell_type": "markdown",
   "metadata": {},
   "source": [
    "### Blob detector"
   ]
  },
  {
   "cell_type": "code",
   "execution_count": null,
   "metadata": {},
   "outputs": [],
   "source": [
    "calibration_data = utils.load_calibration_config(calibration_profile)\n",
    "\n",
    "tf_mtx = np.array(calibration_data['tf_mtx'])\n",
    "calib_origin = np.array(calibration_data['calib_origin'])[:2]\n",
    "offset = np.array(calibration_data['offset'])\n",
    "\n",
    "\n",
    "window = cap.get_window()\n",
    "\n",
    "def on_mouse_click(event, x, y, flags, param):\n",
    "    global circle_center\n",
    "    global circle_radius\n",
    "    global filtered_contours\n",
    "    global X_init, Y_init\n",
    "\n",
    "    if event == cv2.EVENT_MBUTTONDOWN:\n",
    "        circle_center = (x, y)\n",
    "\n",
    "    if event == cv2.EVENT_MOUSEWHEEL:\n",
    "        if flags > 0:\n",
    "            circle_radius += 10\n",
    "        else:\n",
    "            circle_radius -= 10\n",
    "\n",
    "    if event == cv2.EVENT_LBUTTONDBLCLK:\n",
    "        for contour in filtered_contours:\n",
    "            r=cv2.pointPolygonTest(contour, (x,y), False)\n",
    "            if r>0:\n",
    "                M = cv2.moments(contour)\n",
    "                if M[\"m00\"] != 0:\n",
    "                    cX = int(M[\"m10\"] / M[\"m00\"])\n",
    "                    cY = int(M[\"m01\"] / M[\"m00\"])\n",
    "                    X_init, Y_init, _ = tf_mtx @ (cX, cY, 1)\n",
    "\n",
    "                    x, y, _ = openapi.get_position(verbose=False)[0].values()\n",
    "                    diff = np.array([x,y]) - np.array(calibration_data['calib_origin'])[:2]\n",
    "                    X = X_init + diff[0] + offset[0]\n",
    "                    Y = Y_init + diff[1] + offset[1]\n",
    "                    \n",
    "                    print(f\"Robot coords: ({x}, {y})\")\n",
    "                    print(f\"Clicked on: ({X}, {Y})\")\n",
    "                    openapi.move_to_coordinates((X, Y, 15), min_z_height=1, verbose=False)\n",
    "                    # openapi.aspirate_in_place(flow_rate = 75, volume = 10)\n",
    "\n",
    "                    \n",
    "                else:\n",
    "                    print(\"Contour center could not be found\")\n",
    "\n",
    "    if event == cv2.EVENT_RBUTTONDOWN:\n",
    "        x, y, _ = openapi.get_position(verbose=False)[0].values()\n",
    "        # openapi.move_to_coordinates((x, y, 100), min_z_height=1)\n",
    "        openapi.move_to_coordinates((calib_origin[0],calib_origin[1],100), min_z_height=1, verbose=False)\n",
    "\n",
    "        \n",
    "\n",
    "cv2.setMouseCallback(cap.window_name, on_mouse_click)\n",
    "circle_center = (int(1296.0), int(972.0))\n",
    "circle_radius = 300\n",
    "manual_movement = utils.ManualRobotMovement(openapi)\n",
    "\n",
    "while True:\n",
    "    frame = cap.get_frame(undist=True)\n",
    "    x, y, z = openapi.get_position(verbose=False)[0].values()\n",
    "    (text_width, text_height), _ = cv2.getTextSize(f\"Robot coords: ({x:.2f}, {y:.2f}, {z:.2f})\", cv2.FONT_HERSHEY_SIMPLEX, 1, 2)\n",
    "    cv2.rectangle(frame, (10, 0), (10 + text_width, text_height + 70), (0, 0, 0), -1)\n",
    "    cv2.putText(frame, f\"Robot coords: ({x:.2f}, {y:.2f}, {z:.2f})\", (10, 30), cv2.FONT_HERSHEY_SIMPLEX, 1, (0, 255, 0), 2)\n",
    "    cv2.putText(frame, f\"Step size: {manual_movement.step} mm\", (10, 70), cv2.FONT_HERSHEY_SIMPLEX, 1, (0, 255, 0), 2)\n",
    "\n",
    "\n",
    "    cv2.circle(frame, circle_center, circle_radius, (255, 0, 0), 2)\n",
    "    # Create a mask with the same dimensions as the frame\n",
    "    mask = np.zeros_like(frame, dtype=np.uint8)\n",
    "\n",
    "    # Draw a filled circle on the mask\n",
    "    cv2.circle(mask, circle_center, circle_radius, (255, 255, 255), -1)\n",
    "\n",
    "    # Apply the mask to the frame\n",
    "    masked_frame = cv2.bitwise_and(frame, mask)\n",
    "\n",
    "    # Convert the masked frame to grayscale\n",
    "    gray = cv2.cvtColor(masked_frame, cv2.COLOR_BGR2GRAY)\n",
    "    # Apply thresholding to the grayscale image\n",
    "    _, thresh = cv2.threshold(gray, 50, 255, cv2.THRESH_BINARY_INV + cv2.THRESH_OTSU)\n",
    "    # _, thresh = cv2.threshold(gray, 127, 255, cv2.THRESH_BINARY)\n",
    "    # Fill the area outside the circle with black pixels\n",
    "    # Convert the mask to grayscale\n",
    "    mask_inv = cv2.cvtColor(mask, cv2.COLOR_BGR2GRAY)\n",
    "    thresh = cv2.bitwise_and(thresh, mask_inv)\n",
    "\n",
    "\n",
    "    # Find contours in the masked frame\n",
    "    contours, hei = cv2.findContours(thresh, cv2.RETR_TREE, cv2.CHAIN_APPROX_SIMPLE)\n",
    "\n",
    "    # Filter the contours to exclude the outermost\n",
    "    # filtered_contours = [contour for contour, h in zip(contours, hei[0]) if h[3] == 1]\n",
    "    # Filter the contours by size\n",
    "    filtered_contours = [contour for contour in contours if 15 < cv2.contourArea(contour) < 1000]\n",
    "    # Draw the contours on the frame\n",
    "    cv2.drawContours(frame, filtered_contours, -1, (0, 255, 0), 2)\n",
    "\n",
    "\n",
    "\n",
    "\n",
    "    cv2.imshow(cap.window_name, frame)\n",
    "    key_pressed = cv2.waitKey(1)\n",
    "    if key_pressed == ord('o'):\n",
    "        x, y, _ = openapi.get_position(verbose=False)[0].values()\n",
    "\n",
    "        calibration_data['offset'] = [x-X_init, y-Y_init]\n",
    "\n",
    "        utils.save_calibration_config(calibration_profile, calibration_data)\n",
    "\n",
    "    elif key_pressed == ord('d'):\n",
    "        openapi.dispense_in_place(flow_rate = 75, volume = 10)\n",
    "\n",
    "    elif key_pressed == ord('a'):\n",
    "        openapi.aspirate_in_place(flow_rate = 75, volume = 10)\n",
    "\n",
    "\n",
    "    elif key_pressed == ord('q'):\n",
    "        keyboard.unhook_all()\n",
    "        break\n",
    "\n",
    "        \n",
    "cv2.destroyAllWindows()"
   ]
  },
  {
   "cell_type": "markdown",
   "metadata": {},
   "source": [
    "### Crosshair detector"
   ]
  },
  {
   "cell_type": "code",
   "execution_count": 154,
   "metadata": {},
   "outputs": [
    {
     "name": "stdout",
     "output_type": "stream",
     "text": [
      "init: 154.71126373179337 46.90779558949771\n",
      "Robot coords: (155.0, 49.0)\n",
      "Clicked on: (198.18654821916292, 125.48132839302644)\n"
     ]
    }
   ],
   "source": [
    "# Load the template image\n",
    "path = os.path.join(paths.BASE_DIR, 'outputs', 'images', 'target_template.png')\n",
    "# path = os.path.join(paths.BASE_DIR, 'outputs', 'images', 'target_template_2.png')\n",
    "template = cv2.imread(path, 0)  # Replace 'template.png' with your template image path\n",
    "template_height, template_width = template.shape[:2]\n",
    "\n",
    "calibration_data = utils.load_calibration_config(calibration_profile)\n",
    "\n",
    "tf_mtx = np.array(calibration_data['tf_mtx'])\n",
    "calib_origin = np.array(calibration_data['calib_origin'])[:2]\n",
    "offset = np.array(calibration_data['offset'])\n",
    "\n",
    "# Perform multi-object detection using template matching\n",
    "# Start video stream\n",
    "def on_mouse_click(event, x, y, flags, param):\n",
    "    global X_init, Y_init, diff\n",
    "    if event == cv2.EVENT_LBUTTONDBLCLK:\n",
    "        for (rect_x, rect_y, rect_w, rect_h) in rectangles:\n",
    "            if rect_x <= x <= rect_x + rect_w and rect_y <= y <= rect_y + rect_h:\n",
    "                cX = rect_x + rect_w // 2\n",
    "                cY = rect_y + rect_h // 2\n",
    "\n",
    "                X_init, Y_init, _ = tf_mtx @ (cX, cY, 1)\n",
    "                print('init:', X_init, Y_init)\n",
    "\n",
    "                x, y, _ = openapi.get_position(verbose=False)[0].values()\n",
    "                diff = np.array([x,y]) - np.array(calibration_data['calib_origin'])[:2]\n",
    "                X = X_init + diff[0] + offset[0]\n",
    "                Y = Y_init + diff[1] + offset[1]\n",
    "                \n",
    "                print(f\"Robot coords: ({x}, {y})\")\n",
    "                print(f\"Clicked on: ({X}, {Y})\")\n",
    "                # openapi.move_to_coordinates((X, Y, 66.1), min_z_height=1, verbose=False)\n",
    "                openapi.move_to_coordinates((X, Y, 15), min_z_height=1, verbose=False)\n",
    "                break\n",
    "\n",
    "    if event == cv2.EVENT_RBUTTONDOWN:\n",
    "        x, y, _ = openapi.get_position(verbose=False)[0].values()\n",
    "        openapi.move_to_coordinates((calib_origin[0],calib_origin[1],100), min_z_height=1, verbose=False)\n",
    "        # openapi.move_to_coordinates((255, 145.25,100), min_z_height=1, verbose=False)\n",
    "\n",
    "# window = cap.get_window()\n",
    "cv2.namedWindow(\"video\", cv2.WINDOW_NORMAL)\n",
    "cv2.resizeWindow(\"video\", 1348, 1011)\n",
    "cv2.setMouseCallback(\"video\", on_mouse_click)\n",
    "manual_movement = utils.ManualRobotMovement(openapi)\n",
    "\n",
    "\n",
    "while True:\n",
    "    # Capture frame-by-frame\n",
    "    # frame = cap.get_frame(undist=True)\n",
    "    ret, frame = over_cam.read()\n",
    "    frame = frame_ops.undistort_frame(frame)\n",
    "    x, y, z = openapi.get_position(verbose=False)[0].values()\n",
    "    (text_width, text_height), _ = cv2.getTextSize(f\"Robot coords: ({x:.2f}, {y:.2f}, {z:.2f})\", cv2.FONT_HERSHEY_SIMPLEX, 1, 2)\n",
    "    cv2.rectangle(frame, (10, 0), (10 + text_width, text_height + 70), (0, 0, 0), -1)\n",
    "    cv2.putText(frame, f\"Robot coords: ({x:.2f}, {y:.2f}, {z:.2f})\", (10, 30), cv2.FONT_HERSHEY_SIMPLEX, 1, (0, 255, 0), 2)\n",
    "    cv2.putText(frame, f\"Step size: {manual_movement.step} mm\", (10, 70), cv2.FONT_HERSHEY_SIMPLEX, 1, (0, 255, 0), 2)\n",
    "    gray_frame = cv2.cvtColor(frame, cv2.COLOR_BGR2GRAY)\n",
    "    # Draw the center of the frame\n",
    "    frame_center_x = frame.shape[1] // 2\n",
    "    frame_center_y = frame.shape[0] // 2\n",
    "    cv2.circle(frame, (frame_center_x, frame_center_y), 5, (0, 0, 255), -1)\n",
    "    cv2.putText(frame, \"Center\", (frame_center_x + 10, frame_center_y - 10), cv2.FONT_HERSHEY_SIMPLEX, 0.5, (0, 0, 255), 2)\n",
    "\n",
    "    # Perform template matching\n",
    "    result = cv2.matchTemplate(gray_frame, template, cv2.TM_CCOEFF_NORMED)\n",
    "    min_val, max_val, min_loc, max_loc = cv2.minMaxLoc(result)\n",
    "\n",
    "\n",
    "    # Eliminate overlapping matches\n",
    "    locations = np.where(result >= 0.7)  # Adjust the threshold as needed\n",
    "    rectangles = []\n",
    "    for pt in zip(*locations[::-1]):\n",
    "        rectangles.append([pt[0], pt[1], template_width, template_height])\n",
    "\n",
    "    # Apply non-maximum suppression to remove overlapping rectangles\n",
    "    rectangles, _ = cv2.groupRectangles(rectangles, groupThreshold=1, eps=0.2)\n",
    "    for (x, y, w, h) in rectangles:\n",
    "        cv2.rectangle(frame, (x, y), (x + w, y + h), (0, 255, 0), 2)\n",
    "        center_x = x + w // 2\n",
    "        center_y = y + h // 2\n",
    "        cv2.circle(frame, (center_x, center_y), 3, (255, 0, 0), -1)\n",
    "        cv2.putText(frame, f\"({center_x}, {center_y})\", (center_x + 10, center_y - 10), cv2.FONT_HERSHEY_SIMPLEX, 0.5, (255, 0, 0), 2)\n",
    "\n",
    "    # Display the resulting frame\n",
    "    cv2.imshow(\"video\", frame)\n",
    "\n",
    "    key_pressed = cv2.waitKey(1)\n",
    "    # Break the loop on 'q' key press\n",
    "    if key_pressed == ord('o'):\n",
    "        x, y, _ = openapi.get_position(verbose=False)[0].values()\n",
    "\n",
    "        x_prev = X_init + diff[0] + offset[0]\n",
    "        y_prev = Y_init + diff[1] + offset[1]\n",
    "\n",
    "        print([x-(X_init+diff[0]), y-(Y_init+diff[1])])\n",
    "        # calibration_data['offset'] = [x-X_init, y-Y_init]\n",
    "        utils.save_calibration_config(calibration_profile, calibration_data)\n",
    "\n",
    "    elif key_pressed == ord('d'):\n",
    "        openapi.dispense_in_place(flow_rate = 75, volume = 10)\n",
    "\n",
    "    elif key_pressed == ord('a'):\n",
    "        openapi.aspirate_in_place(flow_rate = 75, volume = 10)\n",
    "\n",
    "\n",
    "    elif key_pressed == ord('q'):\n",
    "        keyboard.unhook_all()\n",
    "        break\n",
    "\n",
    "\n",
    "# Release resources\n",
    "cv2.destroyAllWindows()"
   ]
  },
  {
   "cell_type": "code",
   "execution_count": 36,
   "metadata": {},
   "outputs": [
    {
     "name": "stdout",
     "output_type": "stream",
     "text": [
      "{'x': 256.9743025787753, 'y': 145.71510870922634, 'z': 93.9}\n"
     ]
    },
    {
     "data": {
      "text/plain": [
       "({'x': 256.9743025787753, 'y': 145.71510870922634, 'z': 93.9},\n",
       " <Response [201]>)"
      ]
     },
     "execution_count": 36,
     "metadata": {},
     "output_type": "execute_result"
    }
   ],
   "source": [
    "openapi.get_position()"
   ]
  },
  {
   "cell_type": "markdown",
   "metadata": {},
   "source": [
    "### Automatic"
   ]
  },
  {
   "cell_type": "code",
   "execution_count": 149,
   "metadata": {},
   "outputs": [
    {
     "name": "stdout",
     "output_type": "stream",
     "text": [
      "init: 155.05672351585736 46.82794564078351\n",
      "Robot coords: (255.0, 145.25)\n",
      "Clicked on: (295.05672351585736, 223.07794564078353)\n",
      "-72 31\n",
      "x_dist_to_tip_mm: 1.4752844873695756, y_dist_to_tip_mm: -3.4264671964712723\n",
      "Actual offset applied: (3.4752844873695756, -1.4264671964712723) mm\n"
     ]
    }
   ],
   "source": [
    "path = os.path.join(paths.BASE_DIR, 'outputs', 'images', 'target_template_2.png')\n",
    "template = cv2.imread(path, 0)  # Replace 'template.png' with your template image path\n",
    "template_height, template_width = template.shape[:2]\n",
    "calibration_data = utils.load_calibration_config(calibration_profile)\n",
    "tf_mtx = np.array(calibration_data['tf_mtx'])\n",
    "calib_origin = np.array(calibration_data['calib_origin'])[:2]\n",
    "offset = np.array(calibration_data['offset'])\n",
    "model_path = os.path.join(paths.ML_MODELS_DIR,'tip_detector_v1.pt')\n",
    "model = YOLO(model_path)\n",
    "\n",
    "\n",
    "#Settings\n",
    "calib_module_coordinates = (255, 145.25, 100)  # Coordinates for the pipette offset calibration module\n",
    "calib_module_height = 66.1  # Height for the pipette offset calibration module\n",
    "detection_offset_x = 2\n",
    "detection_offset_y = 2  # Offset to apply to the detected coordinates\n",
    "#Move to pipette offset calibration module:\n",
    "openapi.move_to_coordinates(calib_module_coordinates, min_z_height=calib_module_height-0.1, verbose=False)\n",
    "time.sleep(1)\n",
    "\n",
    "ret, frame = over_cam.read()\n",
    "frame = frame_ops.undistort_frame(frame)\n",
    "gray_frame = cv2.cvtColor(frame, cv2.COLOR_BGR2GRAY)\n",
    "result = cv2.matchTemplate(gray_frame, template, cv2.TM_CCOEFF_NORMED)\n",
    "min_val, max_val, min_loc, max_loc = cv2.minMaxLoc(result)\n",
    "\n",
    "locations = np.where(result >= 0.7)\n",
    "assert len(locations[0]) > 0, \"No matches found, please adjust the threshold or template.\"\n",
    "\n",
    "rectangles = []\n",
    "for pt in zip(*locations[::-1]):\n",
    "    rectangles.append([pt[0], pt[1], template_width, template_height])\n",
    "\n",
    "# Apply non-maximum suppression to remove overlapping rectangles\n",
    "centers = []\n",
    "frame_center_x = frame.shape[1] // 2\n",
    "frame_center_y = frame.shape[0] // 2\n",
    "rectangles, _ = cv2.groupRectangles(rectangles, groupThreshold=1, eps=0.2)\n",
    "for (x, y, w, h) in rectangles:\n",
    "    center_x = x + w // 2\n",
    "    center_y = y + h // 2\n",
    "    if abs(center_x - frame_center_x) > 100 or abs(center_y - frame_center_y) > 100:\n",
    "        continue\n",
    "    centers.append((center_x, center_y))\n",
    "\n",
    "assert len(centers) == 1, \"Multiple centers detected, please adjust the threshold or template.\"\n",
    "crosshair_x, crosshair_y = centers[0]\n",
    "\n",
    "#Move to the center of the detected template\n",
    "X_init, Y_init, _ = tf_mtx @ (crosshair_x, crosshair_y, 1)\n",
    "print('init:', X_init, Y_init)\n",
    "\n",
    "x, y, _ = openapi.get_position(verbose=False)[0].values()\n",
    "diff = np.array([x,y]) - np.array(calibration_data['calib_origin'])[:2]\n",
    "X = X_init + diff[0] + offset[0]\n",
    "Y = Y_init + diff[1] + offset[1]\n",
    "\n",
    "print(f\"Robot coords: ({x}, {y})\")\n",
    "print(f\"Clicked on: ({X}, {Y})\")\n",
    "openapi.move_to_coordinates((X + detection_offset_x, Y + detection_offset_y, calib_module_height), min_z_height=calib_module_height-0.1, verbose=False)\n",
    "time.sleep(1)\n",
    "\n",
    "ret, frame = under_cam.read()\n",
    "assert ret, \"Failed to capture frame from under_cam.\"\n",
    "frame = frame[..., ::-1]  # Convert BGR to RGB as YOLO expects RGB input\n",
    "results = model.predict(\n",
    "        source=frame,  # Now pointing to a directory instead of a single file\n",
    "        conf=0.25,         # Confidence threshold\n",
    "        save=False,         # Save the annotated images\n",
    "        save_txt=False,    # Save YOLO-format prediction labels (optional)\n",
    "        show=False,         # Show images in pop-up windows (if GUI available)\n",
    "        imgsz=2016,\n",
    "        verbose = False               # Ensure inference matches your training resolution\n",
    "    )\n",
    "\n",
    "image = frame.copy()\n",
    "image_center = (image.shape[1] // 2, image.shape[0] // 2)\n",
    "data = []\n",
    "for r in results:\n",
    "    for box in r.boxes:\n",
    "        cls = int(box.cls[0])\n",
    "        conf = float(box.conf[0])\n",
    "        x1, y1, x2, y2 = map(int, box.xyxy[0])\n",
    "        center_x = (x1 + x2) // 2\n",
    "        center_y = (y1 + y2) // 2\n",
    "        data.append({'class': model.names[cls], 'confidence': conf, 'center_x': center_x, 'center_y': center_y})\n",
    "\n",
    "# Create a dataframe\n",
    "df = pd.DataFrame(data)\n",
    "\n",
    "# Calculate the distance of each \"point\" to the center of the frame\n",
    "df['distance_to_center'] = ((df['center_x'] - image_center[0]) ** 2 + (df['center_y'] - image_center[1]) ** 2) ** 0.5\n",
    "\n",
    "# Identify the closest \"point\" to the center of the frame\n",
    "df['is_closest_to_center'] = (df['class'] == 'point') & (df['distance_to_center'] == df.loc[df['class'] == 'point', 'distance_to_center'].min()) & (df['distance_to_center'] < 100)\n",
    "\n",
    "if df['is_closest_to_center'].any():\n",
    "    assert 'tip' in df['class'].values and 'point' in df['class'].values, \"Both 'tip' and 'point' classes must be present in the dataframe.\"\n",
    "    distances_from_closest = np.sqrt(\n",
    "        (df.loc[df['is_closest_to_center'] & (df['class'] == 'point'), 'center_x'].values[0] - df.loc[df['class'] == 'point', 'center_x'])**2 +\n",
    "        (df.loc[df['is_closest_to_center'] & (df['class'] == 'point'), 'center_y'].values[0] - df.loc[df['class'] == 'point', 'center_y'])**2\n",
    "    )\n",
    "    distances_from_closest = distances_from_closest[distances_from_closest > 0]\n",
    "    linear_distance_ratio = 20.25 / np.mean(distances_from_closest)\n",
    "        # Calculate the distance from the center-most \"point\" class to the \"tip\" class\n",
    "    center_point_coords = df.loc[df['is_closest_to_center'], ['center_x', 'center_y']].values[0]\n",
    "    tip_coords = df.loc[df['class'] == 'tip', ['center_x', 'center_y']].values[0]\n",
    "\n",
    "    x_dist_to_tip = center_point_coords[0] - tip_coords[0]\n",
    "    y_dist_to_tip = center_point_coords[1] - tip_coords[1]\n",
    "    print(x_dist_to_tip, y_dist_to_tip)\n",
    "\n",
    "    y_dist_to_tip_mm = x_dist_to_tip * linear_distance_ratio\n",
    "    x_dist_to_tip_mm = y_dist_to_tip * linear_distance_ratio\n",
    "    print(f\"x_dist_to_tip_mm: {x_dist_to_tip_mm}, y_dist_to_tip_mm: {y_dist_to_tip_mm}\")\n",
    "\n",
    "assert x_dist_to_tip_mm and y_dist_to_tip_mm, \"Failed to calculate distances to tip.\"\n",
    "openapi.move_relative('x', x_dist_to_tip_mm, verbose=False)\n",
    "openapi.move_relative('y', y_dist_to_tip_mm, verbose=False)\n",
    "\n",
    "actual_offset_x = x_dist_to_tip_mm + detection_offset_x\n",
    "actual_offset_y = y_dist_to_tip_mm + detection_offset_y\n",
    "print(f\"Actual offset applied: ({actual_offset_x}, {actual_offset_y}) mm\")\n",
    "\n",
    "assert abs(actual_offset_x) < 10 and abs(actual_offset_y) < 10, \"Offsets are too large, please check the calibration.\"\n",
    "x, y, _ = openapi.get_position(verbose=False)[0].values()\n",
    "calibration_data['offset'] = [x-(X_init+diff[0]), y-(Y_init+diff[1])]\n",
    "utils.save_calibration_config(calibration_profile, calibration_data)"
   ]
  },
  {
   "cell_type": "code",
   "execution_count": 130,
   "metadata": {},
   "outputs": [
    {
     "data": {
      "text/html": [
       "<div>\n",
       "<style scoped>\n",
       "    .dataframe tbody tr th:only-of-type {\n",
       "        vertical-align: middle;\n",
       "    }\n",
       "\n",
       "    .dataframe tbody tr th {\n",
       "        vertical-align: top;\n",
       "    }\n",
       "\n",
       "    .dataframe thead th {\n",
       "        text-align: right;\n",
       "    }\n",
       "</style>\n",
       "<table border=\"1\" class=\"dataframe\">\n",
       "  <thead>\n",
       "    <tr style=\"text-align: right;\">\n",
       "      <th></th>\n",
       "      <th>class</th>\n",
       "      <th>confidence</th>\n",
       "      <th>center_x</th>\n",
       "      <th>center_y</th>\n",
       "      <th>distance_to_center</th>\n",
       "      <th>is_closest_to_center</th>\n",
       "    </tr>\n",
       "  </thead>\n",
       "  <tbody>\n",
       "    <tr>\n",
       "      <th>0</th>\n",
       "      <td>point</td>\n",
       "      <td>0.628219</td>\n",
       "      <td>1053</td>\n",
       "      <td>714</td>\n",
       "      <td>64.070274</td>\n",
       "      <td>True</td>\n",
       "    </tr>\n",
       "  </tbody>\n",
       "</table>\n",
       "</div>"
      ],
      "text/plain": [
       "   class  confidence  center_x  center_y  distance_to_center  \\\n",
       "0  point    0.628219      1053       714           64.070274   \n",
       "\n",
       "   is_closest_to_center  \n",
       "0                  True  "
      ]
     },
     "execution_count": 130,
     "metadata": {},
     "output_type": "execute_result"
    }
   ],
   "source": [
    "df"
   ]
  },
  {
   "cell_type": "code",
   "execution_count": 128,
   "metadata": {},
   "outputs": [
    {
     "data": {
      "text/plain": [
       "1"
      ]
     },
     "execution_count": 128,
     "metadata": {},
     "output_type": "execute_result"
    }
   ],
   "source": [
    "len(centers)"
   ]
  },
  {
   "cell_type": "markdown",
   "metadata": {},
   "source": [
    "# Move to point"
   ]
  },
  {
   "cell_type": "code",
   "execution_count": 18,
   "metadata": {},
   "outputs": [],
   "source": [
    "calibration_data = utils.load_calibration_config(calibration_profile)\n",
    "\n",
    "tf_mtx = np.array(calibration_data['tf_mtx'])\n",
    "calib_origin = np.array(calibration_data['calib_origin'])[:2]\n",
    "offset = np.array(calibration_data['offset'])\n",
    "\n",
    "def on_mouse_click(event, cX, cY, flags, param):\n",
    "    global X_init, Y_init, X, Y, target_x, target_y\n",
    "    if event == cv2.EVENT_LBUTTONDOWN:\n",
    "        target_x, target_y = cX, cY\n",
    "        # print(\"Clicked at pixel coordinate: ({}, {})\".format(cX, cY))\n",
    "        X_init, Y_init, _ = tf_mtx @ (cX, cY, 1)\n",
    "\n",
    "        x, y, _ = openapi.get_position(verbose=False)[0].values()\n",
    "        diff = np.array([x,y]) - np.array(calibration_data['calib_origin'])[:2]\n",
    "        X = X_init + diff[0] + offset[0]\n",
    "        Y = Y_init + diff[1] + offset[1]\n",
    "        # print(f\"Robot coords: ({x}, {y})\")\n",
    "        # print(f\"Clicked on: ({X}, {Y})\")\n",
    "        # openapi.move_to_coordinates((X, Y, 15), min_z_height=1)\n",
    "\n",
    "    if event == cv2.EVENT_RBUTTONDOWN:\n",
    "        x, y, _ = openapi.get_position(verbose=False)[0].values()\n",
    "        # openapi.move_to_coordinates((calib_origin[0],calib_origin[1],100), min_z_height=1, verbose=False)\n",
    "\n",
    "\n",
    "\n",
    "# Create an instance of the ManualRobotMovement class\n",
    "manual_movement = utils.ManualRobotMovement(openapi)\n",
    "\n",
    "# window = cap.get_window()\n",
    "cv2.namedWindow(\"video\", cv2.WINDOW_NORMAL)\n",
    "# cv2.resizeWindow(\"video\", 1348, 1011)\n",
    "cv2.resizeWindow(\"video\", 800, 1348)\n",
    "cv2.setMouseCallback(\"video\", on_mouse_click)\n",
    "\n",
    "target_x, target_y = 0, 0\n",
    "\n",
    "dish_bottom = 6.6# - 11.5\n",
    "pickup_offset = 0.0 #0.6\n",
    "flow_rate = 277.4\n",
    "volume = 20\n",
    "\n",
    "while True:\n",
    "    # frame = cap.get_frame(undist=True)\n",
    "    ret, frame = under_cam.read()\n",
    "    # frame = frame_ops.undistort_frame(frame)\n",
    "    frame = cv2.rotate(frame, cv2.ROTATE_90_COUNTERCLOCKWISE)\n",
    "    x, y, z = openapi.get_position(verbose=False)[0].values()\n",
    "    (text_width, text_height), _ = cv2.getTextSize(f\"Robot coords: ({x:.2f}, {y:.2f}, {z:.2f})\", cv2.FONT_HERSHEY_SIMPLEX, 1, 2)\n",
    "    cv2.rectangle(frame, (10, 0), (10 + text_width, text_height + 190), (0, 0, 0), -1)\n",
    "    cv2.putText(frame, f\"Robot coords: ({x:.2f}, {y:.2f}, {z:.2f})\", (10, 30), cv2.FONT_HERSHEY_SIMPLEX, 1, (0, 255, 0), 2)\n",
    "    cv2.putText(frame, f\"Step size: {manual_movement.step} mm\", (10, 70), cv2.FONT_HERSHEY_SIMPLEX, 1, (0, 255, 0), 2)\n",
    "    cv2.putText(frame, f\"Flow rate: {flow_rate} uL/s\", (10, 110), cv2.FONT_HERSHEY_SIMPLEX, 1, (0, 255, 0), 2)\n",
    "    cv2.putText(frame, f\"Volume: {volume} uL\", (10, 150), cv2.FONT_HERSHEY_SIMPLEX, 1, (0, 255, 0), 2)\n",
    "    cv2.putText(frame, f\"Pickup height: {dish_bottom + pickup_offset} mm\", (10, 190), cv2.FONT_HERSHEY_SIMPLEX, 1, (0, 255, 0), 2)\n",
    "\n",
    "    center_screen_x = frame.shape[1] // 2\n",
    "    center_screen_y = frame.shape[0] // 2\n",
    "    # cv2.circle(frame, (center_screen_x, center_screen_y), 5, (0, 0, 255), -1)\n",
    "    cv2.circle(frame, (target_x, target_y), 3, (0, 0, 255), -1)\n",
    "    # cv2.putText(frame, f\"Center: ({center_screen_x}, {center_screen_y})\", (center_screen_x + 10, center_screen_y - 10), cv2.FONT_HERSHEY_SIMPLEX, 0.5, (0, 0, 255), 2)\n",
    "    \n",
    "    \n",
    "    cv2.imshow(\"video\", frame)\n",
    "    # Draw a point at the center of the screen\n",
    "    key_pressed = cv2.waitKey(1)\n",
    "\n",
    "    if key_pressed == ord('q'):\n",
    "        keyboard.unhook_all()\n",
    "        break\n",
    "\n",
    "    elif key_pressed == ord('o'):\n",
    "        x, y, _ = openapi.get_position(verbose=False)[0].values()\n",
    "\n",
    "        calibration_data['offset'] = [x-X_init, y-Y_init]\n",
    "\n",
    "        utils.save_calibration_config(calibration_profile, calibration_data)\n",
    "\n",
    "    elif key_pressed == ord('d'):\n",
    "        openapi.dispense_in_place(flow_rate = flow_rate, volume = volume)\n",
    "\n",
    "    elif key_pressed == ord('b'):\n",
    "        openapi.blow_out_in_place(50)\n",
    "\n",
    "    elif key_pressed == ord('a'):\n",
    "        openapi.aspirate_in_place(flow_rate = flow_rate, volume = volume, verbose=True)\n",
    "\n",
    "    elif key_pressed == ord('p'):\n",
    "        openapi.move_to_coordinates((X, Y, dish_bottom+pickup_offset), min_z_height=dish_bottom)\n",
    "\n",
    "    elif key_pressed == ord('s'):\n",
    "        timestamp = datetime.datetime.now().strftime('%Y_%m_%d_%H-%M-%S')\n",
    "        filename = f\"frame_{timestamp}.png\"\n",
    "        cv2.imwrite(str(paths.BASE_DIR)+'\\\\outputs\\\\images\\\\2025-05-08_slice_test\\\\'+filename, frame)\n",
    "        print(f\"Frame saved as {filename}\")\n",
    "\n",
    "\n",
    "cv2.destroyAllWindows()"
   ]
  },
  {
   "cell_type": "code",
   "execution_count": 20,
   "metadata": {},
   "outputs": [
    {
     "name": "stdout",
     "output_type": "stream",
     "text": [
      "Request status:\n",
      "<Response [201]>\n",
      "{\n",
      "  \"data\": {\n",
      "    \"id\": \"4f58f90a-7b6c-4a94-b6c8-086146d6a3ac\",\n",
      "    \"createdAt\": \"2025-03-21T20:44:37.819522+00:00\",\n",
      "    \"commandType\": \"moveToCoordinates\",\n",
      "    \"key\": \"4f58f90a-7b6c-4a94-b6c8-086146d6a3ac\",\n",
      "    \"status\": \"succeeded\",\n",
      "    \"params\": {\n",
      "      \"minimumZHeight\": 1.0,\n",
      "      \"forceDirect\": false,\n",
      "      \"pipetteId\": \"708ad6ae-be00-41eb-b86d-41f7e13ac33d\",\n",
      "      \"coordinates\": {\n",
      "        \"x\": 209.82085333608632,\n",
      "        \"y\": 131.12175097001796,\n",
      "        \"z\": 15.0\n",
      "      }\n",
      "    },\n",
      "    \"result\": {\n",
      "      \"position\": {\n",
      "        \"x\": 209.82085333608632,\n",
      "        \"y\": 131.12175097001796,\n",
      "        \"z\": 15.0\n",
      "      }\n",
      "    },\n",
      "    \"startedAt\": \"2025-03-21T20:44:37.821500+00:00\",\n",
      "    \"completedAt\": \"2025-03-21T20:44:39.367323+00:00\",\n",
      "    \"intent\": \"setup\",\n",
      "    \"notes\": []\n",
      "  }\n",
      "}\n",
      "Request status:\n",
      "<Response [201]>\n",
      "{\n",
      "  \"data\": {\n",
      "    \"id\": \"8619988c-7359-41ce-94c3-7c105c85f64d\",\n",
      "    \"createdAt\": \"2025-03-21T20:44:41.467538+00:00\",\n",
      "    \"commandType\": \"aspirateInPlace\",\n",
      "    \"key\": \"8619988c-7359-41ce-94c3-7c105c85f64d\",\n",
      "    \"status\": \"succeeded\",\n",
      "    \"params\": {\n",
      "      \"flowRate\": 200.0,\n",
      "      \"volume\": 100.0,\n",
      "      \"pipetteId\": \"708ad6ae-be00-41eb-b86d-41f7e13ac33d\"\n",
      "    },\n",
      "    \"result\": {\n",
      "      \"volume\": 100.0\n",
      "    },\n",
      "    \"startedAt\": \"2025-03-21T20:44:41.469585+00:00\",\n",
      "    \"completedAt\": \"2025-03-21T20:44:42.343829+00:00\",\n",
      "    \"intent\": \"setup\",\n",
      "    \"notes\": []\n",
      "  }\n",
      "}\n"
     ]
    },
    {
     "ename": "Exception",
     "evalue": "{\"errors\":[{\"id\":\"InvalidRequest\",\"title\":\"Invalid Request\",\"detail\":\"none is not an allowed value\",\"source\":{\"pointer\":\"/data/BlowOutCreate/params/labwareId\"},\"errorCode\":\"4000\"}]}",
     "output_type": "error",
     "traceback": [
      "\u001b[1;31m---------------------------------------------------------------------------\u001b[0m",
      "\u001b[1;31mException\u001b[0m                                 Traceback (most recent call last)",
      "Cell \u001b[1;32mIn[20], line 31\u001b[0m\n\u001b[0;32m     29\u001b[0m         i \u001b[38;5;241m+\u001b[39m\u001b[38;5;241m=\u001b[39m \u001b[38;5;241m1\u001b[39m\n\u001b[0;32m     30\u001b[0m openapi\u001b[38;5;241m.\u001b[39mmove_relative(\u001b[38;5;124m'\u001b[39m\u001b[38;5;124mz\u001b[39m\u001b[38;5;124m'\u001b[39m, \u001b[38;5;241m50\u001b[39m)\n\u001b[1;32m---> 31\u001b[0m \u001b[43mopenapi\u001b[49m\u001b[38;5;241;43m.\u001b[39;49m\u001b[43mblow_out\u001b[49m\u001b[43m(\u001b[49m\u001b[43mopenapi\u001b[49m\u001b[38;5;241;43m.\u001b[39;49m\u001b[43mlabware_dct\u001b[49m\u001b[43m[\u001b[49m\u001b[38;5;124;43m'\u001b[39;49m\u001b[38;5;124;43m3\u001b[39;49m\u001b[38;5;124;43m'\u001b[39;49m\u001b[43m]\u001b[49m\u001b[43m,\u001b[49m\u001b[43m \u001b[49m\u001b[38;5;124;43m\"\u001b[39;49m\u001b[38;5;124;43mA1\u001b[39;49m\u001b[38;5;124;43m\"\u001b[39;49m\u001b[43m,\u001b[49m\u001b[43m \u001b[49m\u001b[43mwell_location\u001b[49m\u001b[38;5;241;43m=\u001b[39;49m\u001b[38;5;124;43m'\u001b[39;49m\u001b[38;5;124;43mbottom\u001b[39;49m\u001b[38;5;124;43m'\u001b[39;49m\u001b[43m,\u001b[49m\u001b[43m \u001b[49m\u001b[43mflow_rate\u001b[49m\u001b[43m \u001b[49m\u001b[38;5;241;43m=\u001b[39;49m\u001b[43m \u001b[49m\u001b[38;5;241;43m200\u001b[39;49m\u001b[43m)\u001b[49m\n\u001b[0;32m     32\u001b[0m openapi\u001b[38;5;241m.\u001b[39maspirate(openapi\u001b[38;5;241m.\u001b[39mlabware_dct[\u001b[38;5;124m'\u001b[39m\u001b[38;5;124m3\u001b[39m\u001b[38;5;124m'\u001b[39m], \u001b[38;5;124m\"\u001b[39m\u001b[38;5;124mA1\u001b[39m\u001b[38;5;124m\"\u001b[39m, well_location\u001b[38;5;241m=\u001b[39m\u001b[38;5;124m'\u001b[39m\u001b[38;5;124mbottom\u001b[39m\u001b[38;5;124m'\u001b[39m, volume \u001b[38;5;241m=\u001b[39m \u001b[38;5;241m10\u001b[39m, flow_rate \u001b[38;5;241m=\u001b[39m \u001b[38;5;241m200\u001b[39m)\n\u001b[0;32m     33\u001b[0m openapi\u001b[38;5;241m.\u001b[39mdispense_in_place(flow_rate \u001b[38;5;241m=\u001b[39m \u001b[38;5;241m200\u001b[39m, volume \u001b[38;5;241m=\u001b[39m \u001b[38;5;241m10\u001b[39m)  \n",
      "File \u001b[1;32mc:\\Users\\ivand\\Desktop\\ot2-microtissue-manipulator\\opentrons_api\\ot2_api.py:25\u001b[0m, in \u001b[0;36mDecorators.require_ids.<locals>.decorator.<locals>.wrapper\u001b[1;34m(self, *args, **kwargs)\u001b[0m\n\u001b[0;32m     23\u001b[0m     \u001b[38;5;28;01mif\u001b[39;00m \u001b[38;5;129;01mnot\u001b[39;00m \u001b[38;5;28mgetattr\u001b[39m(\u001b[38;5;28mself\u001b[39m, id_name, \u001b[38;5;28;01mNone\u001b[39;00m):\n\u001b[0;32m     24\u001b[0m         \u001b[38;5;28;01mraise\u001b[39;00m \u001b[38;5;167;01mValueError\u001b[39;00m(\u001b[38;5;124mf\u001b[39m\u001b[38;5;124m\"\u001b[39m\u001b[38;5;132;01m{\u001b[39;00mid_name\u001b[38;5;132;01m}\u001b[39;00m\u001b[38;5;124m is not set. Set it before executing commands.\u001b[39m\u001b[38;5;124m\"\u001b[39m)\n\u001b[1;32m---> 25\u001b[0m \u001b[38;5;28;01mreturn\u001b[39;00m \u001b[43mfunc\u001b[49m\u001b[43m(\u001b[49m\u001b[38;5;28;43mself\u001b[39;49m\u001b[43m,\u001b[49m\u001b[43m \u001b[49m\u001b[38;5;241;43m*\u001b[39;49m\u001b[43margs\u001b[49m\u001b[43m,\u001b[49m\u001b[43m \u001b[49m\u001b[38;5;241;43m*\u001b[39;49m\u001b[38;5;241;43m*\u001b[39;49m\u001b[43mkwargs\u001b[49m\u001b[43m)\u001b[49m\n",
      "File \u001b[1;32mc:\\Users\\ivand\\Desktop\\ot2-microtissue-manipulator\\opentrons_api\\ot2_api.py:829\u001b[0m, in \u001b[0;36mOpentronsAPI.blow_out\u001b[1;34m(self, labware_id, well_name, well_location, flow_rate)\u001b[0m\n\u001b[0;32m    814\u001b[0m command_dict \u001b[38;5;241m=\u001b[39m {\n\u001b[0;32m    815\u001b[0m             \u001b[38;5;124m\"\u001b[39m\u001b[38;5;124mdata\u001b[39m\u001b[38;5;124m\"\u001b[39m: {\n\u001b[0;32m    816\u001b[0m                 \u001b[38;5;124m\"\u001b[39m\u001b[38;5;124mcommandType\u001b[39m\u001b[38;5;124m\"\u001b[39m: \u001b[38;5;124m\"\u001b[39m\u001b[38;5;124mblowout\u001b[39m\u001b[38;5;124m\"\u001b[39m,\n\u001b[1;32m   (...)\u001b[0m\n\u001b[0;32m    825\u001b[0m             }\n\u001b[0;32m    826\u001b[0m         }\n\u001b[0;32m    828\u001b[0m command_payload \u001b[38;5;241m=\u001b[39m json\u001b[38;5;241m.\u001b[39mdumps(command_dict)\n\u001b[1;32m--> 829\u001b[0m r \u001b[38;5;241m=\u001b[39m \u001b[38;5;28;43mself\u001b[39;49m\u001b[38;5;241;43m.\u001b[39;49m\u001b[43mpost\u001b[49m\u001b[43m(\u001b[49m\u001b[38;5;124;43m\"\u001b[39;49m\u001b[38;5;124;43mcommands\u001b[39;49m\u001b[38;5;124;43m\"\u001b[39;49m\u001b[43m,\u001b[49m\u001b[43m \u001b[49m\u001b[43mheaders\u001b[49m\u001b[43m \u001b[49m\u001b[38;5;241;43m=\u001b[39;49m\u001b[43m \u001b[49m\u001b[38;5;28;43mself\u001b[39;49m\u001b[38;5;241;43m.\u001b[39;49m\u001b[43mHEADERS\u001b[49m\u001b[43m,\u001b[49m\n\u001b[0;32m    830\u001b[0m \u001b[43m            \u001b[49m\u001b[43mparams\u001b[49m\u001b[38;5;241;43m=\u001b[39;49m\u001b[43m{\u001b[49m\u001b[38;5;124;43m\"\u001b[39;49m\u001b[38;5;124;43mwaitUntilComplete\u001b[39;49m\u001b[38;5;124;43m\"\u001b[39;49m\u001b[43m:\u001b[49m\u001b[43m \u001b[49m\u001b[38;5;28;43;01mTrue\u001b[39;49;00m\u001b[43m}\u001b[49m\u001b[43m,\u001b[49m\u001b[43m \u001b[49m\u001b[43mdata\u001b[49m\u001b[43m \u001b[49m\u001b[38;5;241;43m=\u001b[39;49m\u001b[43m \u001b[49m\u001b[43mcommand_payload\u001b[49m\u001b[43m)\u001b[49m\n\u001b[0;32m    832\u001b[0m \u001b[38;5;28;01mreturn\u001b[39;00m r\n",
      "File \u001b[1;32mc:\\Users\\ivand\\Desktop\\ot2-microtissue-manipulator\\opentrons_api\\ot2_api.py:13\u001b[0m, in \u001b[0;36mDecorators.check_error.<locals>.wrapper\u001b[1;34m(self, *args, **kwargs)\u001b[0m\n\u001b[0;32m     11\u001b[0m r \u001b[38;5;241m=\u001b[39m func(\u001b[38;5;28mself\u001b[39m, \u001b[38;5;241m*\u001b[39margs, \u001b[38;5;241m*\u001b[39m\u001b[38;5;241m*\u001b[39mkwargs)\n\u001b[0;32m     12\u001b[0m \u001b[38;5;28;01mif\u001b[39;00m r\u001b[38;5;241m.\u001b[39mstatus_code \u001b[38;5;129;01mnot\u001b[39;00m \u001b[38;5;129;01min\u001b[39;00m \u001b[38;5;28mrange\u001b[39m(\u001b[38;5;241m200\u001b[39m, \u001b[38;5;241m300\u001b[39m):\n\u001b[1;32m---> 13\u001b[0m     \u001b[38;5;28;01mraise\u001b[39;00m \u001b[38;5;167;01mException\u001b[39;00m(r\u001b[38;5;241m.\u001b[39mtext)\n\u001b[0;32m     14\u001b[0m \u001b[38;5;28;01mreturn\u001b[39;00m r\n",
      "\u001b[1;31mException\u001b[0m: {\"errors\":[{\"id\":\"InvalidRequest\",\"title\":\"Invalid Request\",\"detail\":\"none is not an allowed value\",\"source\":{\"pointer\":\"/data/BlowOutCreate/params/labwareId\"},\"errorCode\":\"4000\"}]}"
     ]
    }
   ],
   "source": [
    "\n",
    "for k in range(1):\n",
    "    i = 0\n",
    "    while i < 1:\n",
    "        openapi.move_to_coordinates((X + i*3, Y - k*3, dish_bottom + pickup_offset), min_z_height=1)\n",
    "        time.sleep(1)\n",
    "        openapi.move_relative('z', -pickup_offset)\n",
    "        time.sleep(1)\n",
    "        r = openapi.aspirate_in_place(flow_rate = 200, volume = 100, verbose=True)\n",
    "        responce_dict = json.loads(r.text)['data']\n",
    "\n",
    "        for _ in range(3):\n",
    "            openapi.move_relative('z', 0.2)\n",
    "            time.sleep(0.2)\n",
    "            openapi.move_relative('z', -0.2)\n",
    "            time.sleep(0.2)\n",
    "\n",
    "        if responce_dict['status'] == 'failed':\n",
    "            if responce_dict['error']['errorType'] == 'InvalidAspirateVolumeError':\n",
    "                print('Dumping fluid')\n",
    "                openapi.move_relative('z', 50)\n",
    "                openapi.blow_out(openapi.labware_dct['3'], \"A1\", well_location='bottom', flow_rate = 200)\n",
    "                openapi.aspirate(openapi.labware_dct['3'], \"A1\", well_location='bottom', volume = 10, flow_rate = 200)\n",
    "                openapi.dispense_in_place(flow_rate = 200, volume = 10)\n",
    "                continue\n",
    "        else:\n",
    "            for j in range(24):\n",
    "                openapi.move_relative('z', 0.25)\n",
    "                time.sleep(0.3)\n",
    "            i += 1\n",
    "    openapi.move_relative('z', 50)\n",
    "    openapi.blow_out(openapi.labware_dct['3'], \"A1\", well_location='bottom', flow_rate = 200)\n",
    "    openapi.aspirate(openapi.labware_dct['3'], \"A1\", well_location='bottom', volume = 10, flow_rate = 200)\n",
    "    openapi.dispense_in_place(flow_rate = 200, volume = 10)  \n",
    "    openapi.move_relative('z', 50)\n",
    "    "
   ]
  },
  {
   "cell_type": "code",
   "execution_count": 17,
   "metadata": {},
   "outputs": [
    {
     "data": {
      "text/plain": [
       "<Response [201]>"
      ]
     },
     "execution_count": 17,
     "metadata": {},
     "output_type": "execute_result"
    }
   ],
   "source": [
    "openapi.move_relative('x', -10)"
   ]
  },
  {
   "cell_type": "code",
   "execution_count": null,
   "metadata": {},
   "outputs": [],
   "source": [
    "r = openapi.move_to_well(openapi.labware_dct['6'], 'A1', well_location='top', offset=(0,0,5), verbose=False, force_direct=True)"
   ]
  },
  {
   "cell_type": "code",
   "execution_count": null,
   "metadata": {},
   "outputs": [],
   "source": [
    "r = openapi.aspirate(openapi.labware_dct['6'], \"A1\", well_location ='bottom', volume = 10, flow_rate = 200)"
   ]
  },
  {
   "cell_type": "code",
   "execution_count": null,
   "metadata": {},
   "outputs": [
    {
     "data": {
      "text/plain": [
       "{'data': {'id': '3ac6c403-d6b9-489c-8ac2-9ad7f0da571c',\n",
       "  'createdAt': '2025-01-27T14:53:03.930897+00:00',\n",
       "  'commandType': 'aspirate',\n",
       "  'key': '3ac6c403-d6b9-489c-8ac2-9ad7f0da571c',\n",
       "  'status': 'succeeded',\n",
       "  'params': {'labwareId': 'c173eec9-1850-43cf-953e-6b4a1b081714',\n",
       "   'wellName': 'A1',\n",
       "   'wellLocation': {'origin': 'center',\n",
       "    'offset': {'x': 0.0, 'y': 0.0, 'z': 0.0},\n",
       "    'volumeOffset': 0.0},\n",
       "   'flowRate': 200.0,\n",
       "   'volume': 10.0,\n",
       "   'pipetteId': '36cc037f-311f-49b0-a242-cccbb976be0f'},\n",
       "  'result': {'position': {'x': 277.12, 'y': 166.99, 'z': 8.504999999999999},\n",
       "   'volume': 10.0},\n",
       "  'startedAt': '2025-01-27T14:53:03.933027+00:00',\n",
       "  'completedAt': '2025-01-27T14:53:08.047486+00:00',\n",
       "  'intent': 'setup',\n",
       "  'notes': []}}"
      ]
     },
     "execution_count": 27,
     "metadata": {},
     "output_type": "execute_result"
    }
   ],
   "source": [
    "json.loads(r.text)"
   ]
  },
  {
   "cell_type": "code",
   "execution_count": null,
   "metadata": {},
   "outputs": [
    {
     "name": "stdout",
     "output_type": "stream",
     "text": [
      "Request status:\n",
      "<Response [201]>\n",
      "{\n",
      "  \"data\": {\n",
      "    \"id\": \"5875e4d9-520c-4988-a692-3a5a81355796\",\n",
      "    \"createdAt\": \"2025-01-26T16:33:03.561882+00:00\",\n",
      "    \"commandType\": \"moveToCoordinates\",\n",
      "    \"key\": \"5875e4d9-520c-4988-a692-3a5a81355796\",\n",
      "    \"status\": \"succeeded\",\n",
      "    \"params\": {\n",
      "      \"minimumZHeight\": 10.6,\n",
      "      \"forceDirect\": false,\n",
      "      \"pipetteId\": \"9c7e4532-57e2-4cdf-bba7-261ce145309e\",\n",
      "      \"coordinates\": {\n",
      "        \"x\": 201.1511350759473,\n",
      "        \"y\": 124.81586979992255,\n",
      "        \"z\": 13.8\n",
      "      }\n",
      "    },\n",
      "    \"result\": {\n",
      "      \"position\": {\n",
      "        \"x\": 201.1511350759473,\n",
      "        \"y\": 124.81586979992255,\n",
      "        \"z\": 13.8\n",
      "      }\n",
      "    },\n",
      "    \"startedAt\": \"2025-01-26T16:33:03.564039+00:00\",\n",
      "    \"completedAt\": \"2025-01-26T16:33:05.139211+00:00\",\n",
      "    \"intent\": \"setup\",\n",
      "    \"notes\": []\n",
      "  }\n",
      "}\n",
      "Request status:\n",
      "<Response [201]>\n",
      "{\n",
      "  \"data\": {\n",
      "    \"id\": \"596eada9-f1be-457d-bfb4-aeb1eccfc469\",\n",
      "    \"createdAt\": \"2025-01-26T16:33:06.337466+00:00\",\n",
      "    \"commandType\": \"aspirateInPlace\",\n",
      "    \"key\": \"596eada9-f1be-457d-bfb4-aeb1eccfc469\",\n",
      "    \"status\": \"succeeded\",\n",
      "    \"params\": {\n",
      "      \"flowRate\": 300.0,\n",
      "      \"volume\": 10.0,\n",
      "      \"pipetteId\": \"9c7e4532-57e2-4cdf-bba7-261ce145309e\"\n",
      "    },\n",
      "    \"result\": {\n",
      "      \"volume\": 10.0\n",
      "    },\n",
      "    \"startedAt\": \"2025-01-26T16:33:06.339652+00:00\",\n",
      "    \"completedAt\": \"2025-01-26T16:33:06.777883+00:00\",\n",
      "    \"intent\": \"setup\",\n",
      "    \"notes\": []\n",
      "  }\n",
      "}\n",
      "Request status:\n",
      "<Response [201]>\n",
      "{\n",
      "  \"data\": {\n",
      "    \"id\": \"1d0e6271-5ac1-44f4-987f-a0fc730216e0\",\n",
      "    \"createdAt\": \"2025-01-26T16:33:07.275933+00:00\",\n",
      "    \"commandType\": \"aspirateInPlace\",\n",
      "    \"key\": \"1d0e6271-5ac1-44f4-987f-a0fc730216e0\",\n",
      "    \"status\": \"succeeded\",\n",
      "    \"params\": {\n",
      "      \"flowRate\": 300.0,\n",
      "      \"volume\": 10.0,\n",
      "      \"pipetteId\": \"9c7e4532-57e2-4cdf-bba7-261ce145309e\"\n",
      "    },\n",
      "    \"result\": {\n",
      "      \"volume\": 10.0\n",
      "    },\n",
      "    \"startedAt\": \"2025-01-26T16:33:07.278058+00:00\",\n",
      "    \"completedAt\": \"2025-01-26T16:33:07.717936+00:00\",\n",
      "    \"intent\": \"setup\",\n",
      "    \"notes\": []\n",
      "  }\n",
      "}\n",
      "Request status:\n",
      "<Response [201]>\n",
      "{\n",
      "  \"data\": {\n",
      "    \"id\": \"cf873ede-5b0b-45eb-bb85-24f75a49d6fd\",\n",
      "    \"createdAt\": \"2025-01-26T16:33:08.225460+00:00\",\n",
      "    \"commandType\": \"aspirateInPlace\",\n",
      "    \"key\": \"cf873ede-5b0b-45eb-bb85-24f75a49d6fd\",\n",
      "    \"status\": \"succeeded\",\n",
      "    \"params\": {\n",
      "      \"flowRate\": 300.0,\n",
      "      \"volume\": 10.0,\n",
      "      \"pipetteId\": \"9c7e4532-57e2-4cdf-bba7-261ce145309e\"\n",
      "    },\n",
      "    \"result\": {\n",
      "      \"volume\": 10.0\n",
      "    },\n",
      "    \"startedAt\": \"2025-01-26T16:33:08.227626+00:00\",\n",
      "    \"completedAt\": \"2025-01-26T16:33:08.667919+00:00\",\n",
      "    \"intent\": \"setup\",\n",
      "    \"notes\": []\n",
      "  }\n",
      "}\n",
      "Request status:\n",
      "<Response [201]>\n",
      "{\n",
      "  \"data\": {\n",
      "    \"id\": \"2224be08-01c3-4276-85d9-97977d830054\",\n",
      "    \"createdAt\": \"2025-01-26T16:33:09.178039+00:00\",\n",
      "    \"commandType\": \"aspirateInPlace\",\n",
      "    \"key\": \"2224be08-01c3-4276-85d9-97977d830054\",\n",
      "    \"status\": \"succeeded\",\n",
      "    \"params\": {\n",
      "      \"flowRate\": 300.0,\n",
      "      \"volume\": 10.0,\n",
      "      \"pipetteId\": \"9c7e4532-57e2-4cdf-bba7-261ce145309e\"\n",
      "    },\n",
      "    \"result\": {\n",
      "      \"volume\": 10.0\n",
      "    },\n",
      "    \"startedAt\": \"2025-01-26T16:33:09.180207+00:00\",\n",
      "    \"completedAt\": \"2025-01-26T16:33:09.600714+00:00\",\n",
      "    \"intent\": \"setup\",\n",
      "    \"notes\": []\n",
      "  }\n",
      "}\n",
      "Request status:\n",
      "<Response [201]>\n",
      "{\n",
      "  \"data\": {\n",
      "    \"id\": \"58d6a7f8-d3d0-4df7-9f31-a4f74c2dceed\",\n",
      "    \"createdAt\": \"2025-01-26T16:33:10.098081+00:00\",\n",
      "    \"commandType\": \"aspirateInPlace\",\n",
      "    \"key\": \"58d6a7f8-d3d0-4df7-9f31-a4f74c2dceed\",\n",
      "    \"status\": \"succeeded\",\n",
      "    \"params\": {\n",
      "      \"flowRate\": 300.0,\n",
      "      \"volume\": 10.0,\n",
      "      \"pipetteId\": \"9c7e4532-57e2-4cdf-bba7-261ce145309e\"\n",
      "    },\n",
      "    \"result\": {\n",
      "      \"volume\": 10.0\n",
      "    },\n",
      "    \"startedAt\": \"2025-01-26T16:33:10.100135+00:00\",\n",
      "    \"completedAt\": \"2025-01-26T16:33:10.526779+00:00\",\n",
      "    \"intent\": \"setup\",\n",
      "    \"notes\": []\n",
      "  }\n",
      "}\n",
      "Request status:\n",
      "<Response [201]>\n",
      "{\n",
      "  \"data\": {\n",
      "    \"id\": \"f2454fab-5659-46b6-99e7-7f4763effa5e\",\n",
      "    \"createdAt\": \"2025-01-26T16:33:11.030187+00:00\",\n",
      "    \"commandType\": \"aspirateInPlace\",\n",
      "    \"key\": \"f2454fab-5659-46b6-99e7-7f4763effa5e\",\n",
      "    \"status\": \"succeeded\",\n",
      "    \"params\": {\n",
      "      \"flowRate\": 300.0,\n",
      "      \"volume\": 10.0,\n",
      "      \"pipetteId\": \"9c7e4532-57e2-4cdf-bba7-261ce145309e\"\n",
      "    },\n",
      "    \"result\": {\n",
      "      \"volume\": 10.0\n",
      "    },\n",
      "    \"startedAt\": \"2025-01-26T16:33:11.032670+00:00\",\n",
      "    \"completedAt\": \"2025-01-26T16:33:11.462759+00:00\",\n",
      "    \"intent\": \"setup\",\n",
      "    \"notes\": []\n",
      "  }\n",
      "}\n"
     ]
    }
   ],
   "source": [
    "for k in range(1):\n",
    "    i = 0\n",
    "    while i < 1:\n",
    "        openapi.move_to_coordinates((X + i*3, Y - k*3, dish_bottom + pickup_offset + 3 - 0.2), min_z_height=dish_bottom)\n",
    "        time.sleep(1)\n",
    "        for j in range(6):\n",
    "            openapi.move_relative('z', -0.5)\n",
    "            r = openapi.aspirate_in_place(flow_rate = flow_rate, volume = 10, verbose=True)\n",
    "            time.sleep(0.3)\n",
    "\n",
    "        # responce_dict = json.loads(r.text)['data']\n",
    "        # if responce_dict['status'] == 'failed':\n",
    "        #     if responce_dict['error']['errorType'] == 'InvalidAspirateVolumeError':\n",
    "        #         print('Dumping fluid')\n",
    "        #         openapi.move_relative('z', 50)\n",
    "        #         openapi.blow_out(openapi.labware_dct['3'], \"A1\", well_location='center', flow_rate = 200)\n",
    "        #         openapi.aspirate(openapi.labware_dct['3'], \"A1\", well_location='center', volume = 10, flow_rate = 200)\n",
    "        #         openapi.dispense_in_place(flow_rate = 200, volume = 10)\n",
    "        #         continue\n",
    "        # else:\n",
    "        #     for j in range(6):\n",
    "        #         openapi.move_relative('z', 0.5)\n",
    "        #         time.sleep(0.3)\n",
    "            i += 1\n",
    "    openapi.move_relative('z', 50)\n",
    "    openapi.blow_out(openapi.labware_dct['3'], \"A1\", well_location='center', flow_rate = 200)\n",
    "    openapi.aspirate(openapi.labware_dct['3'], \"A1\", well_location='center', volume = 10, flow_rate = 200)\n",
    "    openapi.dispense_in_place(flow_rate = 200, volume = 10) "
   ]
  },
  {
   "cell_type": "code",
   "execution_count": null,
   "metadata": {},
   "outputs": [
    {
     "data": {
      "text/plain": [
       "<Response [201]>"
      ]
     },
     "execution_count": 31,
     "metadata": {},
     "output_type": "execute_result"
    }
   ],
   "source": [
    "openapi.blow_out(openapi.labware_dct['3'], \"A1\", well_location='top', flow_rate = 200)\n",
    "openapi.aspirate(openapi.labware_dct['3'], \"A1\", well_location='bottom', volume = 10, flow_rate = 200)\n",
    "openapi.dispense_in_place(flow_rate = 200, volume = 10)\n",
    "openapi.move_relative('z', 50)"
   ]
  },
  {
   "cell_type": "code",
   "execution_count": null,
   "metadata": {},
   "outputs": [
    {
     "data": {
      "text/plain": [
       "<Response [201]>"
      ]
     },
     "execution_count": 44,
     "metadata": {},
     "output_type": "execute_result"
    }
   ],
   "source": [
    "openapi.move_relative('z', 50)\n",
    "openapi.blow_out(openapi.labware_dct['3'], \"A1\", well_location='center', flow_rate = 200)\n",
    "openapi.aspirate(openapi.labware_dct['3'], \"A1\", well_location='center', volume = 10, flow_rate = 200)\n",
    "openapi.dispense_in_place(flow_rate = 200, volume = 10)"
   ]
  },
  {
   "cell_type": "code",
   "execution_count": null,
   "metadata": {},
   "outputs": [
    {
     "data": {
      "text/plain": [
       "<Response [201]>"
      ]
     },
     "execution_count": 30,
     "metadata": {},
     "output_type": "execute_result"
    }
   ],
   "source": [
    "openapi.move_relative('z', 50)"
   ]
  },
  {
   "cell_type": "code",
   "execution_count": null,
   "metadata": {},
   "outputs": [
    {
     "data": {
      "text/plain": [
       "<Response [201]>"
      ]
     },
     "execution_count": 23,
     "metadata": {},
     "output_type": "execute_result"
    }
   ],
   "source": [
    "openapi.blow_out(openapi.labware_dct['3'], \"A1\", well_location='center', flow_rate = 50)"
   ]
  },
  {
   "cell_type": "code",
   "execution_count": null,
   "metadata": {},
   "outputs": [
    {
     "data": {
      "text/plain": [
       "<Response [201]>"
      ]
     },
     "execution_count": 24,
     "metadata": {},
     "output_type": "execute_result"
    }
   ],
   "source": [
    "openapi.aspirate(openapi.labware_dct['3'], \"A1\", well_location='bottom', volume = 10, flow_rate = 200)"
   ]
  },
  {
   "cell_type": "code",
   "execution_count": null,
   "metadata": {},
   "outputs": [
    {
     "data": {
      "text/plain": [
       "<Response [201]>"
      ]
     },
     "execution_count": 78,
     "metadata": {},
     "output_type": "execute_result"
    }
   ],
   "source": [
    "openapi.dispense(openapi.labware_dct['3'], \"A1\", well_location='bottom', volume = 200, flow_rate = 200)"
   ]
  },
  {
   "cell_type": "markdown",
   "metadata": {},
   "source": [
    "# Hydrogel core detection"
   ]
  },
  {
   "cell_type": "code",
   "execution_count": 63,
   "metadata": {},
   "outputs": [],
   "source": [
    "calibration_profile = 'standardDeck'\n",
    "calibration_data = utils.load_calibration_config(calibration_profile)\n",
    "\n",
    "tf_mtx = np.array(calibration_data['tf_mtx'])\n",
    "calib_origin = np.array(calibration_data['calib_origin'])[:2]\n",
    "offset = np.array(calibration_data['offset'])\n",
    "\n",
    "def on_mouse_click(event, x, y, flags, param):\n",
    "    global circle_center, circle_radius\n",
    "\n",
    "    if event == cv2.EVENT_RBUTTONDOWN:\n",
    "        x, y, _ = openapi.get_position(verbose=False)[0].values()\n",
    "        openapi.move_to_coordinates((calib_origin[0],calib_origin[1],100), min_z_height=1, verbose=False)\n",
    "\n",
    "    if event == cv2.EVENT_MBUTTONDOWN:\n",
    "        circle_center = (x, y)\n",
    "\n",
    "    if event == cv2.EVENT_MOUSEWHEEL:\n",
    "        if flags > 0:\n",
    "            circle_radius += 10\n",
    "        else:\n",
    "            circle_radius -= 10\n",
    "\n",
    "# Create an instance of the ManualRobotMovement class\n",
    "manual_movement = utils.ManualRobotMovement(openapi)\n",
    "\n",
    "window = cap.get_window()\n",
    "cv2.setMouseCallback(cap.window_name, on_mouse_click)\n",
    "\n",
    "target_x, target_y = 0, 0\n",
    "\n",
    "dish_bottom = 9.4# - 11.5\n",
    "pickup_offset = 0 #0.6\n",
    "flow_rate = 300\n",
    "volume = 50\n",
    "\n",
    "while True:\n",
    "    frame = cap.get_frame(undist=True)\n",
    "    x, y, z = openapi.get_position(verbose=False)[0].values()\n",
    "    (text_width, text_height), _ = cv2.getTextSize(f\"Robot coords: ({x:.2f}, {y:.2f}, {z:.2f})\", cv2.FONT_HERSHEY_SIMPLEX, 1, 2)\n",
    "    cv2.rectangle(frame, (10, 0), (10 + text_width, text_height + 190), (0, 0, 0), -1)\n",
    "    cv2.putText(frame, f\"Robot coords: ({x:.2f}, {y:.2f}, {z:.2f})\", (10, 30), cv2.FONT_HERSHEY_SIMPLEX, 1, (0, 255, 0), 2)\n",
    "    cv2.putText(frame, f\"Step size: {manual_movement.step} mm\", (10, 70), cv2.FONT_HERSHEY_SIMPLEX, 1, (0, 255, 0), 2)\n",
    "    cv2.putText(frame, f\"Flow rate: {flow_rate} uL/s\", (10, 110), cv2.FONT_HERSHEY_SIMPLEX, 1, (0, 255, 0), 2)\n",
    "    cv2.putText(frame, f\"Volume: {volume} uL\", (10, 150), cv2.FONT_HERSHEY_SIMPLEX, 1, (0, 255, 0), 2)\n",
    "    cv2.putText(frame, f\"Pickup height: {dish_bottom + pickup_offset} mm\", (10, 190), cv2.FONT_HERSHEY_SIMPLEX, 1, (0, 255, 0), 2)\n",
    "\n",
    "    # masked_frame = cv2.bitwise_and(frame, mask)\n",
    "\n",
    "    center_screen_x = frame.shape[1] // 2\n",
    "    center_screen_y = frame.shape[0] // 2\n",
    "    cv2.circle(frame, (target_x, target_y), 3, (0, 0, 255), -1)\n",
    "\n",
    "    gray_img = cv2.cvtColor(frame, cv2.COLOR_BGR2GRAY)\n",
    "    mask = np.zeros_like(gray_img, dtype=np.uint8)\n",
    "    cv2.circle(mask, circle_center, circle_radius, (255, 255, 255), -1)\n",
    "    gray_img = cv2.GaussianBlur(gray_img, (21, 21), 0)\n",
    "    clahe = cv2.createCLAHE(clipLimit=2.0, tileGridSize=(8, 8))\n",
    "    clahe_img = clahe.apply(gray_img)\n",
    "    thresh_img = cv2.adaptiveThreshold(clahe_img, 255, cv2.ADAPTIVE_THRESH_MEAN_C, cv2.THRESH_BINARY_INV, 65, 9)\n",
    "    kernel = np.ones((7, 7), np.uint8)\n",
    "    opening = cv2.morphologyEx(thresh_img, cv2.MORPH_OPEN, kernel)\n",
    "    masked_opening = cv2.bitwise_and(opening, mask)\n",
    "    contours, _ = cv2.findContours(masked_opening, cv2.RETR_EXTERNAL, cv2.CHAIN_APPROX_SIMPLE)\n",
    "    min_contour_area = 500\n",
    "    max_contour_area = 5000\n",
    "\n",
    "    circular_contours = []\n",
    "    for contour in contours:\n",
    "        perimeter = cv2.arcLength(contour, True)\n",
    "        area = cv2.contourArea(contour)\n",
    "        if perimeter == 0 or area < min_contour_area or area > max_contour_area:\n",
    "            continue\n",
    "        circularity = 4 * np.pi * (area / (perimeter * perimeter))\n",
    "        if 0.7 < circularity < 1.3:  # Adjust the range as needed\n",
    "            circular_contours.append(contour)\n",
    "\n",
    "    contours = circular_contours\n",
    "\n",
    "    contour_centers = []\n",
    "    for contour in contours:\n",
    "        M = cv2.moments(contour)\n",
    "        if M[\"m00\"] != 0:\n",
    "            cX = int(M[\"m10\"] / M[\"m00\"])\n",
    "            cY = int(M[\"m01\"] / M[\"m00\"])\n",
    "            contour_centers.append((cX, cY))\n",
    "        else:\n",
    "            contour_centers.append((0, 0))\n",
    "\n",
    "    contour_img = frame.copy()\n",
    "    cv2.circle(contour_img, circle_center, circle_radius, (255, 0, 0), 2)\n",
    "    cv2.drawContours(contour_img, contours, -1, (0, 255, 0), 2)\n",
    "    # Draw contour centers on the image\n",
    "    for center in contour_centers:\n",
    "        cv2.circle(contour_img, center, 5, (255, 0, 0), -1)\n",
    "    \n",
    "    cv2.imshow(cap.window_name, contour_img)\n",
    "    # Draw a point at the center of the screen\n",
    "    key_pressed = cv2.waitKey(1)\n",
    "\n",
    "    if key_pressed == ord('q'):\n",
    "        keyboard.unhook_all()\n",
    "        break\n",
    "\n",
    "    elif key_pressed == ord('s'):\n",
    "        timestamp = datetime.datetime.now().strftime('%Y_%m_%d_%H-%M-%S')\n",
    "        filename = f\"frame_{timestamp}.png\"\n",
    "        cv2.imwrite(str(paths.BASE_DIR)+'\\\\outputs\\\\images\\\\'+filename, frame)\n",
    "        print(f\"Frame saved as {filename}\")\n",
    "\n",
    "\n",
    "cv2.destroyAllWindows()"
   ]
  },
  {
   "cell_type": "code",
   "execution_count": 64,
   "metadata": {},
   "outputs": [],
   "source": [
    "converted_contour_centers = []\n",
    "x, y, _ = openapi.get_position(verbose=False)[0].values()\n",
    "for center in contour_centers:\n",
    "    cX, cY = center\n",
    "    X_init, Y_init, _ = tf_mtx @ (cX, cY, 1)\n",
    "    diff = np.array([x,y]) - np.array(calibration_data['calib_origin'])[:2]\n",
    "    X = X_init + diff[0] + offset[0]\n",
    "    Y = Y_init + diff[1] + offset[1]\n",
    "    converted_contour_centers.append((X, Y))"
   ]
  },
  {
   "cell_type": "code",
   "execution_count": 65,
   "metadata": {},
   "outputs": [
    {
     "data": {
      "text/plain": [
       "25"
      ]
     },
     "execution_count": 65,
     "metadata": {},
     "output_type": "execute_result"
    }
   ],
   "source": [
    "len(converted_contour_centers)"
   ]
  },
  {
   "cell_type": "code",
   "execution_count": 42,
   "metadata": {},
   "outputs": [],
   "source": [
    "for i in range(10):\n",
    "    x, y = converted_contour_centers[i]\n",
    "    openapi.move_to_coordinates((x,y,12), min_z_height=1, verbose=False)\n",
    "    time.sleep(0.1)\n",
    "\n",
    "openapi.move_relative('z', 50)\n",
    "    "
   ]
  },
  {
   "cell_type": "markdown",
   "metadata": {},
   "source": [
    "# Picking procedure (semi-automatic)"
   ]
  },
  {
   "cell_type": "code",
   "execution_count": 5,
   "metadata": {},
   "outputs": [],
   "source": [
    "cr = core.Core()\n",
    "\n",
    "calibration_data = utils.load_calibration_config(calibration_profile)\n",
    "\n",
    "tf_mtx = np.array(calibration_data['tf_mtx'])\n",
    "calib_origin = np.array(calibration_data['calib_origin'])[:2]\n",
    "offset = np.array(calibration_data['offset'])\n",
    "size_conversion_ratio = calibration_data['size_conversion_ratio']\n",
    "one_d_ratio = calibration_data['one_d_ratio']\n",
    "\n",
    "vol = 10\n",
    "dish_bottom = 10 #10.60 for 300ul, 9.5 for 200ul\n",
    "pickup_offset = 0.5\n",
    "pickup_height = dish_bottom + pickup_offset\n",
    "flow_rate = 50\n",
    "cuboid_size_theshold = (300, 450)\n",
    "failure_threshold = 0.5\n",
    "minimum_distance = 1.7\n",
    "\n",
    "window = cap.get_window()\n",
    "\n",
    "def create_well_mapping():\n",
    "    rows = list(\"ABCDEFGHIJKLMNOP\")\n",
    "    columns = list(range(1, 25))\n",
    "    well_mapping = {}\n",
    "\n",
    "    for i in range(384):\n",
    "        row = rows[i // 24]\n",
    "        column = columns[i % 24]\n",
    "        well_mapping[i] = f\"{row}{column}\"\n",
    "\n",
    "    return well_mapping\n",
    "\n",
    "well_mapping = create_well_mapping()\n",
    "\n",
    "def on_mouse_click(event, x, y, flags, param):\n",
    "    global circle_center\n",
    "    global circle_radius\n",
    "    global filtered_contours\n",
    "    global X_init, Y_init\n",
    "\n",
    "    if event == cv2.EVENT_MBUTTONDOWN:\n",
    "        circle_center = (x, y)\n",
    "\n",
    "    if event == cv2.EVENT_MOUSEWHEEL:\n",
    "        if flags > 0:\n",
    "            circle_radius += 10\n",
    "        else:\n",
    "            circle_radius -= 10\n",
    "\n",
    "    if event == cv2.EVENT_LBUTTONDBLCLK:\n",
    "        for contour in filtered_contours:\n",
    "            r=cv2.pointPolygonTest(contour, (x,y), False)\n",
    "            if r>0:\n",
    "                M = cv2.moments(contour)\n",
    "                if M[\"m00\"] != 0:\n",
    "                    cX = int(M[\"m10\"] / M[\"m00\"])\n",
    "                    cY = int(M[\"m01\"] / M[\"m00\"])\n",
    "                    X_init, Y_init, _ = tf_mtx @ (cX, cY, 1)\n",
    "\n",
    "                    x, y, _ = openapi.get_position(verbose=False)[0].values()\n",
    "                    diff = np.array([x,y]) - np.array(calibration_data['calib_origin'])[:2]\n",
    "                    X = X_init + diff[0] + offset[0]\n",
    "                    Y = Y_init + diff[1] + offset[1]\n",
    "                    \n",
    "                    print(f\"Robot coords: ({x}, {y})\")\n",
    "                    print(f\"Clicked on: ({X}, {Y})\")\n",
    "                    openapi.move_to_coordinates((X, Y, 20), min_z_height=1, verbose=False)\n",
    "                    time.sleep(0.1)\n",
    "                    openapi.aspirate_in_place(flow_rate = flow_rate, volume = vol)\n",
    "                    time.sleep(0.1)\n",
    "                    openapi.move_to_coordinates((X, Y, pickup_height), min_z_height=1, verbose=False, force_direct=True)\n",
    "                    time.sleep(1)\n",
    "                    openapi.move_to_coordinates((X, Y, 30), min_z_height=1, verbose=False)\n",
    "                else:\n",
    "                    print(\"Contour center could not be found\")\n",
    "\n",
    "    if event == cv2.EVENT_RBUTTONDOWN:\n",
    "        x, y, _ = openapi.get_position(verbose=False)[0].values()\n",
    "        # openapi.move_to_coordinates((x, y, 100), min_z_height=1)\n",
    "        openapi.move_to_coordinates((calib_origin[0],calib_origin[1],100), min_z_height=1, verbose=False)\n",
    "\n",
    "        \n",
    "\n",
    "cv2.setMouseCallback(cap.window_name, on_mouse_click)\n",
    "circle_center = (int(1296.0), int(972.0))\n",
    "circle_radius = 900\n",
    "manual_movement = utils.ManualRobotMovement(openapi)\n",
    "\n",
    "# Which wells to fill\n",
    "columns = list(range(1,25))\n",
    "#rows = ['F', 'G', 'H', 'I']\n",
    "rows = ['G']\n",
    "\n",
    "wells_to_fill = [f\"{row}{column}\" for row in rows for column in columns]\n",
    "\n",
    "reversed_well_mapping = {v: k for k, v in well_mapping.items()}\n",
    "wells_to_fill_indices = [reversed_well_mapping[well] for well in wells_to_fill]\n",
    "\n",
    "idx = wells_to_fill_indices[0]\n",
    "end_idx = wells_to_fill_indices[-1] + 1\n",
    "\n",
    "cuboid_chosen = False\n",
    "cuboid_choice = None\n",
    "times = []\n",
    "while idx < end_idx:\n",
    "    frame = cap.get_frame(undist=True)\n",
    "    x, y, z = openapi.get_position(verbose=False)[0].values()\n",
    "    (text_width, text_height), _ = cv2.getTextSize(f\"Robot coords: ({x:.2f}, {y:.2f}, {z:.2f})\", cv2.FONT_HERSHEY_SIMPLEX, 1, 2)\n",
    "    cv2.rectangle(frame, (10, 0), (10 + text_width, text_height + 70), (0, 0, 0), -1)\n",
    "    cv2.putText(frame, f\"Robot coords: ({x:.2f}, {y:.2f}, {z:.2f})\", (10, 30), cv2.FONT_HERSHEY_SIMPLEX, 1, (0, 255, 0), 2)\n",
    "    cv2.putText(frame, f\"Step size: {manual_movement.step} mm\", (10, 70), cv2.FONT_HERSHEY_SIMPLEX, 1, (0, 255, 0), 2)\n",
    "\n",
    "    cv2.circle(frame, circle_center, circle_radius + int(minimum_distance / one_d_ratio), (0, 0, 255), 2)\n",
    "    mask = np.zeros_like(frame, dtype=np.uint8)\n",
    "    cv2.circle(mask, circle_center, circle_radius + int(minimum_distance / one_d_ratio), (255, 255, 255), -1)\n",
    "    masked_frame = cv2.bitwise_and(frame, mask)\n",
    "    cv2.circle(frame, circle_center, circle_radius, (0, 255, 0), 2)\n",
    "\n",
    "    gray = cv2.cvtColor(masked_frame, cv2.COLOR_BGR2GRAY)\n",
    "    gray = cv2.GaussianBlur(gray, (11, 11), 0)\n",
    "    thresh = cv2.adaptiveThreshold(gray,255,cv2.ADAPTIVE_THRESH_GAUSSIAN_C,cv2.THRESH_BINARY_INV,25,2) \n",
    "    kernel = np.ones((3,3),np.uint8)\n",
    "    thresh = cv2.morphologyEx(thresh, cv2.MORPH_OPEN, kernel, iterations=1)\n",
    "    mask_inv = cv2.cvtColor(mask, cv2.COLOR_BGR2GRAY)\n",
    "    thresh = cv2.bitwise_and(thresh, mask_inv)\n",
    "\n",
    "    # Find contours in the masked frame\n",
    "    contours, hei = cv2.findContours(thresh, cv2.RETR_TREE, cv2.CHAIN_APPROX_SIMPLE)\n",
    "    cr.cuboids = contours\n",
    "    filtered_contours = [contour for contour in cr.cuboids if 30 < cv2.contourArea(contour) < 700]\n",
    "    cr.cuboid_dataframe(filtered_contours)\n",
    "\n",
    "    cuboid_size_micron2 = cr.cuboid_df.area * size_conversion_ratio * 1000000\n",
    "    cuboid_diameter = 2 * np.sqrt(cuboid_size_micron2 / np.pi)\n",
    "    dist_mm = cr.cuboid_df.min_dist * one_d_ratio\n",
    "    cr.cuboid_df['diameter_microns'] = cuboid_diameter\n",
    "    cr.cuboid_df['min_dist_mm'] = dist_mm\n",
    "    \n",
    "    # Filter out elongated contours\n",
    "\n",
    "    pickable_cuboids = cr.cuboid_df.loc[(cuboid_size_theshold[0] < cr.cuboid_df['diameter_microns']) & \n",
    "                                        (cr.cuboid_df['diameter_microns'] < cuboid_size_theshold[1]) &\n",
    "                                        ((cr.cuboid_df['aspect_ratio'] > 0.75) | (cr.cuboid_df['aspect_ratio'] < 1.25)) &\n",
    "                                        (cr.cuboid_df['circularity'] > 0.6)].copy()\n",
    "\n",
    "    # Check if cuboid centers are within the circle radius from the current circle center\n",
    "    pickable_cuboids['distance_to_center'] = pickable_cuboids.apply(\n",
    "        lambda row: np.sqrt((row['cX'] - circle_center[0])**2 + (row['cY'] - circle_center[1])**2), axis=1\n",
    "    )\n",
    "    pickable_cuboids = pickable_cuboids[pickable_cuboids['distance_to_center'] <= circle_radius]\n",
    "    isolated = pickable_cuboids.loc[pickable_cuboids.min_dist_mm > minimum_distance]\n",
    "    draw = isolated.contour.values.tolist()\n",
    "    cv2.drawContours(frame, filtered_contours, -1, (0, 0, 255), 2)\n",
    "    cv2.drawContours(frame, pickable_cuboids.contour.values.tolist(), -1, (0, 255, 255), 2)\n",
    "    cv2.drawContours(frame, draw, -1, (0, 255, 0), 2)\n",
    "\n",
    "    if not cuboid_chosen and len(isolated) > 0:\n",
    "        if cuboid_choice is not None:\n",
    "            prev_x, prev_y = cuboid_choice[['cX', 'cY']].values[0]\n",
    "            \n",
    "            cv2.circle(frame, (int(prev_x), int(prev_y)), int(round(failure_threshold / one_d_ratio)), (255, 0, 0), 2)\n",
    "            distances = cr.cuboid_df.apply(lambda row: np.sqrt((row['cX'] - prev_x)**2 + (row['cY'] - prev_y)**2), axis=1).to_numpy()\n",
    "            distances *= one_d_ratio\n",
    "            if any(distances <= failure_threshold):\n",
    "                print(\"Miss detected ...\")\n",
    "                idx -= 1\n",
    "\n",
    "        cuboid_choice = isolated.sample(n=1)\n",
    "        cuboid_chosen = True\n",
    "        # cv2.imwrite(str(paths.BASE_DIR)+'\\\\outputs\\\\images\\\\'+f\"frame_{idx}.png\", frame)\n",
    "        \n",
    "\n",
    "    # for i, row in cr.cuboid_df.iterrows():\n",
    "    #     cX, cY = int(row['cX']), int(row['cY'])\n",
    "    #     aspect_ratio = row['aspect_ratio']\n",
    "    #     circularity = row['circularity']\n",
    "    #     cv2.putText(frame, f\"{aspect_ratio:.2f}, {circularity:.2f}\", (cX+20, cY), cv2.FONT_HERSHEY_SIMPLEX, 0.75, (255, 255, 255), 2)\n",
    "\n",
    "    if cuboid_chosen:    \n",
    "        cv2.drawContours(frame, cuboid_choice.contour.values.tolist(), -1, (255, 0, 0), 2)\n",
    "\n",
    "    cv2.imshow(cap.window_name, frame)\n",
    "\n",
    "    #-----------------------------------------------INTERACTION------------------------------------------------\n",
    "    key_pressed = cv2.waitKey(1)\n",
    "\n",
    "    if key_pressed == ord('q'):\n",
    "        break\n",
    "\n",
    "    elif key_pressed == ord('m'):\n",
    "        start_time = time.time()\n",
    "        print(len(isolated))\n",
    "        if len(isolated) > 2:\n",
    "            chosen = isolated.sample(n=2)\n",
    "        else:\n",
    "            chosen = isolated.copy()\n",
    "\n",
    "        x, y, _ = openapi.get_position(verbose=False)[0].values()\n",
    "        for i in range(len(chosen)):\n",
    "            cX, cY = chosen.iloc[i][['cX', 'cY']].values\n",
    "\n",
    "            X_init, Y_init, _ = tf_mtx @ (cX, cY, 1)\n",
    "\n",
    "            diff = np.array([x,y]) - np.array(calibration_data['calib_origin'])[:2]\n",
    "            X = X_init + diff[0] + offset[0]\n",
    "            Y = Y_init + diff[1] + offset[1]\n",
    "\n",
    "            openapi.move_to_coordinates((X, Y, pickup_height+20), min_z_height=dish_bottom, verbose=False, force_direct=True)\n",
    "            openapi.move_to_coordinates((X, Y, pickup_height), min_z_height=dish_bottom, verbose=False, force_direct=True)\n",
    "            openapi.aspirate_in_place(flow_rate = flow_rate, volume = 10)\n",
    "            openapi.move_relative('z', 10)\n",
    "            openapi.aspirate_in_place(flow_rate = flow_rate, volume = 20)\n",
    "            time.sleep(0.1)\n",
    "        openapi.move_relative('z', 20)\n",
    "\n",
    "        # wells = ['B11', 'B12', 'B13', 'B14', 'B15']\n",
    "        openapi.move_to_well(openapi.labware_dct['6'], well_mapping[idx], well_location='top', offset=(0.9,-0.9,5), verbose=False, force_direct=True)\n",
    "        for j in range(len(chosen)):\n",
    "            if j == 0:\n",
    "                air_disp_vol = 25\n",
    "                liq_disp_vol = 10\n",
    "            elif j == 1:\n",
    "                air_disp_vol = 15\n",
    "                liq_disp_vol = 10\n",
    "\n",
    "            openapi.dispense(openapi.labware_dct['6'], well_mapping[idx], well_location='top', offset = (0.9,-0.9,5), volume = air_disp_vol, flow_rate = 50)\n",
    "            time.sleep(0.1)\n",
    "            openapi.dispense(openapi.labware_dct['6'], well_mapping[idx], well_location='bottom', offset = (0.9,-0.9,0), volume = liq_disp_vol, flow_rate = 50)\n",
    "            time.sleep(0.3)\n",
    "            idx += 1\n",
    "\n",
    "        openapi.move_relative('z', 20)\n",
    "        openapi.move_to_coordinates((calib_origin[0],calib_origin[1],100), min_z_height=1, verbose=False, force_direct=True)\n",
    "        end_time = time.time()\n",
    "        print(f\"Time taken: {end_time - start_time:.2f} seconds\")\n",
    "        times.append(end_time - start_time)\n",
    "\n",
    "    # elif key_pressed == ord('n'):\n",
    "    #     for i in range(2):\n",
    "    #         # if i == 0:\n",
    "    #         #     air_disp_vol = 30\n",
    "    #         #     liq_disp_vol = 10\n",
    "    #         # elif i == 4:\n",
    "    #         #     air_disp_vol = 10\n",
    "    #         #     liq_disp_vol = 10\n",
    "    #         # else:\n",
    "    #         #     air_disp_vol = 20\n",
    "    #         #     liq_disp_vol = 10\n",
    "    #         # openapi.move_relative('z', 10)\n",
    "    #         openapi.dispense_in_place(volume = 20, flow_rate = 50)\n",
    "    #         time.sleep(1)\n",
    "    #         openapi.move_relative('z', -10)\n",
    "    #         openapi.dispense_in_place(volume = 10, flow_rate = 50)\n",
    "    #         time.sleep(1)\n",
    "    #         openapi.move_relative('z', 10)\n",
    "    #         openapi.move_relative('x', -8.5)\n",
    "\n",
    "        \n",
    "\n",
    "    elif key_pressed == ord('c'):\n",
    "        if len(isolated) > 0:\n",
    "            cuboid_choice = isolated.sample(n=1)\n",
    "\n",
    "    elif key_pressed == ord('p'):\n",
    "        if len(isolated) == 0:\n",
    "            print(\"No cuboids found in the selected region\")\n",
    "            continue\n",
    "\n",
    "        cX, cY = cuboid_choice[['cX', 'cY']].values[0]\n",
    "\n",
    "        X_init, Y_init, _ = tf_mtx @ (cX, cY, 1)\n",
    "\n",
    "        x, y, _ = openapi.get_position(verbose=False)[0].values()\n",
    "        diff = np.array([x,y]) - np.array(calibration_data['calib_origin'])[:2]\n",
    "        X = X_init + diff[0] + offset[0]\n",
    "        Y = Y_init + diff[1] + offset[1]\n",
    "        \n",
    "        openapi.move_to_coordinates((X, Y, pickup_height), min_z_height=dish_bottom, verbose=False)\n",
    "        openapi.aspirate_in_place(flow_rate = flow_rate, volume = vol)\n",
    "        # ---------------------------------WHERE TO DISPENSE---------------------------------------\n",
    "        # x_d, y_d = converted_contour_centers[idx]\n",
    "        # openapi.move_to_coordinates((x_d,y_d, dish_bottom + 2.5), min_z_height=1, verbose=False)\n",
    "        # time.sleep(0.5)\n",
    "        # openapi.dispense_in_place(flow_rate = flow_rate, volume = vol)\n",
    "        # time.sleep(0.5)\n",
    "        openapi.dispense(openapi.labware_dct['6'], well_mapping[idx], well_location='bottom', offset = (0.9,-0.9,0), volume = vol, flow_rate = flow_rate)\n",
    "        time.sleep(0.3)\n",
    "        openapi.move_to_coordinates((calib_origin[0],calib_origin[1],100), min_z_height=dish_bottom, verbose=False)\n",
    "        idx += 1\n",
    "        cuboid_chosen = False\n",
    "        time.sleep(0.1)\n",
    "\n",
    "    elif key_pressed == ord('d'):\n",
    "        r = openapi.dispense_in_place(flow_rate = flow_rate, volume = vol)\n",
    "\n",
    "\n",
    "cv2.destroyAllWindows()\n",
    "keyboard.unhook_all()"
   ]
  },
  {
   "cell_type": "code",
   "execution_count": 65,
   "metadata": {},
   "outputs": [
    {
     "data": {
      "text/plain": [
       "32.32129096984863"
      ]
     },
     "execution_count": 65,
     "metadata": {},
     "output_type": "execute_result"
    }
   ],
   "source": [
    "np.sum(times) /24 * 384 / 60"
   ]
  },
  {
   "cell_type": "code",
   "execution_count": 17,
   "metadata": {},
   "outputs": [
    {
     "data": {
      "text/plain": [
       "<Response [201]>"
      ]
     },
     "execution_count": 17,
     "metadata": {},
     "output_type": "execute_result"
    }
   ],
   "source": [
    "openapi.control_run('stop') # Stop the robot"
   ]
  },
  {
   "cell_type": "code",
   "execution_count": 53,
   "metadata": {},
   "outputs": [],
   "source": [
    "x, y = chosen.iloc[i][['cX', 'cY']].values"
   ]
  },
  {
   "cell_type": "code",
   "execution_count": 42,
   "metadata": {},
   "outputs": [],
   "source": [
    "keyboard.unhook_all()"
   ]
  },
  {
   "cell_type": "code",
   "execution_count": 89,
   "metadata": {},
   "outputs": [
    {
     "data": {
      "text/plain": [
       "<Response [201]>"
      ]
     },
     "execution_count": 89,
     "metadata": {},
     "output_type": "execute_result"
    }
   ],
   "source": [
    "openapi.blow_out_in_place(50)"
   ]
  },
  {
   "cell_type": "code",
   "execution_count": 16,
   "metadata": {},
   "outputs": [
    {
     "data": {
      "text/plain": [
       "<Response [201]>"
      ]
     },
     "execution_count": 16,
     "metadata": {},
     "output_type": "execute_result"
    }
   ],
   "source": [
    "openapi.move_to_well(openapi.labware_dct['6'], 'A1', well_location='top', offset=(0,0,1), verbose=False)"
   ]
  },
  {
   "cell_type": "code",
   "execution_count": 91,
   "metadata": {},
   "outputs": [],
   "source": [
    "r = openapi.dispense(openapi.labware_dct['3'], \"A1\", well_location='bottom', volume = 100, flow_rate = 200)"
   ]
  },
  {
   "cell_type": "code",
   "execution_count": 90,
   "metadata": {},
   "outputs": [],
   "source": [
    "r = openapi.aspirate(openapi.labware_dct['3'], \"A1\", well_location='bottom', offset = (0,0,0), volume = 100, flow_rate = 200)"
   ]
  },
  {
   "cell_type": "code",
   "execution_count": null,
   "metadata": {},
   "outputs": [],
   "source": [
    "r = openapi.dispense(openapi.labware_dct['6'], well_mapping[idx], well_location='bottom', volume = vol, flow_rate = flow_rate)"
   ]
  },
  {
   "cell_type": "code",
   "execution_count": 88,
   "metadata": {},
   "outputs": [
    {
     "data": {
      "text/plain": [
       "{'data': {'id': 'c880966c-43ac-43d9-b0d4-2ee34b3a81bb',\n",
       "  'createdAt': '2025-01-26T12:10:58.855084+00:00',\n",
       "  'commandType': 'dispense',\n",
       "  'key': 'c880966c-43ac-43d9-b0d4-2ee34b3a81bb',\n",
       "  'status': 'failed',\n",
       "  'params': {'labwareId': '492ea99c-5b92-4999-816b-6cda6d1c1d6f',\n",
       "   'wellName': 'A1',\n",
       "   'wellLocation': {'origin': 'bottom',\n",
       "    'offset': {'x': 0, 'y': 0, 'z': 0},\n",
       "    'volumeOffset': 0.0},\n",
       "   'flowRate': 100.0,\n",
       "   'volume': 1.0,\n",
       "   'pipetteId': '6a51cb8a-aa10-45a7-bb93-666fb4664a70',\n",
       "   'pushOut': 30.0},\n",
       "  'error': {'id': '75a499ed-c890-4f81-a634-67511d459c77',\n",
       "   'createdAt': '2025-01-26T12:10:58.892388+00:00',\n",
       "   'isDefined': False,\n",
       "   'errorType': 'CommandPreconditionViolated',\n",
       "   'errorCode': '4004',\n",
       "   'detail': 'Cannot push_out on a dispense that does not leave the pipette empty',\n",
       "   'errorInfo': {'command': 'dispense', 'remaining-volume': '9.0'},\n",
       "   'wrappedErrors': []},\n",
       "  'startedAt': '2025-01-26T12:10:58.857117+00:00',\n",
       "  'completedAt': '2025-01-26T12:10:58.892388+00:00',\n",
       "  'intent': 'setup',\n",
       "  'notes': [{'noteKind': 'debugErrorRecovery',\n",
       "    'shortMessage': 'Handling this command failure with FAIL_RUN.',\n",
       "    'longMessage': 'Handling this command failure with FAIL_RUN.',\n",
       "    'source': 'execution'}]}}"
      ]
     },
     "execution_count": 88,
     "metadata": {},
     "output_type": "execute_result"
    }
   ],
   "source": [
    "json.loads(r.text)"
   ]
  },
  {
   "cell_type": "markdown",
   "metadata": {},
   "source": [
    "# Picking procedure (Automatic)"
   ]
  },
  {
   "cell_type": "code",
   "execution_count": 25,
   "metadata": {},
   "outputs": [],
   "source": [
    "def create_well_mapping(plate_type='384'):\n",
    "    if plate_type == '384':\n",
    "        rows = list(\"ABCDEFGHIJKLMNOP\")\n",
    "        columns = list(range(1, 25))\n",
    "    elif plate_type == '96':\n",
    "        rows = list(\"ABCDEFGH\")\n",
    "        columns = list(range(1, 13))\n",
    "    elif plate_type == '24':\n",
    "        rows = list(\"ABCD\")\n",
    "        columns = list(range(1, 7))\n",
    "    else:\n",
    "        raise ValueError(\"Unsupported plate type. Use '384', '96', or '24'.\")\n",
    "\n",
    "    well_mapping = {}\n",
    "    for i in range(len(rows) * len(columns)):\n",
    "        row = rows[i // len(columns)]\n",
    "        column = columns[i % len(columns)]\n",
    "        well_mapping[i] = f\"{row}{column}\"\n",
    "\n",
    "    return well_mapping\n",
    "\n",
    "well_mapping = create_well_mapping('24')  # Change to '96' if using a 96 well plate"
   ]
  },
  {
   "cell_type": "code",
   "execution_count": 26,
   "metadata": {},
   "outputs": [
    {
     "data": {
      "text/plain": [
       "{0: 'A1',\n",
       " 1: 'A2',\n",
       " 2: 'A3',\n",
       " 3: 'A4',\n",
       " 4: 'A5',\n",
       " 5: 'A6',\n",
       " 6: 'B1',\n",
       " 7: 'B2',\n",
       " 8: 'B3',\n",
       " 9: 'B4',\n",
       " 10: 'B5',\n",
       " 11: 'B6',\n",
       " 12: 'C1',\n",
       " 13: 'C2',\n",
       " 14: 'C3',\n",
       " 15: 'C4',\n",
       " 16: 'C5',\n",
       " 17: 'C6',\n",
       " 18: 'D1',\n",
       " 19: 'D2',\n",
       " 20: 'D3',\n",
       " 21: 'D4',\n",
       " 22: 'D5',\n",
       " 23: 'D6'}"
      ]
     },
     "execution_count": 26,
     "metadata": {},
     "output_type": "execute_result"
    }
   ],
   "source": [
    "well_mapping"
   ]
  },
  {
   "cell_type": "code",
   "execution_count": 84,
   "metadata": {},
   "outputs": [
    {
     "name": "stdout",
     "output_type": "stream",
     "text": [
      "Resuming movement...\n",
      "Miss detected at well A3.\n",
      "Elapsed time: 33.37 seconds\n",
      "Last local time: 30.976675510406494 seconds\n"
     ]
    }
   ],
   "source": [
    "# Flag to stop threads gracefully\n",
    "stop_event = threading.Event()\n",
    "pause_event = threading.Event()\n",
    "pause_event.set()  # Start in paused state\n",
    "coord_queue = queue.Queue()\n",
    "cr = core.Core()\n",
    "\n",
    "# ----------------------Robot configs-----------------------\n",
    "calibration_data = utils.load_calibration_config(calibration_profile)\n",
    "tf_mtx = np.array(calibration_data['tf_mtx'])\n",
    "calib_origin = np.array(calibration_data['calib_origin'])[:2]\n",
    "offset = np.array(calibration_data['offset'])\n",
    "size_conversion_ratio = calibration_data['size_conversion_ratio']\n",
    "one_d_ratio = calibration_data['one_d_ratio']\n",
    "\n",
    "# ----------------------Picking configs-----------------------\n",
    "vol = 10\n",
    "dish_bottom = 11 #10.60 for 300ul, 9.5 for 200ul\n",
    "pickup_offset = 0.5\n",
    "pickup_height = dish_bottom + pickup_offset\n",
    "flow_rate = 100\n",
    "cuboid_size_theshold = (250, 500)\n",
    "failure_threshold = 0.5\n",
    "minimum_distance = 1.7\n",
    "\n",
    "columns = list(range(1,5))\n",
    "# rows = ['G', 'H', 'I', 'J', 'K', 'L', 'M', 'N', 'O', 'P']\n",
    "# rows = ['A', 'B', 'C', 'D']\n",
    "rows = ['A']\n",
    "well_offset_x = 0#0.9 #384 well plate\n",
    "well_offset_y = 0#-0.9 #384 well plate\n",
    "\n",
    "wells_to_fill = [f\"{row}{column}\" for row in rows for column in columns]\n",
    "reversed_well_mapping = {v: k for k, v in well_mapping.items()}\n",
    "wells_to_fill_indices = [reversed_well_mapping[well] for well in wells_to_fill]\n",
    "idx = wells_to_fill_indices[0]\n",
    "end_idx = wells_to_fill_indices[-1] + 1\n",
    "\n",
    "# ----------------------Video configs-----------------------\n",
    "circle_center = (int(1296.0), int(972.0))\n",
    "circle_radius = 650\n",
    "\n",
    "# ----------------------Dict for misses---------------------\n",
    "misses = {}\n",
    "\n",
    "\n",
    "class SharedSettings:\n",
    "    def __init__(self):\n",
    "        self.lock = threading.Lock()\n",
    "        self.cuboid_chosen = False  # Movement speed (modifiable)\n",
    "        self.idx = idx  # Current index (modifiable)\n",
    "        self.local_timer_set = False\n",
    "\n",
    "settings = SharedSettings()\n",
    "\n",
    "def video_stream(): # Open default camera (change index if needed)\n",
    "    window = cap.get_window()\n",
    "    cuboid_choice = None\n",
    "\n",
    "    start_time = time.time()\n",
    "    local_timer_start = None\n",
    "\n",
    "    while not stop_event.is_set():\n",
    "        frame = cap.get_frame(undist=True)\n",
    "\n",
    "        with settings.lock:\n",
    "            cuboid_chosen = settings.cuboid_chosen\n",
    "            local_timer_set = settings.local_timer_set\n",
    "            idx = settings.idx\n",
    "\n",
    "        if not pause_event.is_set() and not local_timer_set:\n",
    "            local_timer_start = time.time()\n",
    "            with settings.lock:\n",
    "                settings.local_timer_set = True\n",
    "        elif pause_event.is_set() and local_timer_set:\n",
    "            local_timer_end = time.time()\n",
    "            local_timer_duration = local_timer_end - local_timer_start\n",
    "            print(f\"Operation between pauses {local_timer_duration:.2f}\")\n",
    "            with settings.lock:\n",
    "                settings.local_timer_set = False\n",
    "\n",
    "        if idx >= end_idx:\n",
    "            stop_event.set()\n",
    "            break\n",
    "        #-----------------------------------------VISION PROCESSING-----------------------------------------\n",
    "        x, y, z = openapi.get_position(verbose=False)[0].values()\n",
    "        (text_width, text_height), _ = cv2.getTextSize(f\"Robot coords: ({x:.2f}, {y:.2f}, {z:.2f})\", cv2.FONT_HERSHEY_SIMPLEX, 1, 2)\n",
    "        cv2.rectangle(frame, (10, 0), (10 + text_width, text_height + 150), (0, 0, 0), -1)\n",
    "        cv2.putText(frame, f\"Robot coords: ({x:.2f}, {y:.2f}, {z:.2f})\", (10, 30), cv2.FONT_HERSHEY_SIMPLEX, 1, (0, 255, 0), 2)\n",
    "        cv2.putText(frame, f\"Filling well: {well_mapping[idx]}\", (10, 70), cv2.FONT_HERSHEY_SIMPLEX, 1, (0, 255, 0), 2)\n",
    "        if pause_event.is_set():\n",
    "            cv2.putText(frame, \"Paused\", (10, 150), cv2.FONT_HERSHEY_SIMPLEX, 1, (0, 0, 255), 2)\n",
    "\n",
    "\n",
    "\n",
    "        cv2.circle(frame, circle_center, circle_radius + int(minimum_distance / one_d_ratio), (0, 0, 255), 2)\n",
    "        mask = np.zeros_like(frame, dtype=np.uint8)\n",
    "        cv2.circle(mask, circle_center, circle_radius + int(minimum_distance / one_d_ratio), (255, 255, 255), -1)\n",
    "        masked_frame = cv2.bitwise_and(frame, mask)\n",
    "        cv2.circle(frame, circle_center, circle_radius, (0, 255, 0), 2)\n",
    "\n",
    "        if not cuboid_chosen:\n",
    "            gray = cv2.cvtColor(masked_frame, cv2.COLOR_BGR2GRAY)\n",
    "            gray = cv2.GaussianBlur(gray, (11, 11), 0)\n",
    "            thresh = cv2.adaptiveThreshold(gray,255,cv2.ADAPTIVE_THRESH_GAUSSIAN_C,cv2.THRESH_BINARY_INV,25,2) \n",
    "            kernel = np.ones((3,3),np.uint8)\n",
    "            thresh = cv2.morphologyEx(thresh, cv2.MORPH_OPEN, kernel, iterations=1)\n",
    "            mask_inv = cv2.cvtColor(mask, cv2.COLOR_BGR2GRAY)\n",
    "            thresh = cv2.bitwise_and(thresh, mask_inv)\n",
    "\n",
    "            # Find contours in the masked frame\n",
    "            contours, hei = cv2.findContours(thresh, cv2.RETR_TREE, cv2.CHAIN_APPROX_SIMPLE)\n",
    "            cr.cuboids = contours\n",
    "            filtered_contours = [contour for contour in cr.cuboids if 30 < cv2.contourArea(contour) < 1000]\n",
    "            cr.cuboid_dataframe(filtered_contours)\n",
    "\n",
    "            cuboid_size_micron2 = cr.cuboid_df.area * size_conversion_ratio * 1000000\n",
    "            cuboid_diameter = 2 * np.sqrt(cuboid_size_micron2 / np.pi)\n",
    "            dist_mm = cr.cuboid_df.min_dist * one_d_ratio\n",
    "            cr.cuboid_df['diameter_microns'] = cuboid_diameter\n",
    "            cr.cuboid_df['min_dist_mm'] = dist_mm\n",
    "            \n",
    "            # Filter out elongated contours\n",
    "\n",
    "            pickable_cuboids = cr.cuboid_df.loc[(cuboid_size_theshold[0] < cr.cuboid_df['diameter_microns']) & \n",
    "                                                (cr.cuboid_df['diameter_microns'] < cuboid_size_theshold[1]) &\n",
    "                                                ((cr.cuboid_df['aspect_ratio'] > 0.75) | (cr.cuboid_df['aspect_ratio'] < 1.25)) &\n",
    "                                                (cr.cuboid_df['circularity'] > 0.6)].copy()\n",
    "\n",
    "            # Check if cuboid centers are within the circle radius from the current circle center\n",
    "            pickable_cuboids['distance_to_center'] = pickable_cuboids.apply(\n",
    "                lambda row: np.sqrt((row['cX'] - circle_center[0])**2 + (row['cY'] - circle_center[1])**2), axis=1\n",
    "            )\n",
    "            pickable_cuboids = pickable_cuboids[pickable_cuboids['distance_to_center'] <= circle_radius]\n",
    "            isolated = pickable_cuboids.loc[pickable_cuboids.min_dist_mm > minimum_distance]\n",
    "            draw = isolated.contour.values.tolist()\n",
    "            cv2.drawContours(frame, filtered_contours, -1, (0, 0, 255), 2)\n",
    "            cv2.drawContours(frame, pickable_cuboids.contour.values.tolist(), -1, (0, 255, 255), 2)\n",
    "            cv2.drawContours(frame, draw, -1, (0, 255, 0), 2)\n",
    "\n",
    "            cv2.putText(frame, f\"# GOOD objects / # ALL: {len(pickable_cuboids)}/{len(cr.cuboid_df)}\", (10, 110), cv2.FONT_HERSHEY_SIMPLEX, 1, (0, 255, 0), 2)\n",
    "        #-----------------------------------------------INTERACTION------------------------------------------------\n",
    "\n",
    "            # if not cuboid_chosen and len(isolated) > 0:\n",
    "            #     if cuboid_choice is not None:\n",
    "            #         prev_x, prev_y = cuboid_choice[['cX', 'cY']].values[0]\n",
    "                    \n",
    "            #         cv2.circle(frame, (int(prev_x), int(prev_y)), int(round(failure_threshold / one_d_ratio)), (255, 0, 0), 2)\n",
    "            #         distances = cr.cuboid_df.apply(lambda row: np.sqrt((row['cX'] - prev_x)**2 + (row['cY'] - prev_y)**2), axis=1).to_numpy()\n",
    "            #         distances *= one_d_ratio\n",
    "            #         if any(distances <= failure_threshold):\n",
    "            #             print(\"Miss detected ...\")\n",
    "            #             with settings.lock:\n",
    "            #                 settings.idx -= 1\n",
    "\n",
    "            #     cuboid_choice = isolated.sample(n=1) \n",
    "            #     cv2.drawContours(frame, cuboid_choice.contour.values.tolist(), -1, (255, 0, 0), 2)\n",
    "\n",
    "        if not coord_queue.full() and not cuboid_chosen and not pause_event.is_set() and len(isolated) > 0:\n",
    "            if cuboid_choice is not None:\n",
    "                prev_x, prev_y = cuboid_choice[['cX', 'cY']].values[0]\n",
    "                \n",
    "                cv2.circle(frame, (int(prev_x), int(prev_y)), int(round(failure_threshold / one_d_ratio)), (255, 0, 0), 2)\n",
    "                distances = cr.cuboid_df.apply(lambda row: np.sqrt((row['cX'] - prev_x)**2 + (row['cY'] - prev_y)**2), axis=1).to_numpy()\n",
    "                distances *= one_d_ratio\n",
    "                if any(distances <= failure_threshold):\n",
    "                    with settings.lock:\n",
    "                        settings.idx -= 1\n",
    "                    print(f\"Miss detected at well {well_mapping[idx]}.\")\n",
    "                    if well_mapping[idx] in misses:\n",
    "                        misses[well_mapping[idx]] += 1\n",
    "                    else:\n",
    "                        misses[well_mapping[idx]] = 1\n",
    "\n",
    "            cuboid_choice = isolated.sample(n=1) \n",
    "            cv2.drawContours(frame, cuboid_choice.contour.values.tolist(), -1, (255, 0, 0), 2)\n",
    "            # cv2.imwrite(str(paths.BASE_DIR)+'\\\\outputs\\\\images\\\\'+f\"frame_{idx}.png\", frame)\n",
    "\n",
    "            cX, cY = cuboid_choice[['cX', 'cY']].values[0]\n",
    "            X_init, Y_init, _ = tf_mtx @ (cX, cY, 1)\n",
    "            x, y, _ = openapi.get_position(verbose=False)[0].values()\n",
    "            diff = np.array([x,y]) - np.array(calibration_data['calib_origin'])[:2]\n",
    "            X = X_init + diff[0] + offset[0]\n",
    "            Y = Y_init + diff[1] + offset[1]\n",
    "\n",
    "            coord_queue.put((X, Y))\n",
    "            with settings.lock:\n",
    "                settings.cuboid_chosen = True\n",
    "        elif len(isolated) == 0 and not pause_event.is_set():\n",
    "            pause_event.set()\n",
    "            print(\"No cuboids found in the selected region. Pausing...\")\n",
    "\n",
    "        cv2.imshow(cap.window_name, frame)\n",
    "        key = cv2.waitKey(1) & 0xFF\n",
    "        if key == ord('q'):\n",
    "            stop_event.set()\n",
    "        elif key == ord('p'):\n",
    "            if pause_event.is_set():\n",
    "                pause_event.clear()\n",
    "                print(\"Resuming movement...\")\n",
    "            else:\n",
    "                print(\"Pausing movement...\")\n",
    "                pause_event.set()\n",
    "\n",
    "    cv2.destroyAllWindows()\n",
    "    end_time = time.time()\n",
    "    elapsed_time = end_time - start_time\n",
    "    print(f\"Elapsed time: {elapsed_time:.2f} seconds\")\n",
    "    if local_timer_start:\n",
    "        print(f\"Last local time: {end_time - local_timer_start} seconds\")\n",
    "    # print(f\"Last index: {well_mapping[idx]}\")\n",
    "\n",
    "def robot_movement():\n",
    "    openapi.move_to_coordinates((calib_origin[0],calib_origin[1],100), min_z_height=dish_bottom, verbose=False)\n",
    "    while not stop_event.is_set():\n",
    "        if pause_event.is_set():\n",
    "            time.sleep(0.1)  # Small sleep to prevent excessive CPU usage\n",
    "            continue  # Skip to next iteration while paused\n",
    "        # print(\"Moving robot...\")\n",
    "        try:\n",
    "            # Get latest coordinates from the queue (non-blocking)\n",
    "            x, y = coord_queue.get(timeout=1)  # Timeout prevents indefinite blocking\n",
    "            openapi.move_to_coordinates((x, y, pickup_height+30), min_z_height=dish_bottom, verbose=False, force_direct=True)\n",
    "            openapi.move_to_coordinates((x, y, pickup_height), min_z_height=dish_bottom, verbose=False, force_direct=True)\n",
    "            openapi.aspirate_in_place(flow_rate = flow_rate, volume = vol)\n",
    "            openapi.move_relative('z', 30)\n",
    "\n",
    "            with settings.lock:\n",
    "                idx = settings.idx\n",
    "\n",
    "            openapi.move_to_well(openapi.labware_dct['6'], well_mapping[idx], well_location='top', offset=(well_offset_x,well_offset_y,15), verbose=False, force_direct=True)\n",
    "            openapi.dispense(openapi.labware_dct['6'], well_mapping[idx], well_location='bottom', offset=(well_offset_x, well_offset_y, 1), volume = vol, flow_rate = flow_rate)\n",
    "            time.sleep(0.5)\n",
    "            openapi.move_to_well(openapi.labware_dct['6'], well_mapping[idx], well_location='top', offset=(well_offset_x,well_offset_y,15), verbose=False)\n",
    "            openapi.move_to_coordinates((calib_origin[0],calib_origin[1],100), min_z_height=dish_bottom, verbose=False, force_direct=True)\n",
    "            time.sleep(0.5)\n",
    "            with settings.lock:\n",
    "                settings.cuboid_chosen = False\n",
    "                settings.idx += 1 \n",
    "        except queue.Empty:\n",
    "            pass  # No new coordinates, continue looping\n",
    "# Create threads\n",
    "video_thread = threading.Thread(target=video_stream, daemon=True)\n",
    "robot_thread = threading.Thread(target=robot_movement, daemon=True)\n",
    "\n",
    "# Start threads\n",
    "video_thread.start()\n",
    "robot_thread.start()\n",
    "\n",
    "# Wait for threads to finish\n",
    "video_thread.join()\n",
    "robot_thread.join()"
   ]
  },
  {
   "cell_type": "code",
   "execution_count": 38,
   "metadata": {},
   "outputs": [
    {
     "data": {
      "text/plain": [
       "<Response [201]>"
      ]
     },
     "execution_count": 38,
     "metadata": {},
     "output_type": "execute_result"
    }
   ],
   "source": [
    "openapi.move_to_well(openapi.labware_dct['6'], 'B1', well_location='top', offset=(well_offset_x,well_offset_y,15), verbose=False)"
   ]
  },
  {
   "cell_type": "code",
   "execution_count": 34,
   "metadata": {},
   "outputs": [
    {
     "data": {
      "text/plain": [
       "{'C9': 2, 'C10': 1, 'C14': 1, 'C17': 1, 'C21': 2}"
      ]
     },
     "execution_count": 34,
     "metadata": {},
     "output_type": "execute_result"
    }
   ],
   "source": [
    "misses"
   ]
  },
  {
   "cell_type": "code",
   "execution_count": 45,
   "metadata": {},
   "outputs": [
    {
     "data": {
      "text/plain": [
       "<Response [201]>"
      ]
     },
     "execution_count": 45,
     "metadata": {},
     "output_type": "execute_result"
    }
   ],
   "source": [
    "idx = 0\n",
    "while idx < len(misses):\n",
    "    well_name, miss_count = list(misses.items())[idx]\n",
    "    r = openapi.aspirate(openapi.labware_dct['6'], f\"{well_name}\", well_location = 'bottom', offset = (well_offset_x,well_offset_y,0), volume = miss_count*vol, flow_rate = 5)\n",
    "    responce_dict = json.loads(r.text)['data']\n",
    "    if responce_dict['status'] == 'failed':\n",
    "        if responce_dict['error']['errorType'] == 'InvalidAspirateVolumeError':\n",
    "            print('Dumping fluid')\n",
    "            openapi.blow_out(openapi.labware_dct['3'], \"A1\", well_location='center', flow_rate = 200)\n",
    "    else:\n",
    "        idx += 1\n",
    "    \n",
    "openapi.blow_out(openapi.labware_dct['3'], \"A1\", well_location='center', flow_rate = 200)\n",
    "openapi.move_relative('z', 20)"
   ]
  },
  {
   "cell_type": "code",
   "execution_count": 21,
   "metadata": {},
   "outputs": [
    {
     "data": {
      "text/plain": [
       "<Response [201]>"
      ]
     },
     "execution_count": 21,
     "metadata": {},
     "output_type": "execute_result"
    }
   ],
   "source": [
    "openapi.dispense(openapi.labware_dct['3'], \"A1\", well_location='center', offset = (0,0,0), volume = 10, flow_rate = 50)"
   ]
  },
  {
   "cell_type": "code",
   "execution_count": 7,
   "metadata": {},
   "outputs": [],
   "source": [
    "test = queue.Queue()"
   ]
  },
  {
   "cell_type": "code",
   "execution_count": 28,
   "metadata": {},
   "outputs": [],
   "source": [
    "test.put((3,4))"
   ]
  },
  {
   "cell_type": "code",
   "execution_count": 22,
   "metadata": {},
   "outputs": [],
   "source": [
    "one, two = test.get(timeout=1)"
   ]
  },
  {
   "cell_type": "code",
   "execution_count": 29,
   "metadata": {},
   "outputs": [
    {
     "data": {
      "text/plain": [
       "False"
      ]
     },
     "execution_count": 29,
     "metadata": {},
     "output_type": "execute_result"
    }
   ],
   "source": [
    "test.full()"
   ]
  },
  {
   "cell_type": "markdown",
   "metadata": {},
   "source": [
    "# Picking procedure (Auto + class) redundant"
   ]
  },
  {
   "cell_type": "code",
   "execution_count": 20,
   "metadata": {},
   "outputs": [],
   "source": [
    "class SharedSettings:\n",
    "    def __init__(self):\n",
    "        self.lock = threading.Lock()\n",
    "        self.cuboid_chosen = False\n",
    "        self.idx = None\n",
    "        self.local_timer_set = False\n",
    "        self.stop_event = threading.Event()\n",
    "        self.pause_event = threading.Event()\n",
    "        self.pause_event.set()\n",
    "\n",
    "class PickingProcedure():\n",
    "\n",
    "    def __init__(self, shared_settings):\n",
    "        self.coord_queue = queue.Queue()\n",
    "        self.cr = core.Core()\n",
    "        self.shared_settings_inst = shared_settings\n",
    "        self.misses = {}\n",
    "\n",
    "        # ----------------------Robot configs-----------------------\n",
    "        self.calibration_data = utils.load_calibration_config(calibration_profile)\n",
    "        self.tf_mtx = np.array(self.calibration_data['tf_mtx'])\n",
    "        self.calib_origin = np.array(self.calibration_data['calib_origin'])[:2]\n",
    "        self.offset = np.array(self.calibration_data['offset'])\n",
    "        self.size_conversion_ratio = self.calibration_data['size_conversion_ratio']\n",
    "        self.one_d_ratio = self.calibration_data['one_d_ratio']\n",
    "\n",
    "        # ----------------------Picking configs-----------------------\n",
    "        self.vol = 10\n",
    "        self.dish_bottom = 10.3 #10.60 for 300ul, 9.5 for 200ul\n",
    "        self.pickup_offset = 0.5\n",
    "        self.pickup_height = self.dish_bottom + self.pickup_offset\n",
    "        self.flow_rate = 50\n",
    "        self.cuboid_size_theshold = (300, 500)\n",
    "        self.failure_threshold = 0.5\n",
    "        self.minimum_distance = 1.7\n",
    "\n",
    "        # ----------------------Deposit configs-----------------------\n",
    "        self.well_plate_type = '384'\n",
    "        self.columns = list(range(1,25))\n",
    "        # self.rows = ['A', 'B', 'C', 'D', 'E', 'F','G', 'H', 'I', 'J', 'K', 'L', 'M', 'N', 'O', 'P']\n",
    "        self.rows = ['C']\n",
    "        # self.wells_to_fill = [f\"{row}{column}\" for row in self.rows for column in self.columns]\n",
    "        self.wells_to_fill = ['A1', 'A2', 'A3']\n",
    "        self.current_idx = 0\n",
    "        self.shared_settings_inst.idx = self.current_idx\n",
    "        self.end_idx = len(self.wells_to_fill)\n",
    "\n",
    "        self.well_offset_x = 0.9 #384 well plate\n",
    "        self.well_offset_y = -0.9 #384 well plate\n",
    "\n",
    "        # ----------------------Video configs-----------------------\n",
    "        self.circle_center = (int(1296.0), int(972.0))\n",
    "        self.circle_radius = 900\n",
    "\n",
    "        self.isolated = []\n",
    "        self.pickable_cuboids = []\n",
    "\n",
    "    def cv_pipeline(self, frame):\n",
    "        mask = np.zeros_like(frame, dtype=np.uint8)\n",
    "        cv2.circle(mask, self.circle_center, self.circle_radius + int(self.minimum_distance / self.one_d_ratio), (255, 255, 255), -1)\n",
    "        masked_frame = cv2.bitwise_and(frame, mask)\n",
    "\n",
    "        gray = cv2.cvtColor(masked_frame, cv2.COLOR_BGR2GRAY)\n",
    "        blur = cv2.GaussianBlur(gray, (11, 11), 0)\n",
    "        thresh = cv2.adaptiveThreshold(blur, 255, cv2.ADAPTIVE_THRESH_GAUSSIAN_C,cv2.THRESH_BINARY_INV,25,2) \n",
    "        kernel = np.ones((3,3),np.uint8)\n",
    "        thresh = cv2.morphologyEx(thresh, cv2.MORPH_OPEN, kernel, iterations=1)\n",
    "        mask_inv = cv2.cvtColor(mask, cv2.COLOR_BGR2GRAY)\n",
    "        thresh = cv2.bitwise_and(thresh, mask_inv)\n",
    "\n",
    "        # Find contours in the masked frame\n",
    "        contours, hei = cv2.findContours(thresh, cv2.RETR_TREE, cv2.CHAIN_APPROX_SIMPLE)\n",
    "        self.cr.cuboids = contours\n",
    "        filtered_contours = [contour for contour in self.cr.cuboids if 30 < cv2.contourArea(contour) < 1000]\n",
    "        self.cr.cuboid_dataframe(filtered_contours)\n",
    "\n",
    "        cuboid_size_micron2 = self.cr.cuboid_df.area * self.size_conversion_ratio * 1000000\n",
    "        cuboid_diameter = 2 * np.sqrt(cuboid_size_micron2 / np.pi)\n",
    "        dist_mm = self.cr.cuboid_df.min_dist * self.one_d_ratio\n",
    "        self.cr.cuboid_df['diameter_microns'] = cuboid_diameter\n",
    "        self.cr.cuboid_df['min_dist_mm'] = dist_mm\n",
    "        \n",
    "        # Filter out elongated contours\n",
    "        self.pickable_cuboids = self.cr.cuboid_df.loc[(self.cuboid_size_theshold[0] < self.cr.cuboid_df['diameter_microns']) & \n",
    "                                            (self.cr.cuboid_df['diameter_microns'] < self.cuboid_size_theshold[1]) &\n",
    "                                            ((self.cr.cuboid_df['aspect_ratio'] > 0.75) | (self.cr.cuboid_df['aspect_ratio'] < 1.25)) &\n",
    "                                            (self.cr.cuboid_df['circularity'] > 0.6)].copy()\n",
    "\n",
    "        # Check if cuboid centers are within the circle radius from the current circle center\n",
    "        self.pickable_cuboids['distance_to_center'] = self.pickable_cuboids.apply(\n",
    "            lambda row: np.sqrt((row['cX'] - self.circle_center[0])**2 + (row['cY'] - self.circle_center[1])**2), axis=1\n",
    "        )\n",
    "        self.pickable_cuboids = self.pickable_cuboids[self.pickable_cuboids['distance_to_center'] <= self.circle_radius]\n",
    "        self.isolated = self.pickable_cuboids.loc[self.pickable_cuboids.min_dist_mm > self.minimum_distance]\n",
    "\n",
    "    def draw_annotations(self, frame, coords_tuple):\n",
    "        cv2.circle(frame, self.circle_center, self.circle_radius + int(self.minimum_distance / self.one_d_ratio), (0, 0, 255), 2)\n",
    "        cv2.circle(frame, self.circle_center, self.circle_radius, (0, 255, 0), 2)\n",
    "        x,y,z = coords_tuple\n",
    "        cv2.putText(frame, f\"Robot coords: ({x:.2f}, {y:.2f}, {z:.2f})\", (10, 30), cv2.FONT_HERSHEY_SIMPLEX, 1, (0, 255, 0), 2)\n",
    "        cv2.putText(frame, f\"Filling well: {self.wells_to_fill[self.current_idx]}\", (10, 70), cv2.FONT_HERSHEY_SIMPLEX, 1, (0, 255, 0), 2)\n",
    "        if self.shared_settings_inst.pause_event.is_set():\n",
    "            cv2.putText(frame, \"Paused\", (10, 110), cv2.FONT_HERSHEY_SIMPLEX, 1, (0, 0, 255), 2)\n",
    "\n",
    "        with self.shared_settings_inst.lock:\n",
    "            cuboid_chosen = self.shared_settings_inst.cuboid_chosen\n",
    "        if not cuboid_chosen:\n",
    "            cv2.drawContours(frame, self.cr.cuboids, -1, (0, 0, 255), 2)\n",
    "            cv2.drawContours(frame, self.pickable_cuboids.contour.values.tolist(), -1, (0, 255, 255), 2)\n",
    "            cv2.drawContours(frame, self.isolated.contour.values.tolist(), -1, (0, 255, 0), 2)\n",
    "        return frame\n",
    "    \n",
    "    def video(self):\n",
    "        window = cap.get_window()\n",
    "        cuboid_choice = None\n",
    "\n",
    "        while not self.shared_settings_inst.stop_event.is_set():\n",
    "            frame = cap.get_frame(undist=True)\n",
    "            plot_frame = frame.copy()\n",
    "\n",
    "            with self.shared_settings_inst.lock:\n",
    "                cuboid_chosen = self.shared_settings_inst.cuboid_chosen\n",
    "                local_timer_set = self.shared_settings_inst.local_timer_set\n",
    "                self.current_idx = self.shared_settings_inst.idx\n",
    "\n",
    "            if self.current_idx >= self.end_idx:\n",
    "                self.shared_settings_inst.stop_event.set()\n",
    "                break\n",
    "\n",
    "            x, y, z = openapi.get_position(verbose=False)[0].values()\n",
    "            # if not self.shared_settings_inst.pause_event.is_set():\n",
    "            if not cuboid_chosen:\n",
    "                self.cv_pipeline(frame)\n",
    "            self.draw_annotations(plot_frame, (x, y, z))\n",
    "\n",
    "            if not self.coord_queue.full() and not cuboid_chosen and not self.shared_settings_inst.pause_event.is_set() and len(self.isolated) > 0:\n",
    "                if cuboid_choice is not None:\n",
    "                    prev_x, prev_y = cuboid_choice[['cX', 'cY']].values[0]\n",
    "                    \n",
    "                    cv2.circle(plot_frame, (int(prev_x), int(prev_y)), int(round(self.failure_threshold / self.one_d_ratio)), (255, 0, 0), 2)\n",
    "                    distances = self.cr.cuboid_df.apply(lambda row: np.sqrt((row['cX'] - prev_x)**2 + (row['cY'] - prev_y)**2), axis=1).to_numpy()\n",
    "                    distances *= self.one_d_ratio\n",
    "                    if any(distances <= self.failure_threshold):\n",
    "                        with self.shared_settings_inst.lock:\n",
    "                            self.shared_settings_inst.idx -= 1\n",
    "                        print(f\"Miss detected at well {self.wells_to_fill[self.current_idx]}.\")\n",
    "                        if self.wells_to_fill[self.current_idx] in self.misses:\n",
    "                            self.misses[self.wells_to_fill[self.current_idx]] += 1\n",
    "                        else:\n",
    "                            self.misses[self.wells_to_fill[self.current_idx]] = 1\n",
    "\n",
    "                cuboid_choice = self.isolated.sample(n=1) \n",
    "                cv2.drawContours(frame, cuboid_choice.contour.values.tolist(), -1, (255, 0, 0), 2)\n",
    "                # cv2.imwrite(str(paths.BASE_DIR)+'\\\\outputs\\\\images\\\\'+f\"frame_{idx}.png\", frame)\n",
    "\n",
    "                cX, cY = cuboid_choice[['cX', 'cY']].values[0]\n",
    "                X_init, Y_init, _ = self.tf_mtx @ (cX, cY, 1)\n",
    "                x, y, _ = openapi.get_position(verbose=False)[0].values()\n",
    "                diff = np.array([x,y]) - np.array(self.calibration_data['calib_origin'])[:2]\n",
    "                X = X_init + diff[0] + self.offset[0]\n",
    "                Y = Y_init + diff[1] + self.offset[1]\n",
    "\n",
    "                self.coord_queue.put((X, Y))\n",
    "                with self.shared_settings_inst.lock:\n",
    "                    self.shared_settings_inst.cuboid_chosen = True\n",
    "            elif len(self.isolated) == 0 and not self.shared_settings_inst.pause_event.is_set():\n",
    "                self.shared_settings_inst.pause_event.set()\n",
    "                print(\"No cuboids found in the selected region. Pausing...\")\n",
    "\n",
    "            cv2.imshow(cap.window_name, plot_frame)\n",
    "            key = cv2.waitKey(1) & 0xFF\n",
    "\n",
    "            if key == ord('q'):\n",
    "                self.shared_settings_inst.stop_event.set()\n",
    "            elif key == ord('p'):\n",
    "                if self.shared_settings_inst.pause_event.is_set():\n",
    "                    self.shared_settings_inst.pause_event.clear()\n",
    "                    print(\"Resuming movement...\")\n",
    "                else:\n",
    "                    print(\"Pausing movement...\")\n",
    "                    self.shared_settings_inst.pause_event.set()\n",
    "        cv2.destroyAllWindows()\n",
    "\n",
    "    def robot_movement(self):\n",
    "        openapi.move_to_coordinates((self.calib_origin[0],self.calib_origin[1],100), min_z_height=self.dish_bottom, verbose=False)\n",
    "        while not self.shared_settings_inst.stop_event.is_set():\n",
    "            if self.shared_settings_inst.pause_event.is_set():\n",
    "                time.sleep(0.1)  # Small sleep to prevent excessive CPU usage\n",
    "                continue  # Skip to next iteration while paused\n",
    "            # print(\"Moving robot...\")\n",
    "            try:\n",
    "                # Get latest coordinates from the queue (non-blocking)\n",
    "                x, y = self.coord_queue.get(timeout=1)  # Timeout prevents indefinite blocking\n",
    "                openapi.move_to_coordinates((x, y, self.pickup_height+20), min_z_height=self.dish_bottom, verbose=False, force_direct=True)\n",
    "                openapi.move_to_coordinates((x, y, self.pickup_height), min_z_height=self.dish_bottom, verbose=False, force_direct=True)\n",
    "                openapi.aspirate_in_place(flow_rate = self.flow_rate, volume = self.vol)\n",
    "                openapi.move_relative('z', 20)\n",
    "\n",
    "                with self.shared_settings_inst.lock:\n",
    "                    idx = self.shared_settings_inst.idx\n",
    "\n",
    "                openapi.move_to_well(openapi.labware_dct['6'], self.wells_to_fill[idx], well_location='top', offset=(self.well_offset_x, self.well_offset_y, 5), verbose = False, force_direct = True)\n",
    "                openapi.dispense(openapi.labware_dct['6'], self.wells_to_fill[idx], well_location='bottom', offset=(self.well_offset_x, self.well_offset_y, 0), volume = self.vol, flow_rate = self.flow_rate)\n",
    "                time.sleep(0.3)\n",
    "                openapi.move_to_well(openapi.labware_dct['6'], self.wells_to_fill[idx], well_location='top', offset=(self.well_offset_x, self.well_offset_y, 5), verbose=False)\n",
    "                openapi.move_to_coordinates((self.calib_origin[0],self.calib_origin[1],100), min_z_height=self.dish_bottom, verbose=False, force_direct=True)\n",
    "                time.sleep(0.5)\n",
    "                with self.shared_settings_inst.lock:\n",
    "                    self.shared_settings_inst.cuboid_chosen = False\n",
    "                    self.shared_settings_inst.idx += 1 \n",
    "            except queue.Empty:\n",
    "                pass  # No new coordinates, continue looping"
   ]
  },
  {
   "cell_type": "code",
   "execution_count": 21,
   "metadata": {},
   "outputs": [],
   "source": [
    "shared_settings = SharedSettings()\n",
    "cls = PickingProcedure(shared_settings)"
   ]
  },
  {
   "cell_type": "code",
   "execution_count": 92,
   "metadata": {},
   "outputs": [
    {
     "name": "stdout",
     "output_type": "stream",
     "text": [
      "Resuming movement...\n",
      "Pausing movement...\n",
      "Resuming movement...\n",
      "Pausing movement...\n"
     ]
    }
   ],
   "source": [
    "cls.video()"
   ]
  },
  {
   "cell_type": "code",
   "execution_count": 22,
   "metadata": {},
   "outputs": [
    {
     "name": "stdout",
     "output_type": "stream",
     "text": [
      "Resuming movement...\n"
     ]
    }
   ],
   "source": [
    "video_thread = threading.Thread(target=cls.video, daemon=True)\n",
    "robot_thread = threading.Thread(target=cls.robot_movement, daemon=True)\n",
    "\n",
    "# Start threads\n",
    "video_thread.start()\n",
    "robot_thread.start()\n",
    "\n",
    "# Wait for threads to finish\n",
    "video_thread.join()\n",
    "robot_thread.join()"
   ]
  },
  {
   "cell_type": "code",
   "execution_count": 68,
   "metadata": {},
   "outputs": [
    {
     "data": {
      "text/plain": [
       "True"
      ]
     },
     "execution_count": 68,
     "metadata": {},
     "output_type": "execute_result"
    }
   ],
   "source": [
    "cls.shared_settings_inst.stop_event.is_set()"
   ]
  },
  {
   "cell_type": "markdown",
   "metadata": {},
   "source": [
    "# Picking procedure v0"
   ]
  },
  {
   "cell_type": "code",
   "execution_count": 6,
   "metadata": {},
   "outputs": [],
   "source": [
    "class Destination:\n",
    "    WELL_PLATE_PRESETS = {\n",
    "        6: (2, 3),   # 2 rows × 3 cols\n",
    "        24: (4, 6),  # 4 rows × 6 cols\n",
    "        48: (6, 8),  # 6 rows × 8 cols\n",
    "        96: (8, 12),  # 8 rows × 12 cols\n",
    "        384: (16, 24)  # 16 rows × 24 cols\n",
    "    }\n",
    "\n",
    "    def __init__(self, plate_type=None, custom_positions=None):\n",
    "        \"\"\"\n",
    "        Defines a destination, which can be a standard well plate or custom locations.\n",
    "\n",
    "        :param plate_type: Integer for a standard well plate (6, 24, 48, 96, 384).\n",
    "        :param custom_positions: List of arbitrary locations if not using a well plate.\n",
    "        \"\"\"\n",
    "        self.plate_type = plate_type\n",
    "        self.layout = self.WELL_PLATE_PRESETS.get(plate_type, None)\n",
    "        self.custom_positions = custom_positions\n",
    "        self.positions = self.generate_positions()\n",
    "\n",
    "    def generate_positions(self):\n",
    "        \"\"\"Generates well names based on plate type or uses custom positions.\"\"\"\n",
    "        if self.custom_positions:\n",
    "            return self.custom_positions  # Use provided custom locations\n",
    "        \n",
    "        if not self.layout:\n",
    "            raise ValueError(\"Invalid well plate type or missing custom positions.\")\n",
    "\n",
    "        rows, cols = self.layout\n",
    "        row_labels = string.ascii_uppercase[:rows]  # First N letters for rows\n",
    "        return [f\"{row}{col}\" for row in row_labels for col in range(1, cols + 1)]\n",
    "\n",
    "    def get_well_index(self, well_label):\n",
    "        \"\"\"Returns the index of a well label like 'A1'.\"\"\"\n",
    "        if well_label in self.positions:\n",
    "            return self.positions.index(well_label)\n",
    "        return None\n",
    "\n",
    "    def __repr__(self):\n",
    "        return f\"Destination(plate_type={self.plate_type}, positions={self.positions})\"\n",
    "\n",
    "\n",
    "class Routine:\n",
    "    def __init__(self, destination, well_plan, fill_strategy=\"well_by_well\"):\n",
    "        \"\"\"\n",
    "        Routine class for controlling how a well plate or location is filled.\n",
    "\n",
    "        :param destination: Destination object defining well plate/grid.\n",
    "        :param well_plan: Dictionary {well_label: target_count} defining objects per well.\n",
    "        :param fill_strategy: How the wells should be filled.\n",
    "                              Options: \"vertical\", \"horizontal\", \"well_by_well\", \"spread_out\"\n",
    "        \"\"\"\n",
    "        self.destination = destination\n",
    "        self.well_plan = well_plan  # {well_label: target_count}\n",
    "        self.fill_strategy = fill_strategy\n",
    "        self.filled_wells = {k: 0 for k in well_plan}\n",
    "        self.miss_counts = {k: 0 for k in well_plan}\n",
    "        self.completed = False\n",
    "        self.current_well = None\n",
    "\n",
    "    def get_fill_order(self):\n",
    "        \"\"\"Returns the order in which wells should be filled based on strategy.\"\"\"\n",
    "        wells = list(self.well_plan.keys())\n",
    "\n",
    "        if self.fill_strategy == \"vertical\":\n",
    "            return sorted(wells, key=lambda well: int(well[1:]))  # Sort by column number\n",
    "        elif self.fill_strategy == \"horizontal\":\n",
    "            return sorted(wells, key=lambda well: well[0])  # Sort by row letter\n",
    "        elif self.fill_strategy == \"spread_out\":\n",
    "            return sorted(wells, key=lambda well: self.well_plan[well])  # Spread out based on needs\n",
    "        else:  # Default: well_by_well\n",
    "            return wells\n",
    "\n",
    "    def get_next_well(self):\n",
    "        \"\"\"Returns the next well to be filled based on the strategy.\"\"\"\n",
    "        for well in self.get_fill_order():\n",
    "            if self.filled_wells[well] < self.well_plan[well]:\n",
    "                self.current_well = well\n",
    "                return well\n",
    "        self.completed = True\n",
    "        return None\n",
    "\n",
    "    def update_well(self, success=True):\n",
    "        \"\"\"Updates well status after an attempt.\"\"\"\n",
    "        if self.current_well is not None:\n",
    "            if success:\n",
    "                self.filled_wells[self.current_well] += 1\n",
    "            else:\n",
    "                self.miss_counts[self.current_well] += 1\n",
    "\n",
    "    def is_done(self):\n",
    "        \"\"\"Checks if routine is completed.\"\"\"\n",
    "        return self.completed\n",
    "\n",
    "def create_well_plan(plate_type):\n",
    "    \"\"\"Creates an empty DataFrame for well input based on the plate size.\"\"\"\n",
    "    rows, cols = Destination.WELL_PLATE_PRESETS[plate_type]\n",
    "    row_labels = list(\"ABCDEFGHIJKLMNOPQRSTUVWXYZ\"[:rows])\n",
    "    col_labels = list(range(1, cols + 1))\n",
    "\n",
    "    well_df = pd.DataFrame(np.zeros((rows, cols), dtype=int), index=row_labels, columns=col_labels)\n",
    "    return well_df\n",
    "\n",
    "class SharedSettings:\n",
    "    def __init__(self, routine: Routine):\n",
    "        self.lock = threading.Lock()\n",
    "        self.cuboid_chosen = False\n",
    "        self.local_timer_set = False\n",
    "        self.routine = routine\n",
    "        self.stop_event = threading.Event()\n",
    "        self.pause_event = threading.Event()\n",
    "        self.pause_event.set()\n",
    "\n",
    "class PickingProcedure():\n",
    "    def __init__(self, shared_settings):\n",
    "        self.coord_queue = queue.Queue()\n",
    "        self.cr = core.Core()\n",
    "        self.shared_settings_inst = shared_settings\n",
    "\n",
    "        # ----------------------Robot configs-----------------------\n",
    "        self.calibration_data = utils.load_calibration_config(calibration_profile)\n",
    "        self.tf_mtx = np.array(self.calibration_data['tf_mtx'])\n",
    "        self.calib_origin = np.array(self.calibration_data['calib_origin'])[:2]\n",
    "        self.offset = np.array(self.calibration_data['offset'])\n",
    "        self.size_conversion_ratio = self.calibration_data['size_conversion_ratio']\n",
    "        self.one_d_ratio = self.calibration_data['one_d_ratio']\n",
    "\n",
    "        # ----------------------Picking configs-----------------------\n",
    "        self.vol = 10\n",
    "        self.dish_bottom = 10.2 #10.60 for 300ul, 9.5 for 200ul\n",
    "        self.pickup_offset = 0.5\n",
    "        self.pickup_height = self.dish_bottom + self.pickup_offset\n",
    "        self.flow_rate = 50\n",
    "        self.cuboid_size_theshold = (250, 500)\n",
    "        self.failure_threshold = 0.5\n",
    "        self.minimum_distance = 1.7\n",
    "\n",
    "        # ----------------------Deposit configs-----------------------\n",
    "        self.well_offset_x = 0 \n",
    "        self.well_offset_y = 0 \n",
    "\n",
    "        # ----------------------Video configs-----------------------\n",
    "        self.circle_center = (int(1296.0), int(972.0))\n",
    "        self.circle_radius = 900\n",
    "\n",
    "        self.isolated = []\n",
    "        self.pickable_cuboids = []\n",
    "\n",
    "    def cv_pipeline(self, frame):\n",
    "        mask = np.zeros_like(frame, dtype=np.uint8)\n",
    "        cv2.circle(mask, self.circle_center, self.circle_radius + int(self.minimum_distance / self.one_d_ratio), (255, 255, 255), -1)\n",
    "        masked_frame = cv2.bitwise_and(frame, mask)\n",
    "\n",
    "        gray = cv2.cvtColor(masked_frame, cv2.COLOR_BGR2GRAY)\n",
    "        blur = cv2.GaussianBlur(gray, (11, 11), 0)\n",
    "        thresh = cv2.adaptiveThreshold(blur, 255, cv2.ADAPTIVE_THRESH_GAUSSIAN_C,cv2.THRESH_BINARY_INV,25,2) \n",
    "        kernel = np.ones((3,3),np.uint8)\n",
    "        thresh = cv2.morphologyEx(thresh, cv2.MORPH_OPEN, kernel, iterations=1)\n",
    "        mask_inv = cv2.cvtColor(mask, cv2.COLOR_BGR2GRAY)\n",
    "        thresh = cv2.bitwise_and(thresh, mask_inv)\n",
    "\n",
    "        # Find contours in the masked frame\n",
    "        contours, hei = cv2.findContours(thresh, cv2.RETR_TREE, cv2.CHAIN_APPROX_SIMPLE)\n",
    "        filtered_contours = [contour for contour in contours if 30 < cv2.contourArea(contour) < 1000]\n",
    "        self.cr.cuboids = filtered_contours\n",
    "        self.cr.cuboid_dataframe(self.cr.cuboids)\n",
    "\n",
    "        cuboid_size_micron2 = self.cr.cuboid_df.area * self.size_conversion_ratio * 1000000\n",
    "        cuboid_diameter = 2 * np.sqrt(cuboid_size_micron2 / np.pi)\n",
    "        dist_mm = self.cr.cuboid_df.min_dist * self.one_d_ratio\n",
    "        self.cr.cuboid_df['diameter_microns'] = cuboid_diameter\n",
    "        self.cr.cuboid_df['min_dist_mm'] = dist_mm\n",
    "        self.cr.cuboid_df['bubble'] = self.cr.cuboid_df.apply(lambda row: not bool(thresh[int(row['cY']), int(row['cX'])]), axis=1)\n",
    "        \n",
    "        # Filter out elongated contours\n",
    "        self.pickable_cuboids = self.cr.cuboid_df.loc[(self.cuboid_size_theshold[0] < self.cr.cuboid_df['diameter_microns']) & \n",
    "                                            (self.cr.cuboid_df['diameter_microns'] < self.cuboid_size_theshold[1]) &\n",
    "                                            ((self.cr.cuboid_df['aspect_ratio'] > 0.75) | (self.cr.cuboid_df['aspect_ratio'] < 1.25)) &\n",
    "                                            (self.cr.cuboid_df['circularity'] > 0.6) & \n",
    "                                            (self.cr.cuboid_df['bubble'] != True)].copy()\n",
    "\n",
    "        # Check if cuboid centers are within the circle radius from the current circle center\n",
    "        self.pickable_cuboids['distance_to_center'] = self.pickable_cuboids.apply(\n",
    "            lambda row: np.sqrt((row['cX'] - self.circle_center[0])**2 + (row['cY'] - self.circle_center[1])**2), axis=1\n",
    "        )\n",
    "        self.pickable_cuboids = self.pickable_cuboids[self.pickable_cuboids['distance_to_center'] <= self.circle_radius]\n",
    "        self.isolated = self.pickable_cuboids.loc[self.pickable_cuboids.min_dist_mm > self.minimum_distance]\n",
    "\n",
    "    def draw_annotations(self, frame, coords_tuple):\n",
    "        cv2.circle(frame, self.circle_center, self.circle_radius + int(self.minimum_distance / self.one_d_ratio), (0, 0, 255), 2)\n",
    "        cv2.circle(frame, self.circle_center, self.circle_radius, (0, 255, 0), 2)\n",
    "        x,y,z = coords_tuple\n",
    "        cv2.putText(frame, f\"Robot coords: ({x:.2f}, {y:.2f}, {z:.2f})\", (10, 30), cv2.FONT_HERSHEY_SIMPLEX, 1, (0, 255, 0), 2)\n",
    "        if self.routine.current_well is None:\n",
    "            self.routine.get_next_well()\n",
    "        cv2.putText(frame, f\"Filling well: {self.routine.current_well}\", (10, 70), cv2.FONT_HERSHEY_SIMPLEX, 1, (0, 255, 0), 2)\n",
    "        if self.shared_settings_inst.pause_event.is_set():\n",
    "            cv2.putText(frame, \"Paused\", (10, 110), cv2.FONT_HERSHEY_SIMPLEX, 1, (0, 0, 255), 2)\n",
    "\n",
    "        with self.shared_settings_inst.lock:\n",
    "            cuboid_chosen = self.shared_settings_inst.cuboid_chosen\n",
    "        if not cuboid_chosen:\n",
    "            cv2.drawContours(frame, self.cr.cuboids, -1, (0, 0, 255), 2)\n",
    "            cv2.drawContours(frame, self.pickable_cuboids.contour.values.tolist(), -1, (0, 255, 255), 2)\n",
    "            cv2.drawContours(frame, self.isolated.contour.values.tolist(), -1, (0, 255, 0), 2)\n",
    "        return frame\n",
    "    \n",
    "    def video(self):\n",
    "        window = cap.get_window()\n",
    "        cuboid_choice = None\n",
    "\n",
    "        while not self.shared_settings_inst.stop_event.is_set():\n",
    "            frame = cap.get_frame(undist=True)\n",
    "            plot_frame = frame.copy()\n",
    "\n",
    "            with self.shared_settings_inst.lock:\n",
    "                cuboid_chosen = self.shared_settings_inst.cuboid_chosen\n",
    "                local_timer_set = self.shared_settings_inst.local_timer_set\n",
    "                # self.current_idx = self.shared_settings_inst.idx\n",
    "                self.routine = self.shared_settings_inst.routine\n",
    "\n",
    "            x, y, z = openapi.get_position(verbose=False)[0].values()\n",
    "            if not cuboid_chosen:\n",
    "                self.cv_pipeline(frame)\n",
    "            self.draw_annotations(plot_frame, (x, y, z))\n",
    "\n",
    "            if not self.coord_queue.full() and not cuboid_chosen and not self.shared_settings_inst.pause_event.is_set() and len(self.isolated) > 0:\n",
    "                if cuboid_choice is not None:\n",
    "                    prev_x, prev_y = cuboid_choice[['cX', 'cY']].values[0]\n",
    "                    \n",
    "                    cv2.circle(plot_frame, (int(prev_x), int(prev_y)), int(round(self.failure_threshold / self.one_d_ratio)), (255, 0, 0), 2)\n",
    "                    distances = self.cr.cuboid_df.apply(lambda row: np.sqrt((row['cX'] - prev_x)**2 + (row['cY'] - prev_y)**2), axis=1).to_numpy()\n",
    "                    distances *= self.one_d_ratio\n",
    "                    if any(distances <= self.failure_threshold):\n",
    "                        with self.shared_settings_inst.lock:\n",
    "                            self.shared_settings_inst.routine.update_well(success=False)\n",
    "                        print(f\"Miss detected at well {self.routine.current_well}.\")\n",
    "                    else:\n",
    "                        with self.shared_settings_inst.lock:\n",
    "                            self.shared_settings_inst.routine.update_well(success=True)\n",
    "                            # print(f\"Filled well {self.shared_settings_inst.routine.current_well}.\")\n",
    "                            self.shared_settings_inst.routine.get_next_well()\n",
    "                            # print(f\"Next well: {self.shared_settings_inst.routine.current_well}\")\n",
    "\n",
    "                if self.shared_settings_inst.routine.is_done():\n",
    "                    self.shared_settings_inst.stop_event.set()\n",
    "                    break\n",
    "\n",
    "                cuboid_choice = self.isolated.sample(n=1) \n",
    "                cv2.drawContours(frame, cuboid_choice.contour.values.tolist(), -1, (255, 0, 0), 2)\n",
    "                # cv2.imwrite(str(paths.BASE_DIR)+'\\\\outputs\\\\images\\\\'+f\"frame_{idx}.png\", frame)\n",
    "\n",
    "                cX, cY = cuboid_choice[['cX', 'cY']].values[0]\n",
    "                X_init, Y_init, _ = self.tf_mtx @ (cX, cY, 1)\n",
    "                x, y, _ = openapi.get_position(verbose=False)[0].values()\n",
    "                diff = np.array([x,y]) - np.array(self.calibration_data['calib_origin'])[:2]\n",
    "                X = X_init + diff[0] + self.offset[0]\n",
    "                Y = Y_init + diff[1] + self.offset[1]\n",
    "\n",
    "                next_well = self.shared_settings_inst.routine.get_next_well()\n",
    "                self.coord_queue.put((X, Y, next_well))\n",
    "                with self.shared_settings_inst.lock:\n",
    "                    self.shared_settings_inst.cuboid_chosen = True\n",
    "            elif len(self.isolated) == 0 and not self.shared_settings_inst.pause_event.is_set():\n",
    "                self.shared_settings_inst.pause_event.set()\n",
    "                print(\"No cuboids found in the selected region. Pausing...\")\n",
    "\n",
    "            cv2.imshow(cap.window_name, plot_frame)\n",
    "            key = cv2.waitKey(1) & 0xFF\n",
    "\n",
    "            if key == ord('q'):\n",
    "                self.shared_settings_inst.stop_event.set()\n",
    "            elif key == ord('p'):\n",
    "                if self.shared_settings_inst.pause_event.is_set():\n",
    "                    self.shared_settings_inst.pause_event.clear()\n",
    "                    print(\"Resuming movement...\")\n",
    "                else:\n",
    "                    print(\"Pausing movement...\")\n",
    "                    self.shared_settings_inst.pause_event.set()\n",
    "        cv2.destroyAllWindows()\n",
    "\n",
    "    def robot_movement(self):\n",
    "        openapi.move_to_coordinates((self.calib_origin[0],self.calib_origin[1],100), min_z_height=self.dish_bottom, verbose=False)\n",
    "        while not self.shared_settings_inst.stop_event.is_set():\n",
    "            if self.shared_settings_inst.pause_event.is_set():\n",
    "                time.sleep(0.1)  # Small sleep to prevent excessive CPU usage\n",
    "                continue  # Skip to next iteration while paused\n",
    "            # print(\"Moving robot...\")\n",
    "            try:\n",
    "                # with self.shared_settings_inst.lock:\n",
    "                # well = self.shared_settings_inst.routine.get_next_well()\n",
    "                # Get latest coordinates from the queue (non-blocking)\n",
    "                x, y, well = self.coord_queue.get(timeout=1)  # Timeout prevents indefinite blocking\n",
    "                openapi.move_to_coordinates((x, y, self.pickup_height+20), min_z_height=self.dish_bottom, verbose=False, force_direct=True)\n",
    "                openapi.move_to_coordinates((x, y, self.pickup_height), min_z_height=self.dish_bottom, verbose=False, force_direct=True)\n",
    "                openapi.aspirate_in_place(flow_rate = self.flow_rate, volume = self.vol)\n",
    "                openapi.move_relative('z', 20)\n",
    "\n",
    "                # print(f'actually filling well {well}')\n",
    "                openapi.move_to_well(openapi.labware_dct['6'], well, well_location='top', offset=(self.well_offset_x, self.well_offset_y, 5), verbose = False, force_direct = True)\n",
    "                openapi.dispense(openapi.labware_dct['6'], well, well_location='bottom', offset=(self.well_offset_x, self.well_offset_y, 1), volume = self.vol, flow_rate = self.flow_rate)\n",
    "                time.sleep(0.3)\n",
    "                openapi.move_to_well(openapi.labware_dct['6'], well, well_location='top', offset=(self.well_offset_x, self.well_offset_y, 5), verbose=False)\n",
    "                openapi.move_to_coordinates((self.calib_origin[0],self.calib_origin[1],100), min_z_height=self.dish_bottom, verbose=False, force_direct=True)\n",
    "                time.sleep(0.5)\n",
    "                with self.shared_settings_inst.lock:\n",
    "                    self.shared_settings_inst.cuboid_chosen = False\n",
    "                    \n",
    "            except queue.Empty:\n",
    "                pass  # No new coordinates, continue looping"
   ]
  },
  {
   "cell_type": "code",
   "execution_count": null,
   "metadata": {},
   "outputs": [
    {
     "data": {
      "text/plain": [
       "<Response [201]>"
      ]
     },
     "execution_count": 21,
     "metadata": {},
     "output_type": "execute_result"
    }
   ],
   "source": [
    "#Tip cleaning\n",
    "for i in range(5):\n",
    "    openapi.aspirate(openapi.labware_dct['3'], \"A1\", well_location = 'bottom', volume = 100, flow_rate = 200)\n",
    "    openapi.dispense(openapi.labware_dct['3'], \"A1\", well_location='bottom', volume = 100, flow_rate = 200)\n",
    "openapi.move_relative('z', 40)\n",
    "\n",
    "for i in range(5):\n",
    "    openapi.aspirate(openapi.labware_dct['3'], \"B1\", well_location = 'bottom', volume = 100, flow_rate = 200)\n",
    "    openapi.dispense(openapi.labware_dct['3'], \"B1\", well_location='bottom', volume = 100, flow_rate = 200)\n",
    "openapi.move_relative('z', 40)\n",
    "\n",
    "openapi.blow_out(openapi.labware_dct['3'], \"A2\", well_location='center', flow_rate = 200)\n",
    "openapi.aspirate(openapi.labware_dct['3'], \"A2\", well_location = 'center', volume = 10, flow_rate = 200)\n",
    "openapi.dispense(openapi.labware_dct['3'], \"A2\", well_location='center', volume = 10, flow_rate = 200)\n",
    "openapi.move_relative('z', 20)"
   ]
  },
  {
   "cell_type": "code",
   "execution_count": 30,
   "metadata": {},
   "outputs": [
    {
     "data": {
      "text/plain": [
       "<Response [201]>"
      ]
     },
     "execution_count": 30,
     "metadata": {},
     "output_type": "execute_result"
    }
   ],
   "source": [
    "# Get some picking solution into the tip\n",
    "openapi.aspirate(openapi.labware_dct['6'], \"B4\", well_location = 'bottom', volume = 20, offset=(0,0,1), flow_rate = 50)\n",
    "openapi.move_relative('z', 20)"
   ]
  },
  {
   "cell_type": "code",
   "execution_count": 25,
   "metadata": {},
   "outputs": [
    {
     "data": {
      "text/plain": [
       "<Response [201]>"
      ]
     },
     "execution_count": 25,
     "metadata": {},
     "output_type": "execute_result"
    }
   ],
   "source": [
    "openapi.dispense(openapi.labware_dct['6'], \"B4\", well_location = 'bottom', volume = 20, flow_rate = 50)"
   ]
  },
  {
   "cell_type": "code",
   "execution_count": 29,
   "metadata": {},
   "outputs": [
    {
     "data": {
      "text/plain": [
       "<Response [201]>"
      ]
     },
     "execution_count": 29,
     "metadata": {},
     "output_type": "execute_result"
    }
   ],
   "source": [
    "openapi.blow_out_in_place()"
   ]
  },
  {
   "cell_type": "code",
   "execution_count": 79,
   "metadata": {},
   "outputs": [
    {
     "data": {
      "text/html": [
       "<div>\n",
       "<style scoped>\n",
       "    .dataframe tbody tr th:only-of-type {\n",
       "        vertical-align: middle;\n",
       "    }\n",
       "\n",
       "    .dataframe tbody tr th {\n",
       "        vertical-align: top;\n",
       "    }\n",
       "\n",
       "    .dataframe thead th {\n",
       "        text-align: right;\n",
       "    }\n",
       "</style>\n",
       "<table border=\"1\" class=\"dataframe\">\n",
       "  <thead>\n",
       "    <tr style=\"text-align: right;\">\n",
       "      <th></th>\n",
       "      <th>1</th>\n",
       "      <th>2</th>\n",
       "      <th>3</th>\n",
       "      <th>4</th>\n",
       "      <th>5</th>\n",
       "      <th>6</th>\n",
       "      <th>7</th>\n",
       "      <th>8</th>\n",
       "      <th>9</th>\n",
       "      <th>10</th>\n",
       "      <th>11</th>\n",
       "      <th>12</th>\n",
       "    </tr>\n",
       "  </thead>\n",
       "  <tbody>\n",
       "    <tr>\n",
       "      <th>A</th>\n",
       "      <td>1</td>\n",
       "      <td>1</td>\n",
       "      <td>1</td>\n",
       "      <td>1</td>\n",
       "      <td>1</td>\n",
       "      <td>0</td>\n",
       "      <td>0</td>\n",
       "      <td>0</td>\n",
       "      <td>0</td>\n",
       "      <td>0</td>\n",
       "      <td>0</td>\n",
       "      <td>0</td>\n",
       "    </tr>\n",
       "    <tr>\n",
       "      <th>B</th>\n",
       "      <td>0</td>\n",
       "      <td>0</td>\n",
       "      <td>0</td>\n",
       "      <td>0</td>\n",
       "      <td>0</td>\n",
       "      <td>0</td>\n",
       "      <td>0</td>\n",
       "      <td>0</td>\n",
       "      <td>0</td>\n",
       "      <td>0</td>\n",
       "      <td>0</td>\n",
       "      <td>0</td>\n",
       "    </tr>\n",
       "    <tr>\n",
       "      <th>C</th>\n",
       "      <td>0</td>\n",
       "      <td>0</td>\n",
       "      <td>0</td>\n",
       "      <td>0</td>\n",
       "      <td>0</td>\n",
       "      <td>0</td>\n",
       "      <td>0</td>\n",
       "      <td>0</td>\n",
       "      <td>0</td>\n",
       "      <td>0</td>\n",
       "      <td>0</td>\n",
       "      <td>0</td>\n",
       "    </tr>\n",
       "    <tr>\n",
       "      <th>D</th>\n",
       "      <td>0</td>\n",
       "      <td>0</td>\n",
       "      <td>0</td>\n",
       "      <td>0</td>\n",
       "      <td>0</td>\n",
       "      <td>0</td>\n",
       "      <td>0</td>\n",
       "      <td>0</td>\n",
       "      <td>0</td>\n",
       "      <td>0</td>\n",
       "      <td>0</td>\n",
       "      <td>0</td>\n",
       "    </tr>\n",
       "    <tr>\n",
       "      <th>E</th>\n",
       "      <td>0</td>\n",
       "      <td>0</td>\n",
       "      <td>0</td>\n",
       "      <td>0</td>\n",
       "      <td>0</td>\n",
       "      <td>0</td>\n",
       "      <td>0</td>\n",
       "      <td>0</td>\n",
       "      <td>0</td>\n",
       "      <td>0</td>\n",
       "      <td>0</td>\n",
       "      <td>0</td>\n",
       "    </tr>\n",
       "    <tr>\n",
       "      <th>F</th>\n",
       "      <td>0</td>\n",
       "      <td>0</td>\n",
       "      <td>0</td>\n",
       "      <td>0</td>\n",
       "      <td>0</td>\n",
       "      <td>0</td>\n",
       "      <td>0</td>\n",
       "      <td>0</td>\n",
       "      <td>0</td>\n",
       "      <td>0</td>\n",
       "      <td>0</td>\n",
       "      <td>0</td>\n",
       "    </tr>\n",
       "    <tr>\n",
       "      <th>G</th>\n",
       "      <td>0</td>\n",
       "      <td>0</td>\n",
       "      <td>0</td>\n",
       "      <td>0</td>\n",
       "      <td>0</td>\n",
       "      <td>0</td>\n",
       "      <td>0</td>\n",
       "      <td>0</td>\n",
       "      <td>0</td>\n",
       "      <td>0</td>\n",
       "      <td>0</td>\n",
       "      <td>0</td>\n",
       "    </tr>\n",
       "    <tr>\n",
       "      <th>H</th>\n",
       "      <td>0</td>\n",
       "      <td>0</td>\n",
       "      <td>0</td>\n",
       "      <td>0</td>\n",
       "      <td>0</td>\n",
       "      <td>0</td>\n",
       "      <td>0</td>\n",
       "      <td>0</td>\n",
       "      <td>0</td>\n",
       "      <td>0</td>\n",
       "      <td>0</td>\n",
       "      <td>0</td>\n",
       "    </tr>\n",
       "  </tbody>\n",
       "</table>\n",
       "</div>"
      ],
      "text/plain": [
       "   1   2   3   4   5   6   7   8   9   10  11  12\n",
       "A   1   1   1   1   1   0   0   0   0   0   0   0\n",
       "B   0   0   0   0   0   0   0   0   0   0   0   0\n",
       "C   0   0   0   0   0   0   0   0   0   0   0   0\n",
       "D   0   0   0   0   0   0   0   0   0   0   0   0\n",
       "E   0   0   0   0   0   0   0   0   0   0   0   0\n",
       "F   0   0   0   0   0   0   0   0   0   0   0   0\n",
       "G   0   0   0   0   0   0   0   0   0   0   0   0\n",
       "H   0   0   0   0   0   0   0   0   0   0   0   0"
      ]
     },
     "execution_count": 79,
     "metadata": {},
     "output_type": "execute_result"
    }
   ],
   "source": [
    "plate_type = 96\n",
    "dest = Destination(plate_type)\n",
    "well_df = create_well_plan(plate_type)\n",
    "well_df.loc[['A'], 1:5] = 1 \n",
    "well_plan = {f\"{row}{col}\": well_df.loc[row, col] for row in well_df.index for col in well_df.columns if well_df.loc[row, col] > 0}\n",
    "well_df"
   ]
  },
  {
   "cell_type": "code",
   "execution_count": 80,
   "metadata": {},
   "outputs": [],
   "source": [
    "routine = Routine(dest, well_plan, fill_strategy=\"vertical\")"
   ]
  },
  {
   "cell_type": "code",
   "execution_count": 81,
   "metadata": {},
   "outputs": [],
   "source": [
    "shared_settings = SharedSettings(routine)\n",
    "picking = PickingProcedure(shared_settings)"
   ]
  },
  {
   "cell_type": "code",
   "execution_count": 82,
   "metadata": {},
   "outputs": [],
   "source": [
    "video_thread = threading.Thread(target=picking.video, daemon=True)\n",
    "robot_thread = threading.Thread(target=picking.robot_movement, daemon=True)\n",
    "\n",
    "# Start threads\n",
    "video_thread.start()\n",
    "robot_thread.start()\n",
    "\n",
    "# Wait for threads to finish\n",
    "video_thread.join()\n",
    "robot_thread.join()"
   ]
  },
  {
   "cell_type": "markdown",
   "metadata": {},
   "source": [
    "# Picking procedure v1"
   ]
  },
  {
   "cell_type": "code",
   "execution_count": null,
   "metadata": {},
   "outputs": [],
   "source": [
    "class Destination:\n",
    "    WELL_PLATE_PRESETS = {\n",
    "        6: (2, 3),   # 2 rows × 3 cols\n",
    "        24: (4, 6),  # 4 rows × 6 cols\n",
    "        48: (6, 8),  # 6 rows × 8 cols\n",
    "        96: (8, 12),  # 8 rows × 12 cols\n",
    "        384: (16, 24)  # 16 rows × 24 cols\n",
    "    }\n",
    "\n",
    "    def __init__(self, plate_type=None, custom_positions=None):\n",
    "        \"\"\"\n",
    "        Defines a destination, which can be a standard well plate or custom locations.\n",
    "\n",
    "        :param plate_type: Integer for a standard well plate (6, 24, 48, 96, 384).\n",
    "        :param custom_positions: List of arbitrary locations if not using a well plate.\n",
    "        \"\"\"\n",
    "        self.plate_type = plate_type\n",
    "        self.layout = self.WELL_PLATE_PRESETS.get(plate_type, None)\n",
    "        self.custom_positions = custom_positions\n",
    "        self.positions = self.generate_positions()\n",
    "\n",
    "    def generate_positions(self):\n",
    "        \"\"\"Generates well names based on plate type or uses custom positions.\"\"\"\n",
    "        if self.custom_positions:\n",
    "            return self.custom_positions  # Use provided custom locations\n",
    "        \n",
    "        if not self.layout:\n",
    "            raise ValueError(\"Invalid well plate type or missing custom positions.\")\n",
    "\n",
    "        rows, cols = self.layout\n",
    "        row_labels = string.ascii_uppercase[:rows]  # First N letters for rows\n",
    "        return [f\"{row}{col}\" for row in row_labels for col in range(1, cols + 1)]\n",
    "\n",
    "    def get_well_index(self, well_label):\n",
    "        \"\"\"Returns the index of a well label like 'A1'.\"\"\"\n",
    "        if well_label in self.positions:\n",
    "            return self.positions.index(well_label)\n",
    "        return None\n",
    "\n",
    "    def __repr__(self):\n",
    "        return f\"Destination(plate_type={self.plate_type}, positions={self.positions})\"\n",
    "\n",
    "\n",
    "class Routine:\n",
    "    def __init__(self, destination, well_plan, fill_strategy=\"well_by_well\"):\n",
    "        \"\"\"\n",
    "        Routine class for controlling how a well plate or location is filled.\n",
    "\n",
    "        :param destination: Destination object defining well plate/grid.\n",
    "        :param well_plan: Dictionary {well_label: target_count} defining objects per well.\n",
    "        :param fill_strategy: How the wells should be filled.\n",
    "                              Options: \"vertical\", \"horizontal\", \"well_by_well\", \"spread_out\"\n",
    "        \"\"\"\n",
    "        self.destination = destination\n",
    "        self.well_plan = well_plan  # {well_label: target_count}\n",
    "        self.fill_strategy = fill_strategy\n",
    "        self.filled_wells = {k: 0 for k in well_plan}\n",
    "        self.miss_counts = {k: 0 for k in well_plan}\n",
    "        self.completed = False\n",
    "        self.current_well = None\n",
    "\n",
    "    def get_fill_order(self):\n",
    "        \"\"\"Returns the order in which wells should be filled based on strategy.\"\"\"\n",
    "        wells = list(self.well_plan.keys())\n",
    "\n",
    "        if self.fill_strategy == \"vertical\":\n",
    "            return sorted(wells, key=lambda well: int(well[1:]))  # Sort by column number\n",
    "        elif self.fill_strategy == \"horizontal\":\n",
    "            return sorted(wells, key=lambda well: well[0])  # Sort by row letter\n",
    "        elif self.fill_strategy == \"spread_out\":\n",
    "            return sorted(wells, key=lambda well: self.well_plan[well])  # Spread out based on needs\n",
    "        else:  # Default: well_by_well\n",
    "            return wells\n",
    "\n",
    "    def get_next_well(self):\n",
    "        \"\"\"Returns the next well to be filled based on the strategy.\"\"\"\n",
    "        for well in self.get_fill_order():\n",
    "            if self.filled_wells[well] < self.well_plan[well]:\n",
    "                self.current_well = well\n",
    "                return well\n",
    "        self.completed = True\n",
    "        return None\n",
    "\n",
    "    def update_well(self, success=True):\n",
    "        \"\"\"Updates well status after an attempt.\"\"\"\n",
    "        if self.current_well is not None:\n",
    "            if success:\n",
    "                self.filled_wells[self.current_well] += 1\n",
    "            else:\n",
    "                self.miss_counts[self.current_well] += 1\n",
    "\n",
    "    def is_done(self):\n",
    "        \"\"\"Checks if routine is completed.\"\"\"\n",
    "        return self.completed\n",
    "\n",
    "def create_well_plan(plate_type):\n",
    "    \"\"\"Creates an empty DataFrame for well input based on the plate size.\"\"\"\n",
    "    rows, cols = Destination.WELL_PLATE_PRESETS[plate_type]\n",
    "    row_labels = list(\"ABCDEFGHIJKLMNOPQRSTUVWXYZ\"[:rows])\n",
    "    col_labels = list(range(1, cols + 1))\n",
    "\n",
    "    well_df = pd.DataFrame(np.zeros((rows, cols), dtype=int), index=row_labels, columns=col_labels)\n",
    "    return well_df\n",
    "\n",
    "def is_instance_of_type(value: Any, expected_type: Any) -> bool:\n",
    "    origin = get_origin(expected_type)\n",
    "    args = get_args(expected_type)\n",
    "\n",
    "    if origin is None:\n",
    "        return isinstance(value, expected_type)\n",
    "\n",
    "    if origin is Union:\n",
    "        return any(is_instance_of_type(value, arg) for arg in args)\n",
    "\n",
    "    if origin is tuple:\n",
    "        if len(args) == 2 and args[1] is ...:  # Tuple[int, ...]\n",
    "            return isinstance(value, tuple) and all(is_instance_of_type(v, args[0]) for v in value)\n",
    "        return (\n",
    "            isinstance(value, tuple)\n",
    "            and len(value) == len(args)\n",
    "            and all(is_instance_of_type(v, t) for v, t in zip(value, args))\n",
    "        )\n",
    "\n",
    "    if origin is list:\n",
    "        return isinstance(value, list) and all(is_instance_of_type(v, args[0]) for v in value)\n",
    "\n",
    "    if origin is dict:\n",
    "        return (\n",
    "            isinstance(value, dict)\n",
    "            and all(is_instance_of_type(k, args[0]) and is_instance_of_type(v, args[1]) for k, v in value.items())\n",
    "        )\n",
    "\n",
    "    return isinstance(value, expected_type)\n",
    "\n",
    "class MarkdownLogger:\n",
    "    def __init__(self, log_dir=paths.LOGS_DIR, experiment_name=None, settings: dict = None, well_plate: pd.DataFrame = None):\n",
    "        os.makedirs(log_dir, exist_ok=True)\n",
    "        timestamp = datetime.datetime.now().strftime(\"%Y%m%d_%H%M%S\")\n",
    "        if experiment_name is None:\n",
    "            experiment_name = f\"experiment_{timestamp}\"\n",
    "        self.log_file = os.path.join(log_dir, f\"{experiment_name}_log_{timestamp}.md\")\n",
    "        self._start_log(experiment_name, settings, well_plate)\n",
    "\n",
    "    def _start_log(self, experiment_name, settings, well_plate):\n",
    "        with open(self.log_file, 'w') as f:\n",
    "            f.write(f\"# Log for {experiment_name}\\n\")\n",
    "            f.write(f\"_Started on {datetime.datetime.now().strftime('%Y-%m-%d %H:%M:%S')}_\\n\\n\")\n",
    "            \n",
    "            if settings:\n",
    "                f.write(\"## Settings\\n\\n\")\n",
    "                f.write(\"| Key | Value |\\n\")\n",
    "                f.write(\"| --- | ----- |\\n\")\n",
    "                for key, value in settings.items():\n",
    "                    f.write(f\"| `{key}` | `{value}` |\\n\")\n",
    "                f.write(\"\\n\")\n",
    "\n",
    "            if well_plate is not None:\n",
    "                f.write(\"## Well Plate Plan\\n\\n\")\n",
    "                f.write(well_plate.to_markdown(index=True))\n",
    "                f.write(\"\\n\\n\")\n",
    "\n",
    "    def log_table(self, df: pd.DataFrame, title: str = \"Table\"):\n",
    "        timestamp = datetime.datetime.now().strftime('%Y-%m-%d %H:%M:%S')\n",
    "        with open(self.log_file, 'a') as f:\n",
    "            f.write(f\"- **[{timestamp}]** {title}\\n\\n\")\n",
    "            f.write(df.to_markdown(index=False) + '\\n\\n')\n",
    "\n",
    "    def log(self, message):\n",
    "        timestamp = datetime.datetime.now().strftime('%Y-%m-%d %H:%M:%S')\n",
    "        with open(self.log_file, 'a') as f:\n",
    "            f.write(f\"- **[{timestamp}]** {message}\\n\")\n",
    "\n",
    "    def log_section(self, title):\n",
    "        with open(self.log_file, 'a') as f:\n",
    "            f.write(f\"\\n## {title}\\n\\n\")\n",
    "\n",
    "@dataclass\n",
    "class PickingConfig:\n",
    "    vol: float = 10.0\n",
    "    dish_bottom: float = 10.3 #10.60 for 300ul, 9.5 for 200ul\n",
    "    pickup_offset: float = 0.5\n",
    "    pickup_height: float = dish_bottom + pickup_offset\n",
    "    flow_rate: float = 50.0\n",
    "    cuboid_size_theshold: tuple[int, int] = (250, 500)\n",
    "    failure_threshold: float = 0.5\n",
    "    minimum_distance: float = 1.7\n",
    "    wait_time_after_deposit: float = 0.5\n",
    "\n",
    "    # ----------------------Deposit configs-----------------------\n",
    "    well_offset_x: float = -0.3 #384 well plate\n",
    "    well_offset_y: float = -0.9 #384 well plate\n",
    "    deposit_offset_z: float = 0.5\n",
    "\n",
    "    # ----------------------Video configs-----------------------\n",
    "    circle_center: tuple[int, int] = (1296, 972)\n",
    "    circle_radius: int = 900\n",
    "    contour_filter_window: tuple[int, int] = (30, 1000)  # min and max area for contour filtering\n",
    "    aspect_ratio_window: tuple[float, float] = (0.75, 1.25)  # min and max aspect ratio for contour filtering\n",
    "    circularity_window: tuple[float, float] = (0.6, 0.9)  # circularity range for contour filtering\n",
    "\n",
    "    @classmethod\n",
    "    def from_dict(cls, data: dict) -> \"PickingConfig\":\n",
    "        type_hints = get_type_hints(cls)\n",
    "        init_args = {}\n",
    "\n",
    "        for f in fields(cls):\n",
    "            name = f.name\n",
    "            if name in data:\n",
    "                value = data[name]\n",
    "            elif f.default is not MISSING:\n",
    "                value = f.default\n",
    "            else:\n",
    "                raise ValueError(f\"Missing required field: {name}\")\n",
    "\n",
    "            expected_type = type_hints[name]\n",
    "            if not is_instance_of_type(value, expected_type):\n",
    "                raise TypeError(f\"Field '{name}' is expected to be {expected_type}, got {type(value)}\")\n",
    "\n",
    "            init_args[name] = value\n",
    "\n",
    "        return cls(**init_args)\n",
    "\n",
    "    def to_dict(self):\n",
    "        return asdict(self)\n",
    "\n",
    "class SharedSettings:\n",
    "    def __init__(self, routine: Routine):\n",
    "        self.lock = threading.Lock()\n",
    "        self.cuboid_chosen = False\n",
    "        self.local_timer_set = False\n",
    "        self.routine = routine\n",
    "        self.stop_event = threading.Event()\n",
    "        self.pause_event = threading.Event()\n",
    "        self.pause_event.set()\n",
    "\n",
    "class PickingProcedure():\n",
    "    def __init__(self, shared_settings: SharedSettings, picking_config: PickingConfig, logger: MarkdownLogger):\n",
    "        self.coord_queue = queue.Queue()\n",
    "        self.cr = core.Core()\n",
    "        self.shared_settings_inst = shared_settings\n",
    "        self.config = picking_config\n",
    "        self.logger = logger\n",
    "\n",
    "        # ----------------------Robot configs-----------------------\n",
    "        self.calibration_data = utils.load_calibration_config(calibration_profile)\n",
    "        self.tf_mtx = np.array(self.calibration_data['tf_mtx'])\n",
    "        self.calib_origin = np.array(self.calibration_data['calib_origin'])[:2]\n",
    "        self.offset = np.array(self.calibration_data['offset'])\n",
    "        self.size_conversion_ratio = self.calibration_data['size_conversion_ratio']\n",
    "        self.one_d_ratio = self.calibration_data['one_d_ratio']\n",
    "\n",
    "        self.isolated = []\n",
    "        self.pickable_cuboids = []\n",
    "\n",
    "    def cv_pipeline(self, frame):\n",
    "        mask = np.zeros_like(frame, dtype=np.uint8)\n",
    "        cv2.circle(mask, self.config.circle_center, self.config.circle_radius + int(self.config.minimum_distance / self.one_d_ratio), (255, 255, 255), -1)\n",
    "        masked_frame = cv2.bitwise_and(frame, mask)\n",
    "\n",
    "        gray = cv2.cvtColor(masked_frame, cv2.COLOR_BGR2GRAY)\n",
    "        blur = cv2.GaussianBlur(gray, (11, 11), 0)\n",
    "        thresh = cv2.adaptiveThreshold(blur, 255, cv2.ADAPTIVE_THRESH_GAUSSIAN_C,cv2.THRESH_BINARY_INV,47,3) \n",
    "        kernel = np.ones((3,3),np.uint8)\n",
    "        thresh = cv2.morphologyEx(thresh, cv2.MORPH_OPEN, kernel, iterations=1)\n",
    "        mask_inv = cv2.cvtColor(mask, cv2.COLOR_BGR2GRAY)\n",
    "        thresh = cv2.bitwise_and(thresh, mask_inv)\n",
    "\n",
    "        # Find contours in the masked frame\n",
    "        contours, hei = cv2.findContours(thresh, cv2.RETR_TREE, cv2.CHAIN_APPROX_SIMPLE)\n",
    "        filtered_contours = [contour for contour in contours if self.config.contour_filter_window[0] < cv2.contourArea(contour) < self.config.contour_filter_window[1]]\n",
    "        self.cr.cuboids = filtered_contours\n",
    "        self.cr.cuboid_dataframe(self.cr.cuboids)\n",
    "\n",
    "        cuboid_size_micron2 = self.cr.cuboid_df.area * self.size_conversion_ratio * 10e5\n",
    "        cuboid_diameter = 2 * np.sqrt(cuboid_size_micron2 / np.pi)\n",
    "        dist_mm = self.cr.cuboid_df.min_dist * self.one_d_ratio\n",
    "        self.cr.cuboid_df['diameter_microns'] = cuboid_diameter\n",
    "        self.cr.cuboid_df['min_dist_mm'] = dist_mm\n",
    "        self.cr.cuboid_df['bubble'] = self.cr.cuboid_df.apply(lambda row: not bool(thresh[int(row['cY']), int(row['cX'])]), axis=1)\n",
    "        # self.cr.cuboid_df['in_range'] = self.cr.cuboid_df['diameter_microns'].between(self.config.cuboid_size_theshold[0], self.config.cuboid_size_theshold[1])\n",
    "        \n",
    "        # Filter out elongated contours\n",
    "        self.pickable_cuboids = self.cr.cuboid_df.loc[(self.config.cuboid_size_theshold[0] < self.cr.cuboid_df['diameter_microns']) & \n",
    "                                            (self.cr.cuboid_df['diameter_microns'] < self.config.cuboid_size_theshold[1]) &\n",
    "                                            ((self.cr.cuboid_df['aspect_ratio'] > self.config.aspect_ratio_window[0]) | \n",
    "                                             (self.cr.cuboid_df['aspect_ratio'] < self.config.aspect_ratio_window[1])) &\n",
    "                                            ((self.cr.cuboid_df['circularity'] > self.config.circularity_window[0]) |\n",
    "                                             (self.cr.cuboid_df['circularity'] < self.config.circularity_window[1])) & \n",
    "                                            (self.cr.cuboid_df['bubble'] != True)].copy()\n",
    "\n",
    "        # Check if cuboid centers are within the circle radius from the current circle center\n",
    "        self.pickable_cuboids['distance_to_center'] = self.pickable_cuboids.apply(\n",
    "            lambda row: np.sqrt((row['cX'] - self.config.circle_center[0])**2 + (row['cY'] - self.config.circle_center[1])**2), axis=1\n",
    "        )\n",
    "        self.pickable_cuboids = self.pickable_cuboids[self.pickable_cuboids['distance_to_center'] <= self.config.circle_radius]\n",
    "        self.isolated = self.pickable_cuboids.loc[self.pickable_cuboids.min_dist_mm > self.config.minimum_distance]\n",
    "\n",
    "    def draw_annotations(self, frame, coords_tuple):\n",
    "        cv2.circle(frame, self.config.circle_center, self.config.circle_radius + int(self.config.minimum_distance / self.one_d_ratio), (0, 0, 255), 2)\n",
    "        cv2.circle(frame, self.config.circle_center, self.config.circle_radius, (0, 255, 0), 2)\n",
    "        x,y,z = coords_tuple\n",
    "        # Add a black rectangle behind the text\n",
    "        text_background_height = 250  # Adjust height to fit all text lines\n",
    "        text_background_width = 320  # Full width of the frame\n",
    "        cv2.rectangle(frame, (0, 0), (text_background_width, text_background_height), (0, 0, 0), -1)\n",
    "        # cv2.putText(frame, f\"Robot coords: ({x:.2f}, {y:.2f}, {z:.2f})\", (10, 30), cv2.FONT_HERSHEY_SIMPLEX, 1, (0, 255, 0), 2)\n",
    "        if self.routine.current_well is None:\n",
    "            self.routine.get_next_well()\n",
    "        cv2.putText(frame, f\"Filling well: {self.routine.current_well}\", (10, 70), cv2.FONT_HERSHEY_SIMPLEX, 1, (0, 255, 0), 2)\n",
    "        if self.shared_settings_inst.pause_event.is_set():\n",
    "            cv2.putText(frame, \"Paused\", (10, 30), cv2.FONT_HERSHEY_SIMPLEX, 1, (0, 0, 255), 2)\n",
    "\n",
    "        with self.shared_settings_inst.lock:\n",
    "            cuboid_chosen = self.shared_settings_inst.cuboid_chosen\n",
    "        if not cuboid_chosen:\n",
    "            cv2.drawContours(frame, self.cr.cuboids, -1, (0, 0, 255), 2)\n",
    "            cv2.drawContours(frame, self.pickable_cuboids.contour.values.tolist(), -1, (0, 255, 255), 2)\n",
    "            cv2.drawContours(frame, self.isolated.contour.values.tolist(), -1, (0, 255, 0), 2)\n",
    "            cv2.putText(frame, f\"# Objects: {len(self.cr.cuboids)}\", (10, 110), cv2.FONT_HERSHEY_SIMPLEX, 1, (0, 255, 0), 2)\n",
    "            cv2.putText(frame, f\"# Pickable: {len(self.pickable_cuboids)}\", (10, 150), cv2.FONT_HERSHEY_SIMPLEX, 1, (0, 255, 0), 2)\n",
    "            cv2.putText(frame, f\"# Isolated: {len(self.isolated)}\", (10, 190), cv2.FONT_HERSHEY_SIMPLEX, 1, (0, 255, 0), 2)\n",
    "            cuboids_in_size_range = self.cr.cuboid_df.loc[(self.config.cuboid_size_theshold[0] < self.cr.cuboid_df['diameter_microns']) & \n",
    "                                            (self.cr.cuboid_df['diameter_microns'] < self.config.cuboid_size_theshold[1])].copy()\n",
    "            cv2.putText(frame, f\"# In size range: {len(cuboids_in_size_range)}\", (10, 230), cv2.FONT_HERSHEY_SIMPLEX, 1, (0, 255, 0), 2)\n",
    "\n",
    "        return frame\n",
    "    \n",
    "    def video(self):\n",
    "        # window = cap.get_window()\n",
    "        cv2.namedWindow(\"video\", cv2.WINDOW_NORMAL)\n",
    "        cv2.resizeWindow(\"video\", 1348, 1011)\n",
    "        cuboid_choice = None\n",
    "\n",
    "        while not self.shared_settings_inst.stop_event.is_set():\n",
    "            # frame = cap.get_frame(undist=True)\n",
    "            ret, frame = over_cam.read()\n",
    "            frame = frame_ops.undistort_frame(frame)\n",
    "            plot_frame = frame.copy()\n",
    "\n",
    "            with self.shared_settings_inst.lock:\n",
    "                cuboid_chosen = self.shared_settings_inst.cuboid_chosen\n",
    "                local_timer_set = self.shared_settings_inst.local_timer_set\n",
    "                # self.current_idx = self.shared_settings_inst.idx\n",
    "                self.routine = self.shared_settings_inst.routine\n",
    "\n",
    "            x, y, z = openapi.get_position(verbose=False)[0].values()\n",
    "            if not cuboid_chosen:\n",
    "                self.cv_pipeline(frame)\n",
    "            self.draw_annotations(plot_frame, (x, y, z))\n",
    "\n",
    "            if not self.coord_queue.full() and not cuboid_chosen and not self.shared_settings_inst.pause_event.is_set() and len(self.isolated) > 0:\n",
    "                if cuboid_choice is not None:\n",
    "                    prev_x, prev_y = cuboid_choice[['cX', 'cY']].values[0]\n",
    "                    \n",
    "                    cv2.circle(plot_frame, (int(prev_x), int(prev_y)), int(round(self.config.failure_threshold / self.one_d_ratio)), (255, 0, 0), 2)\n",
    "                    check_miss_df = self.cr.cuboid_df.loc[(self.cr.cuboid_df['bubble'] != True)].copy()\n",
    "                    distances = check_miss_df.apply(lambda row: np.sqrt((row['cX'] - prev_x)**2 + (row['cY'] - prev_y)**2), axis=1).to_numpy()\n",
    "                    distances *= self.one_d_ratio\n",
    "                    if any(distances <= self.config.failure_threshold):\n",
    "                        with self.shared_settings_inst.lock:\n",
    "                            self.shared_settings_inst.routine.update_well(success=False)\n",
    "                        print(f\"Miss detected at well {self.routine.current_well}.\")\n",
    "                        self.logger.log(f\"Miss detected at well {self.routine.current_well}.\")\n",
    "                    else:\n",
    "                        with self.shared_settings_inst.lock:\n",
    "                            self.shared_settings_inst.routine.update_well(success=True)\n",
    "                            self.shared_settings_inst.routine.get_next_well()\n",
    "\n",
    "                if self.shared_settings_inst.routine.is_done():\n",
    "                    self.shared_settings_inst.stop_event.set()\n",
    "                    break\n",
    "\n",
    "                cuboid_choice = self.isolated.sample(n=1)\n",
    "                cv2.drawContours(frame, cuboid_choice.contour.values.tolist(), -1, (255, 0, 0), 2)\n",
    "                # cv2.imwrite(str(paths.BASE_DIR)+'\\\\outputs\\\\images\\\\'+f\"frame_{idx}.png\", frame)\n",
    "\n",
    "                cX, cY = cuboid_choice[['cX', 'cY']].values[0]\n",
    "                X_init, Y_init, _ = self.tf_mtx @ (cX, cY, 1)\n",
    "                x, y, _ = openapi.get_position(verbose=False)[0].values()\n",
    "                diff = np.array([x,y]) - np.array(self.calibration_data['calib_origin'])[:2]\n",
    "                X = X_init + diff[0] + self.offset[0]\n",
    "                Y = Y_init + diff[1] + self.offset[1]\n",
    "\n",
    "                next_well = self.shared_settings_inst.routine.get_next_well()\n",
    "                self.coord_queue.put((X, Y, next_well))\n",
    "\n",
    "                self.logger.log_table(cuboid_choice.loc[:, cuboid_choice.columns != 'contour'], title=f\"Filling well {next_well}\")\n",
    "\n",
    "                with self.shared_settings_inst.lock:\n",
    "                    self.shared_settings_inst.cuboid_chosen = True\n",
    "            elif len(self.isolated) == 0 and not self.shared_settings_inst.pause_event.is_set():\n",
    "                self.shared_settings_inst.pause_event.set()\n",
    "                print(\"No cuboids found in the selected region. Pausing...\")\n",
    "                self.logger.log(\"No cuboids found in the selected region. Pausing...\")\n",
    "\n",
    "            cv2.imshow(\"video\", plot_frame)\n",
    "            key = cv2.waitKey(1) & 0xFF\n",
    "\n",
    "            if key == ord('q'):\n",
    "                self.shared_settings_inst.stop_event.set()\n",
    "            elif key == ord('p'):\n",
    "                if self.shared_settings_inst.pause_event.is_set():\n",
    "                    self.shared_settings_inst.pause_event.clear()\n",
    "                    print(\"Resuming movement...\")\n",
    "                else:\n",
    "                    print(\"Pausing movement...\")\n",
    "                    self.shared_settings_inst.pause_event.set()\n",
    "        self.logger.log(\"Picking procedure finished.\")\n",
    "        cv2.destroyAllWindows()\n",
    "\n",
    "    def robot_movement(self):\n",
    "        openapi.move_to_coordinates((self.calib_origin[0],self.calib_origin[1],100), min_z_height=self.config.dish_bottom, verbose=False)\n",
    "        while not self.shared_settings_inst.stop_event.is_set():\n",
    "            if self.shared_settings_inst.pause_event.is_set():\n",
    "                time.sleep(0.1)  # Small sleep to prevent excessive CPU usage\n",
    "                continue  # Skip to next iteration while paused\n",
    "            # print(\"Moving robot...\")\n",
    "            try:\n",
    "                # with self.shared_settings_inst.lock:\n",
    "                # well = self.shared_settings_inst.routine.get_next_well()\n",
    "                # Get latest coordinates from the queue (non-blocking)\n",
    "                x, y, well = self.coord_queue.get(timeout=1)  # Timeout prevents indefinite blocking\n",
    "                openapi.move_to_coordinates((x, y, self.config.pickup_height+20), min_z_height=self.config.dish_bottom, verbose=False, force_direct=True)\n",
    "                openapi.move_to_coordinates((x, y, self.config.pickup_height), min_z_height=self.config.dish_bottom, verbose=False, force_direct=True)\n",
    "                openapi.aspirate_in_place(flow_rate = self.config.flow_rate, volume = self.config.vol)\n",
    "                openapi.move_relative('z', 20)\n",
    "\n",
    "                # print(f'actually filling well {well}')\n",
    "                openapi.move_to_well(openapi.labware_dct['6'], well, well_location='top', offset=(self.config.well_offset_x, self.config.well_offset_y, 5), verbose = False, force_direct = True)\n",
    "                openapi.dispense(openapi.labware_dct['6'], well, well_location='bottom', offset=(self.config.well_offset_x, self.config.well_offset_y, self.config.deposit_offset_z), volume = self.config.vol, flow_rate = self.config.flow_rate)\n",
    "                time.sleep(self.config.wait_time_after_deposit)\n",
    "                openapi.move_to_well(openapi.labware_dct['6'], well, well_location='top', offset=(self.config.well_offset_x, self.config.well_offset_y, 5), verbose=False)\n",
    "                openapi.move_to_coordinates((self.calib_origin[0],self.calib_origin[1],100), min_z_height=self.config.dish_bottom, verbose=False, force_direct=True)\n",
    "                time.sleep(0.5)\n",
    "                with self.shared_settings_inst.lock:\n",
    "                    self.shared_settings_inst.cuboid_chosen = False\n",
    "                    \n",
    "            except queue.Empty:\n",
    "                pass  # No new coordinates, continue looping"
   ]
  },
  {
   "cell_type": "code",
   "execution_count": 55,
   "metadata": {},
   "outputs": [
    {
     "data": {
      "text/plain": [
       "<Response [201]>"
      ]
     },
     "execution_count": 55,
     "metadata": {},
     "output_type": "execute_result"
    }
   ],
   "source": [
    "#Tip cleaning\n",
    "for i in range(5):\n",
    "    openapi.aspirate(openapi.labware_dct['3'], \"A1\", well_location = 'bottom', volume = 100, flow_rate = 200)\n",
    "    openapi.dispense(openapi.labware_dct['3'], \"A1\", well_location='bottom', volume = 100, flow_rate = 200)\n",
    "openapi.move_relative('z', 40)\n",
    "\n",
    "for i in range(5):\n",
    "    openapi.aspirate(openapi.labware_dct['3'], \"B1\", well_location = 'bottom', volume = 100, flow_rate = 200)\n",
    "    openapi.dispense(openapi.labware_dct['3'], \"B1\", well_location='bottom', volume = 100, flow_rate = 200)\n",
    "openapi.move_relative('z', 40)\n",
    "\n",
    "openapi.blow_out(openapi.labware_dct['3'], \"B2\", well_location='center', flow_rate = 200)\n",
    "openapi.aspirate(openapi.labware_dct['3'], \"B2\", well_location = 'center', volume = 10, flow_rate = 200)\n",
    "openapi.dispense(openapi.labware_dct['3'], \"B2\", well_location='center', volume = 10, flow_rate = 200)\n",
    "openapi.move_relative('z', 20)"
   ]
  },
  {
   "cell_type": "code",
   "execution_count": 57,
   "metadata": {},
   "outputs": [
    {
     "data": {
      "text/plain": [
       "<Response [201]>"
      ]
     },
     "execution_count": 57,
     "metadata": {},
     "output_type": "execute_result"
    }
   ],
   "source": [
    "for i in range(5):\n",
    "    openapi.aspirate(openapi.labware_dct['3'], \"A2\", well_location = 'bottom', volume = 100, flow_rate = 200)\n",
    "    openapi.dispense(openapi.labware_dct['3'], \"A2\", well_location='bottom', volume = 100, flow_rate = 200)\n",
    "openapi.move_relative('z', 40)"
   ]
  },
  {
   "cell_type": "code",
   "execution_count": 56,
   "metadata": {},
   "outputs": [
    {
     "data": {
      "text/plain": [
       "<Response [201]>"
      ]
     },
     "execution_count": 56,
     "metadata": {},
     "output_type": "execute_result"
    }
   ],
   "source": [
    "openapi.aspirate(openapi.labware_dct['3'], \"A2\", well_location = 'bottom', volume = 20, flow_rate = 50)\n",
    "openapi.move_relative('z', 50)"
   ]
  },
  {
   "cell_type": "code",
   "execution_count": 68,
   "metadata": {},
   "outputs": [
    {
     "data": {
      "text/plain": [
       "<Response [201]>"
      ]
     },
     "execution_count": 68,
     "metadata": {},
     "output_type": "execute_result"
    }
   ],
   "source": [
    "openapi.move_relative('z', 40)"
   ]
  },
  {
   "cell_type": "code",
   "execution_count": 67,
   "metadata": {},
   "outputs": [
    {
     "data": {
      "text/plain": [
       "<Response [201]>"
      ]
     },
     "execution_count": 67,
     "metadata": {},
     "output_type": "execute_result"
    }
   ],
   "source": [
    "x_offset = 1\n",
    "y_offset = -1.5\n",
    "openapi.move_to_well(openapi.labware_dct['6'], \"A1\", well_location=\"top\", offset=(x_offset, y_offset, 1))"
   ]
  },
  {
   "cell_type": "code",
   "execution_count": null,
   "metadata": {},
   "outputs": [],
   "source": [
    "picking_settings = {'vol': 10.0,\n",
    "                    'dish_bottom': 10.2,\n",
    "                    'pickup_offset': 0.5,\n",
    "                    'flow_rate': 50.0,\n",
    "                    'cuboid_size_theshold': (350, 500),\n",
    "                    'failure_threshold': 0.5,\n",
    "                    'minimum_distance': 1.9,\n",
    "                    'wait_time_after_deposit': 0.3,\n",
    "                    'well_offset_x': 1.0,\n",
    "                    'well_offset_y': -1.5,\n",
    "                    'deposit_offset_z': 1.0,\n",
    "                    'circle_center': (1296, 972),\n",
    "                    'circle_radius': 900,\n",
    "                    'contour_filter_window': (50, 3000),\n",
    "                    'aspect_ratio_window': (0.75, 1.25),\n",
    "                    'circularity_window': (0.6, 0.9)}\n",
    "\n",
    "picking_config = PickingConfig.from_dict(picking_settings)"
   ]
  },
  {
   "cell_type": "code",
   "execution_count": 68,
   "metadata": {},
   "outputs": [
    {
     "data": {
      "text/plain": [
       "<Response [201]>"
      ]
     },
     "execution_count": 68,
     "metadata": {},
     "output_type": "execute_result"
    }
   ],
   "source": [
    "openapi.aspirate_in_place(volume = 20, flow_rate = 50)"
   ]
  },
  {
   "cell_type": "code",
   "execution_count": 72,
   "metadata": {},
   "outputs": [
    {
     "data": {
      "text/html": [
       "<div>\n",
       "<style scoped>\n",
       "    .dataframe tbody tr th:only-of-type {\n",
       "        vertical-align: middle;\n",
       "    }\n",
       "\n",
       "    .dataframe tbody tr th {\n",
       "        vertical-align: top;\n",
       "    }\n",
       "\n",
       "    .dataframe thead th {\n",
       "        text-align: right;\n",
       "    }\n",
       "</style>\n",
       "<table border=\"1\" class=\"dataframe\">\n",
       "  <thead>\n",
       "    <tr style=\"text-align: right;\">\n",
       "      <th></th>\n",
       "      <th>1</th>\n",
       "      <th>2</th>\n",
       "      <th>3</th>\n",
       "      <th>4</th>\n",
       "      <th>5</th>\n",
       "      <th>6</th>\n",
       "      <th>7</th>\n",
       "      <th>8</th>\n",
       "      <th>9</th>\n",
       "      <th>10</th>\n",
       "      <th>...</th>\n",
       "      <th>15</th>\n",
       "      <th>16</th>\n",
       "      <th>17</th>\n",
       "      <th>18</th>\n",
       "      <th>19</th>\n",
       "      <th>20</th>\n",
       "      <th>21</th>\n",
       "      <th>22</th>\n",
       "      <th>23</th>\n",
       "      <th>24</th>\n",
       "    </tr>\n",
       "  </thead>\n",
       "  <tbody>\n",
       "    <tr>\n",
       "      <th>A</th>\n",
       "      <td>0</td>\n",
       "      <td>0</td>\n",
       "      <td>0</td>\n",
       "      <td>0</td>\n",
       "      <td>0</td>\n",
       "      <td>0</td>\n",
       "      <td>0</td>\n",
       "      <td>0</td>\n",
       "      <td>0</td>\n",
       "      <td>0</td>\n",
       "      <td>...</td>\n",
       "      <td>0</td>\n",
       "      <td>0</td>\n",
       "      <td>0</td>\n",
       "      <td>0</td>\n",
       "      <td>0</td>\n",
       "      <td>0</td>\n",
       "      <td>0</td>\n",
       "      <td>0</td>\n",
       "      <td>0</td>\n",
       "      <td>0</td>\n",
       "    </tr>\n",
       "    <tr>\n",
       "      <th>B</th>\n",
       "      <td>0</td>\n",
       "      <td>0</td>\n",
       "      <td>0</td>\n",
       "      <td>0</td>\n",
       "      <td>0</td>\n",
       "      <td>0</td>\n",
       "      <td>0</td>\n",
       "      <td>0</td>\n",
       "      <td>0</td>\n",
       "      <td>0</td>\n",
       "      <td>...</td>\n",
       "      <td>0</td>\n",
       "      <td>0</td>\n",
       "      <td>0</td>\n",
       "      <td>0</td>\n",
       "      <td>0</td>\n",
       "      <td>0</td>\n",
       "      <td>0</td>\n",
       "      <td>0</td>\n",
       "      <td>0</td>\n",
       "      <td>0</td>\n",
       "    </tr>\n",
       "    <tr>\n",
       "      <th>C</th>\n",
       "      <td>0</td>\n",
       "      <td>4</td>\n",
       "      <td>4</td>\n",
       "      <td>1</td>\n",
       "      <td>1</td>\n",
       "      <td>1</td>\n",
       "      <td>1</td>\n",
       "      <td>1</td>\n",
       "      <td>1</td>\n",
       "      <td>1</td>\n",
       "      <td>...</td>\n",
       "      <td>0</td>\n",
       "      <td>0</td>\n",
       "      <td>0</td>\n",
       "      <td>0</td>\n",
       "      <td>0</td>\n",
       "      <td>0</td>\n",
       "      <td>0</td>\n",
       "      <td>0</td>\n",
       "      <td>0</td>\n",
       "      <td>0</td>\n",
       "    </tr>\n",
       "    <tr>\n",
       "      <th>D</th>\n",
       "      <td>0</td>\n",
       "      <td>4</td>\n",
       "      <td>4</td>\n",
       "      <td>1</td>\n",
       "      <td>1</td>\n",
       "      <td>1</td>\n",
       "      <td>1</td>\n",
       "      <td>1</td>\n",
       "      <td>1</td>\n",
       "      <td>1</td>\n",
       "      <td>...</td>\n",
       "      <td>0</td>\n",
       "      <td>0</td>\n",
       "      <td>0</td>\n",
       "      <td>0</td>\n",
       "      <td>0</td>\n",
       "      <td>0</td>\n",
       "      <td>0</td>\n",
       "      <td>0</td>\n",
       "      <td>0</td>\n",
       "      <td>0</td>\n",
       "    </tr>\n",
       "    <tr>\n",
       "      <th>E</th>\n",
       "      <td>0</td>\n",
       "      <td>4</td>\n",
       "      <td>4</td>\n",
       "      <td>1</td>\n",
       "      <td>1</td>\n",
       "      <td>1</td>\n",
       "      <td>1</td>\n",
       "      <td>1</td>\n",
       "      <td>1</td>\n",
       "      <td>1</td>\n",
       "      <td>...</td>\n",
       "      <td>0</td>\n",
       "      <td>0</td>\n",
       "      <td>0</td>\n",
       "      <td>0</td>\n",
       "      <td>0</td>\n",
       "      <td>0</td>\n",
       "      <td>0</td>\n",
       "      <td>0</td>\n",
       "      <td>0</td>\n",
       "      <td>0</td>\n",
       "    </tr>\n",
       "    <tr>\n",
       "      <th>F</th>\n",
       "      <td>0</td>\n",
       "      <td>4</td>\n",
       "      <td>4</td>\n",
       "      <td>1</td>\n",
       "      <td>1</td>\n",
       "      <td>1</td>\n",
       "      <td>1</td>\n",
       "      <td>1</td>\n",
       "      <td>1</td>\n",
       "      <td>1</td>\n",
       "      <td>...</td>\n",
       "      <td>0</td>\n",
       "      <td>0</td>\n",
       "      <td>0</td>\n",
       "      <td>0</td>\n",
       "      <td>0</td>\n",
       "      <td>0</td>\n",
       "      <td>0</td>\n",
       "      <td>0</td>\n",
       "      <td>0</td>\n",
       "      <td>0</td>\n",
       "    </tr>\n",
       "    <tr>\n",
       "      <th>G</th>\n",
       "      <td>0</td>\n",
       "      <td>4</td>\n",
       "      <td>4</td>\n",
       "      <td>1</td>\n",
       "      <td>1</td>\n",
       "      <td>1</td>\n",
       "      <td>1</td>\n",
       "      <td>1</td>\n",
       "      <td>1</td>\n",
       "      <td>1</td>\n",
       "      <td>...</td>\n",
       "      <td>0</td>\n",
       "      <td>0</td>\n",
       "      <td>0</td>\n",
       "      <td>0</td>\n",
       "      <td>0</td>\n",
       "      <td>0</td>\n",
       "      <td>0</td>\n",
       "      <td>0</td>\n",
       "      <td>0</td>\n",
       "      <td>0</td>\n",
       "    </tr>\n",
       "    <tr>\n",
       "      <th>H</th>\n",
       "      <td>0</td>\n",
       "      <td>4</td>\n",
       "      <td>4</td>\n",
       "      <td>1</td>\n",
       "      <td>1</td>\n",
       "      <td>1</td>\n",
       "      <td>1</td>\n",
       "      <td>1</td>\n",
       "      <td>1</td>\n",
       "      <td>1</td>\n",
       "      <td>...</td>\n",
       "      <td>0</td>\n",
       "      <td>0</td>\n",
       "      <td>0</td>\n",
       "      <td>0</td>\n",
       "      <td>0</td>\n",
       "      <td>0</td>\n",
       "      <td>0</td>\n",
       "      <td>0</td>\n",
       "      <td>0</td>\n",
       "      <td>0</td>\n",
       "    </tr>\n",
       "    <tr>\n",
       "      <th>I</th>\n",
       "      <td>0</td>\n",
       "      <td>4</td>\n",
       "      <td>4</td>\n",
       "      <td>1</td>\n",
       "      <td>1</td>\n",
       "      <td>1</td>\n",
       "      <td>1</td>\n",
       "      <td>1</td>\n",
       "      <td>1</td>\n",
       "      <td>1</td>\n",
       "      <td>...</td>\n",
       "      <td>0</td>\n",
       "      <td>0</td>\n",
       "      <td>0</td>\n",
       "      <td>0</td>\n",
       "      <td>0</td>\n",
       "      <td>0</td>\n",
       "      <td>0</td>\n",
       "      <td>0</td>\n",
       "      <td>0</td>\n",
       "      <td>0</td>\n",
       "    </tr>\n",
       "    <tr>\n",
       "      <th>J</th>\n",
       "      <td>0</td>\n",
       "      <td>4</td>\n",
       "      <td>4</td>\n",
       "      <td>1</td>\n",
       "      <td>1</td>\n",
       "      <td>1</td>\n",
       "      <td>1</td>\n",
       "      <td>1</td>\n",
       "      <td>1</td>\n",
       "      <td>1</td>\n",
       "      <td>...</td>\n",
       "      <td>0</td>\n",
       "      <td>0</td>\n",
       "      <td>0</td>\n",
       "      <td>0</td>\n",
       "      <td>0</td>\n",
       "      <td>0</td>\n",
       "      <td>0</td>\n",
       "      <td>0</td>\n",
       "      <td>0</td>\n",
       "      <td>0</td>\n",
       "    </tr>\n",
       "    <tr>\n",
       "      <th>K</th>\n",
       "      <td>0</td>\n",
       "      <td>4</td>\n",
       "      <td>4</td>\n",
       "      <td>1</td>\n",
       "      <td>1</td>\n",
       "      <td>1</td>\n",
       "      <td>1</td>\n",
       "      <td>1</td>\n",
       "      <td>1</td>\n",
       "      <td>1</td>\n",
       "      <td>...</td>\n",
       "      <td>0</td>\n",
       "      <td>0</td>\n",
       "      <td>0</td>\n",
       "      <td>0</td>\n",
       "      <td>0</td>\n",
       "      <td>0</td>\n",
       "      <td>0</td>\n",
       "      <td>0</td>\n",
       "      <td>0</td>\n",
       "      <td>0</td>\n",
       "    </tr>\n",
       "    <tr>\n",
       "      <th>L</th>\n",
       "      <td>0</td>\n",
       "      <td>4</td>\n",
       "      <td>4</td>\n",
       "      <td>1</td>\n",
       "      <td>1</td>\n",
       "      <td>1</td>\n",
       "      <td>1</td>\n",
       "      <td>1</td>\n",
       "      <td>1</td>\n",
       "      <td>1</td>\n",
       "      <td>...</td>\n",
       "      <td>0</td>\n",
       "      <td>0</td>\n",
       "      <td>0</td>\n",
       "      <td>0</td>\n",
       "      <td>0</td>\n",
       "      <td>0</td>\n",
       "      <td>0</td>\n",
       "      <td>0</td>\n",
       "      <td>0</td>\n",
       "      <td>0</td>\n",
       "    </tr>\n",
       "    <tr>\n",
       "      <th>M</th>\n",
       "      <td>0</td>\n",
       "      <td>4</td>\n",
       "      <td>4</td>\n",
       "      <td>1</td>\n",
       "      <td>1</td>\n",
       "      <td>1</td>\n",
       "      <td>1</td>\n",
       "      <td>1</td>\n",
       "      <td>1</td>\n",
       "      <td>1</td>\n",
       "      <td>...</td>\n",
       "      <td>0</td>\n",
       "      <td>0</td>\n",
       "      <td>0</td>\n",
       "      <td>0</td>\n",
       "      <td>0</td>\n",
       "      <td>0</td>\n",
       "      <td>0</td>\n",
       "      <td>0</td>\n",
       "      <td>0</td>\n",
       "      <td>0</td>\n",
       "    </tr>\n",
       "    <tr>\n",
       "      <th>N</th>\n",
       "      <td>0</td>\n",
       "      <td>4</td>\n",
       "      <td>4</td>\n",
       "      <td>1</td>\n",
       "      <td>1</td>\n",
       "      <td>1</td>\n",
       "      <td>1</td>\n",
       "      <td>1</td>\n",
       "      <td>1</td>\n",
       "      <td>1</td>\n",
       "      <td>...</td>\n",
       "      <td>0</td>\n",
       "      <td>0</td>\n",
       "      <td>0</td>\n",
       "      <td>0</td>\n",
       "      <td>0</td>\n",
       "      <td>0</td>\n",
       "      <td>0</td>\n",
       "      <td>0</td>\n",
       "      <td>0</td>\n",
       "      <td>0</td>\n",
       "    </tr>\n",
       "    <tr>\n",
       "      <th>O</th>\n",
       "      <td>0</td>\n",
       "      <td>0</td>\n",
       "      <td>0</td>\n",
       "      <td>0</td>\n",
       "      <td>0</td>\n",
       "      <td>0</td>\n",
       "      <td>0</td>\n",
       "      <td>0</td>\n",
       "      <td>0</td>\n",
       "      <td>0</td>\n",
       "      <td>...</td>\n",
       "      <td>0</td>\n",
       "      <td>0</td>\n",
       "      <td>0</td>\n",
       "      <td>0</td>\n",
       "      <td>0</td>\n",
       "      <td>0</td>\n",
       "      <td>0</td>\n",
       "      <td>0</td>\n",
       "      <td>0</td>\n",
       "      <td>0</td>\n",
       "    </tr>\n",
       "    <tr>\n",
       "      <th>P</th>\n",
       "      <td>0</td>\n",
       "      <td>0</td>\n",
       "      <td>0</td>\n",
       "      <td>0</td>\n",
       "      <td>0</td>\n",
       "      <td>0</td>\n",
       "      <td>0</td>\n",
       "      <td>0</td>\n",
       "      <td>0</td>\n",
       "      <td>0</td>\n",
       "      <td>...</td>\n",
       "      <td>0</td>\n",
       "      <td>0</td>\n",
       "      <td>0</td>\n",
       "      <td>0</td>\n",
       "      <td>0</td>\n",
       "      <td>0</td>\n",
       "      <td>0</td>\n",
       "      <td>0</td>\n",
       "      <td>0</td>\n",
       "      <td>0</td>\n",
       "    </tr>\n",
       "  </tbody>\n",
       "</table>\n",
       "<p>16 rows × 24 columns</p>\n",
       "</div>"
      ],
      "text/plain": [
       "   1   2   3   4   5   6   7   8   9   10  ...  15  16  17  18  19  20  21  \\\n",
       "A   0   0   0   0   0   0   0   0   0   0  ...   0   0   0   0   0   0   0   \n",
       "B   0   0   0   0   0   0   0   0   0   0  ...   0   0   0   0   0   0   0   \n",
       "C   0   4   4   1   1   1   1   1   1   1  ...   0   0   0   0   0   0   0   \n",
       "D   0   4   4   1   1   1   1   1   1   1  ...   0   0   0   0   0   0   0   \n",
       "E   0   4   4   1   1   1   1   1   1   1  ...   0   0   0   0   0   0   0   \n",
       "F   0   4   4   1   1   1   1   1   1   1  ...   0   0   0   0   0   0   0   \n",
       "G   0   4   4   1   1   1   1   1   1   1  ...   0   0   0   0   0   0   0   \n",
       "H   0   4   4   1   1   1   1   1   1   1  ...   0   0   0   0   0   0   0   \n",
       "I   0   4   4   1   1   1   1   1   1   1  ...   0   0   0   0   0   0   0   \n",
       "J   0   4   4   1   1   1   1   1   1   1  ...   0   0   0   0   0   0   0   \n",
       "K   0   4   4   1   1   1   1   1   1   1  ...   0   0   0   0   0   0   0   \n",
       "L   0   4   4   1   1   1   1   1   1   1  ...   0   0   0   0   0   0   0   \n",
       "M   0   4   4   1   1   1   1   1   1   1  ...   0   0   0   0   0   0   0   \n",
       "N   0   4   4   1   1   1   1   1   1   1  ...   0   0   0   0   0   0   0   \n",
       "O   0   0   0   0   0   0   0   0   0   0  ...   0   0   0   0   0   0   0   \n",
       "P   0   0   0   0   0   0   0   0   0   0  ...   0   0   0   0   0   0   0   \n",
       "\n",
       "   22  23  24  \n",
       "A   0   0   0  \n",
       "B   0   0   0  \n",
       "C   0   0   0  \n",
       "D   0   0   0  \n",
       "E   0   0   0  \n",
       "F   0   0   0  \n",
       "G   0   0   0  \n",
       "H   0   0   0  \n",
       "I   0   0   0  \n",
       "J   0   0   0  \n",
       "K   0   0   0  \n",
       "L   0   0   0  \n",
       "M   0   0   0  \n",
       "N   0   0   0  \n",
       "O   0   0   0  \n",
       "P   0   0   0  \n",
       "\n",
       "[16 rows x 24 columns]"
      ]
     },
     "execution_count": 72,
     "metadata": {},
     "output_type": "execute_result"
    }
   ],
   "source": [
    "plate_type = 384\n",
    "dest = Destination(plate_type)\n",
    "well_df = create_well_plan(plate_type)\n",
    "well_df.loc['C':'N', 2:3] = 4\n",
    "well_df.loc['C':'N', 4:11] = 1\n",
    "well_plan = {f\"{row}{col}\": well_df.loc[row, col] for row in well_df.index for col in well_df.columns if well_df.loc[row, col] > 0}\n",
    "well_df"
   ]
  },
  {
   "cell_type": "code",
   "execution_count": 73,
   "metadata": {},
   "outputs": [],
   "source": [
    "routine = Routine(dest, well_plan, fill_strategy=\"vertical\")"
   ]
  },
  {
   "cell_type": "code",
   "execution_count": 74,
   "metadata": {},
   "outputs": [],
   "source": [
    "shared_settings = SharedSettings(routine)\n",
    "logger = MarkdownLogger(experiment_name=\"Py8119-65\", settings=picking_settings, well_plate=well_df)\n",
    "logger.log_section(\"Execution start:\")\n",
    "picking = PickingProcedure(shared_settings, picking_config, logger)"
   ]
  },
  {
   "cell_type": "code",
   "execution_count": 75,
   "metadata": {},
   "outputs": [
    {
     "name": "stdout",
     "output_type": "stream",
     "text": [
      "Resuming movement...\n",
      "Pausing movement...\n",
      "Resuming movement...\n",
      "No cuboids found in the selected region. Pausing...\n",
      "Resuming movement...\n",
      "No cuboids found in the selected region. Pausing...\n",
      "Resuming movement...\n",
      "Miss detected at well N2.\n",
      "No cuboids found in the selected region. Pausing...\n",
      "Resuming movement...\n",
      "No cuboids found in the selected region. Pausing...\n",
      "Resuming movement...\n",
      "No cuboids found in the selected region. Pausing...\n",
      "Resuming movement...\n",
      "No cuboids found in the selected region. Pausing...\n",
      "Resuming movement...\n",
      "No cuboids found in the selected region. Pausing...\n",
      "Resuming movement...\n",
      "No cuboids found in the selected region. Pausing...\n",
      "Resuming movement...\n",
      "No cuboids found in the selected region. Pausing...\n",
      "Resuming movement...\n"
     ]
    }
   ],
   "source": [
    "video_thread = threading.Thread(target=picking.video, daemon=True)\n",
    "robot_thread = threading.Thread(target=picking.robot_movement, daemon=True)\n",
    "\n",
    "# Start threads\n",
    "video_thread.start()\n",
    "robot_thread.start()\n",
    "\n",
    "# Wait for threads to finish\n",
    "video_thread.join()\n",
    "robot_thread.join()"
   ]
  },
  {
   "cell_type": "code",
   "execution_count": 76,
   "metadata": {},
   "outputs": [
    {
     "data": {
      "text/plain": [
       "{'N2': 1}"
      ]
     },
     "execution_count": 76,
     "metadata": {},
     "output_type": "execute_result"
    }
   ],
   "source": [
    "non_zero_miss_counts = {key: value for key, value in routine.miss_counts.items() if value != 0}\n",
    "non_zero_miss_counts"
   ]
  },
  {
   "cell_type": "code",
   "execution_count": 77,
   "metadata": {},
   "outputs": [
    {
     "data": {
      "text/plain": [
       "<Response [201]>"
      ]
     },
     "execution_count": 77,
     "metadata": {},
     "output_type": "execute_result"
    }
   ],
   "source": [
    "idx = 0\n",
    "well_offset_x = 1\n",
    "well_offset_y = -1.5\n",
    "while idx < len(non_zero_miss_counts):\n",
    "    well_name, miss_count = list(non_zero_miss_counts.items())[idx]\n",
    "    r = openapi.aspirate(openapi.labware_dct['6'], f\"{well_name}\", well_location = 'bottom', offset = (well_offset_x,well_offset_y,3), volume = miss_count*10, flow_rate = 5)\n",
    "    responce_dict = json.loads(r.text)['data']\n",
    "    if responce_dict['status'] == 'failed':\n",
    "        if responce_dict['error']['errorType'] == 'InvalidAspirateVolumeError':\n",
    "            print('Dumping fluid')\n",
    "            openapi.blow_out(openapi.labware_dct['3'], \"B2\", well_location='center', flow_rate = 200)\n",
    "    else:\n",
    "        idx += 1\n",
    "    \n",
    "openapi.blow_out(openapi.labware_dct['3'], \"B2\", well_location='center', flow_rate = 200)\n",
    "openapi.move_relative('z', 20)"
   ]
  },
  {
   "cell_type": "code",
   "execution_count": 97,
   "metadata": {},
   "outputs": [
    {
     "data": {
      "text/plain": [
       "<Response [201]>"
      ]
     },
     "execution_count": 97,
     "metadata": {},
     "output_type": "execute_result"
    }
   ],
   "source": [
    "openapi.blow_out_in_place()"
   ]
  },
  {
   "cell_type": "markdown",
   "metadata": {},
   "source": [
    "# Cuboid recognition"
   ]
  },
  {
   "cell_type": "code",
   "execution_count": 24,
   "metadata": {},
   "outputs": [],
   "source": [
    "calibration_data = utils.load_calibration_config(calibration_profile)\n",
    "\n",
    "tf_mtx = np.array(calibration_data['tf_mtx'])\n",
    "calib_origin = np.array(calibration_data['calib_origin'])[:2]\n",
    "offset = np.array(calibration_data['offset'])\n",
    "\n",
    "\n",
    "# window = cap.get_window()\n",
    "\n",
    "def on_mouse_click(event, x, y, flags, param):\n",
    "    global circle_center\n",
    "    global circle_radius\n",
    "    global filtered_contours\n",
    "    global X_init, Y_init\n",
    "\n",
    "    if event == cv2.EVENT_MBUTTONDOWN:\n",
    "        circle_center = (x, y)\n",
    "\n",
    "    if event == cv2.EVENT_MOUSEWHEEL:\n",
    "        if flags > 0:\n",
    "            circle_radius += 10\n",
    "        else:\n",
    "            circle_radius -= 10\n",
    "\n",
    "    # if event == cv2.EVENT_LBUTTONDBLCLK:\n",
    "    #     for contour in filtered_contours:\n",
    "    #         r=cv2.pointPolygonTest(contour, (x,y), False)\n",
    "    #         if r>0:\n",
    "    #             M = cv2.moments(contour)\n",
    "    #             if M[\"m00\"] != 0:\n",
    "    #                 cX = int(M[\"m10\"] / M[\"m00\"])\n",
    "    #                 cY = int(M[\"m01\"] / M[\"m00\"])\n",
    "    #                 X_init, Y_init, _ = tf_mtx @ (cX, cY, 1)\n",
    "\n",
    "    #                 x, y, _ = openapi.get_position(verbose=False)[0].values()\n",
    "    #                 diff = np.array([x,y]) - np.array(calibration_data['calib_origin'])[:2]\n",
    "    #                 X = X_init + diff[0] + offset[0]\n",
    "    #                 Y = Y_init + diff[1] + offset[1]\n",
    "                    \n",
    "    #                 print(f\"Robot coords: ({x}, {y})\")\n",
    "    #                 print(f\"Clicked on: ({X}, {Y})\")\n",
    "    #                 openapi.move_to_coordinates((X, Y, 15), min_z_height=1, verbose=False)\n",
    "    #                 # openapi.aspirate_in_place(flow_rate = 75, volume = 10)\n",
    "\n",
    "                    \n",
    "    #             else:\n",
    "    #                 print(\"Contour center could not be found\")\n",
    "\n",
    "    # if event == cv2.EVENT_RBUTTONDOWN:\n",
    "    #     x, y, _ = openapi.get_position(verbose=False)[0].values()\n",
    "    #     # openapi.move_to_coordinates((x, y, 100), min_z_height=1)\n",
    "    #     openapi.move_to_coordinates((calib_origin[0],calib_origin[1],100), min_z_height=1, verbose=False)\n",
    "\n",
    "        \n",
    "\n",
    "# cv2.setMouseCallback(cap.window_name, on_mouse_click)\n",
    "circle_center = (int(1296.0), int(972.0))\n",
    "circle_radius = 900\n",
    "# manual_movement = utils.ManualRobotMovement(openapi)\n",
    "cv2.namedWindow(\"video\", cv2.WINDOW_NORMAL)\n",
    "cv2.resizeWindow(\"video\", 1348, 1011)\n",
    "while True:\n",
    "    ret, frame = over_cam.read()\n",
    "    # x, y, z = openapi.get_position(verbose=False)[0].values()\n",
    "    # (text_width, text_height), _ = cv2.getTextSize(f\"Robot coords: ({x:.2f}, {y:.2f}, {z:.2f})\", cv2.FONT_HERSHEY_SIMPLEX, 1, 2)\n",
    "    # cv2.rectangle(frame, (10, 0), (10 + text_width, text_height + 70), (0, 0, 0), -1)\n",
    "    # cv2.putText(frame, f\"Robot coords: ({x:.2f}, {y:.2f}, {z:.2f})\", (10, 30), cv2.FONT_HERSHEY_SIMPLEX, 1, (0, 255, 0), 2)\n",
    "    # cv2.putText(frame, f\"Step size: {manual_movement.step} mm\", (10, 70), cv2.FONT_HERSHEY_SIMPLEX, 1, (0, 255, 0), 2)\n",
    "\n",
    "\n",
    "    cv2.circle(frame, circle_center, circle_radius, (255, 0, 0), 2)\n",
    "    # Create a mask with the same dimensions as the frame\n",
    "    mask = np.zeros_like(frame, dtype=np.uint8)\n",
    "\n",
    "    # Draw a filled circle on the mask\n",
    "    cv2.circle(mask, circle_center, circle_radius, (255, 255, 255), -1)\n",
    "\n",
    "    # Apply the mask to the frame\n",
    "    masked_frame = cv2.bitwise_and(frame, mask)\n",
    "\n",
    "    # Convert the masked frame to grayscale\n",
    "    gray = cv2.cvtColor(masked_frame, cv2.COLOR_BGR2GRAY)\n",
    "    # Apply thresholding to the grayscale image\n",
    "    # _, thresh = cv2.threshold(gray, 50, 255, cv2.THRESH_BINARY_INV + cv2.THRESH_OTSU)\n",
    "    # _, thresh = cv2.threshold(gray, 127, 255, cv2.THRESH_BINARY_INV)\n",
    "    gray = cv2.GaussianBlur(gray, (11, 11), 0)\n",
    "\n",
    "    thresh = cv2.adaptiveThreshold(gray,255,cv2.ADAPTIVE_THRESH_GAUSSIAN_C,cv2.THRESH_BINARY_INV,41,2) \n",
    "    kernel = np.ones((3,3),np.uint8)\n",
    "    thresh = cv2.morphologyEx(thresh, cv2.MORPH_OPEN, kernel, iterations=1)\n",
    "    # Fill the area outside the circle with black pixels\n",
    "    # Convert the mask to grayscale\n",
    "    mask_inv = cv2.cvtColor(mask, cv2.COLOR_BGR2GRAY)\n",
    "    thresh = cv2.bitwise_and(thresh, mask_inv)\n",
    "\n",
    "    # frame[thresh == 255] = [0, 255, 0]\n",
    "\n",
    "    # Find contours in the masked frame\n",
    "    contours, hei = cv2.findContours(thresh, cv2.RETR_TREE, cv2.CHAIN_APPROX_SIMPLE)\n",
    "\n",
    "\n",
    "\n",
    "    # Filter the contours to exclude the outermost\n",
    "    filtered_contours = [contour for contour, h in zip(contours, hei[0]) if h[3] == 1]\n",
    "    # Filter the contours by size\n",
    "    filtered_contours = [contour for contour in contours if 15 < cv2.contourArea(contour) < 1000]\n",
    "    # Draw the contours on the frame\n",
    "    cv2.drawContours(frame, filtered_contours, -1, (0, 255, 0), 2)\n",
    "\n",
    "    cv2.imshow(\"video\", frame)\n",
    "    key_pressed = cv2.waitKey(1)\n",
    "\n",
    "    if key_pressed == ord('q'):\n",
    "        keyboard.unhook_all()\n",
    "        break\n",
    "\n",
    "        \n",
    "cv2.destroyAllWindows()"
   ]
  },
  {
   "cell_type": "code",
   "execution_count": 70,
   "metadata": {},
   "outputs": [
    {
     "data": {
      "text/plain": [
       "<Response [201]>"
      ]
     },
     "execution_count": 70,
     "metadata": {},
     "output_type": "execute_result"
    }
   ],
   "source": [
    "openapi.move_to_well(openapi.labware_dct['6'], 'A1', well_location='top', offset=(1,-1,0), verbose=False)"
   ]
  }
 ],
 "metadata": {
  "kernelspec": {
   "display_name": "lab",
   "language": "python",
   "name": "python3"
  },
  "language_info": {
   "codemirror_mode": {
    "name": "ipython",
    "version": 3
   },
   "file_extension": ".py",
   "mimetype": "text/x-python",
   "name": "python",
   "nbconvert_exporter": "python",
   "pygments_lexer": "ipython3",
   "version": "3.12.5"
  }
 },
 "nbformat": 4,
 "nbformat_minor": 2
}
