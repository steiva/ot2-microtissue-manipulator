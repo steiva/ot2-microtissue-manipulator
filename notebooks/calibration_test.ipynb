{
 "cells": [
  {
   "cell_type": "code",
   "execution_count": 1,
   "metadata": {},
   "outputs": [],
   "source": [
    "# Imports\n",
    "\n",
    "import sys\n",
    "import os\n",
    "\n",
    "# Add the upstream directory to sys.path\n",
    "upstream_dir = os.path.abspath(os.path.join(os.getcwd(), '..'))\n",
    "if upstream_dir not in sys.path:\n",
    "    sys.path.insert(0, upstream_dir)\n",
    "\n",
    "# Now you can import the module\n",
    "from opentrons_api import ot2_api\n",
    "from microtissue_manipulator import core, utils\n",
    "import numpy as np \n",
    "import cv2\n",
    "import time\n",
    "import json\n",
    "import keyboard\n",
    "# from pynput import keyboard\n",
    "from configs import paths\n",
    "import matplotlib.pyplot as plt\n",
    "import requests\n",
    "import datetime\n",
    "import threading\n",
    "import queue"
   ]
  },
  {
   "cell_type": "code",
   "execution_count": 2,
   "metadata": {},
   "outputs": [
    {
     "name": "stdout",
     "output_type": "stream",
     "text": [
      "Using camera without buffer ...\n",
      "Camera initialized ...\n"
     ]
    }
   ],
   "source": [
    "# Turn on camera\n",
    "calibration_profile = 'checkerboard'\n",
    "cap = core.Camera(0, config_profile=calibration_profile, use_new_cam_mtx=True)"
   ]
  },
  {
   "cell_type": "markdown",
   "metadata": {},
   "source": [
    "# Video test"
   ]
  },
  {
   "cell_type": "code",
   "execution_count": 61,
   "metadata": {},
   "outputs": [],
   "source": [
    "window = cap.get_window()\n",
    "\n",
    "robot_coords = []\n",
    "camera_coords = []\n",
    "\n",
    "while True:\n",
    "    frame = cap.get_frame(undist=True)\n",
    "    cv2.imshow(cap.window_name, frame)\n",
    "\n",
    "    key_pressed = cv2.waitKey(1)\n",
    "\n",
    "    if key_pressed == ord('q'):\n",
    "        break\n",
    "\n",
    "    elif key_pressed == ord('s'):\n",
    "        timestamp = datetime.datetime.now().strftime('%Y_%m_%d_%H-%M-%S')\n",
    "        filename = f\"frame_{timestamp}.png\"\n",
    "        cv2.imwrite(os.path.join(paths.BASE_DIR, 'outputs', 'images', 'segmentation_test', filename), frame)\n",
    "        print(f\"Frame saved as {filename}\")\n",
    "   \n",
    "cv2.destroyAllWindows()"
   ]
  },
  {
   "cell_type": "markdown",
   "metadata": {},
   "source": [
    "# Init"
   ]
  },
  {
   "cell_type": "code",
   "execution_count": 3,
   "metadata": {},
   "outputs": [],
   "source": [
    "# Connect the robot to the computer and this notebook\n",
    "openapi = ot2_api.OpentronsAPI()"
   ]
  },
  {
   "cell_type": "code",
   "execution_count": 5,
   "metadata": {},
   "outputs": [
    {
     "data": {
      "text/plain": [
       "<Response [200]>"
      ]
     },
     "execution_count": 5,
     "metadata": {},
     "output_type": "execute_result"
    }
   ],
   "source": [
    "# Use the light control to see if the robot is connected as a sanity check\n",
    "openapi.toggle_lights()"
   ]
  },
  {
   "cell_type": "code",
   "execution_count": 6,
   "metadata": {},
   "outputs": [
    {
     "name": "stdout",
     "output_type": "stream",
     "text": [
      "Request status:\n",
      "<Response [200]>\n",
      "{\n",
      "  \"message\": \"Homing robot.\"\n",
      "}\n"
     ]
    },
    {
     "data": {
      "text/plain": [
       "<Response [200]>"
      ]
     },
     "execution_count": 6,
     "metadata": {},
     "output_type": "execute_result"
    }
   ],
   "source": [
    "# Always do once after robot was just turned on\n",
    "openapi.home_robot()"
   ]
  },
  {
   "cell_type": "code",
   "execution_count": 6,
   "metadata": {},
   "outputs": [
    {
     "name": "stdout",
     "output_type": "stream",
     "text": [
      "Total number of runs: 20\n",
      "Current run ID: 787c89c7-e7b5-4e02-a167-bdd1be3d5157\n",
      "Current run status: idle\n"
     ]
    }
   ],
   "source": [
    "# Use to restore labware and general run information after the notebook crashes\n",
    "r = openapi.get_run_info()"
   ]
  },
  {
   "cell_type": "code",
   "execution_count": 56,
   "metadata": {},
   "outputs": [
    {
     "data": {
      "text/plain": [
       "<Response [201]>"
      ]
     },
     "execution_count": 56,
     "metadata": {},
     "output_type": "execute_result"
    }
   ],
   "source": [
    "openapi.drop_tip_in_place()"
   ]
  },
  {
   "cell_type": "code",
   "execution_count": 7,
   "metadata": {},
   "outputs": [
    {
     "name": "stdout",
     "output_type": "stream",
     "text": [
      "Request status:\n",
      "<Response [201]>\n",
      "{\n",
      "  \"data\": {\n",
      "    \"id\": \"787c89c7-e7b5-4e02-a167-bdd1be3d5157\",\n",
      "    \"ok\": true,\n",
      "    \"createdAt\": \"2025-03-20T09:38:46.779778+00:00\",\n",
      "    \"status\": \"idle\",\n",
      "    \"current\": true,\n",
      "    \"actions\": [],\n",
      "    \"errors\": [],\n",
      "    \"hasEverEnteredErrorRecovery\": false,\n",
      "    \"pipettes\": [],\n",
      "    \"modules\": [],\n",
      "    \"labware\": [],\n",
      "    \"liquids\": [],\n",
      "    \"labwareOffsets\": [],\n",
      "    \"runTimeParameters\": [],\n",
      "    \"outputFileIds\": []\n",
      "  }\n",
      "}\n"
     ]
    },
    {
     "data": {
      "text/plain": [
       "<Response [201]>"
      ]
     },
     "execution_count": 7,
     "metadata": {},
     "output_type": "execute_result"
    }
   ],
   "source": [
    "# Do after first launch\n",
    "openapi.create_run()"
   ]
  },
  {
   "cell_type": "code",
   "execution_count": 8,
   "metadata": {},
   "outputs": [
    {
     "name": "stdout",
     "output_type": "stream",
     "text": [
      "Request status:\n",
      "<Response [201]>\n",
      "{\n",
      "  \"data\": {\n",
      "    \"id\": \"894c9873-7303-4b3e-97cb-4e79570deefb\",\n",
      "    \"createdAt\": \"2025-03-20T09:38:49.139000+00:00\",\n",
      "    \"commandType\": \"loadPipette\",\n",
      "    \"key\": \"894c9873-7303-4b3e-97cb-4e79570deefb\",\n",
      "    \"status\": \"succeeded\",\n",
      "    \"params\": {\n",
      "      \"pipetteName\": \"p300_single_gen2\",\n",
      "      \"mount\": \"left\"\n",
      "    },\n",
      "    \"result\": {\n",
      "      \"pipetteId\": \"39f8aebd-bea2-4598-b614-a0381eb5ee51\"\n",
      "    },\n",
      "    \"startedAt\": \"2025-03-20T09:38:49.141386+00:00\",\n",
      "    \"completedAt\": \"2025-03-20T09:38:51.171033+00:00\",\n",
      "    \"intent\": \"setup\",\n",
      "    \"notes\": []\n",
      "  }\n",
      "}\n"
     ]
    },
    {
     "data": {
      "text/plain": [
       "<Response [201]>"
      ]
     },
     "execution_count": 8,
     "metadata": {},
     "output_type": "execute_result"
    }
   ],
   "source": [
    "# Let the robot know that it has the P300 pipette\n",
    "openapi.load_pipette()"
   ]
  },
  {
   "cell_type": "markdown",
   "metadata": {},
   "source": [
    "# Labware declaration"
   ]
  },
  {
   "cell_type": "markdown",
   "metadata": {},
   "source": [
    "### Opentrons 300 ul"
   ]
  },
  {
   "cell_type": "code",
   "execution_count": 9,
   "metadata": {},
   "outputs": [
    {
     "name": "stdout",
     "output_type": "stream",
     "text": [
      "Labware ID:\n",
      "47352336-5da5-4b1d-ad33-1cb16cd4fcf9\n",
      "\n"
     ]
    },
    {
     "data": {
      "text/plain": [
       "<Response [201]>"
      ]
     },
     "execution_count": 9,
     "metadata": {},
     "output_type": "execute_result"
    }
   ],
   "source": [
    "#Define a tip rack. This is the default tip rack for the robot.\n",
    "TIP_RACK = \"opentrons_96_tiprack_300ul\"\n",
    "#Load the tip rack. Slot = 1 by default.\n",
    "openapi.load_labware(TIP_RACK, 11)"
   ]
  },
  {
   "cell_type": "markdown",
   "metadata": {},
   "source": [
    "### VWR 200 ul XL"
   ]
  },
  {
   "cell_type": "code",
   "execution_count": 10,
   "metadata": {},
   "outputs": [],
   "source": [
    "custom_labware_path = os.path.join(paths.BASE_DIR,'protocols','vwr_96_tiprack_200ul_xl.json')\n",
    "with open(custom_labware_path, 'r') as json_file:\n",
    "    custom_labware = json.load(json_file)\n",
    "\n",
    "command_dict = {\n",
    "            \"data\": custom_labware\n",
    "        }\n",
    "\n",
    "command_payload = json.dumps(command_dict)\n",
    "\n",
    "url = openapi.get_url('runs')+ f'/{openapi.run_id}/'+ 'labware_definitions'\n",
    "r = requests.post(url = url, headers = openapi.HEADERS, params = {\"waitUntilComplete\": True}, data = command_payload)"
   ]
  },
  {
   "cell_type": "code",
   "execution_count": 11,
   "metadata": {},
   "outputs": [
    {
     "name": "stdout",
     "output_type": "stream",
     "text": [
      "Labware ID:\n",
      "a343e5af-e587-4b4a-9128-7dfe465c937b\n",
      "\n"
     ]
    },
    {
     "data": {
      "text/plain": [
       "<Response [201]>"
      ]
     },
     "execution_count": 11,
     "metadata": {},
     "output_type": "execute_result"
    }
   ],
   "source": [
    "#Define a tip rack. This is the default tip rack for the robot.\n",
    "TIP_RACK = \"vwr_96_tiprack_200ul_xl\"\n",
    "#Load the tip rack. Slot = 1 by default.\n",
    "openapi.load_labware(TIP_RACK, 10, namespace='custom_beta',verbose=True)"
   ]
  },
  {
   "cell_type": "code",
   "execution_count": 12,
   "metadata": {},
   "outputs": [
    {
     "name": "stdout",
     "output_type": "stream",
     "text": [
      "Labware ID:\n",
      "acb40fe1-acb9-4058-89c0-76476c0c34dd\n",
      "\n"
     ]
    },
    {
     "data": {
      "text/plain": [
       "<Response [201]>"
      ]
     },
     "execution_count": 12,
     "metadata": {},
     "output_type": "execute_result"
    }
   ],
   "source": [
    "RESERVOIR = \"corning_6_wellplate_16.8ml_flat\"\n",
    "openapi.load_labware(RESERVOIR, 3, namespace='opentrons',verbose=True)"
   ]
  },
  {
   "cell_type": "code",
   "execution_count": 13,
   "metadata": {},
   "outputs": [
    {
     "name": "stdout",
     "output_type": "stream",
     "text": [
      "Labware ID:\n",
      "a4d63d5e-9940-408a-bfa4-c597a9acbcc5\n",
      "\n"
     ]
    },
    {
     "data": {
      "text/plain": [
       "<Response [201]>"
      ]
     },
     "execution_count": 13,
     "metadata": {},
     "output_type": "execute_result"
    }
   ],
   "source": [
    "# WELL_PLATE = \"corning_96_wellplate_360ul_flat\"\n",
    "WELL_PLATE = \"corning_384_wellplate_112ul_flat\"\n",
    "openapi.load_labware(WELL_PLATE, 6, namespace='opentrons',verbose=True)"
   ]
  },
  {
   "cell_type": "code",
   "execution_count": 14,
   "metadata": {},
   "outputs": [],
   "source": [
    "r = openapi.pick_up_tip(openapi.labware_dct['10'], \"A1\")"
   ]
  },
  {
   "cell_type": "code",
   "execution_count": 48,
   "metadata": {},
   "outputs": [],
   "source": [
    "r = openapi.pick_up_tip(openapi.labware_dct['11'], \"A1\")"
   ]
  },
  {
   "cell_type": "code",
   "execution_count": 27,
   "metadata": {},
   "outputs": [
    {
     "data": {
      "text/plain": [
       "<Response [201]>"
      ]
     },
     "execution_count": 27,
     "metadata": {},
     "output_type": "execute_result"
    }
   ],
   "source": [
    "openapi.drop_tip_in_place()"
   ]
  },
  {
   "cell_type": "code",
   "execution_count": 27,
   "metadata": {},
   "outputs": [
    {
     "data": {
      "text/plain": [
       "<Response [201]>"
      ]
     },
     "execution_count": 27,
     "metadata": {},
     "output_type": "execute_result"
    }
   ],
   "source": [
    "openapi.drop_tip(openapi.labware_dct['10'], \"A1\")"
   ]
  },
  {
   "cell_type": "code",
   "execution_count": 64,
   "metadata": {},
   "outputs": [
    {
     "data": {
      "text/plain": [
       "<Response [201]>"
      ]
     },
     "execution_count": 64,
     "metadata": {},
     "output_type": "execute_result"
    }
   ],
   "source": [
    "openapi.aspirate(openapi.labware_dct['9'], \"A1\", well_location='center', volume = 200, flow_rate = 200)"
   ]
  },
  {
   "cell_type": "code",
   "execution_count": 35,
   "metadata": {},
   "outputs": [
    {
     "data": {
      "text/plain": [
       "<Response [201]>"
      ]
     },
     "execution_count": 35,
     "metadata": {},
     "output_type": "execute_result"
    }
   ],
   "source": [
    "openapi.move_to_well(openapi.labware_dct['6'], \"P24\", well_location='top', offset=(0.9,-0.9,1))"
   ]
  },
  {
   "cell_type": "markdown",
   "metadata": {},
   "source": [
    "# Filling a well plate"
   ]
  },
  {
   "cell_type": "code",
   "execution_count": 16,
   "metadata": {},
   "outputs": [
    {
     "data": {
      "text/plain": [
       "<Response [201]>"
      ]
     },
     "execution_count": 16,
     "metadata": {},
     "output_type": "execute_result"
    }
   ],
   "source": [
    "openapi.drop_tip_in_place()"
   ]
  },
  {
   "cell_type": "code",
   "execution_count": 50,
   "metadata": {},
   "outputs": [
    {
     "ename": "KeyboardInterrupt",
     "evalue": "",
     "output_type": "error",
     "traceback": [
      "\u001b[1;31m---------------------------------------------------------------------------\u001b[0m",
      "\u001b[1;31mKeyboardInterrupt\u001b[0m                         Traceback (most recent call last)",
      "Cell \u001b[1;32mIn[50], line 15\u001b[0m\n\u001b[0;32m     13\u001b[0m \u001b[38;5;28;01mwhile\u001b[39;00m column_idx \u001b[38;5;241m<\u001b[39m \u001b[38;5;28mlen\u001b[39m(columns):\n\u001b[0;32m     14\u001b[0m     column \u001b[38;5;241m=\u001b[39m columns[column_idx]\n\u001b[1;32m---> 15\u001b[0m     r \u001b[38;5;241m=\u001b[39m \u001b[43mopenapi\u001b[49m\u001b[38;5;241;43m.\u001b[39;49m\u001b[43maspirate\u001b[49m\u001b[43m(\u001b[49m\u001b[43mopenapi\u001b[49m\u001b[38;5;241;43m.\u001b[39;49m\u001b[43mlabware_dct\u001b[49m\u001b[43m[\u001b[49m\u001b[38;5;124;43m'\u001b[39;49m\u001b[38;5;124;43m6\u001b[39;49m\u001b[38;5;124;43m'\u001b[39;49m\u001b[43m]\u001b[49m\u001b[43m,\u001b[49m\u001b[43m \u001b[49m\u001b[38;5;124;43mf\u001b[39;49m\u001b[38;5;124;43m\"\u001b[39;49m\u001b[38;5;132;43;01m{\u001b[39;49;00m\u001b[43mrow\u001b[49m\u001b[38;5;132;43;01m}\u001b[39;49;00m\u001b[38;5;132;43;01m{\u001b[39;49;00m\u001b[43mcolumn\u001b[49m\u001b[38;5;132;43;01m}\u001b[39;49;00m\u001b[38;5;124;43m\"\u001b[39;49m\u001b[43m,\u001b[49m\u001b[43m \u001b[49m\u001b[43mwell_location\u001b[49m\u001b[43m \u001b[49m\u001b[38;5;241;43m=\u001b[39;49m\u001b[43m \u001b[49m\u001b[38;5;124;43m'\u001b[39;49m\u001b[38;5;124;43mbottom\u001b[39;49m\u001b[38;5;124;43m'\u001b[39;49m\u001b[43m,\u001b[49m\u001b[43m \u001b[49m\u001b[43moffset\u001b[49m\u001b[43m \u001b[49m\u001b[38;5;241;43m=\u001b[39;49m\u001b[43m \u001b[49m\u001b[43m(\u001b[49m\u001b[38;5;241;43m0.9\u001b[39;49m\u001b[43m,\u001b[49m\u001b[38;5;241;43m-\u001b[39;49m\u001b[38;5;241;43m0.9\u001b[39;49m\u001b[43m,\u001b[49m\u001b[38;5;241;43m0.5\u001b[39;49m\u001b[43m)\u001b[49m\u001b[43m,\u001b[49m\u001b[43m \u001b[49m\u001b[43mvolume\u001b[49m\u001b[43m \u001b[49m\u001b[38;5;241;43m=\u001b[39;49m\u001b[43m \u001b[49m\u001b[38;5;241;43m50\u001b[39;49m\u001b[43m,\u001b[49m\u001b[43m \u001b[49m\u001b[43mflow_rate\u001b[49m\u001b[43m \u001b[49m\u001b[38;5;241;43m=\u001b[39;49m\u001b[43m \u001b[49m\u001b[38;5;241;43m5\u001b[39;49m\u001b[43m)\u001b[49m\n\u001b[0;32m     16\u001b[0m     responce_dict \u001b[38;5;241m=\u001b[39m json\u001b[38;5;241m.\u001b[39mloads(r\u001b[38;5;241m.\u001b[39mtext)[\u001b[38;5;124m'\u001b[39m\u001b[38;5;124mdata\u001b[39m\u001b[38;5;124m'\u001b[39m]\n\u001b[0;32m     17\u001b[0m     \u001b[38;5;28;01mif\u001b[39;00m responce_dict[\u001b[38;5;124m'\u001b[39m\u001b[38;5;124mstatus\u001b[39m\u001b[38;5;124m'\u001b[39m] \u001b[38;5;241m==\u001b[39m \u001b[38;5;124m'\u001b[39m\u001b[38;5;124mfailed\u001b[39m\u001b[38;5;124m'\u001b[39m:\n",
      "File \u001b[1;32mc:\\Users\\ivand\\Desktop\\ot2-microtissue-manipulator\\opentrons_api\\ot2_api.py:25\u001b[0m, in \u001b[0;36mDecorators.require_ids.<locals>.decorator.<locals>.wrapper\u001b[1;34m(self, *args, **kwargs)\u001b[0m\n\u001b[0;32m     23\u001b[0m     \u001b[38;5;28;01mif\u001b[39;00m \u001b[38;5;129;01mnot\u001b[39;00m \u001b[38;5;28mgetattr\u001b[39m(\u001b[38;5;28mself\u001b[39m, id_name, \u001b[38;5;28;01mNone\u001b[39;00m):\n\u001b[0;32m     24\u001b[0m         \u001b[38;5;28;01mraise\u001b[39;00m \u001b[38;5;167;01mValueError\u001b[39;00m(\u001b[38;5;124mf\u001b[39m\u001b[38;5;124m\"\u001b[39m\u001b[38;5;132;01m{\u001b[39;00mid_name\u001b[38;5;132;01m}\u001b[39;00m\u001b[38;5;124m is not set. Set it before executing commands.\u001b[39m\u001b[38;5;124m\"\u001b[39m)\n\u001b[1;32m---> 25\u001b[0m \u001b[38;5;28;01mreturn\u001b[39;00m \u001b[43mfunc\u001b[49m\u001b[43m(\u001b[49m\u001b[38;5;28;43mself\u001b[39;49m\u001b[43m,\u001b[49m\u001b[43m \u001b[49m\u001b[38;5;241;43m*\u001b[39;49m\u001b[43margs\u001b[49m\u001b[43m,\u001b[49m\u001b[43m \u001b[49m\u001b[38;5;241;43m*\u001b[39;49m\u001b[38;5;241;43m*\u001b[39;49m\u001b[43mkwargs\u001b[49m\u001b[43m)\u001b[49m\n",
      "File \u001b[1;32mc:\\Users\\ivand\\Desktop\\ot2-microtissue-manipulator\\opentrons_api\\ot2_api.py:669\u001b[0m, in \u001b[0;36mOpentronsAPI.aspirate\u001b[1;34m(self, labware_id, well_name, well_location, offset, volume_offset, volume, flow_rate, verbose)\u001b[0m\n\u001b[0;32m    653\u001b[0m command_dict \u001b[38;5;241m=\u001b[39m {\n\u001b[0;32m    654\u001b[0m     \u001b[38;5;124m\"\u001b[39m\u001b[38;5;124mdata\u001b[39m\u001b[38;5;124m\"\u001b[39m: {\n\u001b[0;32m    655\u001b[0m         \u001b[38;5;124m\"\u001b[39m\u001b[38;5;124mcommandType\u001b[39m\u001b[38;5;124m\"\u001b[39m: \u001b[38;5;124m\"\u001b[39m\u001b[38;5;124maspirate\u001b[39m\u001b[38;5;124m\"\u001b[39m,\n\u001b[1;32m   (...)\u001b[0m\n\u001b[0;32m    665\u001b[0m     }\n\u001b[0;32m    666\u001b[0m }\n\u001b[0;32m    668\u001b[0m command_payload \u001b[38;5;241m=\u001b[39m json\u001b[38;5;241m.\u001b[39mdumps(command_dict)\n\u001b[1;32m--> 669\u001b[0m r \u001b[38;5;241m=\u001b[39m \u001b[38;5;28;43mself\u001b[39;49m\u001b[38;5;241;43m.\u001b[39;49m\u001b[43mpost\u001b[49m\u001b[43m(\u001b[49m\u001b[38;5;124;43m\"\u001b[39;49m\u001b[38;5;124;43mcommands\u001b[39;49m\u001b[38;5;124;43m\"\u001b[39;49m\u001b[43m,\u001b[49m\u001b[43m \u001b[49m\u001b[43mheaders\u001b[49m\u001b[43m \u001b[49m\u001b[38;5;241;43m=\u001b[39;49m\u001b[43m \u001b[49m\u001b[38;5;28;43mself\u001b[39;49m\u001b[38;5;241;43m.\u001b[39;49m\u001b[43mHEADERS\u001b[49m\u001b[43m,\u001b[49m\n\u001b[0;32m    670\u001b[0m \u001b[43m            \u001b[49m\u001b[43mparams\u001b[49m\u001b[38;5;241;43m=\u001b[39;49m\u001b[43m{\u001b[49m\u001b[38;5;124;43m\"\u001b[39;49m\u001b[38;5;124;43mwaitUntilComplete\u001b[39;49m\u001b[38;5;124;43m\"\u001b[39;49m\u001b[43m:\u001b[49m\u001b[43m \u001b[49m\u001b[38;5;28;43;01mTrue\u001b[39;49;00m\u001b[43m}\u001b[49m\u001b[43m,\u001b[49m\u001b[43m \u001b[49m\u001b[43mdata\u001b[49m\u001b[43m \u001b[49m\u001b[38;5;241;43m=\u001b[39;49m\u001b[43m \u001b[49m\u001b[43mcommand_payload\u001b[49m\u001b[43m)\u001b[49m\n\u001b[0;32m    672\u001b[0m \u001b[38;5;28;01mif\u001b[39;00m verbose \u001b[38;5;241m==\u001b[39m \u001b[38;5;28;01mTrue\u001b[39;00m:\n\u001b[0;32m    673\u001b[0m     \u001b[38;5;28mself\u001b[39m\u001b[38;5;241m.\u001b[39mdisplay_responce(r)\n",
      "File \u001b[1;32mc:\\Users\\ivand\\Desktop\\ot2-microtissue-manipulator\\opentrons_api\\ot2_api.py:11\u001b[0m, in \u001b[0;36mDecorators.check_error.<locals>.wrapper\u001b[1;34m(self, *args, **kwargs)\u001b[0m\n\u001b[0;32m      9\u001b[0m \u001b[38;5;129m@functools\u001b[39m\u001b[38;5;241m.\u001b[39mwraps(func)\n\u001b[0;32m     10\u001b[0m \u001b[38;5;28;01mdef\u001b[39;00m \u001b[38;5;21mwrapper\u001b[39m(\u001b[38;5;28mself\u001b[39m, \u001b[38;5;241m*\u001b[39margs, \u001b[38;5;241m*\u001b[39m\u001b[38;5;241m*\u001b[39mkwargs):\n\u001b[1;32m---> 11\u001b[0m     r \u001b[38;5;241m=\u001b[39m \u001b[43mfunc\u001b[49m\u001b[43m(\u001b[49m\u001b[38;5;28;43mself\u001b[39;49m\u001b[43m,\u001b[49m\u001b[43m \u001b[49m\u001b[38;5;241;43m*\u001b[39;49m\u001b[43margs\u001b[49m\u001b[43m,\u001b[49m\u001b[43m \u001b[49m\u001b[38;5;241;43m*\u001b[39;49m\u001b[38;5;241;43m*\u001b[39;49m\u001b[43mkwargs\u001b[49m\u001b[43m)\u001b[49m\n\u001b[0;32m     12\u001b[0m     \u001b[38;5;28;01mif\u001b[39;00m r\u001b[38;5;241m.\u001b[39mstatus_code \u001b[38;5;129;01mnot\u001b[39;00m \u001b[38;5;129;01min\u001b[39;00m \u001b[38;5;28mrange\u001b[39m(\u001b[38;5;241m200\u001b[39m, \u001b[38;5;241m300\u001b[39m):\n\u001b[0;32m     13\u001b[0m         \u001b[38;5;28;01mraise\u001b[39;00m \u001b[38;5;167;01mException\u001b[39;00m(r\u001b[38;5;241m.\u001b[39mtext)\n",
      "File \u001b[1;32mc:\\Users\\ivand\\Desktop\\ot2-microtissue-manipulator\\opentrons_api\\ot2_api.py:75\u001b[0m, in \u001b[0;36mOpentronsAPI.post\u001b[1;34m(self, endpoint_key, headers, params, data, files)\u001b[0m\n\u001b[0;32m     61\u001b[0m \u001b[38;5;250m\u001b[39m\u001b[38;5;124;03m\"\"\"Post method to post to HTTP API.\u001b[39;00m\n\u001b[0;32m     62\u001b[0m \n\u001b[0;32m     63\u001b[0m \u001b[38;5;124;03mArgs:\u001b[39;00m\n\u001b[1;32m   (...)\u001b[0m\n\u001b[0;32m     71\u001b[0m \u001b[38;5;124;03m    requests.models.Response: a responce from the robot's server.\u001b[39;00m\n\u001b[0;32m     72\u001b[0m \u001b[38;5;124;03m\"\"\"\u001b[39;00m        \n\u001b[0;32m     73\u001b[0m url \u001b[38;5;241m=\u001b[39m \u001b[38;5;28mself\u001b[39m\u001b[38;5;241m.\u001b[39mget_url(endpoint_key)\n\u001b[1;32m---> 75\u001b[0m r \u001b[38;5;241m=\u001b[39m \u001b[43mrequests\u001b[49m\u001b[38;5;241;43m.\u001b[39;49m\u001b[43mpost\u001b[49m\u001b[43m(\u001b[49m\n\u001b[0;32m     76\u001b[0m \u001b[43m    \u001b[49m\u001b[43murl\u001b[49m\u001b[38;5;241;43m=\u001b[39;49m\u001b[43murl\u001b[49m\u001b[43m,\u001b[49m\n\u001b[0;32m     77\u001b[0m \u001b[43m    \u001b[49m\u001b[43mheaders\u001b[49m\u001b[38;5;241;43m=\u001b[39;49m\u001b[43mheaders\u001b[49m\u001b[43m,\u001b[49m\n\u001b[0;32m     78\u001b[0m \u001b[43m    \u001b[49m\u001b[43mparams\u001b[49m\u001b[38;5;241;43m=\u001b[39;49m\u001b[43mparams\u001b[49m\u001b[43m,\u001b[49m\n\u001b[0;32m     79\u001b[0m \u001b[43m    \u001b[49m\u001b[43mdata\u001b[49m\u001b[38;5;241;43m=\u001b[39;49m\u001b[43mdata\u001b[49m\u001b[43m,\u001b[49m\n\u001b[0;32m     80\u001b[0m \u001b[43m    \u001b[49m\u001b[43mfiles\u001b[49m\u001b[38;5;241;43m=\u001b[39;49m\u001b[43mfiles\u001b[49m\u001b[43m)\u001b[49m\n\u001b[0;32m     81\u001b[0m \u001b[38;5;28;01mreturn\u001b[39;00m r\n",
      "File \u001b[1;32mc:\\Users\\ivand\\miniconda3\\envs\\lab\\Lib\\site-packages\\requests\\api.py:115\u001b[0m, in \u001b[0;36mpost\u001b[1;34m(url, data, json, **kwargs)\u001b[0m\n\u001b[0;32m    103\u001b[0m \u001b[38;5;28;01mdef\u001b[39;00m \u001b[38;5;21mpost\u001b[39m(url, data\u001b[38;5;241m=\u001b[39m\u001b[38;5;28;01mNone\u001b[39;00m, json\u001b[38;5;241m=\u001b[39m\u001b[38;5;28;01mNone\u001b[39;00m, \u001b[38;5;241m*\u001b[39m\u001b[38;5;241m*\u001b[39mkwargs):\n\u001b[0;32m    104\u001b[0m \u001b[38;5;250m    \u001b[39m\u001b[38;5;124mr\u001b[39m\u001b[38;5;124;03m\"\"\"Sends a POST request.\u001b[39;00m\n\u001b[0;32m    105\u001b[0m \n\u001b[0;32m    106\u001b[0m \u001b[38;5;124;03m    :param url: URL for the new :class:`Request` object.\u001b[39;00m\n\u001b[1;32m   (...)\u001b[0m\n\u001b[0;32m    112\u001b[0m \u001b[38;5;124;03m    :rtype: requests.Response\u001b[39;00m\n\u001b[0;32m    113\u001b[0m \u001b[38;5;124;03m    \"\"\"\u001b[39;00m\n\u001b[1;32m--> 115\u001b[0m     \u001b[38;5;28;01mreturn\u001b[39;00m \u001b[43mrequest\u001b[49m\u001b[43m(\u001b[49m\u001b[38;5;124;43m\"\u001b[39;49m\u001b[38;5;124;43mpost\u001b[39;49m\u001b[38;5;124;43m\"\u001b[39;49m\u001b[43m,\u001b[49m\u001b[43m \u001b[49m\u001b[43murl\u001b[49m\u001b[43m,\u001b[49m\u001b[43m \u001b[49m\u001b[43mdata\u001b[49m\u001b[38;5;241;43m=\u001b[39;49m\u001b[43mdata\u001b[49m\u001b[43m,\u001b[49m\u001b[43m \u001b[49m\u001b[43mjson\u001b[49m\u001b[38;5;241;43m=\u001b[39;49m\u001b[43mjson\u001b[49m\u001b[43m,\u001b[49m\u001b[43m \u001b[49m\u001b[38;5;241;43m*\u001b[39;49m\u001b[38;5;241;43m*\u001b[39;49m\u001b[43mkwargs\u001b[49m\u001b[43m)\u001b[49m\n",
      "File \u001b[1;32mc:\\Users\\ivand\\miniconda3\\envs\\lab\\Lib\\site-packages\\requests\\api.py:59\u001b[0m, in \u001b[0;36mrequest\u001b[1;34m(method, url, **kwargs)\u001b[0m\n\u001b[0;32m     55\u001b[0m \u001b[38;5;66;03m# By using the 'with' statement we are sure the session is closed, thus we\u001b[39;00m\n\u001b[0;32m     56\u001b[0m \u001b[38;5;66;03m# avoid leaving sockets open which can trigger a ResourceWarning in some\u001b[39;00m\n\u001b[0;32m     57\u001b[0m \u001b[38;5;66;03m# cases, and look like a memory leak in others.\u001b[39;00m\n\u001b[0;32m     58\u001b[0m \u001b[38;5;28;01mwith\u001b[39;00m sessions\u001b[38;5;241m.\u001b[39mSession() \u001b[38;5;28;01mas\u001b[39;00m session:\n\u001b[1;32m---> 59\u001b[0m     \u001b[38;5;28;01mreturn\u001b[39;00m \u001b[43msession\u001b[49m\u001b[38;5;241;43m.\u001b[39;49m\u001b[43mrequest\u001b[49m\u001b[43m(\u001b[49m\u001b[43mmethod\u001b[49m\u001b[38;5;241;43m=\u001b[39;49m\u001b[43mmethod\u001b[49m\u001b[43m,\u001b[49m\u001b[43m \u001b[49m\u001b[43murl\u001b[49m\u001b[38;5;241;43m=\u001b[39;49m\u001b[43murl\u001b[49m\u001b[43m,\u001b[49m\u001b[43m \u001b[49m\u001b[38;5;241;43m*\u001b[39;49m\u001b[38;5;241;43m*\u001b[39;49m\u001b[43mkwargs\u001b[49m\u001b[43m)\u001b[49m\n",
      "File \u001b[1;32mc:\\Users\\ivand\\miniconda3\\envs\\lab\\Lib\\site-packages\\requests\\sessions.py:589\u001b[0m, in \u001b[0;36mSession.request\u001b[1;34m(self, method, url, params, data, headers, cookies, files, auth, timeout, allow_redirects, proxies, hooks, stream, verify, cert, json)\u001b[0m\n\u001b[0;32m    584\u001b[0m send_kwargs \u001b[38;5;241m=\u001b[39m {\n\u001b[0;32m    585\u001b[0m     \u001b[38;5;124m\"\u001b[39m\u001b[38;5;124mtimeout\u001b[39m\u001b[38;5;124m\"\u001b[39m: timeout,\n\u001b[0;32m    586\u001b[0m     \u001b[38;5;124m\"\u001b[39m\u001b[38;5;124mallow_redirects\u001b[39m\u001b[38;5;124m\"\u001b[39m: allow_redirects,\n\u001b[0;32m    587\u001b[0m }\n\u001b[0;32m    588\u001b[0m send_kwargs\u001b[38;5;241m.\u001b[39mupdate(settings)\n\u001b[1;32m--> 589\u001b[0m resp \u001b[38;5;241m=\u001b[39m \u001b[38;5;28;43mself\u001b[39;49m\u001b[38;5;241;43m.\u001b[39;49m\u001b[43msend\u001b[49m\u001b[43m(\u001b[49m\u001b[43mprep\u001b[49m\u001b[43m,\u001b[49m\u001b[43m \u001b[49m\u001b[38;5;241;43m*\u001b[39;49m\u001b[38;5;241;43m*\u001b[39;49m\u001b[43msend_kwargs\u001b[49m\u001b[43m)\u001b[49m\n\u001b[0;32m    591\u001b[0m \u001b[38;5;28;01mreturn\u001b[39;00m resp\n",
      "File \u001b[1;32mc:\\Users\\ivand\\miniconda3\\envs\\lab\\Lib\\site-packages\\requests\\sessions.py:703\u001b[0m, in \u001b[0;36mSession.send\u001b[1;34m(self, request, **kwargs)\u001b[0m\n\u001b[0;32m    700\u001b[0m start \u001b[38;5;241m=\u001b[39m preferred_clock()\n\u001b[0;32m    702\u001b[0m \u001b[38;5;66;03m# Send the request\u001b[39;00m\n\u001b[1;32m--> 703\u001b[0m r \u001b[38;5;241m=\u001b[39m \u001b[43madapter\u001b[49m\u001b[38;5;241;43m.\u001b[39;49m\u001b[43msend\u001b[49m\u001b[43m(\u001b[49m\u001b[43mrequest\u001b[49m\u001b[43m,\u001b[49m\u001b[43m \u001b[49m\u001b[38;5;241;43m*\u001b[39;49m\u001b[38;5;241;43m*\u001b[39;49m\u001b[43mkwargs\u001b[49m\u001b[43m)\u001b[49m\n\u001b[0;32m    705\u001b[0m \u001b[38;5;66;03m# Total elapsed time of the request (approximately)\u001b[39;00m\n\u001b[0;32m    706\u001b[0m elapsed \u001b[38;5;241m=\u001b[39m preferred_clock() \u001b[38;5;241m-\u001b[39m start\n",
      "File \u001b[1;32mc:\\Users\\ivand\\miniconda3\\envs\\lab\\Lib\\site-packages\\requests\\adapters.py:667\u001b[0m, in \u001b[0;36mHTTPAdapter.send\u001b[1;34m(self, request, stream, timeout, verify, cert, proxies)\u001b[0m\n\u001b[0;32m    664\u001b[0m     timeout \u001b[38;5;241m=\u001b[39m TimeoutSauce(connect\u001b[38;5;241m=\u001b[39mtimeout, read\u001b[38;5;241m=\u001b[39mtimeout)\n\u001b[0;32m    666\u001b[0m \u001b[38;5;28;01mtry\u001b[39;00m:\n\u001b[1;32m--> 667\u001b[0m     resp \u001b[38;5;241m=\u001b[39m \u001b[43mconn\u001b[49m\u001b[38;5;241;43m.\u001b[39;49m\u001b[43murlopen\u001b[49m\u001b[43m(\u001b[49m\n\u001b[0;32m    668\u001b[0m \u001b[43m        \u001b[49m\u001b[43mmethod\u001b[49m\u001b[38;5;241;43m=\u001b[39;49m\u001b[43mrequest\u001b[49m\u001b[38;5;241;43m.\u001b[39;49m\u001b[43mmethod\u001b[49m\u001b[43m,\u001b[49m\n\u001b[0;32m    669\u001b[0m \u001b[43m        \u001b[49m\u001b[43murl\u001b[49m\u001b[38;5;241;43m=\u001b[39;49m\u001b[43murl\u001b[49m\u001b[43m,\u001b[49m\n\u001b[0;32m    670\u001b[0m \u001b[43m        \u001b[49m\u001b[43mbody\u001b[49m\u001b[38;5;241;43m=\u001b[39;49m\u001b[43mrequest\u001b[49m\u001b[38;5;241;43m.\u001b[39;49m\u001b[43mbody\u001b[49m\u001b[43m,\u001b[49m\n\u001b[0;32m    671\u001b[0m \u001b[43m        \u001b[49m\u001b[43mheaders\u001b[49m\u001b[38;5;241;43m=\u001b[39;49m\u001b[43mrequest\u001b[49m\u001b[38;5;241;43m.\u001b[39;49m\u001b[43mheaders\u001b[49m\u001b[43m,\u001b[49m\n\u001b[0;32m    672\u001b[0m \u001b[43m        \u001b[49m\u001b[43mredirect\u001b[49m\u001b[38;5;241;43m=\u001b[39;49m\u001b[38;5;28;43;01mFalse\u001b[39;49;00m\u001b[43m,\u001b[49m\n\u001b[0;32m    673\u001b[0m \u001b[43m        \u001b[49m\u001b[43massert_same_host\u001b[49m\u001b[38;5;241;43m=\u001b[39;49m\u001b[38;5;28;43;01mFalse\u001b[39;49;00m\u001b[43m,\u001b[49m\n\u001b[0;32m    674\u001b[0m \u001b[43m        \u001b[49m\u001b[43mpreload_content\u001b[49m\u001b[38;5;241;43m=\u001b[39;49m\u001b[38;5;28;43;01mFalse\u001b[39;49;00m\u001b[43m,\u001b[49m\n\u001b[0;32m    675\u001b[0m \u001b[43m        \u001b[49m\u001b[43mdecode_content\u001b[49m\u001b[38;5;241;43m=\u001b[39;49m\u001b[38;5;28;43;01mFalse\u001b[39;49;00m\u001b[43m,\u001b[49m\n\u001b[0;32m    676\u001b[0m \u001b[43m        \u001b[49m\u001b[43mretries\u001b[49m\u001b[38;5;241;43m=\u001b[39;49m\u001b[38;5;28;43mself\u001b[39;49m\u001b[38;5;241;43m.\u001b[39;49m\u001b[43mmax_retries\u001b[49m\u001b[43m,\u001b[49m\n\u001b[0;32m    677\u001b[0m \u001b[43m        \u001b[49m\u001b[43mtimeout\u001b[49m\u001b[38;5;241;43m=\u001b[39;49m\u001b[43mtimeout\u001b[49m\u001b[43m,\u001b[49m\n\u001b[0;32m    678\u001b[0m \u001b[43m        \u001b[49m\u001b[43mchunked\u001b[49m\u001b[38;5;241;43m=\u001b[39;49m\u001b[43mchunked\u001b[49m\u001b[43m,\u001b[49m\n\u001b[0;32m    679\u001b[0m \u001b[43m    \u001b[49m\u001b[43m)\u001b[49m\n\u001b[0;32m    681\u001b[0m \u001b[38;5;28;01mexcept\u001b[39;00m (ProtocolError, \u001b[38;5;167;01mOSError\u001b[39;00m) \u001b[38;5;28;01mas\u001b[39;00m err:\n\u001b[0;32m    682\u001b[0m     \u001b[38;5;28;01mraise\u001b[39;00m \u001b[38;5;167;01mConnectionError\u001b[39;00m(err, request\u001b[38;5;241m=\u001b[39mrequest)\n",
      "File \u001b[1;32mc:\\Users\\ivand\\miniconda3\\envs\\lab\\Lib\\site-packages\\urllib3\\connectionpool.py:789\u001b[0m, in \u001b[0;36mHTTPConnectionPool.urlopen\u001b[1;34m(self, method, url, body, headers, retries, redirect, assert_same_host, timeout, pool_timeout, release_conn, chunked, body_pos, preload_content, decode_content, **response_kw)\u001b[0m\n\u001b[0;32m    786\u001b[0m response_conn \u001b[38;5;241m=\u001b[39m conn \u001b[38;5;28;01mif\u001b[39;00m \u001b[38;5;129;01mnot\u001b[39;00m release_conn \u001b[38;5;28;01melse\u001b[39;00m \u001b[38;5;28;01mNone\u001b[39;00m\n\u001b[0;32m    788\u001b[0m \u001b[38;5;66;03m# Make the request on the HTTPConnection object\u001b[39;00m\n\u001b[1;32m--> 789\u001b[0m response \u001b[38;5;241m=\u001b[39m \u001b[38;5;28;43mself\u001b[39;49m\u001b[38;5;241;43m.\u001b[39;49m\u001b[43m_make_request\u001b[49m\u001b[43m(\u001b[49m\n\u001b[0;32m    790\u001b[0m \u001b[43m    \u001b[49m\u001b[43mconn\u001b[49m\u001b[43m,\u001b[49m\n\u001b[0;32m    791\u001b[0m \u001b[43m    \u001b[49m\u001b[43mmethod\u001b[49m\u001b[43m,\u001b[49m\n\u001b[0;32m    792\u001b[0m \u001b[43m    \u001b[49m\u001b[43murl\u001b[49m\u001b[43m,\u001b[49m\n\u001b[0;32m    793\u001b[0m \u001b[43m    \u001b[49m\u001b[43mtimeout\u001b[49m\u001b[38;5;241;43m=\u001b[39;49m\u001b[43mtimeout_obj\u001b[49m\u001b[43m,\u001b[49m\n\u001b[0;32m    794\u001b[0m \u001b[43m    \u001b[49m\u001b[43mbody\u001b[49m\u001b[38;5;241;43m=\u001b[39;49m\u001b[43mbody\u001b[49m\u001b[43m,\u001b[49m\n\u001b[0;32m    795\u001b[0m \u001b[43m    \u001b[49m\u001b[43mheaders\u001b[49m\u001b[38;5;241;43m=\u001b[39;49m\u001b[43mheaders\u001b[49m\u001b[43m,\u001b[49m\n\u001b[0;32m    796\u001b[0m \u001b[43m    \u001b[49m\u001b[43mchunked\u001b[49m\u001b[38;5;241;43m=\u001b[39;49m\u001b[43mchunked\u001b[49m\u001b[43m,\u001b[49m\n\u001b[0;32m    797\u001b[0m \u001b[43m    \u001b[49m\u001b[43mretries\u001b[49m\u001b[38;5;241;43m=\u001b[39;49m\u001b[43mretries\u001b[49m\u001b[43m,\u001b[49m\n\u001b[0;32m    798\u001b[0m \u001b[43m    \u001b[49m\u001b[43mresponse_conn\u001b[49m\u001b[38;5;241;43m=\u001b[39;49m\u001b[43mresponse_conn\u001b[49m\u001b[43m,\u001b[49m\n\u001b[0;32m    799\u001b[0m \u001b[43m    \u001b[49m\u001b[43mpreload_content\u001b[49m\u001b[38;5;241;43m=\u001b[39;49m\u001b[43mpreload_content\u001b[49m\u001b[43m,\u001b[49m\n\u001b[0;32m    800\u001b[0m \u001b[43m    \u001b[49m\u001b[43mdecode_content\u001b[49m\u001b[38;5;241;43m=\u001b[39;49m\u001b[43mdecode_content\u001b[49m\u001b[43m,\u001b[49m\n\u001b[0;32m    801\u001b[0m \u001b[43m    \u001b[49m\u001b[38;5;241;43m*\u001b[39;49m\u001b[38;5;241;43m*\u001b[39;49m\u001b[43mresponse_kw\u001b[49m\u001b[43m,\u001b[49m\n\u001b[0;32m    802\u001b[0m \u001b[43m\u001b[49m\u001b[43m)\u001b[49m\n\u001b[0;32m    804\u001b[0m \u001b[38;5;66;03m# Everything went great!\u001b[39;00m\n\u001b[0;32m    805\u001b[0m clean_exit \u001b[38;5;241m=\u001b[39m \u001b[38;5;28;01mTrue\u001b[39;00m\n",
      "File \u001b[1;32mc:\\Users\\ivand\\miniconda3\\envs\\lab\\Lib\\site-packages\\urllib3\\connectionpool.py:536\u001b[0m, in \u001b[0;36mHTTPConnectionPool._make_request\u001b[1;34m(self, conn, method, url, body, headers, retries, timeout, chunked, response_conn, preload_content, decode_content, enforce_content_length)\u001b[0m\n\u001b[0;32m    534\u001b[0m \u001b[38;5;66;03m# Receive the response from the server\u001b[39;00m\n\u001b[0;32m    535\u001b[0m \u001b[38;5;28;01mtry\u001b[39;00m:\n\u001b[1;32m--> 536\u001b[0m     response \u001b[38;5;241m=\u001b[39m \u001b[43mconn\u001b[49m\u001b[38;5;241;43m.\u001b[39;49m\u001b[43mgetresponse\u001b[49m\u001b[43m(\u001b[49m\u001b[43m)\u001b[49m\n\u001b[0;32m    537\u001b[0m \u001b[38;5;28;01mexcept\u001b[39;00m (BaseSSLError, \u001b[38;5;167;01mOSError\u001b[39;00m) \u001b[38;5;28;01mas\u001b[39;00m e:\n\u001b[0;32m    538\u001b[0m     \u001b[38;5;28mself\u001b[39m\u001b[38;5;241m.\u001b[39m_raise_timeout(err\u001b[38;5;241m=\u001b[39me, url\u001b[38;5;241m=\u001b[39murl, timeout_value\u001b[38;5;241m=\u001b[39mread_timeout)\n",
      "File \u001b[1;32mc:\\Users\\ivand\\miniconda3\\envs\\lab\\Lib\\site-packages\\urllib3\\connection.py:507\u001b[0m, in \u001b[0;36mHTTPConnection.getresponse\u001b[1;34m(self)\u001b[0m\n\u001b[0;32m    504\u001b[0m \u001b[38;5;28;01mfrom\u001b[39;00m \u001b[38;5;21;01m.\u001b[39;00m\u001b[38;5;21;01mresponse\u001b[39;00m \u001b[38;5;28;01mimport\u001b[39;00m HTTPResponse\n\u001b[0;32m    506\u001b[0m \u001b[38;5;66;03m# Get the response from http.client.HTTPConnection\u001b[39;00m\n\u001b[1;32m--> 507\u001b[0m httplib_response \u001b[38;5;241m=\u001b[39m \u001b[38;5;28;43msuper\u001b[39;49m\u001b[43m(\u001b[49m\u001b[43m)\u001b[49m\u001b[38;5;241;43m.\u001b[39;49m\u001b[43mgetresponse\u001b[49m\u001b[43m(\u001b[49m\u001b[43m)\u001b[49m\n\u001b[0;32m    509\u001b[0m \u001b[38;5;28;01mtry\u001b[39;00m:\n\u001b[0;32m    510\u001b[0m     assert_header_parsing(httplib_response\u001b[38;5;241m.\u001b[39mmsg)\n",
      "File \u001b[1;32mc:\\Users\\ivand\\miniconda3\\envs\\lab\\Lib\\http\\client.py:1428\u001b[0m, in \u001b[0;36mHTTPConnection.getresponse\u001b[1;34m(self)\u001b[0m\n\u001b[0;32m   1426\u001b[0m \u001b[38;5;28;01mtry\u001b[39;00m:\n\u001b[0;32m   1427\u001b[0m     \u001b[38;5;28;01mtry\u001b[39;00m:\n\u001b[1;32m-> 1428\u001b[0m         \u001b[43mresponse\u001b[49m\u001b[38;5;241;43m.\u001b[39;49m\u001b[43mbegin\u001b[49m\u001b[43m(\u001b[49m\u001b[43m)\u001b[49m\n\u001b[0;32m   1429\u001b[0m     \u001b[38;5;28;01mexcept\u001b[39;00m \u001b[38;5;167;01mConnectionError\u001b[39;00m:\n\u001b[0;32m   1430\u001b[0m         \u001b[38;5;28mself\u001b[39m\u001b[38;5;241m.\u001b[39mclose()\n",
      "File \u001b[1;32mc:\\Users\\ivand\\miniconda3\\envs\\lab\\Lib\\http\\client.py:331\u001b[0m, in \u001b[0;36mHTTPResponse.begin\u001b[1;34m(self)\u001b[0m\n\u001b[0;32m    329\u001b[0m \u001b[38;5;66;03m# read until we get a non-100 response\u001b[39;00m\n\u001b[0;32m    330\u001b[0m \u001b[38;5;28;01mwhile\u001b[39;00m \u001b[38;5;28;01mTrue\u001b[39;00m:\n\u001b[1;32m--> 331\u001b[0m     version, status, reason \u001b[38;5;241m=\u001b[39m \u001b[38;5;28;43mself\u001b[39;49m\u001b[38;5;241;43m.\u001b[39;49m\u001b[43m_read_status\u001b[49m\u001b[43m(\u001b[49m\u001b[43m)\u001b[49m\n\u001b[0;32m    332\u001b[0m     \u001b[38;5;28;01mif\u001b[39;00m status \u001b[38;5;241m!=\u001b[39m CONTINUE:\n\u001b[0;32m    333\u001b[0m         \u001b[38;5;28;01mbreak\u001b[39;00m\n",
      "File \u001b[1;32mc:\\Users\\ivand\\miniconda3\\envs\\lab\\Lib\\http\\client.py:292\u001b[0m, in \u001b[0;36mHTTPResponse._read_status\u001b[1;34m(self)\u001b[0m\n\u001b[0;32m    291\u001b[0m \u001b[38;5;28;01mdef\u001b[39;00m \u001b[38;5;21m_read_status\u001b[39m(\u001b[38;5;28mself\u001b[39m):\n\u001b[1;32m--> 292\u001b[0m     line \u001b[38;5;241m=\u001b[39m \u001b[38;5;28mstr\u001b[39m(\u001b[38;5;28;43mself\u001b[39;49m\u001b[38;5;241;43m.\u001b[39;49m\u001b[43mfp\u001b[49m\u001b[38;5;241;43m.\u001b[39;49m\u001b[43mreadline\u001b[49m\u001b[43m(\u001b[49m\u001b[43m_MAXLINE\u001b[49m\u001b[43m \u001b[49m\u001b[38;5;241;43m+\u001b[39;49m\u001b[43m \u001b[49m\u001b[38;5;241;43m1\u001b[39;49m\u001b[43m)\u001b[49m, \u001b[38;5;124m\"\u001b[39m\u001b[38;5;124miso-8859-1\u001b[39m\u001b[38;5;124m\"\u001b[39m)\n\u001b[0;32m    293\u001b[0m     \u001b[38;5;28;01mif\u001b[39;00m \u001b[38;5;28mlen\u001b[39m(line) \u001b[38;5;241m>\u001b[39m _MAXLINE:\n\u001b[0;32m    294\u001b[0m         \u001b[38;5;28;01mraise\u001b[39;00m LineTooLong(\u001b[38;5;124m\"\u001b[39m\u001b[38;5;124mstatus line\u001b[39m\u001b[38;5;124m\"\u001b[39m)\n",
      "File \u001b[1;32mc:\\Users\\ivand\\miniconda3\\envs\\lab\\Lib\\socket.py:720\u001b[0m, in \u001b[0;36mSocketIO.readinto\u001b[1;34m(self, b)\u001b[0m\n\u001b[0;32m    718\u001b[0m \u001b[38;5;28;01mwhile\u001b[39;00m \u001b[38;5;28;01mTrue\u001b[39;00m:\n\u001b[0;32m    719\u001b[0m     \u001b[38;5;28;01mtry\u001b[39;00m:\n\u001b[1;32m--> 720\u001b[0m         \u001b[38;5;28;01mreturn\u001b[39;00m \u001b[38;5;28;43mself\u001b[39;49m\u001b[38;5;241;43m.\u001b[39;49m\u001b[43m_sock\u001b[49m\u001b[38;5;241;43m.\u001b[39;49m\u001b[43mrecv_into\u001b[49m\u001b[43m(\u001b[49m\u001b[43mb\u001b[49m\u001b[43m)\u001b[49m\n\u001b[0;32m    721\u001b[0m     \u001b[38;5;28;01mexcept\u001b[39;00m timeout:\n\u001b[0;32m    722\u001b[0m         \u001b[38;5;28mself\u001b[39m\u001b[38;5;241m.\u001b[39m_timeout_occurred \u001b[38;5;241m=\u001b[39m \u001b[38;5;28;01mTrue\u001b[39;00m\n",
      "\u001b[1;31mKeyboardInterrupt\u001b[0m: "
     ]
    }
   ],
   "source": [
    "# Take solution off the well palte with cuboids\n",
    "\n",
    "columns = list(range(1,25))\n",
    "# rows = ['A', 'B', 'C', 'D', 'E', 'F', 'G', 'H', 'I', 'J', 'K', 'L', 'M', 'N', 'O', 'P']\n",
    "rows = ['B']\n",
    "\n",
    "\n",
    "row_idx = 0\n",
    "column_idx = 0\n",
    "\n",
    "while row_idx < len(rows):\n",
    "    row = rows[row_idx]\n",
    "    while column_idx < len(columns):\n",
    "        column = columns[column_idx]\n",
    "        r = openapi.aspirate(openapi.labware_dct['6'], f\"{row}{column}\", well_location = 'bottom', offset = (0.9,-0.9,0.5), volume = 50, flow_rate = 5)\n",
    "        responce_dict = json.loads(r.text)['data']\n",
    "        if responce_dict['status'] == 'failed':\n",
    "            if responce_dict['error']['errorType'] == 'InvalidAspirateVolumeError':\n",
    "                print('Dumping fluid')\n",
    "                openapi.blow_out(openapi.labware_dct['3'], \"A1\", well_location='center', flow_rate = 200)\n",
    "        else:\n",
    "            column_idx += 1\n",
    "    column_idx = 0\n",
    "    row_idx += 1\n",
    "\n",
    "openapi.blow_out(openapi.labware_dct['3'], \"A1\", well_location='center', flow_rate = 200)\n",
    "openapi.move_relative('z', 20)\n"
   ]
  },
  {
   "cell_type": "code",
   "execution_count": 7,
   "metadata": {},
   "outputs": [
    {
     "data": {
      "text/plain": [
       "<Response [201]>"
      ]
     },
     "execution_count": 7,
     "metadata": {},
     "output_type": "execute_result"
    }
   ],
   "source": [
    "openapi.blow_out(openapi.labware_dct['3'], \"A1\", well_location='center', flow_rate = 200)"
   ]
  },
  {
   "cell_type": "code",
   "execution_count": 9,
   "metadata": {},
   "outputs": [],
   "source": [
    "r = openapi.dispense(openapi.labware_dct['3'], f\"A1\", well_location = 'top', volume = 10, flow_rate = 5)"
   ]
  },
  {
   "cell_type": "code",
   "execution_count": 51,
   "metadata": {},
   "outputs": [
    {
     "data": {
      "text/plain": [
       "<Response [201]>"
      ]
     },
     "execution_count": 51,
     "metadata": {},
     "output_type": "execute_result"
    }
   ],
   "source": [
    "openapi.move_relative('z', 20)"
   ]
  },
  {
   "cell_type": "code",
   "execution_count": 66,
   "metadata": {},
   "outputs": [
    {
     "name": "stdout",
     "output_type": "stream",
     "text": [
      "Refilling pipette\n",
      "Refilling pipette\n",
      "Refilling pipette\n",
      "Refilling pipette\n",
      "Refilling pipette\n",
      "Refilling pipette\n",
      "Refilling pipette\n",
      "Refilling pipette\n",
      "Refilling pipette\n",
      "Refilling pipette\n",
      "Refilling pipette\n",
      "Refilling pipette\n"
     ]
    },
    {
     "data": {
      "text/plain": [
       "<Response [201]>"
      ]
     },
     "execution_count": 66,
     "metadata": {},
     "output_type": "execute_result"
    }
   ],
   "source": [
    "columns = list(range(1,25))\n",
    "# rows = ['A', 'B', 'C', 'D', 'E', 'F', 'G', 'H', 'I', 'J', 'K', 'L', 'M', 'N', 'O', 'P']\n",
    "rows = ['G', 'H']\n",
    "\n",
    "row_idx = 0\n",
    "column_idx = 0\n",
    "\n",
    "while row_idx < len(rows):\n",
    "    row = rows[row_idx]\n",
    "    while column_idx < len(columns):\n",
    "        column = columns[column_idx]\n",
    "        r = openapi.dispense(openapi.labware_dct['6'], f\"{row}{column}\", well_location = 'bottom', offset = (1,-1, 0), volume = 50, flow_rate = 200)\n",
    "        responce_dict = json.loads(r.text)['data']\n",
    "        if responce_dict['status'] == 'failed':\n",
    "            if responce_dict['error']['errorType'] == 'InvalidDispenseVolumeError':\n",
    "                print('Refilling pipette')\n",
    "                openapi.aspirate(openapi.labware_dct['3'], \"A1\", well_location ='bottom', volume = 200, flow_rate = 200)\n",
    "        else:\n",
    "            column_idx += 1\n",
    "    column_idx = 0\n",
    "    row_idx += 1\n",
    "\n",
    "openapi.blow_out(openapi.labware_dct['3'], \"A1\", well_location='center', flow_rate = 200)\n",
    "openapi.aspirate(openapi.labware_dct['3'], \"A2\", volume = 50, flow_rate = 200)\n",
    "openapi.dispense(openapi.labware_dct['3'], \"A2\", volume = 50, flow_rate = 200)"
   ]
  },
  {
   "cell_type": "code",
   "execution_count": 27,
   "metadata": {},
   "outputs": [
    {
     "data": {
      "text/plain": [
       "<Response [201]>"
      ]
     },
     "execution_count": 27,
     "metadata": {},
     "output_type": "execute_result"
    }
   ],
   "source": [
    "openapi.blow_out(openapi.labware_dct['3'], \"A1\", well_location='center', flow_rate = 200)\n",
    "openapi.aspirate(openapi.labware_dct['3'], \"A2\", volume = 50, flow_rate = 200)\n",
    "openapi.dispense(openapi.labware_dct['3'], \"A2\", volume = 50, flow_rate = 200)"
   ]
  },
  {
   "cell_type": "code",
   "execution_count": null,
   "metadata": {},
   "outputs": [
    {
     "data": {
      "text/plain": [
       "{'id': 'dec84017-3246-49d5-8548-ccfe85aa2350',\n",
       " 'createdAt': '2024-11-02T03:44:26.715454+00:00',\n",
       " 'isDefined': False,\n",
       " 'errorType': 'InvalidDispenseVolumeError',\n",
       " 'errorCode': '4000',\n",
       " 'detail': 'Cannot dispense 50.0 µL when only 0.0 µL has been aspirated.',\n",
       " 'errorInfo': {},\n",
       " 'wrappedErrors': []}"
      ]
     },
     "execution_count": 76,
     "metadata": {},
     "output_type": "execute_result"
    }
   ],
   "source": [
    "json.loads(r.text)['data']['error']['errorType']"
   ]
  },
  {
   "cell_type": "markdown",
   "metadata": {},
   "source": [
    "# Robot <-> camera calibration"
   ]
  },
  {
   "cell_type": "code",
   "execution_count": 62,
   "metadata": {},
   "outputs": [],
   "source": [
    "squaresX=7\n",
    "squaresY=5 \n",
    "squareLength=0.022\n",
    "markerLength=0.011\n",
    "aruco_dict = cv2.aruco.getPredefinedDictionary(cv2.aruco.DICT_6X6_250)\n",
    "params = cv2.aruco.DetectorParameters()\n",
    "detector = cv2.aruco.ArucoDetector(aruco_dict, params)\n",
    "board = cv2.aruco.CharucoBoard((squaresX, squaresY), squareLength, markerLength, aruco_dict)\n",
    "\n",
    "manual_movement = utils.ManualRobotMovement(openapi)\n",
    "\n",
    "openapi.move_to_coordinates((155,47,100), min_z_height=1, verbose=False)\n",
    "\n",
    "window = cap.get_window()\n",
    "\n",
    "robot_coords = []\n",
    "camera_coords = []\n",
    "\n",
    "while True:\n",
    " # Capture frame-by-frame\n",
    "    frame = cap.get_frame(undist=True)\n",
    "\n",
    "    x, y, z = openapi.get_position(verbose=False)[0].values()\n",
    "    (text_width, text_height), _ = cv2.getTextSize(f\"Robot coords: ({x:.2f}, {y:.2f}, {z:.2f})\", cv2.FONT_HERSHEY_SIMPLEX, 1, 2)\n",
    "    cv2.rectangle(frame, (10, 0), (10 + text_width, text_height + 100), (0, 0, 0), -1)\n",
    "    cv2.putText(frame, f\"Robot coords: ({x:.2f}, {y:.2f}, {z:.2f})\", (10, 30), cv2.FONT_HERSHEY_SIMPLEX, 1, (0, 255, 0), 2)\n",
    "    cv2.putText(frame, f\"Step size: {manual_movement.step} mm\", (10, 70), cv2.FONT_HERSHEY_SIMPLEX, 1, (0, 255, 0), 2)\n",
    "\n",
    "    center_screen_x = frame.shape[1] // 2\n",
    "    center_screen_y = frame.shape[0] // 2\n",
    "    cv2.circle(frame, (center_screen_x, center_screen_y), 5, (0, 0, 255), -1)\n",
    "    cv2.putText(frame, f\"Center: ({center_screen_x}, {center_screen_y})\", (center_screen_x + 10, center_screen_y - 10), cv2.FONT_HERSHEY_SIMPLEX, 0.5, (0, 0, 255), 2)\n",
    "\n",
    "    # Calculate the center of each quarter of the screen\n",
    "    quarter_centers = [\n",
    "        (center_screen_x // 2, center_screen_y // 2),\n",
    "        (3 * center_screen_x // 2, center_screen_y // 2),\n",
    "        (center_screen_x // 2, 3 * center_screen_y // 2),\n",
    "        (3 * center_screen_x // 2, 3 * center_screen_y // 2)\n",
    "    ]\n",
    "\n",
    "    # Draw circles at the center of each quarter\n",
    "    for qx, qy in quarter_centers:\n",
    "        cv2.circle(frame, (qx, qy), 5, (0, 255, 255), -1)\n",
    "        cv2.putText(frame, f\"({qx}, {qy})\", (qx + 10, qy - 10), cv2.FONT_HERSHEY_SIMPLEX, 0.5, (0, 255, 255), 2)\n",
    "\n",
    "    marker_corners, marker_ids, _ = detector.detectMarkers(frame)\n",
    "    if marker_corners:\n",
    "        for corner in marker_corners:\n",
    "            corner = corner.reshape((4, 2))\n",
    "            for point in corner:\n",
    "                cv2.circle(frame, tuple(point.astype(int)), 5, (0, 255, 0), -1)\n",
    "\n",
    "            center_x = int(np.mean(corner[:, 0]))\n",
    "            center_y = int(np.mean(corner[:, 1]))\n",
    "            cv2.circle(frame, (center_x, center_y), 5, (255, 0, 0), -1)\n",
    "            cv2.putText(frame, f\"({center_x}, {center_y})\", (center_x + 10, center_y - 10), cv2.FONT_HERSHEY_SIMPLEX, 0.5, (255, 0, 0), 2)\n",
    "\n",
    "    # Calculate side lengths\n",
    "    side_lengths = []\n",
    "    if marker_corners:\n",
    "        for corner in marker_corners[0]:\n",
    "            for i in range(4):\n",
    "                side_length = np.linalg.norm(corner[i] - corner[(i + 1) % 4])\n",
    "                side_lengths.append(side_length)\n",
    "\n",
    "    # Calculate the average side length\n",
    "        average_side_length = np.mean(side_lengths)\n",
    "        area = cv2.contourArea(marker_corners[0])\n",
    "        one_d_ratio = 13.83 / average_side_length\n",
    "        size_conversion_ratio = 13.83 ** 2 / area\n",
    "        cv2.putText(frame, f\"Area of marker: {area:.2f}\", (10, 110), cv2.FONT_HERSHEY_SIMPLEX, 1, (0, 255, 0), 2)\n",
    "    cv2.imshow(cap.window_name, frame)\n",
    "\n",
    "    key_pressed = cv2.waitKey(1)\n",
    "\n",
    "    if key_pressed == ord('q'):\n",
    "        keyboard.unhook_all()\n",
    "        break\n",
    "    elif key_pressed == ord('s'):\n",
    "        x, y, z = openapi.get_position(verbose=False)[0].values()\n",
    "        robot_coords.append((x, y))\n",
    "        camera_coords.append((center_x, center_y))\n",
    "\n",
    "# When everything done, release the capture\n",
    "# cap.release_camera()\n",
    "cv2.destroyAllWindows()\n",
    "\n",
    "calibration_data = utils.load_calibration_config(calibration_profile)\n",
    "calibration_data['size_conversion_ratio'] = size_conversion_ratio\n",
    "calibration_data['one_d_ratio'] = one_d_ratio\n",
    "utils.save_calibration_config(calibration_profile, calibration_data)"
   ]
  },
  {
   "cell_type": "code",
   "execution_count": 63,
   "metadata": {},
   "outputs": [],
   "source": [
    "calibration_points = [(160.0, 42.0),\n",
    " (150.0, 42.0),\n",
    " (150.0, 52.00000000000001),\n",
    " (160.0, 52.00000000000001)]\n",
    "\n",
    "robot_coords = []\n",
    "camera_coords = []\n",
    "\n",
    "\n",
    "window = cap.get_window()\n",
    "\n",
    "for calib_pt in calibration_points:\n",
    "    openapi.move_to_coordinates((*calib_pt, 100), min_z_height=1, verbose=False)\n",
    "    cv2.waitKey(1000)\n",
    "    frame = cap.get_frame(undist=True)\n",
    "    \n",
    "    x, y, z = openapi.get_position(verbose=False)[0].values()\n",
    "    (text_width, text_height), _ = cv2.getTextSize(f\"Robot coords: ({x:.2f}, {y:.2f}, {z:.2f})\", cv2.FONT_HERSHEY_SIMPLEX, 1, 2)\n",
    "    cv2.rectangle(frame, (10, 0), (10 + text_width, text_height + 70), (0, 0, 0), -1)\n",
    "    cv2.putText(frame, f\"Robot coords: ({x:.2f}, {y:.2f}, {z:.2f})\", (10, 30), cv2.FONT_HERSHEY_SIMPLEX, 1, (0, 255, 0), 2)\n",
    "    cv2.putText(frame, f\"Step size: {manual_movement.step} mm\", (10, 70), cv2.FONT_HERSHEY_SIMPLEX, 1, (0, 255, 0), 2)\n",
    "\n",
    "    center_screen_x = frame.shape[1] // 2\n",
    "    center_screen_y = frame.shape[0] // 2\n",
    "    cv2.circle(frame, (center_screen_x, center_screen_y), 5, (0, 0, 255), -1)\n",
    "    cv2.putText(frame, f\"Center: ({center_screen_x}, {center_screen_y})\", (center_screen_x + 10, center_screen_y - 10), cv2.FONT_HERSHEY_SIMPLEX, 0.5, (0, 0, 255), 2)\n",
    "\n",
    "    # Calculate the center of each quarter of the screen\n",
    "    quarter_centers = [\n",
    "        (center_screen_x // 2, center_screen_y // 2),\n",
    "        (3 * center_screen_x // 2, center_screen_y // 2),\n",
    "        (center_screen_x // 2, 3 * center_screen_y // 2),\n",
    "        (3 * center_screen_x // 2, 3 * center_screen_y // 2)\n",
    "    ]\n",
    "\n",
    "    # Draw circles at the center of each quarter\n",
    "    for qx, qy in quarter_centers:\n",
    "        cv2.circle(frame, (qx, qy), 5, (0, 255, 255), -1)\n",
    "        cv2.putText(frame, f\"({qx}, {qy})\", (qx + 10, qy - 10), cv2.FONT_HERSHEY_SIMPLEX, 0.5, (0, 255, 255), 2)\n",
    "\n",
    "    marker_corners, marker_ids, _ = detector.detectMarkers(frame)\n",
    "    if marker_corners:\n",
    "        for corner in marker_corners:\n",
    "            corner = corner.reshape((4, 2))\n",
    "            for point in corner:\n",
    "                cv2.circle(frame, tuple(point.astype(int)), 5, (0, 255, 0), -1)\n",
    "\n",
    "            center_x = int(np.mean(corner[:, 0]))\n",
    "            center_y = int(np.mean(corner[:, 1]))\n",
    "            cv2.circle(frame, (center_x, center_y), 5, (255, 0, 0), -1)\n",
    "            cv2.putText(frame, f\"({center_x}, {center_y})\", (center_x + 10, center_y - 10), cv2.FONT_HERSHEY_SIMPLEX, 0.5, (255, 0, 0), 2)\n",
    "\n",
    "    cv2.waitKey(1)\n",
    "    cv2.imshow(cap.window_name, frame)\n",
    "    x, y, z = openapi.get_position(verbose=False)[0].values()\n",
    "    robot_coords.append((x, y))\n",
    "    camera_coords.append((center_x, center_y))\n",
    "\n",
    "cv2.destroyAllWindows()"
   ]
  },
  {
   "cell_type": "markdown",
   "metadata": {},
   "source": [
    "# Write transformation matrix"
   ]
  },
  {
   "cell_type": "code",
   "execution_count": 64,
   "metadata": {},
   "outputs": [],
   "source": [
    "calibration_data = utils.load_calibration_config(calibration_profile)\n",
    "\n",
    "camera_coords = utils.sort_coordinates(camera_coords)\n",
    "robot_coords = utils.sort_coordinates(robot_coords, reverse_y=True)\n",
    "\n",
    "robot_to_camera_coords = {tuple(robot_coord): tuple(camera_coord) for robot_coord, camera_coord in zip(robot_coords, camera_coords)}\n",
    "tf_mtx = utils.compute_tf_mtx(robot_to_camera_coords)\n",
    "\n",
    "calibration_data['tf_mtx'] = tf_mtx.tolist()\n",
    "\n",
    "utils.save_calibration_config(calibration_profile, calibration_data)"
   ]
  },
  {
   "cell_type": "markdown",
   "metadata": {},
   "source": [
    "# Pipette offset calibration"
   ]
  },
  {
   "cell_type": "markdown",
   "metadata": {},
   "source": [
    "### Blob detector"
   ]
  },
  {
   "cell_type": "code",
   "execution_count": null,
   "metadata": {},
   "outputs": [],
   "source": [
    "calibration_data = utils.load_calibration_config(calibration_profile)\n",
    "\n",
    "tf_mtx = np.array(calibration_data['tf_mtx'])\n",
    "calib_origin = np.array(calibration_data['calib_origin'])[:2]\n",
    "offset = np.array(calibration_data['offset'])\n",
    "\n",
    "\n",
    "window = cap.get_window()\n",
    "\n",
    "def on_mouse_click(event, x, y, flags, param):\n",
    "    global circle_center\n",
    "    global circle_radius\n",
    "    global filtered_contours\n",
    "    global X_init, Y_init\n",
    "\n",
    "    if event == cv2.EVENT_MBUTTONDOWN:\n",
    "        circle_center = (x, y)\n",
    "\n",
    "    if event == cv2.EVENT_MOUSEWHEEL:\n",
    "        if flags > 0:\n",
    "            circle_radius += 10\n",
    "        else:\n",
    "            circle_radius -= 10\n",
    "\n",
    "    if event == cv2.EVENT_LBUTTONDBLCLK:\n",
    "        for contour in filtered_contours:\n",
    "            r=cv2.pointPolygonTest(contour, (x,y), False)\n",
    "            if r>0:\n",
    "                M = cv2.moments(contour)\n",
    "                if M[\"m00\"] != 0:\n",
    "                    cX = int(M[\"m10\"] / M[\"m00\"])\n",
    "                    cY = int(M[\"m01\"] / M[\"m00\"])\n",
    "                    X_init, Y_init, _ = tf_mtx @ (cX, cY, 1)\n",
    "\n",
    "                    x, y, _ = openapi.get_position(verbose=False)[0].values()\n",
    "                    diff = np.array([x,y]) - np.array(calibration_data['calib_origin'])[:2]\n",
    "                    X = X_init + diff[0] + offset[0]\n",
    "                    Y = Y_init + diff[1] + offset[1]\n",
    "                    \n",
    "                    print(f\"Robot coords: ({x}, {y})\")\n",
    "                    print(f\"Clicked on: ({X}, {Y})\")\n",
    "                    openapi.move_to_coordinates((X, Y, 15), min_z_height=1, verbose=False)\n",
    "                    # openapi.aspirate_in_place(flow_rate = 75, volume = 10)\n",
    "\n",
    "                    \n",
    "                else:\n",
    "                    print(\"Contour center could not be found\")\n",
    "\n",
    "    if event == cv2.EVENT_RBUTTONDOWN:\n",
    "        x, y, _ = openapi.get_position(verbose=False)[0].values()\n",
    "        # openapi.move_to_coordinates((x, y, 100), min_z_height=1)\n",
    "        openapi.move_to_coordinates((calib_origin[0],calib_origin[1],100), min_z_height=1, verbose=False)\n",
    "\n",
    "        \n",
    "\n",
    "cv2.setMouseCallback(cap.window_name, on_mouse_click)\n",
    "circle_center = (int(1296.0), int(972.0))\n",
    "circle_radius = 300\n",
    "manual_movement = utils.ManualRobotMovement(openapi)\n",
    "\n",
    "while True:\n",
    "    frame = cap.get_frame(undist=True)\n",
    "    x, y, z = openapi.get_position(verbose=False)[0].values()\n",
    "    (text_width, text_height), _ = cv2.getTextSize(f\"Robot coords: ({x:.2f}, {y:.2f}, {z:.2f})\", cv2.FONT_HERSHEY_SIMPLEX, 1, 2)\n",
    "    cv2.rectangle(frame, (10, 0), (10 + text_width, text_height + 70), (0, 0, 0), -1)\n",
    "    cv2.putText(frame, f\"Robot coords: ({x:.2f}, {y:.2f}, {z:.2f})\", (10, 30), cv2.FONT_HERSHEY_SIMPLEX, 1, (0, 255, 0), 2)\n",
    "    cv2.putText(frame, f\"Step size: {manual_movement.step} mm\", (10, 70), cv2.FONT_HERSHEY_SIMPLEX, 1, (0, 255, 0), 2)\n",
    "\n",
    "\n",
    "    cv2.circle(frame, circle_center, circle_radius, (255, 0, 0), 2)\n",
    "    # Create a mask with the same dimensions as the frame\n",
    "    mask = np.zeros_like(frame, dtype=np.uint8)\n",
    "\n",
    "    # Draw a filled circle on the mask\n",
    "    cv2.circle(mask, circle_center, circle_radius, (255, 255, 255), -1)\n",
    "\n",
    "    # Apply the mask to the frame\n",
    "    masked_frame = cv2.bitwise_and(frame, mask)\n",
    "\n",
    "    # Convert the masked frame to grayscale\n",
    "    gray = cv2.cvtColor(masked_frame, cv2.COLOR_BGR2GRAY)\n",
    "    # Apply thresholding to the grayscale image\n",
    "    _, thresh = cv2.threshold(gray, 50, 255, cv2.THRESH_BINARY_INV + cv2.THRESH_OTSU)\n",
    "    # _, thresh = cv2.threshold(gray, 127, 255, cv2.THRESH_BINARY)\n",
    "    # Fill the area outside the circle with black pixels\n",
    "    # Convert the mask to grayscale\n",
    "    mask_inv = cv2.cvtColor(mask, cv2.COLOR_BGR2GRAY)\n",
    "    thresh = cv2.bitwise_and(thresh, mask_inv)\n",
    "\n",
    "\n",
    "    # Find contours in the masked frame\n",
    "    contours, hei = cv2.findContours(thresh, cv2.RETR_TREE, cv2.CHAIN_APPROX_SIMPLE)\n",
    "\n",
    "    # Filter the contours to exclude the outermost\n",
    "    # filtered_contours = [contour for contour, h in zip(contours, hei[0]) if h[3] == 1]\n",
    "    # Filter the contours by size\n",
    "    filtered_contours = [contour for contour in contours if 15 < cv2.contourArea(contour) < 1000]\n",
    "    # Draw the contours on the frame\n",
    "    cv2.drawContours(frame, filtered_contours, -1, (0, 255, 0), 2)\n",
    "\n",
    "\n",
    "\n",
    "\n",
    "    cv2.imshow(cap.window_name, frame)\n",
    "    key_pressed = cv2.waitKey(1)\n",
    "    if key_pressed == ord('o'):\n",
    "        x, y, _ = openapi.get_position(verbose=False)[0].values()\n",
    "\n",
    "        calibration_data['offset'] = [x-X_init, y-Y_init]\n",
    "\n",
    "        utils.save_calibration_config(calibration_profile, calibration_data)\n",
    "\n",
    "    elif key_pressed == ord('d'):\n",
    "        openapi.dispense_in_place(flow_rate = 75, volume = 10)\n",
    "\n",
    "    elif key_pressed == ord('a'):\n",
    "        openapi.aspirate_in_place(flow_rate = 75, volume = 10)\n",
    "\n",
    "\n",
    "    elif key_pressed == ord('q'):\n",
    "        keyboard.unhook_all()\n",
    "        break\n",
    "\n",
    "        \n",
    "cv2.destroyAllWindows()"
   ]
  },
  {
   "cell_type": "markdown",
   "metadata": {},
   "source": [
    "### Crosshair detector"
   ]
  },
  {
   "cell_type": "code",
   "execution_count": 17,
   "metadata": {},
   "outputs": [
    {
     "name": "stdout",
     "output_type": "stream",
     "text": [
      "Robot coords: (155.0, 49.0)\n",
      "Clicked on: (178.66306239951393, 128.24656073581696)\n",
      "Robot coords: (155.0, 49.0)\n",
      "Clicked on: (219.15437918272028, 128.47200658013935)\n",
      "Robot coords: (155.0, 49.0)\n",
      "Clicked on: (184.48212621976532, 142.68593711443174)\n",
      "Robot coords: (155.0, 49.0)\n",
      "Clicked on: (213.33489475455028, 114.05431487644134)\n",
      "Robot coords: (155.0, 49.0)\n",
      "Clicked on: (198.8285482484092, 141.93706808236743)\n"
     ]
    }
   ],
   "source": [
    "# Load the template image\n",
    "path = os.path.join(paths.BASE_DIR, 'outputs', 'images', 'target_template.png')\n",
    "template = cv2.imread(path, 0)  # Replace 'template.png' with your template image path\n",
    "template_height, template_width = template.shape[:2]\n",
    "\n",
    "calibration_data = utils.load_calibration_config(calibration_profile)\n",
    "\n",
    "tf_mtx = np.array(calibration_data['tf_mtx'])\n",
    "calib_origin = np.array(calibration_data['calib_origin'])[:2]\n",
    "offset = np.array(calibration_data['offset'])\n",
    "\n",
    "# Perform multi-object detection using template matching\n",
    "# Start video stream\n",
    "def on_mouse_click(event, x, y, flags, param):\n",
    "    global X_init, Y_init\n",
    "    if event == cv2.EVENT_LBUTTONDBLCLK:\n",
    "        for (rect_x, rect_y, rect_w, rect_h) in rectangles:\n",
    "            if rect_x <= x <= rect_x + rect_w and rect_y <= y <= rect_y + rect_h:\n",
    "                cX = rect_x + rect_w // 2\n",
    "                cY = rect_y + rect_h // 2\n",
    "\n",
    "                X_init, Y_init, _ = tf_mtx @ (cX, cY, 1)\n",
    "\n",
    "                x, y, _ = openapi.get_position(verbose=False)[0].values()\n",
    "                diff = np.array([x,y]) - np.array(calibration_data['calib_origin'])[:2]\n",
    "                X = X_init + diff[0] + offset[0]\n",
    "                Y = Y_init + diff[1] + offset[1]\n",
    "                \n",
    "                print(f\"Robot coords: ({x}, {y})\")\n",
    "                print(f\"Clicked on: ({X}, {Y})\")\n",
    "                openapi.move_to_coordinates((X, Y, 15), min_z_height=1, verbose=False)\n",
    "                break\n",
    "\n",
    "    if event == cv2.EVENT_RBUTTONDOWN:\n",
    "        x, y, _ = openapi.get_position(verbose=False)[0].values()\n",
    "        openapi.move_to_coordinates((calib_origin[0],calib_origin[1],100), min_z_height=1, verbose=False)\n",
    "\n",
    "window = cap.get_window()\n",
    "cv2.setMouseCallback(cap.window_name, on_mouse_click)\n",
    "manual_movement = utils.ManualRobotMovement(openapi)\n",
    "\n",
    "\n",
    "while True:\n",
    "    # Capture frame-by-frame\n",
    "    frame = cap.get_frame(undist=True)\n",
    "    x, y, z = openapi.get_position(verbose=False)[0].values()\n",
    "    (text_width, text_height), _ = cv2.getTextSize(f\"Robot coords: ({x:.2f}, {y:.2f}, {z:.2f})\", cv2.FONT_HERSHEY_SIMPLEX, 1, 2)\n",
    "    cv2.rectangle(frame, (10, 0), (10 + text_width, text_height + 70), (0, 0, 0), -1)\n",
    "    cv2.putText(frame, f\"Robot coords: ({x:.2f}, {y:.2f}, {z:.2f})\", (10, 30), cv2.FONT_HERSHEY_SIMPLEX, 1, (0, 255, 0), 2)\n",
    "    cv2.putText(frame, f\"Step size: {manual_movement.step} mm\", (10, 70), cv2.FONT_HERSHEY_SIMPLEX, 1, (0, 255, 0), 2)\n",
    "    gray_frame = cv2.cvtColor(frame, cv2.COLOR_BGR2GRAY)\n",
    "\n",
    "    # Perform template matching\n",
    "    result = cv2.matchTemplate(gray_frame, template, cv2.TM_CCOEFF_NORMED)\n",
    "    min_val, max_val, min_loc, max_loc = cv2.minMaxLoc(result)\n",
    "\n",
    "\n",
    "    # Eliminate overlapping matches\n",
    "    locations = np.where(result >= 0.6)  # Adjust the threshold as needed\n",
    "    rectangles = []\n",
    "    for pt in zip(*locations[::-1]):\n",
    "        rectangles.append([pt[0], pt[1], template_width, template_height])\n",
    "\n",
    "    # Apply non-maximum suppression to remove overlapping rectangles\n",
    "    rectangles, _ = cv2.groupRectangles(rectangles, groupThreshold=1, eps=0.2)\n",
    "    for (x, y, w, h) in rectangles:\n",
    "        cv2.rectangle(frame, (x, y), (x + w, y + h), (0, 255, 0), 2)\n",
    "        center_x = x + w // 2\n",
    "        center_y = y + h // 2\n",
    "        cv2.circle(frame, (center_x, center_y), 3, (255, 0, 0), -1)\n",
    "        cv2.putText(frame, f\"({center_x}, {center_y})\", (center_x + 10, center_y - 10), cv2.FONT_HERSHEY_SIMPLEX, 0.5, (255, 0, 0), 2)\n",
    "\n",
    "    # Display the resulting frame\n",
    "    cv2.imshow(cap.window_name, frame)\n",
    "\n",
    "    key_pressed = cv2.waitKey(1)\n",
    "    # Break the loop on 'q' key press\n",
    "    if key_pressed == ord('o'):\n",
    "        x, y, _ = openapi.get_position(verbose=False)[0].values()\n",
    "\n",
    "        calibration_data['offset'] = [x-X_init, y-Y_init]\n",
    "\n",
    "        utils.save_calibration_config(calibration_profile, calibration_data)\n",
    "\n",
    "    elif key_pressed == ord('d'):\n",
    "        openapi.dispense_in_place(flow_rate = 75, volume = 10)\n",
    "\n",
    "    elif key_pressed == ord('a'):\n",
    "        openapi.aspirate_in_place(flow_rate = 75, volume = 10)\n",
    "\n",
    "\n",
    "    elif key_pressed == ord('q'):\n",
    "        keyboard.unhook_all()\n",
    "        break\n",
    "\n",
    "\n",
    "# Release resources\n",
    "cv2.destroyAllWindows()"
   ]
  },
  {
   "cell_type": "markdown",
   "metadata": {},
   "source": [
    "# Move to point"
   ]
  },
  {
   "cell_type": "code",
   "execution_count": 22,
   "metadata": {},
   "outputs": [
    {
     "name": "stdout",
     "output_type": "stream",
     "text": [
      "Request status:\n",
      "<Response [201]>\n",
      "{\n",
      "  \"data\": {\n",
      "    \"id\": \"94a6aaa4-2245-49e6-9be3-da14136c6e48\",\n",
      "    \"createdAt\": \"2025-03-20T06:33:44.625393+00:00\",\n",
      "    \"commandType\": \"moveToCoordinates\",\n",
      "    \"key\": \"94a6aaa4-2245-49e6-9be3-da14136c6e48\",\n",
      "    \"status\": \"succeeded\",\n",
      "    \"params\": {\n",
      "      \"minimumZHeight\": 10.0,\n",
      "      \"forceDirect\": false,\n",
      "      \"pipetteId\": \"27e99caa-0312-42c8-a6d2-442f8f36cfdd\",\n",
      "      \"coordinates\": {\n",
      "        \"x\": 195.33259543126255,\n",
      "        \"y\": 128.83952443264957,\n",
      "        \"z\": 10.0\n",
      "      }\n",
      "    },\n",
      "    \"result\": {\n",
      "      \"position\": {\n",
      "        \"x\": 195.33259543126255,\n",
      "        \"y\": 128.83952443264957,\n",
      "        \"z\": 10.0\n",
      "      }\n",
      "    },\n",
      "    \"startedAt\": \"2025-03-20T06:33:44.627465+00:00\",\n",
      "    \"completedAt\": \"2025-03-20T06:33:46.241902+00:00\",\n",
      "    \"intent\": \"setup\",\n",
      "    \"notes\": []\n",
      "  }\n",
      "}\n"
     ]
    }
   ],
   "source": [
    "calibration_data = utils.load_calibration_config(calibration_profile)\n",
    "\n",
    "tf_mtx = np.array(calibration_data['tf_mtx'])\n",
    "calib_origin = np.array(calibration_data['calib_origin'])[:2]\n",
    "offset = np.array(calibration_data['offset'])\n",
    "\n",
    "def on_mouse_click(event, cX, cY, flags, param):\n",
    "    global X_init, Y_init, X, Y, target_x, target_y\n",
    "    if event == cv2.EVENT_LBUTTONDOWN:\n",
    "        target_x, target_y = cX, cY\n",
    "        # print(\"Clicked at pixel coordinate: ({}, {})\".format(cX, cY))\n",
    "        X_init, Y_init, _ = tf_mtx @ (cX, cY, 1)\n",
    "\n",
    "        x, y, _ = openapi.get_position(verbose=False)[0].values()\n",
    "        diff = np.array([x,y]) - np.array(calibration_data['calib_origin'])[:2]\n",
    "        X = X_init + diff[0] + offset[0]\n",
    "        Y = Y_init + diff[1] + offset[1]\n",
    "        # print(f\"Robot coords: ({x}, {y})\")\n",
    "        # print(f\"Clicked on: ({X}, {Y})\")\n",
    "        # openapi.move_to_coordinates((X, Y, 15), min_z_height=1)\n",
    "\n",
    "    if event == cv2.EVENT_RBUTTONDOWN:\n",
    "        x, y, _ = openapi.get_position(verbose=False)[0].values()\n",
    "        openapi.move_to_coordinates((calib_origin[0],calib_origin[1],100), min_z_height=1, verbose=False)\n",
    "\n",
    "\n",
    "\n",
    "# Create an instance of the ManualRobotMovement class\n",
    "manual_movement = utils.ManualRobotMovement(openapi)\n",
    "\n",
    "window = cap.get_window()\n",
    "cv2.setMouseCallback(cap.window_name, on_mouse_click)\n",
    "\n",
    "target_x, target_y = 0, 0\n",
    "\n",
    "dish_bottom = 10# - 11.5\n",
    "pickup_offset = 0.0 #0.6\n",
    "flow_rate = 50\n",
    "volume = 50\n",
    "\n",
    "while True:\n",
    "    frame = cap.get_frame(undist=True)\n",
    "    x, y, z = openapi.get_position(verbose=False)[0].values()\n",
    "    (text_width, text_height), _ = cv2.getTextSize(f\"Robot coords: ({x:.2f}, {y:.2f}, {z:.2f})\", cv2.FONT_HERSHEY_SIMPLEX, 1, 2)\n",
    "    cv2.rectangle(frame, (10, 0), (10 + text_width, text_height + 190), (0, 0, 0), -1)\n",
    "    cv2.putText(frame, f\"Robot coords: ({x:.2f}, {y:.2f}, {z:.2f})\", (10, 30), cv2.FONT_HERSHEY_SIMPLEX, 1, (0, 255, 0), 2)\n",
    "    cv2.putText(frame, f\"Step size: {manual_movement.step} mm\", (10, 70), cv2.FONT_HERSHEY_SIMPLEX, 1, (0, 255, 0), 2)\n",
    "    cv2.putText(frame, f\"Flow rate: {flow_rate} uL/s\", (10, 110), cv2.FONT_HERSHEY_SIMPLEX, 1, (0, 255, 0), 2)\n",
    "    cv2.putText(frame, f\"Volume: {volume} uL\", (10, 150), cv2.FONT_HERSHEY_SIMPLEX, 1, (0, 255, 0), 2)\n",
    "    cv2.putText(frame, f\"Pickup height: {dish_bottom + pickup_offset} mm\", (10, 190), cv2.FONT_HERSHEY_SIMPLEX, 1, (0, 255, 0), 2)\n",
    "\n",
    "    center_screen_x = frame.shape[1] // 2\n",
    "    center_screen_y = frame.shape[0] // 2\n",
    "    # cv2.circle(frame, (center_screen_x, center_screen_y), 5, (0, 0, 255), -1)\n",
    "    cv2.circle(frame, (target_x, target_y), 3, (0, 0, 255), -1)\n",
    "    # cv2.putText(frame, f\"Center: ({center_screen_x}, {center_screen_y})\", (center_screen_x + 10, center_screen_y - 10), cv2.FONT_HERSHEY_SIMPLEX, 0.5, (0, 0, 255), 2)\n",
    "    \n",
    "    cv2.imshow(cap.window_name, frame)\n",
    "    # Draw a point at the center of the screen\n",
    "    key_pressed = cv2.waitKey(1)\n",
    "\n",
    "    if key_pressed == ord('q'):\n",
    "        keyboard.unhook_all()\n",
    "        break\n",
    "\n",
    "    elif key_pressed == ord('o'):\n",
    "        x, y, _ = openapi.get_position(verbose=False)[0].values()\n",
    "\n",
    "        calibration_data['offset'] = [x-X_init, y-Y_init]\n",
    "\n",
    "        utils.save_calibration_config(calibration_profile, calibration_data)\n",
    "\n",
    "    elif key_pressed == ord('d'):\n",
    "        openapi.dispense_in_place(flow_rate = flow_rate, volume = volume)\n",
    "\n",
    "    elif key_pressed == ord('b'):\n",
    "        openapi.blow_out_in_place(50)\n",
    "\n",
    "    elif key_pressed == ord('a'):\n",
    "        openapi.aspirate_in_place(flow_rate = flow_rate, volume = volume, verbose=True)\n",
    "\n",
    "    elif key_pressed == ord('p'):\n",
    "        openapi.move_to_coordinates((X, Y, dish_bottom+pickup_offset), min_z_height=dish_bottom)\n",
    "\n",
    "    elif key_pressed == ord('s'):\n",
    "        timestamp = datetime.datetime.now().strftime('%Y_%m_%d_%H-%M-%S')\n",
    "        filename = f\"frame_{timestamp}.png\"\n",
    "        cv2.imwrite(str(paths.BASE_DIR)+'\\\\outputs\\\\images\\\\2025-02-20_slice_test_coring\\\\'+filename, frame)\n",
    "        print(f\"Frame saved as {filename}\")\n",
    "\n",
    "\n",
    "cv2.destroyAllWindows()"
   ]
  },
  {
   "cell_type": "code",
   "execution_count": 13,
   "metadata": {},
   "outputs": [
    {
     "name": "stdout",
     "output_type": "stream",
     "text": [
      "Request status:\n",
      "<Response [201]>\n",
      "{\n",
      "  \"data\": {\n",
      "    \"id\": \"6e814e28-c9b5-4635-bc9e-4ce02771dc41\",\n",
      "    \"createdAt\": \"2025-01-27T15:29:12.671515+00:00\",\n",
      "    \"commandType\": \"moveToCoordinates\",\n",
      "    \"key\": \"6e814e28-c9b5-4635-bc9e-4ce02771dc41\",\n",
      "    \"status\": \"succeeded\",\n",
      "    \"params\": {\n",
      "      \"minimumZHeight\": 1.0,\n",
      "      \"forceDirect\": false,\n",
      "      \"pipetteId\": \"36cc037f-311f-49b0-a242-cccbb976be0f\",\n",
      "      \"coordinates\": {\n",
      "        \"x\": 203.29450154025966,\n",
      "        \"y\": 128.33746222135608,\n",
      "        \"z\": 10.6\n",
      "      }\n",
      "    },\n",
      "    \"result\": {\n",
      "      \"position\": {\n",
      "        \"x\": 203.29450154025966,\n",
      "        \"y\": 128.33746222135608,\n",
      "        \"z\": 10.6\n",
      "      }\n",
      "    },\n",
      "    \"startedAt\": \"2025-01-27T15:29:12.673555+00:00\",\n",
      "    \"completedAt\": \"2025-01-27T15:29:14.880132+00:00\",\n",
      "    \"intent\": \"setup\",\n",
      "    \"notes\": []\n",
      "  }\n",
      "}\n",
      "Request status:\n",
      "<Response [201]>\n",
      "{\n",
      "  \"data\": {\n",
      "    \"id\": \"2cac6c42-e6b3-4803-892f-98489eedb41f\",\n",
      "    \"createdAt\": \"2025-01-27T15:29:16.984654+00:00\",\n",
      "    \"commandType\": \"aspirateInPlace\",\n",
      "    \"key\": \"2cac6c42-e6b3-4803-892f-98489eedb41f\",\n",
      "    \"status\": \"succeeded\",\n",
      "    \"params\": {\n",
      "      \"flowRate\": 200.0,\n",
      "      \"volume\": 100.0,\n",
      "      \"pipetteId\": \"36cc037f-311f-49b0-a242-cccbb976be0f\"\n",
      "    },\n",
      "    \"result\": {\n",
      "      \"volume\": 100.0\n",
      "    },\n",
      "    \"startedAt\": \"2025-01-27T15:29:16.986865+00:00\",\n",
      "    \"completedAt\": \"2025-01-27T15:29:17.867530+00:00\",\n",
      "    \"intent\": \"setup\",\n",
      "    \"notes\": []\n",
      "  }\n",
      "}\n"
     ]
    },
    {
     "ename": "KeyboardInterrupt",
     "evalue": "",
     "output_type": "error",
     "traceback": [
      "\u001b[1;31m---------------------------------------------------------------------------\u001b[0m",
      "\u001b[1;31mKeyboardInterrupt\u001b[0m                         Traceback (most recent call last)",
      "Cell \u001b[1;32mIn[13], line 12\u001b[0m\n\u001b[0;32m      9\u001b[0m responce_dict \u001b[38;5;241m=\u001b[39m json\u001b[38;5;241m.\u001b[39mloads(r\u001b[38;5;241m.\u001b[39mtext)[\u001b[38;5;124m'\u001b[39m\u001b[38;5;124mdata\u001b[39m\u001b[38;5;124m'\u001b[39m]\n\u001b[0;32m     11\u001b[0m \u001b[38;5;28;01mfor\u001b[39;00m _ \u001b[38;5;129;01min\u001b[39;00m \u001b[38;5;28mrange\u001b[39m(\u001b[38;5;241m3\u001b[39m):\n\u001b[1;32m---> 12\u001b[0m     \u001b[43mopenapi\u001b[49m\u001b[38;5;241;43m.\u001b[39;49m\u001b[43mmove_relative\u001b[49m\u001b[43m(\u001b[49m\u001b[38;5;124;43m'\u001b[39;49m\u001b[38;5;124;43mz\u001b[39;49m\u001b[38;5;124;43m'\u001b[39;49m\u001b[43m,\u001b[49m\u001b[43m \u001b[49m\u001b[38;5;241;43m0.2\u001b[39;49m\u001b[43m)\u001b[49m\n\u001b[0;32m     13\u001b[0m     time\u001b[38;5;241m.\u001b[39msleep(\u001b[38;5;241m0.2\u001b[39m)\n\u001b[0;32m     14\u001b[0m     openapi\u001b[38;5;241m.\u001b[39mmove_relative(\u001b[38;5;124m'\u001b[39m\u001b[38;5;124mz\u001b[39m\u001b[38;5;124m'\u001b[39m, \u001b[38;5;241m-\u001b[39m\u001b[38;5;241m0.2\u001b[39m)\n",
      "File \u001b[1;32mc:\\Users\\ivand\\Desktop\\ot2-microtissue-manipulator\\opentrons_api\\ot2_api.py:25\u001b[0m, in \u001b[0;36mDecorators.require_ids.<locals>.decorator.<locals>.wrapper\u001b[1;34m(self, *args, **kwargs)\u001b[0m\n\u001b[0;32m     23\u001b[0m     \u001b[38;5;28;01mif\u001b[39;00m \u001b[38;5;129;01mnot\u001b[39;00m \u001b[38;5;28mgetattr\u001b[39m(\u001b[38;5;28mself\u001b[39m, id_name, \u001b[38;5;28;01mNone\u001b[39;00m):\n\u001b[0;32m     24\u001b[0m         \u001b[38;5;28;01mraise\u001b[39;00m \u001b[38;5;167;01mValueError\u001b[39;00m(\u001b[38;5;124mf\u001b[39m\u001b[38;5;124m\"\u001b[39m\u001b[38;5;132;01m{\u001b[39;00mid_name\u001b[38;5;132;01m}\u001b[39;00m\u001b[38;5;124m is not set. Set it before executing commands.\u001b[39m\u001b[38;5;124m\"\u001b[39m)\n\u001b[1;32m---> 25\u001b[0m \u001b[38;5;28;01mreturn\u001b[39;00m \u001b[43mfunc\u001b[49m\u001b[43m(\u001b[49m\u001b[38;5;28;43mself\u001b[39;49m\u001b[43m,\u001b[49m\u001b[43m \u001b[49m\u001b[38;5;241;43m*\u001b[39;49m\u001b[43margs\u001b[49m\u001b[43m,\u001b[49m\u001b[43m \u001b[49m\u001b[38;5;241;43m*\u001b[39;49m\u001b[38;5;241;43m*\u001b[39;49m\u001b[43mkwargs\u001b[49m\u001b[43m)\u001b[49m\n",
      "File \u001b[1;32mc:\\Users\\ivand\\Desktop\\ot2-microtissue-manipulator\\opentrons_api\\ot2_api.py:392\u001b[0m, in \u001b[0;36mOpentronsAPI.move_relative\u001b[1;34m(self, axis, distance, verbose)\u001b[0m\n\u001b[0;32m    379\u001b[0m command_dict \u001b[38;5;241m=\u001b[39m {\n\u001b[0;32m    380\u001b[0m     \u001b[38;5;124m\"\u001b[39m\u001b[38;5;124mdata\u001b[39m\u001b[38;5;124m\"\u001b[39m: {\n\u001b[0;32m    381\u001b[0m         \u001b[38;5;124m\"\u001b[39m\u001b[38;5;124mcommandType\u001b[39m\u001b[38;5;124m\"\u001b[39m: \u001b[38;5;124m\"\u001b[39m\u001b[38;5;124mmoveRelative\u001b[39m\u001b[38;5;124m\"\u001b[39m,\n\u001b[1;32m   (...)\u001b[0m\n\u001b[0;32m    388\u001b[0m     }\n\u001b[0;32m    389\u001b[0m }\n\u001b[0;32m    391\u001b[0m command_payload \u001b[38;5;241m=\u001b[39m json\u001b[38;5;241m.\u001b[39mdumps(command_dict)\n\u001b[1;32m--> 392\u001b[0m r \u001b[38;5;241m=\u001b[39m \u001b[38;5;28;43mself\u001b[39;49m\u001b[38;5;241;43m.\u001b[39;49m\u001b[43mpost\u001b[49m\u001b[43m(\u001b[49m\u001b[38;5;124;43m\"\u001b[39;49m\u001b[38;5;124;43mcommands\u001b[39;49m\u001b[38;5;124;43m\"\u001b[39;49m\u001b[43m,\u001b[49m\u001b[43m \u001b[49m\u001b[43mheaders\u001b[49m\u001b[43m \u001b[49m\u001b[38;5;241;43m=\u001b[39;49m\u001b[43m \u001b[49m\u001b[38;5;28;43mself\u001b[39;49m\u001b[38;5;241;43m.\u001b[39;49m\u001b[43mHEADERS\u001b[49m\u001b[43m,\u001b[49m\n\u001b[0;32m    393\u001b[0m \u001b[43m              \u001b[49m\u001b[43mparams\u001b[49m\u001b[38;5;241;43m=\u001b[39;49m\u001b[43m{\u001b[49m\u001b[38;5;124;43m\"\u001b[39;49m\u001b[38;5;124;43mwaitUntilComplete\u001b[39;49m\u001b[38;5;124;43m\"\u001b[39;49m\u001b[43m:\u001b[49m\u001b[43m \u001b[49m\u001b[38;5;28;43;01mTrue\u001b[39;49;00m\u001b[43m}\u001b[49m\u001b[43m,\u001b[49m\u001b[43m \u001b[49m\u001b[43mdata\u001b[49m\u001b[43m \u001b[49m\u001b[38;5;241;43m=\u001b[39;49m\u001b[43m \u001b[49m\u001b[43mcommand_payload\u001b[49m\u001b[43m)\u001b[49m\n\u001b[0;32m    394\u001b[0m \u001b[38;5;28;01mif\u001b[39;00m verbose \u001b[38;5;241m==\u001b[39m \u001b[38;5;28;01mTrue\u001b[39;00m:\n\u001b[0;32m    395\u001b[0m     \u001b[38;5;28mself\u001b[39m\u001b[38;5;241m.\u001b[39mdisplay_responce(r)\n",
      "File \u001b[1;32mc:\\Users\\ivand\\Desktop\\ot2-microtissue-manipulator\\opentrons_api\\ot2_api.py:11\u001b[0m, in \u001b[0;36mDecorators.check_error.<locals>.wrapper\u001b[1;34m(self, *args, **kwargs)\u001b[0m\n\u001b[0;32m      9\u001b[0m \u001b[38;5;129m@functools\u001b[39m\u001b[38;5;241m.\u001b[39mwraps(func)\n\u001b[0;32m     10\u001b[0m \u001b[38;5;28;01mdef\u001b[39;00m \u001b[38;5;21mwrapper\u001b[39m(\u001b[38;5;28mself\u001b[39m, \u001b[38;5;241m*\u001b[39margs, \u001b[38;5;241m*\u001b[39m\u001b[38;5;241m*\u001b[39mkwargs):\n\u001b[1;32m---> 11\u001b[0m     r \u001b[38;5;241m=\u001b[39m \u001b[43mfunc\u001b[49m\u001b[43m(\u001b[49m\u001b[38;5;28;43mself\u001b[39;49m\u001b[43m,\u001b[49m\u001b[43m \u001b[49m\u001b[38;5;241;43m*\u001b[39;49m\u001b[43margs\u001b[49m\u001b[43m,\u001b[49m\u001b[43m \u001b[49m\u001b[38;5;241;43m*\u001b[39;49m\u001b[38;5;241;43m*\u001b[39;49m\u001b[43mkwargs\u001b[49m\u001b[43m)\u001b[49m\n\u001b[0;32m     12\u001b[0m     \u001b[38;5;28;01mif\u001b[39;00m r\u001b[38;5;241m.\u001b[39mstatus_code \u001b[38;5;129;01mnot\u001b[39;00m \u001b[38;5;129;01min\u001b[39;00m \u001b[38;5;28mrange\u001b[39m(\u001b[38;5;241m200\u001b[39m, \u001b[38;5;241m300\u001b[39m):\n\u001b[0;32m     13\u001b[0m         \u001b[38;5;28;01mraise\u001b[39;00m \u001b[38;5;167;01mException\u001b[39;00m(r\u001b[38;5;241m.\u001b[39mtext)\n",
      "File \u001b[1;32mc:\\Users\\ivand\\Desktop\\ot2-microtissue-manipulator\\opentrons_api\\ot2_api.py:75\u001b[0m, in \u001b[0;36mOpentronsAPI.post\u001b[1;34m(self, endpoint_key, headers, params, data, files)\u001b[0m\n\u001b[0;32m     61\u001b[0m \u001b[38;5;250m\u001b[39m\u001b[38;5;124;03m\"\"\"Post method to post to HTTP API.\u001b[39;00m\n\u001b[0;32m     62\u001b[0m \n\u001b[0;32m     63\u001b[0m \u001b[38;5;124;03mArgs:\u001b[39;00m\n\u001b[1;32m   (...)\u001b[0m\n\u001b[0;32m     71\u001b[0m \u001b[38;5;124;03m    requests.models.Response: a responce from the robot's server.\u001b[39;00m\n\u001b[0;32m     72\u001b[0m \u001b[38;5;124;03m\"\"\"\u001b[39;00m        \n\u001b[0;32m     73\u001b[0m url \u001b[38;5;241m=\u001b[39m \u001b[38;5;28mself\u001b[39m\u001b[38;5;241m.\u001b[39mget_url(endpoint_key)\n\u001b[1;32m---> 75\u001b[0m r \u001b[38;5;241m=\u001b[39m \u001b[43mrequests\u001b[49m\u001b[38;5;241;43m.\u001b[39;49m\u001b[43mpost\u001b[49m\u001b[43m(\u001b[49m\n\u001b[0;32m     76\u001b[0m \u001b[43m    \u001b[49m\u001b[43murl\u001b[49m\u001b[38;5;241;43m=\u001b[39;49m\u001b[43murl\u001b[49m\u001b[43m,\u001b[49m\n\u001b[0;32m     77\u001b[0m \u001b[43m    \u001b[49m\u001b[43mheaders\u001b[49m\u001b[38;5;241;43m=\u001b[39;49m\u001b[43mheaders\u001b[49m\u001b[43m,\u001b[49m\n\u001b[0;32m     78\u001b[0m \u001b[43m    \u001b[49m\u001b[43mparams\u001b[49m\u001b[38;5;241;43m=\u001b[39;49m\u001b[43mparams\u001b[49m\u001b[43m,\u001b[49m\n\u001b[0;32m     79\u001b[0m \u001b[43m    \u001b[49m\u001b[43mdata\u001b[49m\u001b[38;5;241;43m=\u001b[39;49m\u001b[43mdata\u001b[49m\u001b[43m,\u001b[49m\n\u001b[0;32m     80\u001b[0m \u001b[43m    \u001b[49m\u001b[43mfiles\u001b[49m\u001b[38;5;241;43m=\u001b[39;49m\u001b[43mfiles\u001b[49m\u001b[43m)\u001b[49m\n\u001b[0;32m     81\u001b[0m \u001b[38;5;28;01mreturn\u001b[39;00m r\n",
      "File \u001b[1;32mc:\\Users\\ivand\\miniconda3\\envs\\lab\\Lib\\site-packages\\requests\\api.py:115\u001b[0m, in \u001b[0;36mpost\u001b[1;34m(url, data, json, **kwargs)\u001b[0m\n\u001b[0;32m    103\u001b[0m \u001b[38;5;28;01mdef\u001b[39;00m \u001b[38;5;21mpost\u001b[39m(url, data\u001b[38;5;241m=\u001b[39m\u001b[38;5;28;01mNone\u001b[39;00m, json\u001b[38;5;241m=\u001b[39m\u001b[38;5;28;01mNone\u001b[39;00m, \u001b[38;5;241m*\u001b[39m\u001b[38;5;241m*\u001b[39mkwargs):\n\u001b[0;32m    104\u001b[0m \u001b[38;5;250m    \u001b[39m\u001b[38;5;124mr\u001b[39m\u001b[38;5;124;03m\"\"\"Sends a POST request.\u001b[39;00m\n\u001b[0;32m    105\u001b[0m \n\u001b[0;32m    106\u001b[0m \u001b[38;5;124;03m    :param url: URL for the new :class:`Request` object.\u001b[39;00m\n\u001b[1;32m   (...)\u001b[0m\n\u001b[0;32m    112\u001b[0m \u001b[38;5;124;03m    :rtype: requests.Response\u001b[39;00m\n\u001b[0;32m    113\u001b[0m \u001b[38;5;124;03m    \"\"\"\u001b[39;00m\n\u001b[1;32m--> 115\u001b[0m     \u001b[38;5;28;01mreturn\u001b[39;00m \u001b[43mrequest\u001b[49m\u001b[43m(\u001b[49m\u001b[38;5;124;43m\"\u001b[39;49m\u001b[38;5;124;43mpost\u001b[39;49m\u001b[38;5;124;43m\"\u001b[39;49m\u001b[43m,\u001b[49m\u001b[43m \u001b[49m\u001b[43murl\u001b[49m\u001b[43m,\u001b[49m\u001b[43m \u001b[49m\u001b[43mdata\u001b[49m\u001b[38;5;241;43m=\u001b[39;49m\u001b[43mdata\u001b[49m\u001b[43m,\u001b[49m\u001b[43m \u001b[49m\u001b[43mjson\u001b[49m\u001b[38;5;241;43m=\u001b[39;49m\u001b[43mjson\u001b[49m\u001b[43m,\u001b[49m\u001b[43m \u001b[49m\u001b[38;5;241;43m*\u001b[39;49m\u001b[38;5;241;43m*\u001b[39;49m\u001b[43mkwargs\u001b[49m\u001b[43m)\u001b[49m\n",
      "File \u001b[1;32mc:\\Users\\ivand\\miniconda3\\envs\\lab\\Lib\\site-packages\\requests\\api.py:59\u001b[0m, in \u001b[0;36mrequest\u001b[1;34m(method, url, **kwargs)\u001b[0m\n\u001b[0;32m     55\u001b[0m \u001b[38;5;66;03m# By using the 'with' statement we are sure the session is closed, thus we\u001b[39;00m\n\u001b[0;32m     56\u001b[0m \u001b[38;5;66;03m# avoid leaving sockets open which can trigger a ResourceWarning in some\u001b[39;00m\n\u001b[0;32m     57\u001b[0m \u001b[38;5;66;03m# cases, and look like a memory leak in others.\u001b[39;00m\n\u001b[0;32m     58\u001b[0m \u001b[38;5;28;01mwith\u001b[39;00m sessions\u001b[38;5;241m.\u001b[39mSession() \u001b[38;5;28;01mas\u001b[39;00m session:\n\u001b[1;32m---> 59\u001b[0m     \u001b[38;5;28;01mreturn\u001b[39;00m \u001b[43msession\u001b[49m\u001b[38;5;241;43m.\u001b[39;49m\u001b[43mrequest\u001b[49m\u001b[43m(\u001b[49m\u001b[43mmethod\u001b[49m\u001b[38;5;241;43m=\u001b[39;49m\u001b[43mmethod\u001b[49m\u001b[43m,\u001b[49m\u001b[43m \u001b[49m\u001b[43murl\u001b[49m\u001b[38;5;241;43m=\u001b[39;49m\u001b[43murl\u001b[49m\u001b[43m,\u001b[49m\u001b[43m \u001b[49m\u001b[38;5;241;43m*\u001b[39;49m\u001b[38;5;241;43m*\u001b[39;49m\u001b[43mkwargs\u001b[49m\u001b[43m)\u001b[49m\n",
      "File \u001b[1;32mc:\\Users\\ivand\\miniconda3\\envs\\lab\\Lib\\site-packages\\requests\\sessions.py:589\u001b[0m, in \u001b[0;36mSession.request\u001b[1;34m(self, method, url, params, data, headers, cookies, files, auth, timeout, allow_redirects, proxies, hooks, stream, verify, cert, json)\u001b[0m\n\u001b[0;32m    584\u001b[0m send_kwargs \u001b[38;5;241m=\u001b[39m {\n\u001b[0;32m    585\u001b[0m     \u001b[38;5;124m\"\u001b[39m\u001b[38;5;124mtimeout\u001b[39m\u001b[38;5;124m\"\u001b[39m: timeout,\n\u001b[0;32m    586\u001b[0m     \u001b[38;5;124m\"\u001b[39m\u001b[38;5;124mallow_redirects\u001b[39m\u001b[38;5;124m\"\u001b[39m: allow_redirects,\n\u001b[0;32m    587\u001b[0m }\n\u001b[0;32m    588\u001b[0m send_kwargs\u001b[38;5;241m.\u001b[39mupdate(settings)\n\u001b[1;32m--> 589\u001b[0m resp \u001b[38;5;241m=\u001b[39m \u001b[38;5;28;43mself\u001b[39;49m\u001b[38;5;241;43m.\u001b[39;49m\u001b[43msend\u001b[49m\u001b[43m(\u001b[49m\u001b[43mprep\u001b[49m\u001b[43m,\u001b[49m\u001b[43m \u001b[49m\u001b[38;5;241;43m*\u001b[39;49m\u001b[38;5;241;43m*\u001b[39;49m\u001b[43msend_kwargs\u001b[49m\u001b[43m)\u001b[49m\n\u001b[0;32m    591\u001b[0m \u001b[38;5;28;01mreturn\u001b[39;00m resp\n",
      "File \u001b[1;32mc:\\Users\\ivand\\miniconda3\\envs\\lab\\Lib\\site-packages\\requests\\sessions.py:703\u001b[0m, in \u001b[0;36mSession.send\u001b[1;34m(self, request, **kwargs)\u001b[0m\n\u001b[0;32m    700\u001b[0m start \u001b[38;5;241m=\u001b[39m preferred_clock()\n\u001b[0;32m    702\u001b[0m \u001b[38;5;66;03m# Send the request\u001b[39;00m\n\u001b[1;32m--> 703\u001b[0m r \u001b[38;5;241m=\u001b[39m \u001b[43madapter\u001b[49m\u001b[38;5;241;43m.\u001b[39;49m\u001b[43msend\u001b[49m\u001b[43m(\u001b[49m\u001b[43mrequest\u001b[49m\u001b[43m,\u001b[49m\u001b[43m \u001b[49m\u001b[38;5;241;43m*\u001b[39;49m\u001b[38;5;241;43m*\u001b[39;49m\u001b[43mkwargs\u001b[49m\u001b[43m)\u001b[49m\n\u001b[0;32m    705\u001b[0m \u001b[38;5;66;03m# Total elapsed time of the request (approximately)\u001b[39;00m\n\u001b[0;32m    706\u001b[0m elapsed \u001b[38;5;241m=\u001b[39m preferred_clock() \u001b[38;5;241m-\u001b[39m start\n",
      "File \u001b[1;32mc:\\Users\\ivand\\miniconda3\\envs\\lab\\Lib\\site-packages\\requests\\adapters.py:667\u001b[0m, in \u001b[0;36mHTTPAdapter.send\u001b[1;34m(self, request, stream, timeout, verify, cert, proxies)\u001b[0m\n\u001b[0;32m    664\u001b[0m     timeout \u001b[38;5;241m=\u001b[39m TimeoutSauce(connect\u001b[38;5;241m=\u001b[39mtimeout, read\u001b[38;5;241m=\u001b[39mtimeout)\n\u001b[0;32m    666\u001b[0m \u001b[38;5;28;01mtry\u001b[39;00m:\n\u001b[1;32m--> 667\u001b[0m     resp \u001b[38;5;241m=\u001b[39m \u001b[43mconn\u001b[49m\u001b[38;5;241;43m.\u001b[39;49m\u001b[43murlopen\u001b[49m\u001b[43m(\u001b[49m\n\u001b[0;32m    668\u001b[0m \u001b[43m        \u001b[49m\u001b[43mmethod\u001b[49m\u001b[38;5;241;43m=\u001b[39;49m\u001b[43mrequest\u001b[49m\u001b[38;5;241;43m.\u001b[39;49m\u001b[43mmethod\u001b[49m\u001b[43m,\u001b[49m\n\u001b[0;32m    669\u001b[0m \u001b[43m        \u001b[49m\u001b[43murl\u001b[49m\u001b[38;5;241;43m=\u001b[39;49m\u001b[43murl\u001b[49m\u001b[43m,\u001b[49m\n\u001b[0;32m    670\u001b[0m \u001b[43m        \u001b[49m\u001b[43mbody\u001b[49m\u001b[38;5;241;43m=\u001b[39;49m\u001b[43mrequest\u001b[49m\u001b[38;5;241;43m.\u001b[39;49m\u001b[43mbody\u001b[49m\u001b[43m,\u001b[49m\n\u001b[0;32m    671\u001b[0m \u001b[43m        \u001b[49m\u001b[43mheaders\u001b[49m\u001b[38;5;241;43m=\u001b[39;49m\u001b[43mrequest\u001b[49m\u001b[38;5;241;43m.\u001b[39;49m\u001b[43mheaders\u001b[49m\u001b[43m,\u001b[49m\n\u001b[0;32m    672\u001b[0m \u001b[43m        \u001b[49m\u001b[43mredirect\u001b[49m\u001b[38;5;241;43m=\u001b[39;49m\u001b[38;5;28;43;01mFalse\u001b[39;49;00m\u001b[43m,\u001b[49m\n\u001b[0;32m    673\u001b[0m \u001b[43m        \u001b[49m\u001b[43massert_same_host\u001b[49m\u001b[38;5;241;43m=\u001b[39;49m\u001b[38;5;28;43;01mFalse\u001b[39;49;00m\u001b[43m,\u001b[49m\n\u001b[0;32m    674\u001b[0m \u001b[43m        \u001b[49m\u001b[43mpreload_content\u001b[49m\u001b[38;5;241;43m=\u001b[39;49m\u001b[38;5;28;43;01mFalse\u001b[39;49;00m\u001b[43m,\u001b[49m\n\u001b[0;32m    675\u001b[0m \u001b[43m        \u001b[49m\u001b[43mdecode_content\u001b[49m\u001b[38;5;241;43m=\u001b[39;49m\u001b[38;5;28;43;01mFalse\u001b[39;49;00m\u001b[43m,\u001b[49m\n\u001b[0;32m    676\u001b[0m \u001b[43m        \u001b[49m\u001b[43mretries\u001b[49m\u001b[38;5;241;43m=\u001b[39;49m\u001b[38;5;28;43mself\u001b[39;49m\u001b[38;5;241;43m.\u001b[39;49m\u001b[43mmax_retries\u001b[49m\u001b[43m,\u001b[49m\n\u001b[0;32m    677\u001b[0m \u001b[43m        \u001b[49m\u001b[43mtimeout\u001b[49m\u001b[38;5;241;43m=\u001b[39;49m\u001b[43mtimeout\u001b[49m\u001b[43m,\u001b[49m\n\u001b[0;32m    678\u001b[0m \u001b[43m        \u001b[49m\u001b[43mchunked\u001b[49m\u001b[38;5;241;43m=\u001b[39;49m\u001b[43mchunked\u001b[49m\u001b[43m,\u001b[49m\n\u001b[0;32m    679\u001b[0m \u001b[43m    \u001b[49m\u001b[43m)\u001b[49m\n\u001b[0;32m    681\u001b[0m \u001b[38;5;28;01mexcept\u001b[39;00m (ProtocolError, \u001b[38;5;167;01mOSError\u001b[39;00m) \u001b[38;5;28;01mas\u001b[39;00m err:\n\u001b[0;32m    682\u001b[0m     \u001b[38;5;28;01mraise\u001b[39;00m \u001b[38;5;167;01mConnectionError\u001b[39;00m(err, request\u001b[38;5;241m=\u001b[39mrequest)\n",
      "File \u001b[1;32mc:\\Users\\ivand\\miniconda3\\envs\\lab\\Lib\\site-packages\\urllib3\\connectionpool.py:789\u001b[0m, in \u001b[0;36mHTTPConnectionPool.urlopen\u001b[1;34m(self, method, url, body, headers, retries, redirect, assert_same_host, timeout, pool_timeout, release_conn, chunked, body_pos, preload_content, decode_content, **response_kw)\u001b[0m\n\u001b[0;32m    786\u001b[0m response_conn \u001b[38;5;241m=\u001b[39m conn \u001b[38;5;28;01mif\u001b[39;00m \u001b[38;5;129;01mnot\u001b[39;00m release_conn \u001b[38;5;28;01melse\u001b[39;00m \u001b[38;5;28;01mNone\u001b[39;00m\n\u001b[0;32m    788\u001b[0m \u001b[38;5;66;03m# Make the request on the HTTPConnection object\u001b[39;00m\n\u001b[1;32m--> 789\u001b[0m response \u001b[38;5;241m=\u001b[39m \u001b[38;5;28;43mself\u001b[39;49m\u001b[38;5;241;43m.\u001b[39;49m\u001b[43m_make_request\u001b[49m\u001b[43m(\u001b[49m\n\u001b[0;32m    790\u001b[0m \u001b[43m    \u001b[49m\u001b[43mconn\u001b[49m\u001b[43m,\u001b[49m\n\u001b[0;32m    791\u001b[0m \u001b[43m    \u001b[49m\u001b[43mmethod\u001b[49m\u001b[43m,\u001b[49m\n\u001b[0;32m    792\u001b[0m \u001b[43m    \u001b[49m\u001b[43murl\u001b[49m\u001b[43m,\u001b[49m\n\u001b[0;32m    793\u001b[0m \u001b[43m    \u001b[49m\u001b[43mtimeout\u001b[49m\u001b[38;5;241;43m=\u001b[39;49m\u001b[43mtimeout_obj\u001b[49m\u001b[43m,\u001b[49m\n\u001b[0;32m    794\u001b[0m \u001b[43m    \u001b[49m\u001b[43mbody\u001b[49m\u001b[38;5;241;43m=\u001b[39;49m\u001b[43mbody\u001b[49m\u001b[43m,\u001b[49m\n\u001b[0;32m    795\u001b[0m \u001b[43m    \u001b[49m\u001b[43mheaders\u001b[49m\u001b[38;5;241;43m=\u001b[39;49m\u001b[43mheaders\u001b[49m\u001b[43m,\u001b[49m\n\u001b[0;32m    796\u001b[0m \u001b[43m    \u001b[49m\u001b[43mchunked\u001b[49m\u001b[38;5;241;43m=\u001b[39;49m\u001b[43mchunked\u001b[49m\u001b[43m,\u001b[49m\n\u001b[0;32m    797\u001b[0m \u001b[43m    \u001b[49m\u001b[43mretries\u001b[49m\u001b[38;5;241;43m=\u001b[39;49m\u001b[43mretries\u001b[49m\u001b[43m,\u001b[49m\n\u001b[0;32m    798\u001b[0m \u001b[43m    \u001b[49m\u001b[43mresponse_conn\u001b[49m\u001b[38;5;241;43m=\u001b[39;49m\u001b[43mresponse_conn\u001b[49m\u001b[43m,\u001b[49m\n\u001b[0;32m    799\u001b[0m \u001b[43m    \u001b[49m\u001b[43mpreload_content\u001b[49m\u001b[38;5;241;43m=\u001b[39;49m\u001b[43mpreload_content\u001b[49m\u001b[43m,\u001b[49m\n\u001b[0;32m    800\u001b[0m \u001b[43m    \u001b[49m\u001b[43mdecode_content\u001b[49m\u001b[38;5;241;43m=\u001b[39;49m\u001b[43mdecode_content\u001b[49m\u001b[43m,\u001b[49m\n\u001b[0;32m    801\u001b[0m \u001b[43m    \u001b[49m\u001b[38;5;241;43m*\u001b[39;49m\u001b[38;5;241;43m*\u001b[39;49m\u001b[43mresponse_kw\u001b[49m\u001b[43m,\u001b[49m\n\u001b[0;32m    802\u001b[0m \u001b[43m\u001b[49m\u001b[43m)\u001b[49m\n\u001b[0;32m    804\u001b[0m \u001b[38;5;66;03m# Everything went great!\u001b[39;00m\n\u001b[0;32m    805\u001b[0m clean_exit \u001b[38;5;241m=\u001b[39m \u001b[38;5;28;01mTrue\u001b[39;00m\n",
      "File \u001b[1;32mc:\\Users\\ivand\\miniconda3\\envs\\lab\\Lib\\site-packages\\urllib3\\connectionpool.py:536\u001b[0m, in \u001b[0;36mHTTPConnectionPool._make_request\u001b[1;34m(self, conn, method, url, body, headers, retries, timeout, chunked, response_conn, preload_content, decode_content, enforce_content_length)\u001b[0m\n\u001b[0;32m    534\u001b[0m \u001b[38;5;66;03m# Receive the response from the server\u001b[39;00m\n\u001b[0;32m    535\u001b[0m \u001b[38;5;28;01mtry\u001b[39;00m:\n\u001b[1;32m--> 536\u001b[0m     response \u001b[38;5;241m=\u001b[39m \u001b[43mconn\u001b[49m\u001b[38;5;241;43m.\u001b[39;49m\u001b[43mgetresponse\u001b[49m\u001b[43m(\u001b[49m\u001b[43m)\u001b[49m\n\u001b[0;32m    537\u001b[0m \u001b[38;5;28;01mexcept\u001b[39;00m (BaseSSLError, \u001b[38;5;167;01mOSError\u001b[39;00m) \u001b[38;5;28;01mas\u001b[39;00m e:\n\u001b[0;32m    538\u001b[0m     \u001b[38;5;28mself\u001b[39m\u001b[38;5;241m.\u001b[39m_raise_timeout(err\u001b[38;5;241m=\u001b[39me, url\u001b[38;5;241m=\u001b[39murl, timeout_value\u001b[38;5;241m=\u001b[39mread_timeout)\n",
      "File \u001b[1;32mc:\\Users\\ivand\\miniconda3\\envs\\lab\\Lib\\site-packages\\urllib3\\connection.py:507\u001b[0m, in \u001b[0;36mHTTPConnection.getresponse\u001b[1;34m(self)\u001b[0m\n\u001b[0;32m    504\u001b[0m \u001b[38;5;28;01mfrom\u001b[39;00m \u001b[38;5;21;01m.\u001b[39;00m\u001b[38;5;21;01mresponse\u001b[39;00m \u001b[38;5;28;01mimport\u001b[39;00m HTTPResponse\n\u001b[0;32m    506\u001b[0m \u001b[38;5;66;03m# Get the response from http.client.HTTPConnection\u001b[39;00m\n\u001b[1;32m--> 507\u001b[0m httplib_response \u001b[38;5;241m=\u001b[39m \u001b[38;5;28;43msuper\u001b[39;49m\u001b[43m(\u001b[49m\u001b[43m)\u001b[49m\u001b[38;5;241;43m.\u001b[39;49m\u001b[43mgetresponse\u001b[49m\u001b[43m(\u001b[49m\u001b[43m)\u001b[49m\n\u001b[0;32m    509\u001b[0m \u001b[38;5;28;01mtry\u001b[39;00m:\n\u001b[0;32m    510\u001b[0m     assert_header_parsing(httplib_response\u001b[38;5;241m.\u001b[39mmsg)\n",
      "File \u001b[1;32mc:\\Users\\ivand\\miniconda3\\envs\\lab\\Lib\\http\\client.py:1428\u001b[0m, in \u001b[0;36mHTTPConnection.getresponse\u001b[1;34m(self)\u001b[0m\n\u001b[0;32m   1426\u001b[0m \u001b[38;5;28;01mtry\u001b[39;00m:\n\u001b[0;32m   1427\u001b[0m     \u001b[38;5;28;01mtry\u001b[39;00m:\n\u001b[1;32m-> 1428\u001b[0m         \u001b[43mresponse\u001b[49m\u001b[38;5;241;43m.\u001b[39;49m\u001b[43mbegin\u001b[49m\u001b[43m(\u001b[49m\u001b[43m)\u001b[49m\n\u001b[0;32m   1429\u001b[0m     \u001b[38;5;28;01mexcept\u001b[39;00m \u001b[38;5;167;01mConnectionError\u001b[39;00m:\n\u001b[0;32m   1430\u001b[0m         \u001b[38;5;28mself\u001b[39m\u001b[38;5;241m.\u001b[39mclose()\n",
      "File \u001b[1;32mc:\\Users\\ivand\\miniconda3\\envs\\lab\\Lib\\http\\client.py:331\u001b[0m, in \u001b[0;36mHTTPResponse.begin\u001b[1;34m(self)\u001b[0m\n\u001b[0;32m    329\u001b[0m \u001b[38;5;66;03m# read until we get a non-100 response\u001b[39;00m\n\u001b[0;32m    330\u001b[0m \u001b[38;5;28;01mwhile\u001b[39;00m \u001b[38;5;28;01mTrue\u001b[39;00m:\n\u001b[1;32m--> 331\u001b[0m     version, status, reason \u001b[38;5;241m=\u001b[39m \u001b[38;5;28;43mself\u001b[39;49m\u001b[38;5;241;43m.\u001b[39;49m\u001b[43m_read_status\u001b[49m\u001b[43m(\u001b[49m\u001b[43m)\u001b[49m\n\u001b[0;32m    332\u001b[0m     \u001b[38;5;28;01mif\u001b[39;00m status \u001b[38;5;241m!=\u001b[39m CONTINUE:\n\u001b[0;32m    333\u001b[0m         \u001b[38;5;28;01mbreak\u001b[39;00m\n",
      "File \u001b[1;32mc:\\Users\\ivand\\miniconda3\\envs\\lab\\Lib\\http\\client.py:292\u001b[0m, in \u001b[0;36mHTTPResponse._read_status\u001b[1;34m(self)\u001b[0m\n\u001b[0;32m    291\u001b[0m \u001b[38;5;28;01mdef\u001b[39;00m \u001b[38;5;21m_read_status\u001b[39m(\u001b[38;5;28mself\u001b[39m):\n\u001b[1;32m--> 292\u001b[0m     line \u001b[38;5;241m=\u001b[39m \u001b[38;5;28mstr\u001b[39m(\u001b[38;5;28;43mself\u001b[39;49m\u001b[38;5;241;43m.\u001b[39;49m\u001b[43mfp\u001b[49m\u001b[38;5;241;43m.\u001b[39;49m\u001b[43mreadline\u001b[49m\u001b[43m(\u001b[49m\u001b[43m_MAXLINE\u001b[49m\u001b[43m \u001b[49m\u001b[38;5;241;43m+\u001b[39;49m\u001b[43m \u001b[49m\u001b[38;5;241;43m1\u001b[39;49m\u001b[43m)\u001b[49m, \u001b[38;5;124m\"\u001b[39m\u001b[38;5;124miso-8859-1\u001b[39m\u001b[38;5;124m\"\u001b[39m)\n\u001b[0;32m    293\u001b[0m     \u001b[38;5;28;01mif\u001b[39;00m \u001b[38;5;28mlen\u001b[39m(line) \u001b[38;5;241m>\u001b[39m _MAXLINE:\n\u001b[0;32m    294\u001b[0m         \u001b[38;5;28;01mraise\u001b[39;00m LineTooLong(\u001b[38;5;124m\"\u001b[39m\u001b[38;5;124mstatus line\u001b[39m\u001b[38;5;124m\"\u001b[39m)\n",
      "File \u001b[1;32mc:\\Users\\ivand\\miniconda3\\envs\\lab\\Lib\\socket.py:720\u001b[0m, in \u001b[0;36mSocketIO.readinto\u001b[1;34m(self, b)\u001b[0m\n\u001b[0;32m    718\u001b[0m \u001b[38;5;28;01mwhile\u001b[39;00m \u001b[38;5;28;01mTrue\u001b[39;00m:\n\u001b[0;32m    719\u001b[0m     \u001b[38;5;28;01mtry\u001b[39;00m:\n\u001b[1;32m--> 720\u001b[0m         \u001b[38;5;28;01mreturn\u001b[39;00m \u001b[38;5;28;43mself\u001b[39;49m\u001b[38;5;241;43m.\u001b[39;49m\u001b[43m_sock\u001b[49m\u001b[38;5;241;43m.\u001b[39;49m\u001b[43mrecv_into\u001b[49m\u001b[43m(\u001b[49m\u001b[43mb\u001b[49m\u001b[43m)\u001b[49m\n\u001b[0;32m    721\u001b[0m     \u001b[38;5;28;01mexcept\u001b[39;00m timeout:\n\u001b[0;32m    722\u001b[0m         \u001b[38;5;28mself\u001b[39m\u001b[38;5;241m.\u001b[39m_timeout_occurred \u001b[38;5;241m=\u001b[39m \u001b[38;5;28;01mTrue\u001b[39;00m\n",
      "\u001b[1;31mKeyboardInterrupt\u001b[0m: "
     ]
    }
   ],
   "source": [
    "\n",
    "for k in range(1):\n",
    "    i = 0\n",
    "    while i < 1:\n",
    "        openapi.move_to_coordinates((X + i*3, Y - k*3, dish_bottom + pickup_offset), min_z_height=1)\n",
    "        time.sleep(1)\n",
    "        openapi.move_relative('z', -pickup_offset)\n",
    "        time.sleep(1)\n",
    "        r = openapi.aspirate_in_place(flow_rate = 200, volume = 100, verbose=True)\n",
    "        responce_dict = json.loads(r.text)['data']\n",
    "\n",
    "        for _ in range(3):\n",
    "            openapi.move_relative('z', 0.2)\n",
    "            time.sleep(0.2)\n",
    "            openapi.move_relative('z', -0.2)\n",
    "            time.sleep(0.2)\n",
    "\n",
    "        if responce_dict['status'] == 'failed':\n",
    "            if responce_dict['error']['errorType'] == 'InvalidAspirateVolumeError':\n",
    "                print('Dumping fluid')\n",
    "                openapi.move_relative('z', 50)\n",
    "                openapi.blow_out(openapi.labware_dct['3'], \"A1\", well_location='bottom', flow_rate = 200)\n",
    "                openapi.aspirate(openapi.labware_dct['3'], \"A1\", well_location='bottom', volume = 10, flow_rate = 200)\n",
    "                openapi.dispense_in_place(flow_rate = 200, volume = 10)\n",
    "                continue\n",
    "        else:\n",
    "            for j in range(24):\n",
    "                openapi.move_relative('z', 0.25)\n",
    "                time.sleep(0.3)\n",
    "            i += 1\n",
    "    openapi.move_relative('z', 50)\n",
    "    openapi.blow_out(openapi.labware_dct['3'], \"A1\", well_location='bottom', flow_rate = 200)\n",
    "    openapi.aspirate(openapi.labware_dct['3'], \"A1\", well_location='bottom', volume = 10, flow_rate = 200)\n",
    "    openapi.dispense_in_place(flow_rate = 200, volume = 10)  \n",
    "    openapi.move_relative('z', 50)\n",
    "    "
   ]
  },
  {
   "cell_type": "code",
   "execution_count": 19,
   "metadata": {},
   "outputs": [
    {
     "data": {
      "text/plain": [
       "<Response [201]>"
      ]
     },
     "execution_count": 19,
     "metadata": {},
     "output_type": "execute_result"
    }
   ],
   "source": [
    "openapi.move_relative('z', 10)"
   ]
  },
  {
   "cell_type": "code",
   "execution_count": 16,
   "metadata": {},
   "outputs": [],
   "source": [
    "r = openapi.move_to_well(openapi.labware_dct['6'], 'A1', well_location='top', offset=(0,0,5), verbose=False, force_direct=True)"
   ]
  },
  {
   "cell_type": "code",
   "execution_count": 17,
   "metadata": {},
   "outputs": [],
   "source": [
    "r = openapi.aspirate(openapi.labware_dct['6'], \"A1\", well_location ='bottom', volume = 10, flow_rate = 200)"
   ]
  },
  {
   "cell_type": "code",
   "execution_count": 27,
   "metadata": {},
   "outputs": [
    {
     "data": {
      "text/plain": [
       "{'data': {'id': '3ac6c403-d6b9-489c-8ac2-9ad7f0da571c',\n",
       "  'createdAt': '2025-01-27T14:53:03.930897+00:00',\n",
       "  'commandType': 'aspirate',\n",
       "  'key': '3ac6c403-d6b9-489c-8ac2-9ad7f0da571c',\n",
       "  'status': 'succeeded',\n",
       "  'params': {'labwareId': 'c173eec9-1850-43cf-953e-6b4a1b081714',\n",
       "   'wellName': 'A1',\n",
       "   'wellLocation': {'origin': 'center',\n",
       "    'offset': {'x': 0.0, 'y': 0.0, 'z': 0.0},\n",
       "    'volumeOffset': 0.0},\n",
       "   'flowRate': 200.0,\n",
       "   'volume': 10.0,\n",
       "   'pipetteId': '36cc037f-311f-49b0-a242-cccbb976be0f'},\n",
       "  'result': {'position': {'x': 277.12, 'y': 166.99, 'z': 8.504999999999999},\n",
       "   'volume': 10.0},\n",
       "  'startedAt': '2025-01-27T14:53:03.933027+00:00',\n",
       "  'completedAt': '2025-01-27T14:53:08.047486+00:00',\n",
       "  'intent': 'setup',\n",
       "  'notes': []}}"
      ]
     },
     "execution_count": 27,
     "metadata": {},
     "output_type": "execute_result"
    }
   ],
   "source": [
    "json.loads(r.text)"
   ]
  },
  {
   "cell_type": "code",
   "execution_count": 55,
   "metadata": {},
   "outputs": [
    {
     "name": "stdout",
     "output_type": "stream",
     "text": [
      "Request status:\n",
      "<Response [201]>\n",
      "{\n",
      "  \"data\": {\n",
      "    \"id\": \"5875e4d9-520c-4988-a692-3a5a81355796\",\n",
      "    \"createdAt\": \"2025-01-26T16:33:03.561882+00:00\",\n",
      "    \"commandType\": \"moveToCoordinates\",\n",
      "    \"key\": \"5875e4d9-520c-4988-a692-3a5a81355796\",\n",
      "    \"status\": \"succeeded\",\n",
      "    \"params\": {\n",
      "      \"minimumZHeight\": 10.6,\n",
      "      \"forceDirect\": false,\n",
      "      \"pipetteId\": \"9c7e4532-57e2-4cdf-bba7-261ce145309e\",\n",
      "      \"coordinates\": {\n",
      "        \"x\": 201.1511350759473,\n",
      "        \"y\": 124.81586979992255,\n",
      "        \"z\": 13.8\n",
      "      }\n",
      "    },\n",
      "    \"result\": {\n",
      "      \"position\": {\n",
      "        \"x\": 201.1511350759473,\n",
      "        \"y\": 124.81586979992255,\n",
      "        \"z\": 13.8\n",
      "      }\n",
      "    },\n",
      "    \"startedAt\": \"2025-01-26T16:33:03.564039+00:00\",\n",
      "    \"completedAt\": \"2025-01-26T16:33:05.139211+00:00\",\n",
      "    \"intent\": \"setup\",\n",
      "    \"notes\": []\n",
      "  }\n",
      "}\n",
      "Request status:\n",
      "<Response [201]>\n",
      "{\n",
      "  \"data\": {\n",
      "    \"id\": \"596eada9-f1be-457d-bfb4-aeb1eccfc469\",\n",
      "    \"createdAt\": \"2025-01-26T16:33:06.337466+00:00\",\n",
      "    \"commandType\": \"aspirateInPlace\",\n",
      "    \"key\": \"596eada9-f1be-457d-bfb4-aeb1eccfc469\",\n",
      "    \"status\": \"succeeded\",\n",
      "    \"params\": {\n",
      "      \"flowRate\": 300.0,\n",
      "      \"volume\": 10.0,\n",
      "      \"pipetteId\": \"9c7e4532-57e2-4cdf-bba7-261ce145309e\"\n",
      "    },\n",
      "    \"result\": {\n",
      "      \"volume\": 10.0\n",
      "    },\n",
      "    \"startedAt\": \"2025-01-26T16:33:06.339652+00:00\",\n",
      "    \"completedAt\": \"2025-01-26T16:33:06.777883+00:00\",\n",
      "    \"intent\": \"setup\",\n",
      "    \"notes\": []\n",
      "  }\n",
      "}\n",
      "Request status:\n",
      "<Response [201]>\n",
      "{\n",
      "  \"data\": {\n",
      "    \"id\": \"1d0e6271-5ac1-44f4-987f-a0fc730216e0\",\n",
      "    \"createdAt\": \"2025-01-26T16:33:07.275933+00:00\",\n",
      "    \"commandType\": \"aspirateInPlace\",\n",
      "    \"key\": \"1d0e6271-5ac1-44f4-987f-a0fc730216e0\",\n",
      "    \"status\": \"succeeded\",\n",
      "    \"params\": {\n",
      "      \"flowRate\": 300.0,\n",
      "      \"volume\": 10.0,\n",
      "      \"pipetteId\": \"9c7e4532-57e2-4cdf-bba7-261ce145309e\"\n",
      "    },\n",
      "    \"result\": {\n",
      "      \"volume\": 10.0\n",
      "    },\n",
      "    \"startedAt\": \"2025-01-26T16:33:07.278058+00:00\",\n",
      "    \"completedAt\": \"2025-01-26T16:33:07.717936+00:00\",\n",
      "    \"intent\": \"setup\",\n",
      "    \"notes\": []\n",
      "  }\n",
      "}\n",
      "Request status:\n",
      "<Response [201]>\n",
      "{\n",
      "  \"data\": {\n",
      "    \"id\": \"cf873ede-5b0b-45eb-bb85-24f75a49d6fd\",\n",
      "    \"createdAt\": \"2025-01-26T16:33:08.225460+00:00\",\n",
      "    \"commandType\": \"aspirateInPlace\",\n",
      "    \"key\": \"cf873ede-5b0b-45eb-bb85-24f75a49d6fd\",\n",
      "    \"status\": \"succeeded\",\n",
      "    \"params\": {\n",
      "      \"flowRate\": 300.0,\n",
      "      \"volume\": 10.0,\n",
      "      \"pipetteId\": \"9c7e4532-57e2-4cdf-bba7-261ce145309e\"\n",
      "    },\n",
      "    \"result\": {\n",
      "      \"volume\": 10.0\n",
      "    },\n",
      "    \"startedAt\": \"2025-01-26T16:33:08.227626+00:00\",\n",
      "    \"completedAt\": \"2025-01-26T16:33:08.667919+00:00\",\n",
      "    \"intent\": \"setup\",\n",
      "    \"notes\": []\n",
      "  }\n",
      "}\n",
      "Request status:\n",
      "<Response [201]>\n",
      "{\n",
      "  \"data\": {\n",
      "    \"id\": \"2224be08-01c3-4276-85d9-97977d830054\",\n",
      "    \"createdAt\": \"2025-01-26T16:33:09.178039+00:00\",\n",
      "    \"commandType\": \"aspirateInPlace\",\n",
      "    \"key\": \"2224be08-01c3-4276-85d9-97977d830054\",\n",
      "    \"status\": \"succeeded\",\n",
      "    \"params\": {\n",
      "      \"flowRate\": 300.0,\n",
      "      \"volume\": 10.0,\n",
      "      \"pipetteId\": \"9c7e4532-57e2-4cdf-bba7-261ce145309e\"\n",
      "    },\n",
      "    \"result\": {\n",
      "      \"volume\": 10.0\n",
      "    },\n",
      "    \"startedAt\": \"2025-01-26T16:33:09.180207+00:00\",\n",
      "    \"completedAt\": \"2025-01-26T16:33:09.600714+00:00\",\n",
      "    \"intent\": \"setup\",\n",
      "    \"notes\": []\n",
      "  }\n",
      "}\n",
      "Request status:\n",
      "<Response [201]>\n",
      "{\n",
      "  \"data\": {\n",
      "    \"id\": \"58d6a7f8-d3d0-4df7-9f31-a4f74c2dceed\",\n",
      "    \"createdAt\": \"2025-01-26T16:33:10.098081+00:00\",\n",
      "    \"commandType\": \"aspirateInPlace\",\n",
      "    \"key\": \"58d6a7f8-d3d0-4df7-9f31-a4f74c2dceed\",\n",
      "    \"status\": \"succeeded\",\n",
      "    \"params\": {\n",
      "      \"flowRate\": 300.0,\n",
      "      \"volume\": 10.0,\n",
      "      \"pipetteId\": \"9c7e4532-57e2-4cdf-bba7-261ce145309e\"\n",
      "    },\n",
      "    \"result\": {\n",
      "      \"volume\": 10.0\n",
      "    },\n",
      "    \"startedAt\": \"2025-01-26T16:33:10.100135+00:00\",\n",
      "    \"completedAt\": \"2025-01-26T16:33:10.526779+00:00\",\n",
      "    \"intent\": \"setup\",\n",
      "    \"notes\": []\n",
      "  }\n",
      "}\n",
      "Request status:\n",
      "<Response [201]>\n",
      "{\n",
      "  \"data\": {\n",
      "    \"id\": \"f2454fab-5659-46b6-99e7-7f4763effa5e\",\n",
      "    \"createdAt\": \"2025-01-26T16:33:11.030187+00:00\",\n",
      "    \"commandType\": \"aspirateInPlace\",\n",
      "    \"key\": \"f2454fab-5659-46b6-99e7-7f4763effa5e\",\n",
      "    \"status\": \"succeeded\",\n",
      "    \"params\": {\n",
      "      \"flowRate\": 300.0,\n",
      "      \"volume\": 10.0,\n",
      "      \"pipetteId\": \"9c7e4532-57e2-4cdf-bba7-261ce145309e\"\n",
      "    },\n",
      "    \"result\": {\n",
      "      \"volume\": 10.0\n",
      "    },\n",
      "    \"startedAt\": \"2025-01-26T16:33:11.032670+00:00\",\n",
      "    \"completedAt\": \"2025-01-26T16:33:11.462759+00:00\",\n",
      "    \"intent\": \"setup\",\n",
      "    \"notes\": []\n",
      "  }\n",
      "}\n"
     ]
    }
   ],
   "source": [
    "for k in range(1):\n",
    "    i = 0\n",
    "    while i < 1:\n",
    "        openapi.move_to_coordinates((X + i*3, Y - k*3, dish_bottom + pickup_offset + 3 - 0.2), min_z_height=dish_bottom)\n",
    "        time.sleep(1)\n",
    "        for j in range(6):\n",
    "            openapi.move_relative('z', -0.5)\n",
    "            r = openapi.aspirate_in_place(flow_rate = flow_rate, volume = 10, verbose=True)\n",
    "            time.sleep(0.3)\n",
    "\n",
    "        # responce_dict = json.loads(r.text)['data']\n",
    "        # if responce_dict['status'] == 'failed':\n",
    "        #     if responce_dict['error']['errorType'] == 'InvalidAspirateVolumeError':\n",
    "        #         print('Dumping fluid')\n",
    "        #         openapi.move_relative('z', 50)\n",
    "        #         openapi.blow_out(openapi.labware_dct['3'], \"A1\", well_location='center', flow_rate = 200)\n",
    "        #         openapi.aspirate(openapi.labware_dct['3'], \"A1\", well_location='center', volume = 10, flow_rate = 200)\n",
    "        #         openapi.dispense_in_place(flow_rate = 200, volume = 10)\n",
    "        #         continue\n",
    "        # else:\n",
    "        #     for j in range(6):\n",
    "        #         openapi.move_relative('z', 0.5)\n",
    "        #         time.sleep(0.3)\n",
    "            i += 1\n",
    "    openapi.move_relative('z', 50)\n",
    "    openapi.blow_out(openapi.labware_dct['3'], \"A1\", well_location='center', flow_rate = 200)\n",
    "    openapi.aspirate(openapi.labware_dct['3'], \"A1\", well_location='center', volume = 10, flow_rate = 200)\n",
    "    openapi.dispense_in_place(flow_rate = 200, volume = 10) "
   ]
  },
  {
   "cell_type": "code",
   "execution_count": null,
   "metadata": {},
   "outputs": [
    {
     "data": {
      "text/plain": [
       "<Response [201]>"
      ]
     },
     "execution_count": 44,
     "metadata": {},
     "output_type": "execute_result"
    }
   ],
   "source": [
    "openapi.blow_out(openapi.labware_dct['3'], \"A1\", well_location='bottom', flow_rate = 200)\n",
    "openapi.aspirate(openapi.labware_dct['3'], \"A1\", well_location='bottom', volume = 10, flow_rate = 200)\n",
    "openapi.dispense_in_place(flow_rate = 200, volume = 10)\n",
    "openapi.move_relative('z', 50)"
   ]
  },
  {
   "cell_type": "code",
   "execution_count": 44,
   "metadata": {},
   "outputs": [
    {
     "data": {
      "text/plain": [
       "<Response [201]>"
      ]
     },
     "execution_count": 44,
     "metadata": {},
     "output_type": "execute_result"
    }
   ],
   "source": [
    "openapi.move_relative('z', 50)\n",
    "openapi.blow_out(openapi.labware_dct['3'], \"A1\", well_location='center', flow_rate = 200)\n",
    "openapi.aspirate(openapi.labware_dct['3'], \"A1\", well_location='center', volume = 10, flow_rate = 200)\n",
    "openapi.dispense_in_place(flow_rate = 200, volume = 10)"
   ]
  },
  {
   "cell_type": "code",
   "execution_count": 53,
   "metadata": {},
   "outputs": [
    {
     "data": {
      "text/plain": [
       "<Response [201]>"
      ]
     },
     "execution_count": 53,
     "metadata": {},
     "output_type": "execute_result"
    }
   ],
   "source": [
    "openapi.move_relative('z', 50)"
   ]
  },
  {
   "cell_type": "code",
   "execution_count": 23,
   "metadata": {},
   "outputs": [
    {
     "data": {
      "text/plain": [
       "<Response [201]>"
      ]
     },
     "execution_count": 23,
     "metadata": {},
     "output_type": "execute_result"
    }
   ],
   "source": [
    "openapi.blow_out(openapi.labware_dct['3'], \"A1\", well_location='center', flow_rate = 50)"
   ]
  },
  {
   "cell_type": "code",
   "execution_count": 24,
   "metadata": {},
   "outputs": [
    {
     "data": {
      "text/plain": [
       "<Response [201]>"
      ]
     },
     "execution_count": 24,
     "metadata": {},
     "output_type": "execute_result"
    }
   ],
   "source": [
    "openapi.aspirate(openapi.labware_dct['3'], \"A1\", well_location='bottom', volume = 10, flow_rate = 200)"
   ]
  },
  {
   "cell_type": "code",
   "execution_count": 78,
   "metadata": {},
   "outputs": [
    {
     "data": {
      "text/plain": [
       "<Response [201]>"
      ]
     },
     "execution_count": 78,
     "metadata": {},
     "output_type": "execute_result"
    }
   ],
   "source": [
    "openapi.dispense(openapi.labware_dct['3'], \"A1\", well_location='bottom', volume = 200, flow_rate = 200)"
   ]
  },
  {
   "cell_type": "markdown",
   "metadata": {},
   "source": [
    "# Hydrogel core detection"
   ]
  },
  {
   "cell_type": "code",
   "execution_count": 63,
   "metadata": {},
   "outputs": [],
   "source": [
    "calibration_profile = 'standardDeck'\n",
    "calibration_data = utils.load_calibration_config(calibration_profile)\n",
    "\n",
    "tf_mtx = np.array(calibration_data['tf_mtx'])\n",
    "calib_origin = np.array(calibration_data['calib_origin'])[:2]\n",
    "offset = np.array(calibration_data['offset'])\n",
    "\n",
    "def on_mouse_click(event, x, y, flags, param):\n",
    "    global circle_center, circle_radius\n",
    "\n",
    "    if event == cv2.EVENT_RBUTTONDOWN:\n",
    "        x, y, _ = openapi.get_position(verbose=False)[0].values()\n",
    "        openapi.move_to_coordinates((calib_origin[0],calib_origin[1],100), min_z_height=1, verbose=False)\n",
    "\n",
    "    if event == cv2.EVENT_MBUTTONDOWN:\n",
    "        circle_center = (x, y)\n",
    "\n",
    "    if event == cv2.EVENT_MOUSEWHEEL:\n",
    "        if flags > 0:\n",
    "            circle_radius += 10\n",
    "        else:\n",
    "            circle_radius -= 10\n",
    "\n",
    "# Create an instance of the ManualRobotMovement class\n",
    "manual_movement = utils.ManualRobotMovement(openapi)\n",
    "\n",
    "window = cap.get_window()\n",
    "cv2.setMouseCallback(cap.window_name, on_mouse_click)\n",
    "\n",
    "target_x, target_y = 0, 0\n",
    "\n",
    "dish_bottom = 9.4# - 11.5\n",
    "pickup_offset = 0 #0.6\n",
    "flow_rate = 300\n",
    "volume = 50\n",
    "\n",
    "while True:\n",
    "    frame = cap.get_frame(undist=True)\n",
    "    x, y, z = openapi.get_position(verbose=False)[0].values()\n",
    "    (text_width, text_height), _ = cv2.getTextSize(f\"Robot coords: ({x:.2f}, {y:.2f}, {z:.2f})\", cv2.FONT_HERSHEY_SIMPLEX, 1, 2)\n",
    "    cv2.rectangle(frame, (10, 0), (10 + text_width, text_height + 190), (0, 0, 0), -1)\n",
    "    cv2.putText(frame, f\"Robot coords: ({x:.2f}, {y:.2f}, {z:.2f})\", (10, 30), cv2.FONT_HERSHEY_SIMPLEX, 1, (0, 255, 0), 2)\n",
    "    cv2.putText(frame, f\"Step size: {manual_movement.step} mm\", (10, 70), cv2.FONT_HERSHEY_SIMPLEX, 1, (0, 255, 0), 2)\n",
    "    cv2.putText(frame, f\"Flow rate: {flow_rate} uL/s\", (10, 110), cv2.FONT_HERSHEY_SIMPLEX, 1, (0, 255, 0), 2)\n",
    "    cv2.putText(frame, f\"Volume: {volume} uL\", (10, 150), cv2.FONT_HERSHEY_SIMPLEX, 1, (0, 255, 0), 2)\n",
    "    cv2.putText(frame, f\"Pickup height: {dish_bottom + pickup_offset} mm\", (10, 190), cv2.FONT_HERSHEY_SIMPLEX, 1, (0, 255, 0), 2)\n",
    "\n",
    "    # masked_frame = cv2.bitwise_and(frame, mask)\n",
    "\n",
    "    center_screen_x = frame.shape[1] // 2\n",
    "    center_screen_y = frame.shape[0] // 2\n",
    "    cv2.circle(frame, (target_x, target_y), 3, (0, 0, 255), -1)\n",
    "\n",
    "    gray_img = cv2.cvtColor(frame, cv2.COLOR_BGR2GRAY)\n",
    "    mask = np.zeros_like(gray_img, dtype=np.uint8)\n",
    "    cv2.circle(mask, circle_center, circle_radius, (255, 255, 255), -1)\n",
    "    gray_img = cv2.GaussianBlur(gray_img, (21, 21), 0)\n",
    "    clahe = cv2.createCLAHE(clipLimit=2.0, tileGridSize=(8, 8))\n",
    "    clahe_img = clahe.apply(gray_img)\n",
    "    thresh_img = cv2.adaptiveThreshold(clahe_img, 255, cv2.ADAPTIVE_THRESH_MEAN_C, cv2.THRESH_BINARY_INV, 65, 9)\n",
    "    kernel = np.ones((7, 7), np.uint8)\n",
    "    opening = cv2.morphologyEx(thresh_img, cv2.MORPH_OPEN, kernel)\n",
    "    masked_opening = cv2.bitwise_and(opening, mask)\n",
    "    contours, _ = cv2.findContours(masked_opening, cv2.RETR_EXTERNAL, cv2.CHAIN_APPROX_SIMPLE)\n",
    "    min_contour_area = 500\n",
    "    max_contour_area = 5000\n",
    "\n",
    "    circular_contours = []\n",
    "    for contour in contours:\n",
    "        perimeter = cv2.arcLength(contour, True)\n",
    "        area = cv2.contourArea(contour)\n",
    "        if perimeter == 0 or area < min_contour_area or area > max_contour_area:\n",
    "            continue\n",
    "        circularity = 4 * np.pi * (area / (perimeter * perimeter))\n",
    "        if 0.7 < circularity < 1.3:  # Adjust the range as needed\n",
    "            circular_contours.append(contour)\n",
    "\n",
    "    contours = circular_contours\n",
    "\n",
    "    contour_centers = []\n",
    "    for contour in contours:\n",
    "        M = cv2.moments(contour)\n",
    "        if M[\"m00\"] != 0:\n",
    "            cX = int(M[\"m10\"] / M[\"m00\"])\n",
    "            cY = int(M[\"m01\"] / M[\"m00\"])\n",
    "            contour_centers.append((cX, cY))\n",
    "        else:\n",
    "            contour_centers.append((0, 0))\n",
    "\n",
    "    contour_img = frame.copy()\n",
    "    cv2.circle(contour_img, circle_center, circle_radius, (255, 0, 0), 2)\n",
    "    cv2.drawContours(contour_img, contours, -1, (0, 255, 0), 2)\n",
    "    # Draw contour centers on the image\n",
    "    for center in contour_centers:\n",
    "        cv2.circle(contour_img, center, 5, (255, 0, 0), -1)\n",
    "    \n",
    "    cv2.imshow(cap.window_name, contour_img)\n",
    "    # Draw a point at the center of the screen\n",
    "    key_pressed = cv2.waitKey(1)\n",
    "\n",
    "    if key_pressed == ord('q'):\n",
    "        keyboard.unhook_all()\n",
    "        break\n",
    "\n",
    "    elif key_pressed == ord('s'):\n",
    "        timestamp = datetime.datetime.now().strftime('%Y_%m_%d_%H-%M-%S')\n",
    "        filename = f\"frame_{timestamp}.png\"\n",
    "        cv2.imwrite(str(paths.BASE_DIR)+'\\\\outputs\\\\images\\\\'+filename, frame)\n",
    "        print(f\"Frame saved as {filename}\")\n",
    "\n",
    "\n",
    "cv2.destroyAllWindows()"
   ]
  },
  {
   "cell_type": "code",
   "execution_count": 64,
   "metadata": {},
   "outputs": [],
   "source": [
    "converted_contour_centers = []\n",
    "x, y, _ = openapi.get_position(verbose=False)[0].values()\n",
    "for center in contour_centers:\n",
    "    cX, cY = center\n",
    "    X_init, Y_init, _ = tf_mtx @ (cX, cY, 1)\n",
    "    diff = np.array([x,y]) - np.array(calibration_data['calib_origin'])[:2]\n",
    "    X = X_init + diff[0] + offset[0]\n",
    "    Y = Y_init + diff[1] + offset[1]\n",
    "    converted_contour_centers.append((X, Y))"
   ]
  },
  {
   "cell_type": "code",
   "execution_count": 65,
   "metadata": {},
   "outputs": [
    {
     "data": {
      "text/plain": [
       "25"
      ]
     },
     "execution_count": 65,
     "metadata": {},
     "output_type": "execute_result"
    }
   ],
   "source": [
    "len(converted_contour_centers)"
   ]
  },
  {
   "cell_type": "code",
   "execution_count": 42,
   "metadata": {},
   "outputs": [],
   "source": [
    "for i in range(10):\n",
    "    x, y = converted_contour_centers[i]\n",
    "    openapi.move_to_coordinates((x,y,12), min_z_height=1, verbose=False)\n",
    "    time.sleep(0.1)\n",
    "\n",
    "openapi.move_relative('z', 50)\n",
    "    "
   ]
  },
  {
   "cell_type": "markdown",
   "metadata": {},
   "source": [
    "# Picking procedure (semi-automatic)"
   ]
  },
  {
   "cell_type": "code",
   "execution_count": 67,
   "metadata": {},
   "outputs": [
    {
     "name": "stdout",
     "output_type": "stream",
     "text": [
      "21\n",
      "Time taken: 11.79 seconds\n",
      "20\n",
      "Time taken: 11.74 seconds\n",
      "19\n",
      "Time taken: 11.84 seconds\n",
      "17\n",
      "Time taken: 11.69 seconds\n",
      "23\n",
      "Time taken: 11.74 seconds\n",
      "18\n",
      "Time taken: 11.67 seconds\n",
      "19\n",
      "Time taken: 11.71 seconds\n",
      "15\n",
      "Time taken: 11.87 seconds\n",
      "15\n",
      "Time taken: 11.85 seconds\n",
      "13\n",
      "Time taken: 11.92 seconds\n",
      "13\n",
      "Time taken: 11.86 seconds\n",
      "11\n",
      "Time taken: 11.92 seconds\n"
     ]
    }
   ],
   "source": [
    "cr = core.Core()\n",
    "\n",
    "calibration_data = utils.load_calibration_config(calibration_profile)\n",
    "\n",
    "tf_mtx = np.array(calibration_data['tf_mtx'])\n",
    "calib_origin = np.array(calibration_data['calib_origin'])[:2]\n",
    "offset = np.array(calibration_data['offset'])\n",
    "size_conversion_ratio = calibration_data['size_conversion_ratio']\n",
    "one_d_ratio = calibration_data['one_d_ratio']\n",
    "\n",
    "vol = 10\n",
    "dish_bottom = 10 #10.60 for 300ul, 9.5 for 200ul\n",
    "pickup_offset = 0.5\n",
    "pickup_height = dish_bottom + pickup_offset\n",
    "flow_rate = 50\n",
    "cuboid_size_theshold = (300, 450)\n",
    "failure_threshold = 0.5\n",
    "minimum_distance = 1.7\n",
    "\n",
    "window = cap.get_window()\n",
    "\n",
    "def create_well_mapping():\n",
    "    rows = list(\"ABCDEFGHIJKLMNOP\")\n",
    "    columns = list(range(1, 25))\n",
    "    well_mapping = {}\n",
    "\n",
    "    for i in range(384):\n",
    "        row = rows[i // 24]\n",
    "        column = columns[i % 24]\n",
    "        well_mapping[i] = f\"{row}{column}\"\n",
    "\n",
    "    return well_mapping\n",
    "\n",
    "well_mapping = create_well_mapping()\n",
    "\n",
    "def on_mouse_click(event, x, y, flags, param):\n",
    "    global circle_center\n",
    "    global circle_radius\n",
    "    global filtered_contours\n",
    "    global X_init, Y_init\n",
    "\n",
    "    if event == cv2.EVENT_MBUTTONDOWN:\n",
    "        circle_center = (x, y)\n",
    "\n",
    "    if event == cv2.EVENT_MOUSEWHEEL:\n",
    "        if flags > 0:\n",
    "            circle_radius += 10\n",
    "        else:\n",
    "            circle_radius -= 10\n",
    "\n",
    "    if event == cv2.EVENT_LBUTTONDBLCLK:\n",
    "        for contour in filtered_contours:\n",
    "            r=cv2.pointPolygonTest(contour, (x,y), False)\n",
    "            if r>0:\n",
    "                M = cv2.moments(contour)\n",
    "                if M[\"m00\"] != 0:\n",
    "                    cX = int(M[\"m10\"] / M[\"m00\"])\n",
    "                    cY = int(M[\"m01\"] / M[\"m00\"])\n",
    "                    X_init, Y_init, _ = tf_mtx @ (cX, cY, 1)\n",
    "\n",
    "                    x, y, _ = openapi.get_position(verbose=False)[0].values()\n",
    "                    diff = np.array([x,y]) - np.array(calibration_data['calib_origin'])[:2]\n",
    "                    X = X_init + diff[0] + offset[0]\n",
    "                    Y = Y_init + diff[1] + offset[1]\n",
    "                    \n",
    "                    print(f\"Robot coords: ({x}, {y})\")\n",
    "                    print(f\"Clicked on: ({X}, {Y})\")\n",
    "                    openapi.move_to_coordinates((X, Y, 20), min_z_height=1, verbose=False)\n",
    "                    time.sleep(0.1)\n",
    "                    openapi.aspirate_in_place(flow_rate = flow_rate, volume = vol)\n",
    "                    time.sleep(0.1)\n",
    "                    openapi.move_to_coordinates((X, Y, pickup_height), min_z_height=1, verbose=False, force_direct=True)\n",
    "                    time.sleep(1)\n",
    "                    openapi.move_to_coordinates((X, Y, 30), min_z_height=1, verbose=False)\n",
    "                else:\n",
    "                    print(\"Contour center could not be found\")\n",
    "\n",
    "    if event == cv2.EVENT_RBUTTONDOWN:\n",
    "        x, y, _ = openapi.get_position(verbose=False)[0].values()\n",
    "        # openapi.move_to_coordinates((x, y, 100), min_z_height=1)\n",
    "        openapi.move_to_coordinates((calib_origin[0],calib_origin[1],100), min_z_height=1, verbose=False)\n",
    "\n",
    "        \n",
    "\n",
    "cv2.setMouseCallback(cap.window_name, on_mouse_click)\n",
    "circle_center = (int(1296.0), int(972.0))\n",
    "circle_radius = 900\n",
    "manual_movement = utils.ManualRobotMovement(openapi)\n",
    "\n",
    "# Which wells to fill\n",
    "columns = list(range(1,25))\n",
    "#rows = ['F', 'G', 'H', 'I']\n",
    "rows = ['G']\n",
    "\n",
    "wells_to_fill = [f\"{row}{column}\" for row in rows for column in columns]\n",
    "\n",
    "reversed_well_mapping = {v: k for k, v in well_mapping.items()}\n",
    "wells_to_fill_indices = [reversed_well_mapping[well] for well in wells_to_fill]\n",
    "\n",
    "idx = wells_to_fill_indices[0]\n",
    "end_idx = wells_to_fill_indices[-1] + 1\n",
    "\n",
    "cuboid_chosen = False\n",
    "cuboid_choice = None\n",
    "times = []\n",
    "while idx < end_idx:\n",
    "    frame = cap.get_frame(undist=True)\n",
    "    x, y, z = openapi.get_position(verbose=False)[0].values()\n",
    "    (text_width, text_height), _ = cv2.getTextSize(f\"Robot coords: ({x:.2f}, {y:.2f}, {z:.2f})\", cv2.FONT_HERSHEY_SIMPLEX, 1, 2)\n",
    "    cv2.rectangle(frame, (10, 0), (10 + text_width, text_height + 70), (0, 0, 0), -1)\n",
    "    cv2.putText(frame, f\"Robot coords: ({x:.2f}, {y:.2f}, {z:.2f})\", (10, 30), cv2.FONT_HERSHEY_SIMPLEX, 1, (0, 255, 0), 2)\n",
    "    cv2.putText(frame, f\"Step size: {manual_movement.step} mm\", (10, 70), cv2.FONT_HERSHEY_SIMPLEX, 1, (0, 255, 0), 2)\n",
    "\n",
    "    cv2.circle(frame, circle_center, circle_radius + int(minimum_distance / one_d_ratio), (0, 0, 255), 2)\n",
    "    mask = np.zeros_like(frame, dtype=np.uint8)\n",
    "    cv2.circle(mask, circle_center, circle_radius + int(minimum_distance / one_d_ratio), (255, 255, 255), -1)\n",
    "    masked_frame = cv2.bitwise_and(frame, mask)\n",
    "    cv2.circle(frame, circle_center, circle_radius, (0, 255, 0), 2)\n",
    "\n",
    "    gray = cv2.cvtColor(masked_frame, cv2.COLOR_BGR2GRAY)\n",
    "    gray = cv2.GaussianBlur(gray, (11, 11), 0)\n",
    "    thresh = cv2.adaptiveThreshold(gray,255,cv2.ADAPTIVE_THRESH_GAUSSIAN_C,cv2.THRESH_BINARY_INV,25,2) \n",
    "    kernel = np.ones((3,3),np.uint8)\n",
    "    thresh = cv2.morphologyEx(thresh, cv2.MORPH_OPEN, kernel, iterations=1)\n",
    "    mask_inv = cv2.cvtColor(mask, cv2.COLOR_BGR2GRAY)\n",
    "    thresh = cv2.bitwise_and(thresh, mask_inv)\n",
    "\n",
    "    # Find contours in the masked frame\n",
    "    contours, hei = cv2.findContours(thresh, cv2.RETR_TREE, cv2.CHAIN_APPROX_SIMPLE)\n",
    "    cr.cuboids = contours\n",
    "    filtered_contours = [contour for contour in cr.cuboids if 30 < cv2.contourArea(contour) < 700]\n",
    "    cr.cuboid_dataframe(filtered_contours)\n",
    "\n",
    "    cuboid_size_micron2 = cr.cuboid_df.area * size_conversion_ratio * 1000000\n",
    "    cuboid_diameter = 2 * np.sqrt(cuboid_size_micron2 / np.pi)\n",
    "    dist_mm = cr.cuboid_df.min_dist * one_d_ratio\n",
    "    cr.cuboid_df['diameter_microns'] = cuboid_diameter\n",
    "    cr.cuboid_df['min_dist_mm'] = dist_mm\n",
    "    \n",
    "    # Filter out elongated contours\n",
    "\n",
    "    pickable_cuboids = cr.cuboid_df.loc[(cuboid_size_theshold[0] < cr.cuboid_df['diameter_microns']) & \n",
    "                                        (cr.cuboid_df['diameter_microns'] < cuboid_size_theshold[1]) &\n",
    "                                        ((cr.cuboid_df['aspect_ratio'] > 0.75) | (cr.cuboid_df['aspect_ratio'] < 1.25)) &\n",
    "                                        (cr.cuboid_df['circularity'] > 0.6)].copy()\n",
    "\n",
    "    # Check if cuboid centers are within the circle radius from the current circle center\n",
    "    pickable_cuboids['distance_to_center'] = pickable_cuboids.apply(\n",
    "        lambda row: np.sqrt((row['cX'] - circle_center[0])**2 + (row['cY'] - circle_center[1])**2), axis=1\n",
    "    )\n",
    "    pickable_cuboids = pickable_cuboids[pickable_cuboids['distance_to_center'] <= circle_radius]\n",
    "    isolated = pickable_cuboids.loc[pickable_cuboids.min_dist_mm > minimum_distance]\n",
    "    draw = isolated.contour.values.tolist()\n",
    "    cv2.drawContours(frame, filtered_contours, -1, (0, 0, 255), 2)\n",
    "    cv2.drawContours(frame, pickable_cuboids.contour.values.tolist(), -1, (0, 255, 255), 2)\n",
    "    cv2.drawContours(frame, draw, -1, (0, 255, 0), 2)\n",
    "\n",
    "    if not cuboid_chosen and len(isolated) > 0:\n",
    "        if cuboid_choice is not None:\n",
    "            prev_x, prev_y = cuboid_choice[['cX', 'cY']].values[0]\n",
    "            \n",
    "            cv2.circle(frame, (int(prev_x), int(prev_y)), int(round(failure_threshold / one_d_ratio)), (255, 0, 0), 2)\n",
    "            distances = cr.cuboid_df.apply(lambda row: np.sqrt((row['cX'] - prev_x)**2 + (row['cY'] - prev_y)**2), axis=1).to_numpy()\n",
    "            distances *= one_d_ratio\n",
    "            if any(distances <= failure_threshold):\n",
    "                print(\"Miss detected ...\")\n",
    "                idx -= 1\n",
    "\n",
    "        cuboid_choice = isolated.sample(n=1)\n",
    "        cuboid_chosen = True\n",
    "        # cv2.imwrite(str(paths.BASE_DIR)+'\\\\outputs\\\\images\\\\'+f\"frame_{idx}.png\", frame)\n",
    "        \n",
    "\n",
    "    # for i, row in cr.cuboid_df.iterrows():\n",
    "    #     cX, cY = int(row['cX']), int(row['cY'])\n",
    "    #     aspect_ratio = row['aspect_ratio']\n",
    "    #     circularity = row['circularity']\n",
    "    #     cv2.putText(frame, f\"{aspect_ratio:.2f}, {circularity:.2f}\", (cX+20, cY), cv2.FONT_HERSHEY_SIMPLEX, 0.75, (255, 255, 255), 2)\n",
    "\n",
    "    if cuboid_chosen:    \n",
    "        cv2.drawContours(frame, cuboid_choice.contour.values.tolist(), -1, (255, 0, 0), 2)\n",
    "\n",
    "    cv2.imshow(cap.window_name, frame)\n",
    "\n",
    "    #-----------------------------------------------INTERACTION------------------------------------------------\n",
    "    key_pressed = cv2.waitKey(1)\n",
    "\n",
    "    if key_pressed == ord('q'):\n",
    "        break\n",
    "\n",
    "    elif key_pressed == ord('m'):\n",
    "        start_time = time.time()\n",
    "        print(len(isolated))\n",
    "        if len(isolated) > 2:\n",
    "            chosen = isolated.sample(n=2)\n",
    "        else:\n",
    "            chosen = isolated.copy()\n",
    "\n",
    "        x, y, _ = openapi.get_position(verbose=False)[0].values()\n",
    "        for i in range(len(chosen)):\n",
    "            cX, cY = chosen.iloc[i][['cX', 'cY']].values\n",
    "\n",
    "            X_init, Y_init, _ = tf_mtx @ (cX, cY, 1)\n",
    "\n",
    "            diff = np.array([x,y]) - np.array(calibration_data['calib_origin'])[:2]\n",
    "            X = X_init + diff[0] + offset[0]\n",
    "            Y = Y_init + diff[1] + offset[1]\n",
    "\n",
    "            openapi.move_to_coordinates((X, Y, pickup_height+20), min_z_height=dish_bottom, verbose=False, force_direct=True)\n",
    "            openapi.move_to_coordinates((X, Y, pickup_height), min_z_height=dish_bottom, verbose=False, force_direct=True)\n",
    "            openapi.aspirate_in_place(flow_rate = flow_rate, volume = 10)\n",
    "            openapi.move_relative('z', 10)\n",
    "            openapi.aspirate_in_place(flow_rate = flow_rate, volume = 20)\n",
    "            time.sleep(0.1)\n",
    "        openapi.move_relative('z', 20)\n",
    "\n",
    "        # wells = ['B11', 'B12', 'B13', 'B14', 'B15']\n",
    "        openapi.move_to_well(openapi.labware_dct['6'], well_mapping[idx], well_location='top', offset=(0.9,-0.9,5), verbose=False, force_direct=True)\n",
    "        for j in range(len(chosen)):\n",
    "            if j == 0:\n",
    "                air_disp_vol = 25\n",
    "                liq_disp_vol = 10\n",
    "            elif j == 1:\n",
    "                air_disp_vol = 15\n",
    "                liq_disp_vol = 10\n",
    "\n",
    "            openapi.dispense(openapi.labware_dct['6'], well_mapping[idx], well_location='top', offset = (0.9,-0.9,5), volume = air_disp_vol, flow_rate = 50)\n",
    "            time.sleep(0.1)\n",
    "            openapi.dispense(openapi.labware_dct['6'], well_mapping[idx], well_location='bottom', offset = (0.9,-0.9,0), volume = liq_disp_vol, flow_rate = 50)\n",
    "            time.sleep(0.3)\n",
    "            idx += 1\n",
    "\n",
    "        openapi.move_relative('z', 20)\n",
    "        openapi.move_to_coordinates((calib_origin[0],calib_origin[1],100), min_z_height=1, verbose=False, force_direct=True)\n",
    "        end_time = time.time()\n",
    "        print(f\"Time taken: {end_time - start_time:.2f} seconds\")\n",
    "        times.append(end_time - start_time)\n",
    "\n",
    "    # elif key_pressed == ord('n'):\n",
    "    #     for i in range(2):\n",
    "    #         # if i == 0:\n",
    "    #         #     air_disp_vol = 30\n",
    "    #         #     liq_disp_vol = 10\n",
    "    #         # elif i == 4:\n",
    "    #         #     air_disp_vol = 10\n",
    "    #         #     liq_disp_vol = 10\n",
    "    #         # else:\n",
    "    #         #     air_disp_vol = 20\n",
    "    #         #     liq_disp_vol = 10\n",
    "    #         # openapi.move_relative('z', 10)\n",
    "    #         openapi.dispense_in_place(volume = 20, flow_rate = 50)\n",
    "    #         time.sleep(1)\n",
    "    #         openapi.move_relative('z', -10)\n",
    "    #         openapi.dispense_in_place(volume = 10, flow_rate = 50)\n",
    "    #         time.sleep(1)\n",
    "    #         openapi.move_relative('z', 10)\n",
    "    #         openapi.move_relative('x', -8.5)\n",
    "\n",
    "        \n",
    "\n",
    "    elif key_pressed == ord('c'):\n",
    "        if len(isolated) > 0:\n",
    "            cuboid_choice = isolated.sample(n=1)\n",
    "\n",
    "    elif key_pressed == ord('p'):\n",
    "        if len(isolated) == 0:\n",
    "            print(\"No cuboids found in the selected region\")\n",
    "            continue\n",
    "\n",
    "        cX, cY = cuboid_choice[['cX', 'cY']].values[0]\n",
    "\n",
    "        X_init, Y_init, _ = tf_mtx @ (cX, cY, 1)\n",
    "\n",
    "        x, y, _ = openapi.get_position(verbose=False)[0].values()\n",
    "        diff = np.array([x,y]) - np.array(calibration_data['calib_origin'])[:2]\n",
    "        X = X_init + diff[0] + offset[0]\n",
    "        Y = Y_init + diff[1] + offset[1]\n",
    "        \n",
    "        openapi.move_to_coordinates((X, Y, pickup_height), min_z_height=dish_bottom, verbose=False)\n",
    "        openapi.aspirate_in_place(flow_rate = flow_rate, volume = vol)\n",
    "        # ---------------------------------WHERE TO DISPENSE---------------------------------------\n",
    "        # x_d, y_d = converted_contour_centers[idx]\n",
    "        # openapi.move_to_coordinates((x_d,y_d, dish_bottom + 2.5), min_z_height=1, verbose=False)\n",
    "        # time.sleep(0.5)\n",
    "        # openapi.dispense_in_place(flow_rate = flow_rate, volume = vol)\n",
    "        # time.sleep(0.5)\n",
    "        openapi.dispense(openapi.labware_dct['6'], well_mapping[idx], well_location='bottom', offset = (0.9,-0.9,0), volume = vol, flow_rate = flow_rate)\n",
    "        time.sleep(0.3)\n",
    "        openapi.move_to_coordinates((calib_origin[0],calib_origin[1],100), min_z_height=dish_bottom, verbose=False)\n",
    "        idx += 1\n",
    "        cuboid_chosen = False\n",
    "        time.sleep(0.1)\n",
    "\n",
    "    elif key_pressed == ord('d'):\n",
    "        r = openapi.dispense_in_place(flow_rate = flow_rate, volume = vol)\n",
    "\n",
    "\n",
    "cv2.destroyAllWindows()\n",
    "keyboard.unhook_all()"
   ]
  },
  {
   "cell_type": "code",
   "execution_count": 65,
   "metadata": {},
   "outputs": [
    {
     "data": {
      "text/plain": [
       "32.32129096984863"
      ]
     },
     "execution_count": 65,
     "metadata": {},
     "output_type": "execute_result"
    }
   ],
   "source": [
    "np.sum(times) /24 * 384 / 60"
   ]
  },
  {
   "cell_type": "code",
   "execution_count": 17,
   "metadata": {},
   "outputs": [
    {
     "data": {
      "text/plain": [
       "<Response [201]>"
      ]
     },
     "execution_count": 17,
     "metadata": {},
     "output_type": "execute_result"
    }
   ],
   "source": [
    "openapi.control_run('stop') # Stop the robot"
   ]
  },
  {
   "cell_type": "code",
   "execution_count": 53,
   "metadata": {},
   "outputs": [],
   "source": [
    "x, y = chosen.iloc[i][['cX', 'cY']].values"
   ]
  },
  {
   "cell_type": "code",
   "execution_count": 42,
   "metadata": {},
   "outputs": [],
   "source": [
    "keyboard.unhook_all()"
   ]
  },
  {
   "cell_type": "code",
   "execution_count": 89,
   "metadata": {},
   "outputs": [
    {
     "data": {
      "text/plain": [
       "<Response [201]>"
      ]
     },
     "execution_count": 89,
     "metadata": {},
     "output_type": "execute_result"
    }
   ],
   "source": [
    "openapi.blow_out_in_place(50)"
   ]
  },
  {
   "cell_type": "code",
   "execution_count": 16,
   "metadata": {},
   "outputs": [
    {
     "data": {
      "text/plain": [
       "<Response [201]>"
      ]
     },
     "execution_count": 16,
     "metadata": {},
     "output_type": "execute_result"
    }
   ],
   "source": [
    "openapi.move_to_well(openapi.labware_dct['6'], 'A1', well_location='top', offset=(0,0,1), verbose=False)"
   ]
  },
  {
   "cell_type": "code",
   "execution_count": 91,
   "metadata": {},
   "outputs": [],
   "source": [
    "r = openapi.dispense(openapi.labware_dct['3'], \"A1\", well_location='bottom', volume = 100, flow_rate = 200)"
   ]
  },
  {
   "cell_type": "code",
   "execution_count": 90,
   "metadata": {},
   "outputs": [],
   "source": [
    "r = openapi.aspirate(openapi.labware_dct['3'], \"A1\", well_location='bottom', offset = (0,0,0), volume = 100, flow_rate = 200)"
   ]
  },
  {
   "cell_type": "code",
   "execution_count": null,
   "metadata": {},
   "outputs": [],
   "source": [
    "r = openapi.dispense(openapi.labware_dct['6'], well_mapping[idx], well_location='bottom', volume = vol, flow_rate = flow_rate)"
   ]
  },
  {
   "cell_type": "code",
   "execution_count": 88,
   "metadata": {},
   "outputs": [
    {
     "data": {
      "text/plain": [
       "{'data': {'id': 'c880966c-43ac-43d9-b0d4-2ee34b3a81bb',\n",
       "  'createdAt': '2025-01-26T12:10:58.855084+00:00',\n",
       "  'commandType': 'dispense',\n",
       "  'key': 'c880966c-43ac-43d9-b0d4-2ee34b3a81bb',\n",
       "  'status': 'failed',\n",
       "  'params': {'labwareId': '492ea99c-5b92-4999-816b-6cda6d1c1d6f',\n",
       "   'wellName': 'A1',\n",
       "   'wellLocation': {'origin': 'bottom',\n",
       "    'offset': {'x': 0, 'y': 0, 'z': 0},\n",
       "    'volumeOffset': 0.0},\n",
       "   'flowRate': 100.0,\n",
       "   'volume': 1.0,\n",
       "   'pipetteId': '6a51cb8a-aa10-45a7-bb93-666fb4664a70',\n",
       "   'pushOut': 30.0},\n",
       "  'error': {'id': '75a499ed-c890-4f81-a634-67511d459c77',\n",
       "   'createdAt': '2025-01-26T12:10:58.892388+00:00',\n",
       "   'isDefined': False,\n",
       "   'errorType': 'CommandPreconditionViolated',\n",
       "   'errorCode': '4004',\n",
       "   'detail': 'Cannot push_out on a dispense that does not leave the pipette empty',\n",
       "   'errorInfo': {'command': 'dispense', 'remaining-volume': '9.0'},\n",
       "   'wrappedErrors': []},\n",
       "  'startedAt': '2025-01-26T12:10:58.857117+00:00',\n",
       "  'completedAt': '2025-01-26T12:10:58.892388+00:00',\n",
       "  'intent': 'setup',\n",
       "  'notes': [{'noteKind': 'debugErrorRecovery',\n",
       "    'shortMessage': 'Handling this command failure with FAIL_RUN.',\n",
       "    'longMessage': 'Handling this command failure with FAIL_RUN.',\n",
       "    'source': 'execution'}]}}"
      ]
     },
     "execution_count": 88,
     "metadata": {},
     "output_type": "execute_result"
    }
   ],
   "source": [
    "json.loads(r.text)"
   ]
  },
  {
   "cell_type": "markdown",
   "metadata": {},
   "source": [
    "# Picking procedure (Automatic)"
   ]
  },
  {
   "cell_type": "code",
   "execution_count": 18,
   "metadata": {},
   "outputs": [],
   "source": [
    "def create_well_mapping(plate_type='384'):\n",
    "    if plate_type == '384':\n",
    "        rows = list(\"ABCDEFGHIJKLMNOP\")\n",
    "        columns = list(range(1, 25))\n",
    "    elif plate_type == '96':\n",
    "        rows = list(\"ABCDEFGH\")\n",
    "        columns = list(range(1, 13))\n",
    "    else:\n",
    "        raise ValueError(\"Unsupported plate type. Use '384' or '96'.\")\n",
    "\n",
    "    well_mapping = {}\n",
    "    for i in range(len(rows) * len(columns)):\n",
    "        row = rows[i // len(columns)]\n",
    "        column = columns[i % len(columns)]\n",
    "        well_mapping[i] = f\"{row}{column}\"\n",
    "\n",
    "    return well_mapping\n",
    "\n",
    "well_mapping = create_well_mapping('384')  # Change to '96' if using a 96 well plate"
   ]
  },
  {
   "cell_type": "code",
   "execution_count": null,
   "metadata": {},
   "outputs": [
    {
     "name": "stdout",
     "output_type": "stream",
     "text": [
      "Resuming movement...\n",
      "Miss detected at well C9.\n",
      "Miss detected at well C9.\n",
      "Miss detected at well C10.\n",
      "Miss detected at well C14.\n",
      "Miss detected at well C17.\n",
      "Miss detected at well C21.\n",
      "Miss detected at well C21.\n",
      "Elapsed time: 202.74 seconds\n",
      "Last local time: 191.83526730537415 seconds\n"
     ]
    }
   ],
   "source": [
    "# Flag to stop threads gracefully\n",
    "stop_event = threading.Event()\n",
    "pause_event = threading.Event()\n",
    "pause_event.set()  # Start in paused state\n",
    "coord_queue = queue.Queue()\n",
    "cr = core.Core()\n",
    "\n",
    "# ----------------------Robot configs-----------------------\n",
    "calibration_data = utils.load_calibration_config(calibration_profile)\n",
    "tf_mtx = np.array(calibration_data['tf_mtx'])\n",
    "calib_origin = np.array(calibration_data['calib_origin'])[:2]\n",
    "offset = np.array(calibration_data['offset'])\n",
    "size_conversion_ratio = calibration_data['size_conversion_ratio']\n",
    "one_d_ratio = calibration_data['one_d_ratio']\n",
    "\n",
    "# ----------------------Picking configs-----------------------\n",
    "vol = 10\n",
    "dish_bottom = 10.3 #10.60 for 300ul, 9.5 for 200ul\n",
    "pickup_offset = 0.5\n",
    "pickup_height = dish_bottom + pickup_offset\n",
    "flow_rate = 50\n",
    "cuboid_size_theshold = (300, 500)\n",
    "failure_threshold = 0.5\n",
    "minimum_distance = 1.7\n",
    "\n",
    "columns = list(range(1,25))\n",
    "# rows = ['G', 'H', 'I', 'J', 'K', 'L', 'M', 'N', 'O', 'P']\n",
    "# rows = ['A', 'B', 'C', 'D']\n",
    "rows = ['C']\n",
    "well_offset_x = 0.9 #384 well plate\n",
    "well_offset_y = -0.9 #384 well plate\n",
    "\n",
    "wells_to_fill = [f\"{row}{column}\" for row in rows for column in columns]\n",
    "reversed_well_mapping = {v: k for k, v in well_mapping.items()}\n",
    "wells_to_fill_indices = [reversed_well_mapping[well] for well in wells_to_fill]\n",
    "idx = wells_to_fill_indices[0]\n",
    "end_idx = wells_to_fill_indices[-1] + 1\n",
    "\n",
    "# ----------------------Video configs-----------------------\n",
    "circle_center = (int(1296.0), int(972.0))\n",
    "circle_radius = 900\n",
    "\n",
    "# ----------------------Dict for misses---------------------\n",
    "misses = {}\n",
    "\n",
    "\n",
    "class SharedSettings:\n",
    "    def __init__(self):\n",
    "        self.lock = threading.Lock()\n",
    "        self.cuboid_chosen = False  # Movement speed (modifiable)\n",
    "        self.idx = idx  # Current index (modifiable)\n",
    "        self.local_timer_set = False\n",
    "\n",
    "settings = SharedSettings()\n",
    "\n",
    "def video_stream(): # Open default camera (change index if needed)\n",
    "    window = cap.get_window()\n",
    "    cuboid_choice = None\n",
    "\n",
    "    start_time = time.time()\n",
    "    local_timer_start = None\n",
    "\n",
    "    while not stop_event.is_set():\n",
    "        frame = cap.get_frame(undist=True)\n",
    "\n",
    "        with settings.lock:\n",
    "            cuboid_chosen = settings.cuboid_chosen\n",
    "            local_timer_set = settings.local_timer_set\n",
    "            idx = settings.idx\n",
    "\n",
    "        if not pause_event.is_set() and not local_timer_set:\n",
    "            local_timer_start = time.time()\n",
    "            with settings.lock:\n",
    "                settings.local_timer_set = True\n",
    "        elif pause_event.is_set() and local_timer_set:\n",
    "            local_timer_end = time.time()\n",
    "            local_timer_duration = local_timer_end - local_timer_start\n",
    "            print(f\"Operation between pauses {local_timer_duration:.2f}\")\n",
    "            with settings.lock:\n",
    "                settings.local_timer_set = False\n",
    "\n",
    "        if idx >= end_idx:\n",
    "            stop_event.set()\n",
    "            break\n",
    "        #-----------------------------------------VISION PROCESSING-----------------------------------------\n",
    "        x, y, z = openapi.get_position(verbose=False)[0].values()\n",
    "        (text_width, text_height), _ = cv2.getTextSize(f\"Robot coords: ({x:.2f}, {y:.2f}, {z:.2f})\", cv2.FONT_HERSHEY_SIMPLEX, 1, 2)\n",
    "        cv2.rectangle(frame, (10, 0), (10 + text_width, text_height + 110), (0, 0, 0), -1)\n",
    "        cv2.putText(frame, f\"Robot coords: ({x:.2f}, {y:.2f}, {z:.2f})\", (10, 30), cv2.FONT_HERSHEY_SIMPLEX, 1, (0, 255, 0), 2)\n",
    "        cv2.putText(frame, f\"Filling well: {well_mapping[idx]}\", (10, 70), cv2.FONT_HERSHEY_SIMPLEX, 1, (0, 255, 0), 2)\n",
    "        if pause_event.is_set():\n",
    "            cv2.putText(frame, \"Paused\", (10, 110), cv2.FONT_HERSHEY_SIMPLEX, 1, (0, 0, 255), 2)\n",
    "\n",
    "\n",
    "\n",
    "        cv2.circle(frame, circle_center, circle_radius + int(minimum_distance / one_d_ratio), (0, 0, 255), 2)\n",
    "        mask = np.zeros_like(frame, dtype=np.uint8)\n",
    "        cv2.circle(mask, circle_center, circle_radius + int(minimum_distance / one_d_ratio), (255, 255, 255), -1)\n",
    "        masked_frame = cv2.bitwise_and(frame, mask)\n",
    "        cv2.circle(frame, circle_center, circle_radius, (0, 255, 0), 2)\n",
    "\n",
    "        if not cuboid_chosen:\n",
    "            gray = cv2.cvtColor(masked_frame, cv2.COLOR_BGR2GRAY)\n",
    "            gray = cv2.GaussianBlur(gray, (11, 11), 0)\n",
    "            thresh = cv2.adaptiveThreshold(gray,255,cv2.ADAPTIVE_THRESH_GAUSSIAN_C,cv2.THRESH_BINARY_INV,25,2) \n",
    "            kernel = np.ones((3,3),np.uint8)\n",
    "            thresh = cv2.morphologyEx(thresh, cv2.MORPH_OPEN, kernel, iterations=1)\n",
    "            mask_inv = cv2.cvtColor(mask, cv2.COLOR_BGR2GRAY)\n",
    "            thresh = cv2.bitwise_and(thresh, mask_inv)\n",
    "\n",
    "            # Find contours in the masked frame\n",
    "            contours, hei = cv2.findContours(thresh, cv2.RETR_TREE, cv2.CHAIN_APPROX_SIMPLE)\n",
    "            cr.cuboids = contours\n",
    "            filtered_contours = [contour for contour in cr.cuboids if 30 < cv2.contourArea(contour) < 1000]\n",
    "            cr.cuboid_dataframe(filtered_contours)\n",
    "\n",
    "            cuboid_size_micron2 = cr.cuboid_df.area * size_conversion_ratio * 1000000\n",
    "            cuboid_diameter = 2 * np.sqrt(cuboid_size_micron2 / np.pi)\n",
    "            dist_mm = cr.cuboid_df.min_dist * one_d_ratio\n",
    "            cr.cuboid_df['diameter_microns'] = cuboid_diameter\n",
    "            cr.cuboid_df['min_dist_mm'] = dist_mm\n",
    "            \n",
    "            # Filter out elongated contours\n",
    "\n",
    "            pickable_cuboids = cr.cuboid_df.loc[(cuboid_size_theshold[0] < cr.cuboid_df['diameter_microns']) & \n",
    "                                                (cr.cuboid_df['diameter_microns'] < cuboid_size_theshold[1]) &\n",
    "                                                ((cr.cuboid_df['aspect_ratio'] > 0.75) | (cr.cuboid_df['aspect_ratio'] < 1.25)) &\n",
    "                                                (cr.cuboid_df['circularity'] > 0.6)].copy()\n",
    "\n",
    "            # Check if cuboid centers are within the circle radius from the current circle center\n",
    "            pickable_cuboids['distance_to_center'] = pickable_cuboids.apply(\n",
    "                lambda row: np.sqrt((row['cX'] - circle_center[0])**2 + (row['cY'] - circle_center[1])**2), axis=1\n",
    "            )\n",
    "            pickable_cuboids = pickable_cuboids[pickable_cuboids['distance_to_center'] <= circle_radius]\n",
    "            isolated = pickable_cuboids.loc[pickable_cuboids.min_dist_mm > minimum_distance]\n",
    "            draw = isolated.contour.values.tolist()\n",
    "            cv2.drawContours(frame, filtered_contours, -1, (0, 0, 255), 2)\n",
    "            cv2.drawContours(frame, pickable_cuboids.contour.values.tolist(), -1, (0, 255, 255), 2)\n",
    "            cv2.drawContours(frame, draw, -1, (0, 255, 0), 2)\n",
    "\n",
    "        #-----------------------------------------------INTERACTION------------------------------------------------\n",
    "\n",
    "            # if not cuboid_chosen and len(isolated) > 0:\n",
    "            #     if cuboid_choice is not None:\n",
    "            #         prev_x, prev_y = cuboid_choice[['cX', 'cY']].values[0]\n",
    "                    \n",
    "            #         cv2.circle(frame, (int(prev_x), int(prev_y)), int(round(failure_threshold / one_d_ratio)), (255, 0, 0), 2)\n",
    "            #         distances = cr.cuboid_df.apply(lambda row: np.sqrt((row['cX'] - prev_x)**2 + (row['cY'] - prev_y)**2), axis=1).to_numpy()\n",
    "            #         distances *= one_d_ratio\n",
    "            #         if any(distances <= failure_threshold):\n",
    "            #             print(\"Miss detected ...\")\n",
    "            #             with settings.lock:\n",
    "            #                 settings.idx -= 1\n",
    "\n",
    "            #     cuboid_choice = isolated.sample(n=1) \n",
    "            #     cv2.drawContours(frame, cuboid_choice.contour.values.tolist(), -1, (255, 0, 0), 2)\n",
    "\n",
    "        if not coord_queue.full() and not cuboid_chosen and not pause_event.is_set() and len(isolated) > 0:\n",
    "            if cuboid_choice is not None:\n",
    "                prev_x, prev_y = cuboid_choice[['cX', 'cY']].values[0]\n",
    "                \n",
    "                cv2.circle(frame, (int(prev_x), int(prev_y)), int(round(failure_threshold / one_d_ratio)), (255, 0, 0), 2)\n",
    "                distances = cr.cuboid_df.apply(lambda row: np.sqrt((row['cX'] - prev_x)**2 + (row['cY'] - prev_y)**2), axis=1).to_numpy()\n",
    "                distances *= one_d_ratio\n",
    "                if any(distances <= failure_threshold):\n",
    "                    with settings.lock:\n",
    "                        settings.idx -= 1\n",
    "                    print(f\"Miss detected at well {well_mapping[idx]}.\")\n",
    "                    if well_mapping[idx] in misses:\n",
    "                        misses[well_mapping[idx]] += 1\n",
    "                    else:\n",
    "                        misses[well_mapping[idx]] = 1\n",
    "\n",
    "            cuboid_choice = isolated.sample(n=1) \n",
    "            cv2.drawContours(frame, cuboid_choice.contour.values.tolist(), -1, (255, 0, 0), 2)\n",
    "            # cv2.imwrite(str(paths.BASE_DIR)+'\\\\outputs\\\\images\\\\'+f\"frame_{idx}.png\", frame)\n",
    "\n",
    "            cX, cY = cuboid_choice[['cX', 'cY']].values[0]\n",
    "            X_init, Y_init, _ = tf_mtx @ (cX, cY, 1)\n",
    "            x, y, _ = openapi.get_position(verbose=False)[0].values()\n",
    "            diff = np.array([x,y]) - np.array(calibration_data['calib_origin'])[:2]\n",
    "            X = X_init + diff[0] + offset[0]\n",
    "            Y = Y_init + diff[1] + offset[1]\n",
    "\n",
    "            coord_queue.put((X, Y))\n",
    "            with settings.lock:\n",
    "                settings.cuboid_chosen = True\n",
    "        elif len(isolated) == 0 and not pause_event.is_set():\n",
    "            pause_event.set()\n",
    "            print(\"No cuboids found in the selected region. Pausing...\")\n",
    "\n",
    "        cv2.imshow(cap.window_name, frame)\n",
    "        key = cv2.waitKey(1) & 0xFF\n",
    "        if key == ord('q'):\n",
    "            stop_event.set()\n",
    "        elif key == ord('p'):\n",
    "            if pause_event.is_set():\n",
    "                pause_event.clear()\n",
    "                print(\"Resuming movement...\")\n",
    "            else:\n",
    "                print(\"Pausing movement...\")\n",
    "                pause_event.set()\n",
    "\n",
    "    cv2.destroyAllWindows()\n",
    "    end_time = time.time()\n",
    "    elapsed_time = end_time - start_time\n",
    "    print(f\"Elapsed time: {elapsed_time:.2f} seconds\")\n",
    "    if local_timer_start:\n",
    "        print(f\"Last local time: {end_time - local_timer_start} seconds\")\n",
    "    # print(f\"Last index: {well_mapping[idx]}\")\n",
    "\n",
    "def robot_movement():\n",
    "    openapi.move_to_coordinates((calib_origin[0],calib_origin[1],100), min_z_height=dish_bottom, verbose=False)\n",
    "    while not stop_event.is_set():\n",
    "        if pause_event.is_set():\n",
    "            time.sleep(0.1)  # Small sleep to prevent excessive CPU usage\n",
    "            continue  # Skip to next iteration while paused\n",
    "        # print(\"Moving robot...\")\n",
    "        try:\n",
    "            # Get latest coordinates from the queue (non-blocking)\n",
    "            x, y = coord_queue.get(timeout=1)  # Timeout prevents indefinite blocking\n",
    "            openapi.move_to_coordinates((x, y, pickup_height+20), min_z_height=dish_bottom, verbose=False, force_direct=True)\n",
    "            openapi.move_to_coordinates((x, y, pickup_height), min_z_height=dish_bottom, verbose=False, force_direct=True)\n",
    "            openapi.aspirate_in_place(flow_rate = flow_rate, volume = vol)\n",
    "            openapi.move_relative('z', 20)\n",
    "\n",
    "            with settings.lock:\n",
    "                idx = settings.idx\n",
    "\n",
    "            openapi.move_to_well(openapi.labware_dct['6'], well_mapping[idx], well_location='top', offset=(well_offset_x,well_offset_y,5), verbose=False, force_direct=True)\n",
    "            openapi.dispense(openapi.labware_dct['6'], well_mapping[idx], well_location='bottom', offset=(well_offset_x, well_offset_y, 0), volume = vol, flow_rate = flow_rate)\n",
    "            time.sleep(0.3)\n",
    "            openapi.move_to_well(openapi.labware_dct['6'], well_mapping[idx], well_location='top', offset=(well_offset_x,well_offset_y,5), verbose=False)\n",
    "            openapi.move_to_coordinates((calib_origin[0],calib_origin[1],100), min_z_height=dish_bottom, verbose=False, force_direct=True)\n",
    "            time.sleep(0.5)\n",
    "            with settings.lock:\n",
    "                settings.cuboid_chosen = False\n",
    "                settings.idx += 1 \n",
    "        except queue.Empty:\n",
    "            pass  # No new coordinates, continue looping\n",
    "# Create threads\n",
    "video_thread = threading.Thread(target=video_stream, daemon=True)\n",
    "robot_thread = threading.Thread(target=robot_movement, daemon=True)\n",
    "\n",
    "# Start threads\n",
    "video_thread.start()\n",
    "robot_thread.start()\n",
    "\n",
    "# Wait for threads to finish\n",
    "video_thread.join()\n",
    "robot_thread.join()"
   ]
  },
  {
   "cell_type": "code",
   "execution_count": 34,
   "metadata": {},
   "outputs": [
    {
     "data": {
      "text/plain": [
       "{'C9': 2, 'C10': 1, 'C14': 1, 'C17': 1, 'C21': 2}"
      ]
     },
     "execution_count": 34,
     "metadata": {},
     "output_type": "execute_result"
    }
   ],
   "source": [
    "misses"
   ]
  },
  {
   "cell_type": "code",
   "execution_count": 45,
   "metadata": {},
   "outputs": [
    {
     "data": {
      "text/plain": [
       "<Response [201]>"
      ]
     },
     "execution_count": 45,
     "metadata": {},
     "output_type": "execute_result"
    }
   ],
   "source": [
    "idx = 0\n",
    "while idx < len(misses):\n",
    "    well_name, miss_count = list(misses.items())[idx]\n",
    "    r = openapi.aspirate(openapi.labware_dct['6'], f\"{well_name}\", well_location = 'bottom', offset = (well_offset_x,well_offset_y,0), volume = miss_count*vol, flow_rate = 5)\n",
    "    responce_dict = json.loads(r.text)['data']\n",
    "    if responce_dict['status'] == 'failed':\n",
    "        if responce_dict['error']['errorType'] == 'InvalidAspirateVolumeError':\n",
    "            print('Dumping fluid')\n",
    "            openapi.blow_out(openapi.labware_dct['3'], \"A1\", well_location='center', flow_rate = 200)\n",
    "    else:\n",
    "        idx += 1\n",
    "    \n",
    "openapi.blow_out(openapi.labware_dct['3'], \"A1\", well_location='center', flow_rate = 200)\n",
    "openapi.move_relative('z', 20)"
   ]
  },
  {
   "cell_type": "code",
   "execution_count": 21,
   "metadata": {},
   "outputs": [
    {
     "data": {
      "text/plain": [
       "<Response [201]>"
      ]
     },
     "execution_count": 21,
     "metadata": {},
     "output_type": "execute_result"
    }
   ],
   "source": [
    "openapi.dispense(openapi.labware_dct['3'], \"A1\", well_location='center', offset = (0,0,0), volume = 10, flow_rate = 50)"
   ]
  },
  {
   "cell_type": "code",
   "execution_count": 7,
   "metadata": {},
   "outputs": [],
   "source": [
    "test = queue.Queue()"
   ]
  },
  {
   "cell_type": "code",
   "execution_count": 28,
   "metadata": {},
   "outputs": [],
   "source": [
    "test.put((3,4))"
   ]
  },
  {
   "cell_type": "code",
   "execution_count": 22,
   "metadata": {},
   "outputs": [],
   "source": [
    "one, two = test.get(timeout=1)"
   ]
  },
  {
   "cell_type": "code",
   "execution_count": 29,
   "metadata": {},
   "outputs": [
    {
     "data": {
      "text/plain": [
       "False"
      ]
     },
     "execution_count": 29,
     "metadata": {},
     "output_type": "execute_result"
    }
   ],
   "source": [
    "test.full()"
   ]
  },
  {
   "cell_type": "markdown",
   "metadata": {},
   "source": [
    "# Picking procedure (Auto + class)"
   ]
  },
  {
   "cell_type": "code",
   "execution_count": null,
   "metadata": {},
   "outputs": [],
   "source": []
  },
  {
   "cell_type": "markdown",
   "metadata": {},
   "source": [
    "# Cuboid recognition"
   ]
  },
  {
   "cell_type": "code",
   "execution_count": null,
   "metadata": {},
   "outputs": [],
   "source": [
    "calibration_data = utils.load_calibration_config(calibration_profile)\n",
    "\n",
    "tf_mtx = np.array(calibration_data['tf_mtx'])\n",
    "calib_origin = np.array(calibration_data['calib_origin'])[:2]\n",
    "offset = np.array(calibration_data['offset'])\n",
    "\n",
    "\n",
    "window = cap.get_window()\n",
    "\n",
    "def on_mouse_click(event, x, y, flags, param):\n",
    "    global circle_center\n",
    "    global circle_radius\n",
    "    global filtered_contours\n",
    "    global X_init, Y_init\n",
    "\n",
    "    if event == cv2.EVENT_MBUTTONDOWN:\n",
    "        circle_center = (x, y)\n",
    "\n",
    "    if event == cv2.EVENT_MOUSEWHEEL:\n",
    "        if flags > 0:\n",
    "            circle_radius += 10\n",
    "        else:\n",
    "            circle_radius -= 10\n",
    "\n",
    "    # if event == cv2.EVENT_LBUTTONDBLCLK:\n",
    "    #     for contour in filtered_contours:\n",
    "    #         r=cv2.pointPolygonTest(contour, (x,y), False)\n",
    "    #         if r>0:\n",
    "    #             M = cv2.moments(contour)\n",
    "    #             if M[\"m00\"] != 0:\n",
    "    #                 cX = int(M[\"m10\"] / M[\"m00\"])\n",
    "    #                 cY = int(M[\"m01\"] / M[\"m00\"])\n",
    "    #                 X_init, Y_init, _ = tf_mtx @ (cX, cY, 1)\n",
    "\n",
    "    #                 x, y, _ = openapi.get_position(verbose=False)[0].values()\n",
    "    #                 diff = np.array([x,y]) - np.array(calibration_data['calib_origin'])[:2]\n",
    "    #                 X = X_init + diff[0] + offset[0]\n",
    "    #                 Y = Y_init + diff[1] + offset[1]\n",
    "                    \n",
    "    #                 print(f\"Robot coords: ({x}, {y})\")\n",
    "    #                 print(f\"Clicked on: ({X}, {Y})\")\n",
    "    #                 openapi.move_to_coordinates((X, Y, 15), min_z_height=1, verbose=False)\n",
    "    #                 # openapi.aspirate_in_place(flow_rate = 75, volume = 10)\n",
    "\n",
    "                    \n",
    "    #             else:\n",
    "    #                 print(\"Contour center could not be found\")\n",
    "\n",
    "    # if event == cv2.EVENT_RBUTTONDOWN:\n",
    "    #     x, y, _ = openapi.get_position(verbose=False)[0].values()\n",
    "    #     # openapi.move_to_coordinates((x, y, 100), min_z_height=1)\n",
    "    #     openapi.move_to_coordinates((calib_origin[0],calib_origin[1],100), min_z_height=1, verbose=False)\n",
    "\n",
    "        \n",
    "\n",
    "cv2.setMouseCallback(cap.window_name, on_mouse_click)\n",
    "circle_center = (int(1296.0), int(972.0))\n",
    "circle_radius = 300\n",
    "# manual_movement = utils.ManualRobotMovement(openapi)\n",
    "\n",
    "while True:\n",
    "    frame = cap.get_frame(undist=True)\n",
    "    # x, y, z = openapi.get_position(verbose=False)[0].values()\n",
    "    # (text_width, text_height), _ = cv2.getTextSize(f\"Robot coords: ({x:.2f}, {y:.2f}, {z:.2f})\", cv2.FONT_HERSHEY_SIMPLEX, 1, 2)\n",
    "    # cv2.rectangle(frame, (10, 0), (10 + text_width, text_height + 70), (0, 0, 0), -1)\n",
    "    # cv2.putText(frame, f\"Robot coords: ({x:.2f}, {y:.2f}, {z:.2f})\", (10, 30), cv2.FONT_HERSHEY_SIMPLEX, 1, (0, 255, 0), 2)\n",
    "    # cv2.putText(frame, f\"Step size: {manual_movement.step} mm\", (10, 70), cv2.FONT_HERSHEY_SIMPLEX, 1, (0, 255, 0), 2)\n",
    "\n",
    "\n",
    "    cv2.circle(frame, circle_center, circle_radius, (255, 0, 0), 2)\n",
    "    # Create a mask with the same dimensions as the frame\n",
    "    mask = np.zeros_like(frame, dtype=np.uint8)\n",
    "\n",
    "    # Draw a filled circle on the mask\n",
    "    cv2.circle(mask, circle_center, circle_radius, (255, 255, 255), -1)\n",
    "\n",
    "    # Apply the mask to the frame\n",
    "    masked_frame = cv2.bitwise_and(frame, mask)\n",
    "\n",
    "    # Convert the masked frame to grayscale\n",
    "    gray = cv2.cvtColor(masked_frame, cv2.COLOR_BGR2GRAY)\n",
    "    # Apply thresholding to the grayscale image\n",
    "    # _, thresh = cv2.threshold(gray, 50, 255, cv2.THRESH_BINARY_INV + cv2.THRESH_OTSU)\n",
    "    # _, thresh = cv2.threshold(gray, 127, 255, cv2.THRESH_BINARY_INV)\n",
    "    gray = cv2.GaussianBlur(gray, (11, 11), 0)\n",
    "\n",
    "    thresh = cv2.adaptiveThreshold(gray,255,cv2.ADAPTIVE_THRESH_GAUSSIAN_C,cv2.THRESH_BINARY_INV,25,2) \n",
    "    kernel = np.ones((3,3),np.uint8)\n",
    "    thresh = cv2.morphologyEx(thresh, cv2.MORPH_OPEN, kernel, iterations=1)\n",
    "    # Fill the area outside the circle with black pixels\n",
    "    # Convert the mask to grayscale\n",
    "    mask_inv = cv2.cvtColor(mask, cv2.COLOR_BGR2GRAY)\n",
    "    thresh = cv2.bitwise_and(thresh, mask_inv)\n",
    "\n",
    "    # frame[thresh == 255] = [0, 255, 0]\n",
    "\n",
    "    # Find contours in the masked frame\n",
    "    contours, hei = cv2.findContours(thresh, cv2.RETR_TREE, cv2.CHAIN_APPROX_SIMPLE)\n",
    "\n",
    "\n",
    "\n",
    "    # Filter the contours to exclude the outermost\n",
    "    filtered_contours = [contour for contour, h in zip(contours, hei[0]) if h[3] == 1]\n",
    "    # Filter the contours by size\n",
    "    filtered_contours = [contour for contour in contours if 15 < cv2.contourArea(contour) < 1000]\n",
    "    # Draw the contours on the frame\n",
    "    cv2.drawContours(frame, filtered_contours, -1, (0, 255, 0), 2)\n",
    "\n",
    "    cv2.imshow(cap.window_name, frame)\n",
    "    key_pressed = cv2.waitKey(1)\n",
    "\n",
    "    if key_pressed == ord('q'):\n",
    "        keyboard.unhook_all()\n",
    "        break\n",
    "\n",
    "        \n",
    "cv2.destroyAllWindows()"
   ]
  },
  {
   "cell_type": "code",
   "execution_count": 70,
   "metadata": {},
   "outputs": [
    {
     "data": {
      "text/plain": [
       "<Response [201]>"
      ]
     },
     "execution_count": 70,
     "metadata": {},
     "output_type": "execute_result"
    }
   ],
   "source": [
    "openapi.move_to_well(openapi.labware_dct['6'], 'A1', well_location='top', offset=(1,-1,0), verbose=False)"
   ]
  }
 ],
 "metadata": {
  "kernelspec": {
   "display_name": "lab",
   "language": "python",
   "name": "python3"
  },
  "language_info": {
   "codemirror_mode": {
    "name": "ipython",
    "version": 3
   },
   "file_extension": ".py",
   "mimetype": "text/x-python",
   "name": "python",
   "nbconvert_exporter": "python",
   "pygments_lexer": "ipython3",
   "version": "3.12.5"
  }
 },
 "nbformat": 4,
 "nbformat_minor": 2
}
