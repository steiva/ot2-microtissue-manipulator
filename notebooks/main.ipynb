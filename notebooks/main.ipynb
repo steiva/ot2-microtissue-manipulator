{
 "cells": [
  {
   "cell_type": "code",
   "execution_count": 1,
   "metadata": {},
   "outputs": [],
   "source": [
    "import sys\n",
    "import os\n",
    "\n",
    "# Add the upstream directory to sys.path\n",
    "upstream_dir = os.path.abspath(os.path.join(os.getcwd(), '..'))\n",
    "if upstream_dir not in sys.path:\n",
    "    sys.path.insert(0, upstream_dir)\n",
    "\n",
    "# Now you can import the module\n",
    "from opentrons_api import ot2_api\n",
    "from microtissue_manipulator import core, utils\n",
    "import numpy as np\n",
    "import cv2\n",
    "import time\n",
    "import json\n",
    "import keyboard"
   ]
  },
  {
   "cell_type": "code",
   "execution_count": 14,
   "metadata": {},
   "outputs": [
    {
     "name": "stdout",
     "output_type": "stream",
     "text": [
      "Using camera without buffer ...\n",
      "Camera initialized ...\n"
     ]
    }
   ],
   "source": [
    "cap = core.Camera(1)"
   ]
  },
  {
   "cell_type": "code",
   "execution_count": 2,
   "metadata": {},
   "outputs": [],
   "source": [
    "openapi = ot2_api.OpentronsAPI()"
   ]
  },
  {
   "cell_type": "code",
   "execution_count": 7,
   "metadata": {},
   "outputs": [
    {
     "name": "stdout",
     "output_type": "stream",
     "text": [
      "Request status:\n",
      "<Response [200]>\n",
      "{\n",
      "  \"message\": \"Homing robot.\"\n",
      "}\n"
     ]
    }
   ],
   "source": [
    "openapi.home_robot()"
   ]
  },
  {
   "cell_type": "code",
   "execution_count": 4,
   "metadata": {},
   "outputs": [],
   "source": [
    "openapi.toggle_lights()"
   ]
  },
  {
   "cell_type": "code",
   "execution_count": 5,
   "metadata": {},
   "outputs": [
    {
     "name": "stdout",
     "output_type": "stream",
     "text": [
      "Total number of runs: 20\n",
      "Current run ID: aa25a314-49f3-4051-9227-84763b9e937c\n",
      "Current run status: idle\n"
     ]
    }
   ],
   "source": [
    "_ = openapi.get_run_info()"
   ]
  },
  {
   "cell_type": "code",
   "execution_count": 6,
   "metadata": {},
   "outputs": [
    {
     "name": "stdout",
     "output_type": "stream",
     "text": [
      "Request status:\n",
      "<Response [201]>\n",
      "{\n",
      "  \"data\": {\n",
      "    \"id\": \"eef100ed-b228-4b19-887e-433c56fe63fc\",\n",
      "    \"createdAt\": \"2024-08-09T09:43:29.075292+00:00\",\n",
      "    \"commandType\": \"loadPipette\",\n",
      "    \"key\": \"eef100ed-b228-4b19-887e-433c56fe63fc\",\n",
      "    \"status\": \"succeeded\",\n",
      "    \"params\": {\n",
      "      \"pipetteName\": \"p300_single_gen2\",\n",
      "      \"mount\": \"left\"\n",
      "    },\n",
      "    \"result\": {\n",
      "      \"pipetteId\": \"77850757-0071-4ada-8396-42ec1ba1c667\"\n",
      "    },\n",
      "    \"startedAt\": \"2024-08-09T09:43:29.077137+00:00\",\n",
      "    \"completedAt\": \"2024-08-09T09:43:31.147344+00:00\",\n",
      "    \"intent\": \"setup\",\n",
      "    \"notes\": []\n",
      "  }\n",
      "}\n"
     ]
    }
   ],
   "source": [
    "openapi.load_pipette()"
   ]
  },
  {
   "cell_type": "code",
   "execution_count": 8,
   "metadata": {},
   "outputs": [
    {
     "name": "stdout",
     "output_type": "stream",
     "text": [
      "{'x': 383.154913809626, 'y': 342.3747635258571, 'z': 152.09999999999997}\n"
     ]
    }
   ],
   "source": [
    "_ = openapi.get_position()"
   ]
  },
  {
   "cell_type": "code",
   "execution_count": 43,
   "metadata": {},
   "outputs": [
    {
     "ename": "KeyError",
     "evalue": "'result'",
     "output_type": "error",
     "traceback": [
      "\u001b[1;31m---------------------------------------------------------------------------\u001b[0m",
      "\u001b[1;31mKeyError\u001b[0m                                  Traceback (most recent call last)",
      "Cell \u001b[1;32mIn[43], line 4\u001b[0m\n\u001b[0;32m      2\u001b[0m TIP_RACK \u001b[38;5;241m=\u001b[39m \u001b[38;5;124m\"\u001b[39m\u001b[38;5;124mopentrons_96_tiprack_300ul\u001b[39m\u001b[38;5;124m\"\u001b[39m\n\u001b[0;32m      3\u001b[0m \u001b[38;5;66;03m#Load the tip rack. Slot = 1 by default.\u001b[39;00m\n\u001b[1;32m----> 4\u001b[0m \u001b[43mopenapi\u001b[49m\u001b[38;5;241;43m.\u001b[39;49m\u001b[43mload_labware\u001b[49m\u001b[43m(\u001b[49m\u001b[43mTIP_RACK\u001b[49m\u001b[43m,\u001b[49m\u001b[43m \u001b[49m\u001b[38;5;241;43m1\u001b[39;49m\u001b[43m)\u001b[49m\n",
      "File \u001b[1;32mc:\\Users\\User\\Desktop\\ot2-microtissue-manipulator\\opentrons_api\\ot2_api.py:313\u001b[0m, in \u001b[0;36mOpentronsAPI.load_labware\u001b[1;34m(self, TIP_RACK, slot_name, verbose)\u001b[0m\n\u001b[0;32m    309\u001b[0m r \u001b[38;5;241m=\u001b[39m \u001b[38;5;28mself\u001b[39m\u001b[38;5;241m.\u001b[39mpost(url \u001b[38;5;241m=\u001b[39m \u001b[38;5;28mself\u001b[39m\u001b[38;5;241m.\u001b[39mcommands_url, headers \u001b[38;5;241m=\u001b[39m \u001b[38;5;28mself\u001b[39m\u001b[38;5;241m.\u001b[39mHEADERS,\n\u001b[0;32m    310\u001b[0m           params\u001b[38;5;241m=\u001b[39m{\u001b[38;5;124m\"\u001b[39m\u001b[38;5;124mwaitUntilComplete\u001b[39m\u001b[38;5;124m\"\u001b[39m: \u001b[38;5;28;01mTrue\u001b[39;00m}, data \u001b[38;5;241m=\u001b[39m command_payload)\n\u001b[0;32m    312\u001b[0m r_dict \u001b[38;5;241m=\u001b[39m json\u001b[38;5;241m.\u001b[39mloads(r\u001b[38;5;241m.\u001b[39mtext)\n\u001b[1;32m--> 313\u001b[0m labware_id \u001b[38;5;241m=\u001b[39m \u001b[43mr_dict\u001b[49m\u001b[43m[\u001b[49m\u001b[38;5;124;43m\"\u001b[39;49m\u001b[38;5;124;43mdata\u001b[39;49m\u001b[38;5;124;43m\"\u001b[39;49m\u001b[43m]\u001b[49m\u001b[43m[\u001b[49m\u001b[38;5;124;43m\"\u001b[39;49m\u001b[38;5;124;43mresult\u001b[39;49m\u001b[38;5;124;43m\"\u001b[39;49m\u001b[43m]\u001b[49m[\u001b[38;5;124m\"\u001b[39m\u001b[38;5;124mlabwareId\u001b[39m\u001b[38;5;124m\"\u001b[39m]\n\u001b[0;32m    314\u001b[0m \u001b[38;5;28mself\u001b[39m\u001b[38;5;241m.\u001b[39mlabware_dct[\u001b[38;5;28mstr\u001b[39m(slot_name)] \u001b[38;5;241m=\u001b[39m labware_id\n\u001b[0;32m    315\u001b[0m \u001b[38;5;28;01mif\u001b[39;00m verbose \u001b[38;5;241m==\u001b[39m \u001b[38;5;28;01mTrue\u001b[39;00m:\n",
      "\u001b[1;31mKeyError\u001b[0m: 'result'"
     ]
    }
   ],
   "source": [
    "#Define a tip rack. This is the default tip rack for the robot.\n",
    "TIP_RACK = \"opentrons_96_tiprack_300ul\"\n",
    "#Load the tip rack. Slot = 1 by default.\n",
    "openapi.load_labware(TIP_RACK, 1)"
   ]
  },
  {
   "cell_type": "code",
   "execution_count": 44,
   "metadata": {},
   "outputs": [
    {
     "name": "stdout",
     "output_type": "stream",
     "text": [
      "Request status:\n",
      "<Response [201]>\n",
      "{\n",
      "  \"data\": {\n",
      "    \"id\": \"42fbfef1-c489-4244-8aac-7d0f04ca4db8\",\n",
      "    \"createdAt\": \"2024-08-09T10:01:15.769121+00:00\",\n",
      "    \"commandType\": \"moveToCoordinates\",\n",
      "    \"key\": \"42fbfef1-c489-4244-8aac-7d0f04ca4db8\",\n",
      "    \"status\": \"succeeded\",\n",
      "    \"params\": {\n",
      "      \"minimumZHeight\": 1.0,\n",
      "      \"forceDirect\": false,\n",
      "      \"pipetteId\": \"77850757-0071-4ada-8396-42ec1ba1c667\",\n",
      "      \"coordinates\": {\n",
      "        \"x\": 55.0,\n",
      "        \"y\": 310.0,\n",
      "        \"z\": 100.0\n",
      "      }\n",
      "    },\n",
      "    \"result\": {\n",
      "      \"position\": {\n",
      "        \"x\": 55.0,\n",
      "        \"y\": 310.0,\n",
      "        \"z\": 100.0\n",
      "      }\n",
      "    },\n",
      "    \"startedAt\": \"2024-08-09T10:01:15.770915+00:00\",\n",
      "    \"completedAt\": \"2024-08-09T10:01:16.898340+00:00\",\n",
      "    \"intent\": \"setup\",\n",
      "    \"notes\": []\n",
      "  }\n",
      "}\n"
     ]
    }
   ],
   "source": [
    "openapi.move_to_coordinates((55,310,100), min_z_height=1)"
   ]
  },
  {
   "cell_type": "code",
   "execution_count": 10,
   "metadata": {},
   "outputs": [
    {
     "name": "stdout",
     "output_type": "stream",
     "text": [
      "{'x': 55.00000000000001, 'y': 350.0, 'z': 100.0}\n",
      "{'x': 55.00000000000001, 'y': 349.0, 'z': 100.0}\n",
      "{'x': 55.00000000000001, 'y': 339.0, 'z': 100.0}\n",
      "{'x': 45.00000000000001, 'y': 339.0, 'z': 100.0}\n",
      "{'x': 35.00000000000001, 'y': 339.0, 'z': 100.0}\n",
      "{'x': 35.00000000000001, 'y': 339.0, 'z': 90.0}\n",
      "{'x': 35.00000000000001, 'y': 339.0, 'z': 80.0}\n",
      "{'x': 35.00000000000001, 'y': 339.0, 'z': 70.0}\n",
      "{'x': 35.00000000000001, 'y': 339.0, 'z': 60.0}\n",
      "{'x': 35.00000000000001, 'y': 339.0, 'z': 50.0}\n",
      "{'x': 35.00000000000001, 'y': 339.0, 'z': 40.0}\n",
      "{'x': 35.00000000000001, 'y': 339.0, 'z': 30.000000000000004}\n",
      "{'x': 35.00000000000001, 'y': 339.0, 'z': 20.000000000000004}\n",
      "{'x': 35.00000000000001, 'y': 339.0, 'z': 10.000000000000004}\n",
      "Step: 1.0\n",
      "{'x': 35.00000000000001, 'y': 339.0, 'z': 10.000000000000004}\n",
      "{'x': 35.00000000000001, 'y': 339.0, 'z': 9.000000000000004}\n",
      "{'x': 35.00000000000001, 'y': 339.0, 'z': 8.000000000000004}\n",
      "{'x': 35.00000000000001, 'y': 339.0, 'z': 7.0000000000000036}\n",
      "{'x': 35.00000000000001, 'y': 339.0, 'z': 6.0000000000000036}\n",
      "{'x': 35.00000000000001, 'y': 339.0, 'z': 5.0000000000000036}\n",
      "{'x': 35.00000000000001, 'y': 339.0, 'z': 4.0000000000000036}\n",
      "{'x': 35.00000000000001, 'y': 339.0, 'z': 3.0000000000000036}\n",
      "{'x': 35.00000000000001, 'y': 339.0, 'z': 2.0000000000000036}\n",
      "{'x': 35.00000000000001, 'y': 339.0, 'z': 1.0000000000000036}\n",
      "{'x': 34.00000000000001, 'y': 339.0, 'z': 1.0000000000000036}\n",
      "{'x': 33.00000000000001, 'y': 339.0, 'z': 1.0000000000000036}\n",
      "{'x': 33.00000000000001, 'y': 340.0, 'z': 1.0000000000000036}\n",
      "Saved position: {'x': 33.00000000000001, 'y': 340.0, 'z': 1.0000000000000036}\n",
      "{'x': 33.00000000000001, 'y': 340.0, 'z': 1.0000000000000036}\n",
      "{'x': 43.00000000000001, 'y': 340.0, 'z': 1.0000000000000036}\n",
      "{'x': 53.00000000000001, 'y': 340.0, 'z': 1.0000000000000036}\n",
      "{'x': 63.00000000000001, 'y': 340.0, 'z': 1.0000000000000036}\n",
      "{'x': 73.0, 'y': 340.0, 'z': 1.0000000000000036}\n",
      "Step: 1.0\n",
      "{'x': 83.0, 'y': 340.0, 'z': 1.0000000000000036}\n",
      "{'x': 84.0, 'y': 340.0, 'z': 1.0000000000000036}\n",
      "{'x': 85.0, 'y': 340.0, 'z': 1.0000000000000036}\n",
      "{'x': 85.0, 'y': 339.0, 'z': 1.0000000000000036}\n",
      "Step: 0.1\n",
      "{'x': 84.0, 'y': 339.0, 'z': 1.0000000000000036}\n",
      "{'x': 84.1, 'y': 339.0, 'z': 1.0000000000000036}\n",
      "{'x': 84.19999999999999, 'y': 339.0, 'z': 1.0000000000000036}\n",
      "{'x': 84.29999999999998, 'y': 339.0, 'z': 1.0000000000000036}\n",
      "Saved position: {'x': 84.29999999999998, 'y': 339.0, 'z': 1.0000000000000036}\n",
      "{'x': 84.29999999999998, 'y': 339.0, 'z': 1.0000000000000036}\n",
      "{'x': 84.29999999999998, 'y': 338.0, 'z': 1.0000000000000036}\n",
      "{'x': 84.29999999999998, 'y': 328.0, 'z': 1.0000000000000036}\n",
      "{'x': 84.29999999999998, 'y': 318.0, 'z': 1.0000000000000036}\n",
      "{'x': 84.29999999999998, 'y': 308.0, 'z': 1.0000000000000036}\n",
      "{'x': 84.29999999999998, 'y': 298.0, 'z': 1.0000000000000036}\n",
      "Step: 1.0\n",
      "{'x': 84.29999999999998, 'y': 308.0, 'z': 1.0000000000000036}\n",
      "{'x': 84.29999999999998, 'y': 307.0, 'z': 1.0000000000000036}\n",
      "{'x': 84.29999999999998, 'y': 306.0, 'z': 1.0000000000000036}\n",
      "{'x': 84.29999999999998, 'y': 305.0, 'z': 1.0000000000000036}\n",
      "{'x': 84.29999999999998, 'y': 304.0, 'z': 1.0000000000000036}\n",
      "{'x': 85.29999999999998, 'y': 304.0, 'z': 1.0000000000000036}\n",
      "{'x': 86.29999999999998, 'y': 304.0, 'z': 1.0000000000000036}\n",
      "{'x': 85.29999999999998, 'y': 304.0, 'z': 1.0000000000000036}\n",
      "Step: 0.1\n",
      "{'x': 85.29999999999998, 'y': 303.0, 'z': 1.0000000000000036}\n",
      "{'x': 85.39999999999998, 'y': 303.0, 'z': 1.0000000000000036}\n",
      "{'x': 85.49999999999997, 'y': 303.0, 'z': 1.0000000000000036}\n",
      "{'x': 85.59999999999997, 'y': 303.0, 'z': 1.0000000000000036}\n",
      "{'x': 85.69999999999996, 'y': 303.0, 'z': 1.0000000000000036}\n",
      "{'x': 85.79999999999995, 'y': 303.0, 'z': 1.0000000000000036}\n",
      "{'x': 85.79999999999995, 'y': 302.9, 'z': 1.0000000000000036}\n",
      "Saved position: {'x': 85.79999999999995, 'y': 302.9, 'z': 1.0000000000000036}\n",
      "{'x': 85.79999999999995, 'y': 302.9, 'z': 1.0000000000000036}\n",
      "{'x': 75.79999999999995, 'y': 302.9, 'z': 1.0000000000000036}\n",
      "{'x': 65.79999999999995, 'y': 302.9, 'z': 1.0000000000000036}\n",
      "{'x': 55.79999999999996, 'y': 302.9, 'z': 1.0000000000000036}\n",
      "{'x': 45.79999999999996, 'y': 302.9, 'z': 1.0000000000000036}\n",
      "Step: 1.0\n",
      "{'x': 35.79999999999996, 'y': 302.9, 'z': 1.0000000000000036}\n",
      "{'x': 34.79999999999996, 'y': 302.9, 'z': 1.0000000000000036}\n",
      "{'x': 33.79999999999996, 'y': 302.9, 'z': 1.0000000000000036}\n",
      "Step: 1.0\n",
      "Step: 0.1\n",
      "{'x': 32.79999999999996, 'y': 302.9, 'z': 1.0000000000000036}\n",
      "{'x': 32.899999999999956, 'y': 302.9, 'z': 1.0000000000000036}\n",
      "{'x': 32.99999999999995, 'y': 302.9, 'z': 1.0000000000000036}\n",
      "{'x': 33.099999999999945, 'y': 302.9, 'z': 1.0000000000000036}\n",
      "{'x': 33.19999999999994, 'y': 302.9, 'z': 1.0000000000000036}\n",
      "{'x': 33.19999999999994, 'y': 303.0, 'z': 1.0000000000000036}\n",
      "{'x': 33.19999999999994, 'y': 303.1, 'z': 1.0000000000000036}\n",
      "Saved position: {'x': 33.19999999999994, 'y': 303.1, 'z': 1.0000000000000036}\n",
      "{'x': 33.19999999999994, 'y': 303.1, 'z': 1.0000000000000036}\n",
      "Saved position: {'x': 33.19999999999994, 'y': 303.1, 'z': 1.0000000000000036}\n",
      "{'x': 33.19999999999994, 'y': 303.1, 'z': 1.0000000000000036}\n",
      "Saved position: {'x': 33.19999999999994, 'y': 303.1, 'z': 1.0000000000000036}\n"
     ]
    }
   ],
   "source": [
    "manual_movement = utils.ManualRobotMovement(openapi)"
   ]
  },
  {
   "cell_type": "code",
   "execution_count": 11,
   "metadata": {},
   "outputs": [
    {
     "data": {
      "text/plain": [
       "[(33.00000000000001, 340.0, 1.0000000000000036),\n",
       " (84.29999999999998, 339.0, 1.0000000000000036),\n",
       " (85.79999999999995, 302.9, 1.0000000000000036),\n",
       " (33.19999999999994, 303.1, 1.0000000000000036)]"
      ]
     },
     "execution_count": 11,
     "metadata": {},
     "output_type": "execute_result"
    }
   ],
   "source": [
    "manual_movement.positions"
   ]
  },
  {
   "cell_type": "code",
   "execution_count": 26,
   "metadata": {},
   "outputs": [],
   "source": [
    "keyboard.unhook_all()"
   ]
  },
  {
   "cell_type": "code",
   "execution_count": 36,
   "metadata": {},
   "outputs": [
    {
     "name": "stdout",
     "output_type": "stream",
     "text": [
      "Clicked at pixel coordinate: (1242, 1190)\n"
     ]
    }
   ],
   "source": [
    "def on_mouse_click(event, x, y, flags, param):\n",
    "    if event == cv2.EVENT_LBUTTONDOWN:\n",
    "        print(\"Clicked at pixel coordinate: ({}, {})\".format(x, y))\n",
    "\n",
    "\n",
    "# Create an instance of the ManualRobotMovement class\n",
    "manual_movement = utils.ManualRobotMovement(openapi)\n",
    "\n",
    "window = cap.get_window()\n",
    "cv2.setMouseCallback(cap.window_name, on_mouse_click)\n",
    "while True:\n",
    "    frame = cap.get_frame()\n",
    "    cv2.imshow(cap.window_name, frame)\n",
    "\n",
    "    if cv2.waitKey(1) == ord('q'):\n",
    "        keyboard.unhook_all()\n",
    "        break\n",
    "\n",
    "cv2.destroyAllWindows()"
   ]
  },
  {
   "cell_type": "code",
   "execution_count": 13,
   "metadata": {},
   "outputs": [],
   "source": [
    "squaresX=7\n",
    "squaresY=5 \n",
    "squareLength=0.022\n",
    "markerLength=0.011\n",
    "aruco_dict = cv2.aruco.getPredefinedDictionary(cv2.aruco.DICT_6X6_250)\n",
    "board = cv2.aruco.CharucoBoard((squaresX, squaresY), squareLength, markerLength, aruco_dict)\n",
    "params = cv2.aruco.DetectorParameters()"
   ]
  },
  {
   "cell_type": "code",
   "execution_count": 22,
   "metadata": {},
   "outputs": [],
   "source": [
    "window = cap.get_window()\n",
    "while True:\n",
    " # Capture frame-by-frame\n",
    "    frame = cap.get_frame()\n",
    "\n",
    "    marker_corners, marker_ids, _ = cv2.aruco.detectMarkers(frame, aruco_dict, parameters = params)\n",
    "    # print(marker_corners)\n",
    "\n",
    "    top_left =  []\n",
    "    if marker_ids is not None:\n",
    "        for i in range(len(marker_ids)):\n",
    "            corner = marker_corners[i][0][0]  # Upper left corner\n",
    "            top_left.append(corner)\n",
    "            cv2.circle(frame, tuple(corner.astype(int)), 5, (0, 255, 0), -1)\n",
    "            cv2.putText(frame, str(marker_ids[i][0]), (int(corner[0]), int(corner[1])), cv2.FONT_HERSHEY_SIMPLEX, 1, (0, 0, 255), 2)\n",
    "            cv2.putText(frame, f\"({int(corner[0])}, {int(corner[1])})\", (int(corner[0]), int(corner[1]) - 10), cv2.FONT_HERSHEY_SIMPLEX, 0.5, (255, 0, 0), 2)\n",
    "    \n",
    "    # Our operations on the frame come here\n",
    "    cv2.imshow(cap.window_name, frame)\n",
    "    if cv2.waitKey(1) == ord('q'):\n",
    "        break\n",
    " \n",
    "# When everything done, release the capture\n",
    "# cap.release_camera()\n",
    "cv2.destroyAllWindows()"
   ]
  },
  {
   "cell_type": "code",
   "execution_count": 33,
   "metadata": {},
   "outputs": [],
   "source": [
    "def sort_coordinates(coords, reverse_y = False):\n",
    "    \"\"\"\n",
    "    Sorts a list of 2D coordinates by their y-coordinate, divides them into two groups based on the y-coordinate,\n",
    "    and sorts each group by the x-coordinate.\n",
    "\n",
    "    Args:\n",
    "        coords (list): List of tuples representing 2D coordinates.\n",
    "\n",
    "    Returns:\n",
    "        list: Sorted list of coordinates.\n",
    "    \"\"\"\n",
    "    \n",
    "    sorted_coords = sorted(coords, key=lambda coord: coord[1])\n",
    "    mid_y = (sorted_coords[0][1] + sorted_coords[-1][1]) / 2\n",
    "    if reverse_y:\n",
    "        group1 = [coord for coord in sorted_coords if coord[1] > mid_y]\n",
    "        group2 = [coord for coord in sorted_coords if coord[1] <= mid_y]\n",
    "    else:\n",
    "        group1 = [coord for coord in sorted_coords if coord[1] <= mid_y]\n",
    "        group2 = [coord for coord in sorted_coords if coord[1] > mid_y]\n",
    "    group1_sorted = sorted(group1, key=lambda coord: coord[0])\n",
    "    group2_sorted = sorted(group2, key=lambda coord: coord[0])\n",
    "    return group1_sorted + group2_sorted\n",
    "\n",
    "\n",
    "def compute_tf_mtx(mm2pix_dict: dict) -> np.ndarray:\n",
    "    \"\"\"Function computes the transformation matrix between real-world\n",
    "    coordinates and pixel coordinates in an image.\n",
    "\n",
    "    Args:\n",
    "        mm2pix_dict (dict): Dictionary mapping real-world coordinates\n",
    "        to pixel coordinates. Example for four points:\n",
    "        {(382.76, -113.37): (499, 412),\n",
    "        (225.27, 94.68): (240, 103),\n",
    "        (386.5, 91.55): (492, 98),\n",
    "        (221.25, -110.62): (248, 419)}\n",
    "\n",
    "    Returns:\n",
    "        np.ndarray: array that represents the transformation matrix.\n",
    "    \"\"\"\n",
    "    A = np.zeros((2 * len(mm2pix_dict), 6), dtype=float)\n",
    "    b = np.zeros((2 * len(mm2pix_dict), 1), dtype=float)\n",
    "    index = 0\n",
    "    for XY, xy in mm2pix_dict.items():\n",
    "        X = XY[0]\n",
    "        Y = XY[1]\n",
    "        x = xy[0]\n",
    "        y = xy[1]\n",
    "        A[2 * index, 0] = x\n",
    "        A[2 * index, 1] = y\n",
    "        A[2 * index, 2] = 1\n",
    "        A[2 * index + 1, 3] = x\n",
    "        A[2 * index + 1, 4] = y\n",
    "        A[2 * index + 1, 5] = 1\n",
    "        b[2 * index, 0] = X\n",
    "        b[2 * index + 1, 0] = Y\n",
    "        index += 1\n",
    "    x, residuals, rank, singular_values = np.linalg.lstsq(A, b, rcond=None)\n",
    "    tf_mtx = np.zeros((3, 3))\n",
    "    tf_mtx[0, :] = np.squeeze(x[:3])\n",
    "    tf_mtx[1, :] = np.squeeze(x[3:])\n",
    "    tf_mtx[-1, -1] = 1\n",
    "    return tf_mtx"
   ]
  },
  {
   "cell_type": "code",
   "execution_count": 27,
   "metadata": {},
   "outputs": [],
   "source": [
    "xyz = np.array([(33.00000000000001, 340.0, 1.0000000000000036),\n",
    " (84.29999999999998, 339.0, 1.0000000000000036),\n",
    " (85.79999999999995, 302.9, 1.0000000000000036),\n",
    " (33.19999999999994, 303.1, 1.0000000000000036)])"
   ]
  },
  {
   "cell_type": "code",
   "execution_count": 29,
   "metadata": {},
   "outputs": [],
   "source": [
    "camera_coords = [tuple(coord) for coord in top_left]\n",
    "# xyz = np.load('./marker_positions.npy')\n",
    "xyz = xyz[:,:-1]\n",
    "robot_coords = [tuple(coord) for coord in xyz]\n",
    "\n",
    "camera_coords = sort_coordinates(camera_coords)\n",
    "robot_coords = sort_coordinates(robot_coords, reverse_y=True)"
   ]
  },
  {
   "cell_type": "code",
   "execution_count": 32,
   "metadata": {},
   "outputs": [
    {
     "data": {
      "text/plain": [
       "{(33.00000000000001, 340.0): (804.0, 660.0),\n",
       " (84.29999999999998, 339.0): (1643.0, 700.0),\n",
       " (33.19999999999994, 303.1): (813.0, 1235.0),\n",
       " (85.79999999999995, 302.9): (1636.0, 1260.0)}"
      ]
     },
     "execution_count": 32,
     "metadata": {},
     "output_type": "execute_result"
    }
   ],
   "source": [
    "robot_to_camera_coords = dict(zip(robot_coords, camera_coords))\n",
    "robot_to_camera_coords"
   ]
  },
  {
   "cell_type": "code",
   "execution_count": 34,
   "metadata": {},
   "outputs": [],
   "source": [
    "tf_mtx = compute_tf_mtx(robot_to_camera_coords)"
   ]
  },
  {
   "cell_type": "code",
   "execution_count": 35,
   "metadata": {},
   "outputs": [
    {
     "data": {
      "text/plain": [
       "array([[ 6.24483652e-02,  1.36187186e-03, -1.86743030e+01],\n",
       "       [ 1.79424275e-03, -6.43188238e-02,  3.81041113e+02],\n",
       "       [ 0.00000000e+00,  0.00000000e+00,  1.00000000e+00]])"
      ]
     },
     "execution_count": 35,
     "metadata": {},
     "output_type": "execute_result"
    }
   ],
   "source": [
    "tf_mtx"
   ]
  },
  {
   "cell_type": "code",
   "execution_count": 38,
   "metadata": {},
   "outputs": [
    {
     "data": {
      "text/plain": [
       "(60.507194082642, 306.7301624781195)"
      ]
     },
     "execution_count": 38,
     "metadata": {},
     "output_type": "execute_result"
    }
   ],
   "source": [
    "cX, cY = (1242, 1190)\n",
    "X, Y, _ = tf_mtx @ (cX, cY, 1)\n",
    "X, Y"
   ]
  },
  {
   "cell_type": "code",
   "execution_count": 42,
   "metadata": {},
   "outputs": [
    {
     "name": "stdout",
     "output_type": "stream",
     "text": [
      "Request status:\n",
      "<Response [201]>\n",
      "{\n",
      "  \"data\": {\n",
      "    \"id\": \"1cf40a93-d882-422d-a5e9-fbbe3499c1f7\",\n",
      "    \"createdAt\": \"2024-08-09T09:58:22.375613+00:00\",\n",
      "    \"commandType\": \"moveToCoordinates\",\n",
      "    \"key\": \"1cf40a93-d882-422d-a5e9-fbbe3499c1f7\",\n",
      "    \"status\": \"succeeded\",\n",
      "    \"params\": {\n",
      "      \"minimumZHeight\": 1.0,\n",
      "      \"forceDirect\": false,\n",
      "      \"pipetteId\": \"77850757-0071-4ada-8396-42ec1ba1c667\",\n",
      "      \"coordinates\": {\n",
      "        \"x\": 60.507194082642,\n",
      "        \"y\": 306.7301624781195,\n",
      "        \"z\": 1.0\n",
      "      }\n",
      "    },\n",
      "    \"result\": {\n",
      "      \"position\": {\n",
      "        \"x\": 60.507194082642,\n",
      "        \"y\": 306.7301624781195,\n",
      "        \"z\": 1.0\n",
      "      }\n",
      "    },\n",
      "    \"startedAt\": \"2024-08-09T09:58:22.377527+00:00\",\n",
      "    \"completedAt\": \"2024-08-09T09:58:24.084573+00:00\",\n",
      "    \"intent\": \"setup\",\n",
      "    \"notes\": []\n",
      "  }\n",
      "}\n"
     ]
    }
   ],
   "source": [
    "openapi.move_to_coordinates((X,Y,1), min_z_height=1)"
   ]
  },
  {
   "cell_type": "code",
   "execution_count": 31,
   "metadata": {},
   "outputs": [
    {
     "data": {
      "text/plain": [
       "[(804.0, 660.0), (1643.0, 700.0), (813.0, 1235.0), (1636.0, 1260.0)]"
      ]
     },
     "execution_count": 31,
     "metadata": {},
     "output_type": "execute_result"
    }
   ],
   "source": [
    "camera_coords"
   ]
  }
 ],
 "metadata": {
  "kernelspec": {
   "display_name": "lab",
   "language": "python",
   "name": "python3"
  },
  "language_info": {
   "codemirror_mode": {
    "name": "ipython",
    "version": 3
   },
   "file_extension": ".py",
   "mimetype": "text/x-python",
   "name": "python",
   "nbconvert_exporter": "python",
   "pygments_lexer": "ipython3",
   "version": "3.12.3"
  }
 },
 "nbformat": 4,
 "nbformat_minor": 2
}
