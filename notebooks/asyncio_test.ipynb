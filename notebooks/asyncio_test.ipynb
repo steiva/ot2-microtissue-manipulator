{
 "cells": [
  {
   "cell_type": "code",
   "execution_count": 1,
   "metadata": {},
   "outputs": [],
   "source": [
    "import asyncio\n",
    "import nest_asyncio\n",
    "import threading\n",
    "import queue\n",
    "import cv2\n",
    "from concurrent.futures import ThreadPoolExecutor\n",
    "# from ipywidgets import Image, Button, VBox\n",
    "from IPython.display import display\n",
    "\n",
    "nest_asyncio.apply()"
   ]
  },
  {
   "cell_type": "code",
   "execution_count": 2,
   "metadata": {},
   "outputs": [],
   "source": [
    "import sys\n",
    "import os\n",
    "\n",
    "# Add the upstream directory to sys.path\n",
    "upstream_dir = os.path.abspath(os.path.join(os.getcwd(), '..'))\n",
    "if upstream_dir not in sys.path:\n",
    "    sys.path.insert(0, upstream_dir)\n",
    "\n",
    "# Now you can import the module\n",
    "from opentrons_api import ot2_api\n",
    "from microtissue_manipulator import core, utils\n",
    "import numpy as np \n",
    "import cv2\n",
    "import time\n",
    "import json\n",
    "import keyboard\n",
    "# from pynput import keyboard\n",
    "from configs import paths\n",
    "import matplotlib.pyplot as plt"
   ]
  },
  {
   "cell_type": "code",
   "execution_count": 3,
   "metadata": {},
   "outputs": [],
   "source": [
    "openapi = ot2_api.OpentronsAPI()"
   ]
  },
  {
   "cell_type": "code",
   "execution_count": 4,
   "metadata": {},
   "outputs": [
    {
     "name": "stdout",
     "output_type": "stream",
     "text": [
      "Total number of runs: 20\n",
      "Current run ID: 72f37ea2-e2bc-4649-a531-4c4f08527032\n",
      "Current run status: idle\n"
     ]
    }
   ],
   "source": [
    "r = openapi.get_run_info()"
   ]
  },
  {
   "cell_type": "code",
   "execution_count": 10,
   "metadata": {},
   "outputs": [
    {
     "name": "stdout",
     "output_type": "stream",
     "text": [
      "Request status:\n",
      "<Response [200]>\n",
      "{\n",
      "  \"message\": \"Homing robot.\"\n",
      "}\n"
     ]
    },
    {
     "data": {
      "text/plain": [
       "<Response [200]>"
      ]
     },
     "execution_count": 10,
     "metadata": {},
     "output_type": "execute_result"
    }
   ],
   "source": [
    "openapi.home_robot()"
   ]
  },
  {
   "cell_type": "code",
   "execution_count": 5,
   "metadata": {},
   "outputs": [
    {
     "name": "stdout",
     "output_type": "stream",
     "text": [
      "Request status:\n",
      "<Response [201]>\n",
      "{\n",
      "  \"data\": {\n",
      "    \"id\": \"72f37ea2-e2bc-4649-a531-4c4f08527032\",\n",
      "    \"ok\": true,\n",
      "    \"createdAt\": \"2024-11-02T10:28:12.786305+00:00\",\n",
      "    \"status\": \"idle\",\n",
      "    \"current\": true,\n",
      "    \"actions\": [],\n",
      "    \"errors\": [],\n",
      "    \"hasEverEnteredErrorRecovery\": false,\n",
      "    \"pipettes\": [],\n",
      "    \"modules\": [],\n",
      "    \"labware\": [],\n",
      "    \"liquids\": [],\n",
      "    \"labwareOffsets\": [],\n",
      "    \"runTimeParameters\": []\n",
      "  }\n",
      "}\n"
     ]
    },
    {
     "data": {
      "text/plain": [
       "<Response [201]>"
      ]
     },
     "execution_count": 5,
     "metadata": {},
     "output_type": "execute_result"
    }
   ],
   "source": [
    "openapi.create_run(verbose=True)"
   ]
  },
  {
   "cell_type": "code",
   "execution_count": 6,
   "metadata": {},
   "outputs": [
    {
     "name": "stdout",
     "output_type": "stream",
     "text": [
      "Request status:\n",
      "<Response [201]>\n",
      "{\n",
      "  \"data\": {\n",
      "    \"id\": \"2c6ce723-4f86-4307-9d21-cac9206933e8\",\n",
      "    \"createdAt\": \"2024-11-02T10:28:16.634810+00:00\",\n",
      "    \"commandType\": \"loadPipette\",\n",
      "    \"key\": \"2c6ce723-4f86-4307-9d21-cac9206933e8\",\n",
      "    \"status\": \"succeeded\",\n",
      "    \"params\": {\n",
      "      \"pipetteName\": \"p300_single_gen2\",\n",
      "      \"mount\": \"left\"\n",
      "    },\n",
      "    \"result\": {\n",
      "      \"pipetteId\": \"8d47b7a1-1ecc-4346-aca3-26ff43e07a85\"\n",
      "    },\n",
      "    \"startedAt\": \"2024-11-02T10:28:16.637597+00:00\",\n",
      "    \"completedAt\": \"2024-11-02T10:28:18.649852+00:00\",\n",
      "    \"intent\": \"setup\",\n",
      "    \"notes\": []\n",
      "  }\n",
      "}\n"
     ]
    },
    {
     "data": {
      "text/plain": [
       "<Response [201]>"
      ]
     },
     "execution_count": 6,
     "metadata": {},
     "output_type": "execute_result"
    }
   ],
   "source": [
    "openapi.load_pipette()"
   ]
  },
  {
   "cell_type": "code",
   "execution_count": 12,
   "metadata": {},
   "outputs": [
    {
     "data": {
      "text/plain": [
       "<Response [201]>"
      ]
     },
     "execution_count": 12,
     "metadata": {},
     "output_type": "execute_result"
    }
   ],
   "source": [
    "openapi.move_to_coordinates((155,47,100), min_z_height=1, verbose=False)"
   ]
  },
  {
   "cell_type": "code",
   "execution_count": 5,
   "metadata": {},
   "outputs": [],
   "source": [
    "manual_movement = utils.ManualRobotMovement(openapi)"
   ]
  },
  {
   "cell_type": "code",
   "execution_count": 7,
   "metadata": {},
   "outputs": [],
   "source": [
    "keyboard.unhook_all()"
   ]
  },
  {
   "cell_type": "code",
   "execution_count": 6,
   "metadata": {},
   "outputs": [
    {
     "name": "stdout",
     "output_type": "stream",
     "text": [
      "Video stream is running in the background. You can continue with other tasks.\n"
     ]
    }
   ],
   "source": [
    "import cv2\n",
    "import asyncio\n",
    "from concurrent.futures import ThreadPoolExecutor\n",
    "\n",
    "# Function to display video using OpenCV in a separate thread\n",
    "def show_frame(cap, window_initialized):\n",
    "    # Only set window settings once (on the first frame)\n",
    "    if not window_initialized:\n",
    "        cv2.namedWindow(\"Video Stream\", cv2.WINDOW_NORMAL)  # Allow resizing\n",
    "        cv2.resizeWindow(\"Video Stream\", 1348, 1011)  # Resize the window to 640x480\n",
    "        window_initialized = True  # Mark window initialization complete\n",
    "    \n",
    "    ret, frame = cap.read()\n",
    "    if ret:\n",
    "        cv2.imshow(\"Video Stream\", frame)\n",
    "        # Wait for 1ms to check if 'q' is pressed to exit\n",
    "        if cv2.waitKey(1) & 0xFF == ord('q'):\n",
    "            return False, window_initialized\n",
    "    return True, window_initialized\n",
    "\n",
    "async def stream_video():\n",
    "    cap = cv2.VideoCapture(0)  # Open the camera\n",
    "    cap.set(cv2.CAP_PROP_FRAME_WIDTH, 2592)\n",
    "    cap.set(cv2.CAP_PROP_FRAME_HEIGHT,1944)\n",
    "    cap.set(cv2.CAP_PROP_FPS, 60)\n",
    "    window_initialized = False  # Flag to track if window settings have been applied\n",
    "    \n",
    "    # Create a ThreadPoolExecutor to handle video display\n",
    "    with ThreadPoolExecutor(max_workers=1) as executor:\n",
    "        loop = asyncio.get_event_loop()\n",
    "        \n",
    "        while True:\n",
    "            # Run the blocking show_frame function in a separate thread\n",
    "            result, window_initialized = await loop.run_in_executor(executor, show_frame, cap, window_initialized)\n",
    "            if not result:\n",
    "                break  # Stop if 'q' is pressed or an error occurs\n",
    "\n",
    "            # Use asyncio.sleep to avoid blocking the event loop\n",
    "            await asyncio.sleep(0.03)  # ~30 FPS\n",
    "\n",
    "    cap.release()\n",
    "    cv2.destroyAllWindows()\n",
    "\n",
    "# Start video streaming in the background with asyncio.create_task\n",
    "async def start_video_stream():\n",
    "    task = asyncio.create_task(stream_video())\n",
    "    return task\n",
    "\n",
    "# Run the background task asynchronously\n",
    "task = await start_video_stream()\n",
    "\n",
    "# Continue with other tasks in the event loop\n",
    "print(\"Video stream is running in the background. You can continue with other tasks.\")"
   ]
  },
  {
   "cell_type": "code",
   "execution_count": 2,
   "metadata": {},
   "outputs": [],
   "source": [
    "thing = OpentronsAPI()"
   ]
  },
  {
   "cell_type": "code",
   "execution_count": 3,
   "metadata": {},
   "outputs": [
    {
     "data": {
      "text/plain": [
       "{'runs': '/runs',\n",
       " 'lights': '/robot/lights',\n",
       " 'home': '/robot/home',\n",
       " 'protocols': '/protocols',\n",
       " 'commands': '/commands'}"
      ]
     },
     "execution_count": 3,
     "metadata": {},
     "output_type": "execute_result"
    }
   ],
   "source": [
    "thing.ENDPOINTS"
   ]
  }
 ],
 "metadata": {
  "kernelspec": {
   "display_name": "lab",
   "language": "python",
   "name": "python3"
  },
  "language_info": {
   "codemirror_mode": {
    "name": "ipython",
    "version": 3
   },
   "file_extension": ".py",
   "mimetype": "text/x-python",
   "name": "python",
   "nbconvert_exporter": "python",
   "pygments_lexer": "ipython3",
   "version": "3.12.5"
  }
 },
 "nbformat": 4,
 "nbformat_minor": 2
}
